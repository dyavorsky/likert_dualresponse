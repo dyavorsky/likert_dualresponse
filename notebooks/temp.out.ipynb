{
 "cells": [
  {
   "cell_type": "markdown",
   "metadata": {},
   "source": [
    "#"
   ],
   "id": "707d5d20-7df2-4d47-bf01-93dda8d4bac8"
  }
 ],
 "nbformat": 4,
 "nbformat_minor": 5,
 "metadata": {}
}
