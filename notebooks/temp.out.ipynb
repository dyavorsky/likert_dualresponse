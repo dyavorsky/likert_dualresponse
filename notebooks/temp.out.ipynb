{
 "cells": [
  {
   "cell_type": "markdown",
   "metadata": {},
   "source": [
    "#"
   ],
   "id": "89ee4a79-e432-4618-bde7-3c74e976fa1e"
  }
 ],
 "nbformat": 4,
 "nbformat_minor": 5,
 "metadata": {}
}
