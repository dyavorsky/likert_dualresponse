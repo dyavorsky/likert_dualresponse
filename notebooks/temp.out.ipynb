{
 "cells": [
  {
   "cell_type": "markdown",
   "metadata": {},
   "source": [
    "#"
   ],
   "id": "f1111397-ef87-47f9-9c0d-4f8428663b22"
  }
 ],
 "nbformat": 4,
 "nbformat_minor": 5,
 "metadata": {}
}
