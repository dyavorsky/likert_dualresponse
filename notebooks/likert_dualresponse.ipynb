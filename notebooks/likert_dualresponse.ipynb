{
 "cells": [
  {
   "cell_type": "code",
   "execution_count": 1,
   "metadata": {
    "ExecuteTime": {
     "end_time": "2024-06-26T21:27:22.690582Z",
     "start_time": "2024-06-26T21:27:20.728808Z"
    }
   },
   "outputs": [
    {
     "name": "stderr",
     "output_type": "stream",
     "text": [
      "WARNING (pytensor.tensor.blas): Using NumPy C-API based implementation for BLAS functions.\n"
     ]
    }
   ],
   "source": [
    "import arviz as az\n",
    "import numpy as np  # For vectorized math operations\n",
    "\n",
    "import pandas as pd  # For file input/output\n",
    "import pymc as pm\n",
    "import pytensor.tensor as pt\n",
    "from scipy.stats import gumbel_r\n",
    "import seaborn as sns\n",
    "from matplotlib import pyplot as plt"
   ]
  },
  {
   "cell_type": "code",
   "execution_count": 2,
   "metadata": {},
   "outputs": [],
   "source": [
    "%config InlineBackend.figure_format='retina'\n",
    "\n",
    "sns.set_theme(\n",
    "    context=\"notebook\",\n",
    "    style=\"white\",\n",
    "    font=\"Latin Modern Roman\",\n",
    "    rc={\n",
    "        \"axes.spines.right\": False,\n",
    "        \"axes.spines.top\": False,\n",
    "        \"text.usetex\": True,\n",
    "    },\n",
    ")\n",
    "\n",
    "extra_params = {\n",
    "    \"text.latex.preamble\": \" \".join([r\"\\usepackage{mathtools}\", r\"\\usepackage{amssymb}\"])\n",
    "}\n",
    "\n",
    "plt.rcParams.update(extra_params)"
   ]
  },
  {
   "cell_type": "markdown",
   "metadata": {},
   "source": [
    "# Introduction\n",
    "\n",
    "Data generating process is:\n",
    "$$\n",
    "u_{ij} = {x_i}'\\beta^{\\text{individual}}_{i} + {c_j}'\\beta^{\\text{product}}_{i} + \\eta_{ij} - \\eta_{i0}\n",
    "$$\n",
    "where\n",
    "- the consumer knows $\\left(x_i, \\beta^{\\text{individual}}_i, c_j, \\beta^{\\text{product}}_{i}, \\eta_{ij}\\right)$, which implies outcome variables $\\left(t_i, w_i\\right)$\n",
    "- the econometrician knows $\\left(x_i, c_j, t_i, w_i\\right)$ and has priors over $\\left(\\beta^{\\text{individual}}, \\beta^{\\text{product}}\\right)$\n",
    "- neither the consumer nor the econometrician knows $\\eta_{i0}$, but they have common priors\n",
    "\n",
    "Consumer reports\n",
    "- their preferred good $j^{(1)}$\n",
    "- the probability they purchase the good on a Likert scale with $W$ categories"
   ]
  },
  {
   "cell_type": "markdown",
   "metadata": {},
   "source": [
    "## Notation\n",
    "\n",
    "- $N$ is the number of individuals\n",
    "- $J$ is the number of products\n",
    "- $K$ is the number of product attributes\n",
    "- $M$ is the number of individual attributes\n",
    "- $W$ is the number of categories on the Likert scale"
   ]
  },
  {
   "cell_type": "markdown",
   "metadata": {},
   "source": [
    "## Classic Multinomial Logit"
   ]
  },
  {
   "cell_type": "markdown",
   "metadata": {},
   "source": [
    "### Simulate Data"
   ]
  },
  {
   "cell_type": "code",
   "execution_count": 3,
   "metadata": {
    "ExecuteTime": {
     "end_time": "2024-06-26T21:27:22.697684Z",
     "start_time": "2024-06-26T21:27:22.691863Z"
    }
   },
   "outputs": [],
   "source": [
    "def make_data(params, heterogeneous=False):\n",
    "\n",
    "    ## load parameters\n",
    "    M = params[\"M\"]\n",
    "    W = params[\"W\"]\n",
    "    J = params[\"J\"]\n",
    "    K = params[\"K\"]\n",
    "    N = params[\"N\"]\n",
    "\n",
    "    np.random.seed(42)\n",
    "\n",
    "    ## generate latent parameters\n",
    "    # individual_features = np.random.normal(0, 0.1, (N, M))\n",
    "    # individual_features = np.zeros((N, M))\n",
    "    individual_features = ...\n",
    "    \n",
    "    # product_features = np.random.normal(0, 0.5, (J, K))\n",
    "    # product_features = np.concatenate(\n",
    "    #     [product_features, np.zeros((1, K))], axis=0\n",
    "    # )  # outside good\n",
    "    \n",
    "    product_features = np.random.normal(0, 0.2, (N, J, K))\n",
    "    product_features = np.concatenate(\n",
    "        [product_features, np.zeros((N, 1, K))], axis=1\n",
    "    )  # outside good\n",
    "\n",
    "    π = np.random.dirichlet([1] * W, 1).flatten().cumsum()\n",
    "    β_ind = ...\n",
    "    # β_ind = np.random.normal(0, 1, M)\n",
    "    # β_prod = np.random.normal(0, 0.2, (K, N))\n",
    "    # ν = np.random.normal(0, 1, (N, J))\n",
    "    η = np.random.gumbel(0, 1, (N, J + 1))\n",
    "    # ɛ = np.random.normal(0, 1, (N, J))\n",
    "\n",
    "    if heterogeneous:\n",
    "        α_prod = ...\n",
    "        β_prod = np.random.normal(0, 1, (K, N))\n",
    "    \n",
    "    else:\n",
    "        \n",
    "        α_prod = np.random.normal(-1.0, 0.2, J+1)\n",
    "        α_prod[-1] = 0 # outside good\n",
    "\n",
    "        # β_prod = np.ones((N, 1)) @ np.random.normal(0, 1, (1, K))\n",
    "        β_prod = np.random.normal(0, 1, K)\n",
    "    \n",
    "    ## generate data\n",
    "    # y = np.zeros((N, J))\n",
    "\n",
    "    # u_individual = np.outer(\n",
    "    #     individual_features @ β_ind,\n",
    "    #     np.ones(J),\n",
    "    # )\n",
    "    # u = β_prod @ product_features.T + η\n",
    "\n",
    "    u = np.ones((N, 1)) @ α_prod.reshape((1, -1)) + product_features @ β_prod + η\n",
    "    \n",
    "    if heterogeneous:\n",
    "        u_individual = ...\n",
    "        u += u_individual\n",
    "\n",
    "    t = np.argmax(u, axis=1)\n",
    "    jstar = np.argmax(u[:, :-1], axis=1)\n",
    "    v = u[:, t]\n",
    "    w = np.digitize(gumbel_r.cdf(v), π)\n",
    "\n",
    "    d = {\n",
    "        \"product_features\": product_features,\n",
    "        \"t\": t,\n",
    "        \"w\": w,\n",
    "        \"jstar\": jstar,\n",
    "        \"latent_cutpoints\": π,\n",
    "        \"latent_utilities\": u,\n",
    "        \"latent_α_prod\": α_prod,\n",
    "        \"latent_β_prod\": β_prod,\n",
    "    }\n",
    "\n",
    "    if heterogeneous:\n",
    "        d[\"individual_features\"] = individual_features\n",
    "        d[\"latent_β_ind\"] = β_ind\n",
    "\n",
    "    return d\n",
    "\n",
    "\n",
    "params = {\"N\": 200, \"J\": 3, \"K\": 5, \"M\": 2, \"W\": 4}\n",
    "\n",
    "df = make_data(params)"
   ]
  },
  {
   "cell_type": "markdown",
   "metadata": {},
   "source": [
    "### Visualize the Data"
   ]
  },
  {
   "cell_type": "code",
   "execution_count": 4,
   "metadata": {},
   "outputs": [],
   "source": [
    "# df[\"t\"]\n",
    "# df[\"product_features\"]"
   ]
  },
  {
   "cell_type": "code",
   "execution_count": 5,
   "metadata": {},
   "outputs": [
    {
     "data": {
      "text/plain": [
       "array([-1.06782446, -0.92598778, -1.02474654,  0.        ])"
      ]
     },
     "execution_count": 5,
     "metadata": {},
     "output_type": "execute_result"
    }
   ],
   "source": [
    "df[\"latent_α_prod\"]"
   ]
  },
  {
   "cell_type": "code",
   "execution_count": 6,
   "metadata": {},
   "outputs": [
    {
     "data": {
      "text/plain": [
       "array([-0.49693203, -0.18256897, -0.98995779, -0.03500761, -0.81100086])"
      ]
     },
     "execution_count": 6,
     "metadata": {},
     "output_type": "execute_result"
    }
   ],
   "source": [
    "df[\"latent_β_prod\"]"
   ]
  },
  {
   "cell_type": "code",
   "execution_count": 7,
   "metadata": {},
   "outputs": [
    {
     "data": {
      "image/png": "[encoded data removed]",
      "text/plain": [
       "<Figure size 640x480 with 1 Axes>"
      ]
     },
     "metadata": {
      "image/png": {
       "height": 416,
       "width": 564
      }
     },
     "output_type": "display_data"
    }
   ],
   "source": [
    "sns.histplot(df[\"t\"], discrete=True)\n",
    "plt.show()"
   ]
  },
  {
   "cell_type": "markdown",
   "metadata": {},
   "source": [
    "### Export Data"
   ]
  },
  {
   "cell_type": "code",
   "execution_count": 8,
   "metadata": {},
   "outputs": [],
   "source": [
    "out_data2 = np.array(\n",
    "    [\n",
    "        [n, j, df[\"jstar\"][n] == j, *df[\"product_features\"][n, j, :], df[\"jstar\"][n] == df[\"t\"][n]]\n",
    "        for n in range(params[\"N\"])\n",
    "        for j in range(params[\"J\"])\n",
    "    ]\n",
    ")"
   ]
  },
  {
   "cell_type": "code",
   "execution_count": 9,
   "metadata": {},
   "outputs": [
    {
     "data": {
      "text/plain": [
       "(249, 8)"
      ]
     },
     "execution_count": 9,
     "metadata": {},
     "output_type": "execute_result"
    }
   ],
   "source": [
    "out_data2[out_data2[:, -1] == 0, :-1].shape"
   ]
  },
  {
   "cell_type": "code",
   "execution_count": 10,
   "metadata": {},
   "outputs": [],
   "source": [
    "out_data1 = np.array(\n",
    "    [\n",
    "        [n, j, 0, df[\"t\"][n] == j, *df[\"product_features\"][n, j, :]]\n",
    "        for n in range(params[\"N\"])\n",
    "        for j in range(params[\"J\"] + 1)\n",
    "    ]\n",
    ")\n",
    "\n",
    "out_data2 = np.array(\n",
    "    [\n",
    "        [\n",
    "            n,\n",
    "            j,\n",
    "            1, \n",
    "            df[\"jstar\"][n] == j,\n",
    "            *df[\"product_features\"][n, j, :],\n",
    "            df[\"jstar\"][n] == df[\"t\"][n],\n",
    "        ]\n",
    "        for n in range(params[\"N\"])\n",
    "        for j in range(params[\"J\"])\n",
    "    ]\n",
    ")\n",
    "out_data = np.concatenate([out_data1, out_data2[out_data2[:, -1] == 0, :-1]], axis=0)\n",
    "pd.DataFrame(\n",
    "    out_data,\n",
    "    columns=[\n",
    "        \"consumer_id\",\n",
    "        \"choice_id\",\n",
    "        \"task_id\",\n",
    "        \"purchase\",\n",
    "        *[f\"f_{k}\" for k in range(params[\"K\"])],\n",
    "    ],\n",
    ").to_csv(\"/Users/gzheng/Desktop/data.csv\", index=False)"
   ]
  },
  {
   "cell_type": "markdown",
   "metadata": {},
   "source": [
    "First, try \"classical\" conjoint, in which $\\eta_0$ is observed by the consumer."
   ]
  },
  {
   "cell_type": "code",
   "execution_count": 11,
   "metadata": {},
   "outputs": [],
   "source": [
    "# def gumbel_pdf(x, mu=0, beta=1):\n",
    "#     z = (x - mu) / beta\n",
    "#     return np.exp(-(z + np.exp(-z)))\n",
    "\n",
    "\n",
    "# def gumbel_cdf(x, mu=0, beta=1):\n",
    "#     z = (x - mu) / beta\n",
    "#     return np.exp(-np.exp(-z))\n",
    "\n",
    "# μbar = np.log(np.sum(np.exp(df[\"latent_β_prod\"][:] @ df[\"product_features\"].T)))\n",
    "# sns.histplot(np.max(df[\"latent_utilities\"], axis=1), stat=\"density\")\n",
    "# plot_args = dict(\n",
    "#     zip(\n",
    "#         [\"x\", \"y\"],\n",
    "#         zip(\n",
    "#             *(\n",
    "#                 (x, gumbel_r.pdf(x, μbar))\n",
    "#                 for x in np.linspace(\n",
    "#                     *np.percentile(np.max(df[\"latent_utilities\"], axis=1), [0.1, 99.9]),\n",
    "#                     100,\n",
    "#                 )\n",
    "#             )\n",
    "#         ),\n",
    "#     )\n",
    "# )\n",
    "# sns.lineplot(\n",
    "#     **plot_args,\n",
    "#     linestyle=\"dashed\",\n",
    "# )\n",
    "# plt.show()"
   ]
  },
  {
   "cell_type": "markdown",
   "metadata": {},
   "source": [
    "### Estimate the Model"
   ]
  },
  {
   "cell_type": "code",
   "execution_count": 12,
   "metadata": {
    "ExecuteTime": {
     "end_time": "2024-06-26T21:27:26.956688Z",
     "start_time": "2024-06-26T21:27:26.952887Z"
    }
   },
   "outputs": [],
   "source": [
    "observed_good = df[\"t\"]\n",
    "\n",
    "N = params[\"N\"]\n",
    "M = params[\"M\"]\n",
    "J = params[\"J\"]\n",
    "K = params[\"K\"]\n",
    "W = params[\"W\"]\n",
    "# J, K = df[\"product_features\"].shape\n",
    "# W = len(np.unique(observed_bin))\n",
    "\n",
    "\n",
    "coords_1 = {\n",
    "    \"products\": [f\"product_{i}\" for i in range(J + 1)],\n",
    "    \"i_factors\": [f\"if_{i}\" for i in range(M)],\n",
    "    \"p_factors\": [f\"pf_{i}\" for i in range(K)],\n",
    "    \"obs\": range(N),\n",
    "}"
   ]
  },
  {
   "cell_type": "code",
   "execution_count": 13,
   "metadata": {},
   "outputs": [
    {
     "data": {
      "image/svg+xml": [
       "<?xml version=\"1.0\" encoding=\"UTF-8\" standalone=\"no\"?>\n",
       "<!DOCTYPE svg PUBLIC \"-//W3C//DTD SVG 1.1//EN\"\n",
       " \"http://www.w3.org/Graphics/SVG/1.1/DTD/svg11.dtd\">\n",
       "<!-- Generated by graphviz version 12.1.2 (20240928.0832)\n",
       " -->\n",
       "<!-- Pages: 1 -->\n",
       "<svg width=\"228pt\" height=\"382pt\"\n",
       " viewBox=\"0.00 0.00 228.00 381.63\" xmlns=\"http://www.w3.org/2000/svg\" xmlns:xlink=\"http://www.w3.org/1999/xlink\">\n",
       "<g id=\"graph0\" class=\"graph\" transform=\"scale(1 1) rotate(0) translate(4 377.63)\">\n",
       "<polygon fill=\"white\" stroke=\"none\" points=\"-4,4 -4,-377.63 224,-377.63 224,4 -4,4\"/>\n",
       "<g id=\"clust1\" class=\"cluster\">\n",
       "<title>clusterproducts (4)</title>\n",
       "<path fill=\"none\" stroke=\"black\" d=\"M20,-243.82C20,-243.82 94,-243.82 94,-243.82 100,-243.82 106,-249.82 106,-255.82 106,-255.82 106,-353.63 106,-353.63 106,-359.63 100,-365.63 94,-365.63 94,-365.63 20,-365.63 20,-365.63 14,-365.63 8,-359.63 8,-353.63 8,-353.63 8,-255.82 8,-255.82 8,-249.82 14,-243.82 20,-243.82\"/>\n",
       "<text text-anchor=\"middle\" x=\"65\" y=\"-251.02\" font-family=\"Times,serif\" font-size=\"14.00\">products (4)</text>\n",
       "</g>\n",
       "<g id=\"clust2\" class=\"cluster\">\n",
       "<title>clusterp_factors (5)</title>\n",
       "<path fill=\"none\" stroke=\"black\" d=\"M126,-243.82C126,-243.82 200,-243.82 200,-243.82 206,-243.82 212,-249.82 212,-255.82 212,-255.82 212,-353.63 212,-353.63 212,-359.63 206,-365.63 200,-365.63 200,-365.63 126,-365.63 126,-365.63 120,-365.63 114,-359.63 114,-353.63 114,-353.63 114,-255.82 114,-255.82 114,-249.82 120,-243.82 126,-243.82\"/>\n",
       "<text text-anchor=\"middle\" x=\"169.12\" y=\"-251.02\" font-family=\"Times,serif\" font-size=\"14.00\">p_factors (5)</text>\n",
       "</g>\n",
       "<g id=\"clust3\" class=\"cluster\">\n",
       "<title>clusterobs (200) x products (4)</title>\n",
       "<path fill=\"none\" stroke=\"black\" d=\"M47,-137.82C47,-137.82 171,-137.82 171,-137.82 177,-137.82 183,-143.82 183,-149.82 183,-149.82 183,-223.82 183,-223.82 183,-229.82 177,-235.82 171,-235.82 171,-235.82 47,-235.82 47,-235.82 41,-235.82 35,-229.82 35,-223.82 35,-223.82 35,-149.82 35,-149.82 35,-143.82 41,-137.82 47,-137.82\"/>\n",
       "<text text-anchor=\"middle\" x=\"109\" y=\"-145.02\" font-family=\"Times,serif\" font-size=\"14.00\">obs (200) x products (4)</text>\n",
       "</g>\n",
       "<g id=\"clust4\" class=\"cluster\">\n",
       "<title>clusterobs (200)</title>\n",
       "<path fill=\"none\" stroke=\"black\" d=\"M42,-8C42,-8 144,-8 144,-8 150,-8 156,-14 156,-20 156,-20 156,-117.82 156,-117.82 156,-123.82 150,-129.82 144,-129.82 144,-129.82 42,-129.82 42,-129.82 36,-129.82 30,-123.82 30,-117.82 30,-117.82 30,-20 30,-20 30,-14 36,-8 42,-8\"/>\n",
       "<text text-anchor=\"middle\" x=\"122.12\" y=\"-15.2\" font-family=\"Times,serif\" font-size=\"14.00\">obs (200)</text>\n",
       "</g>\n",
       "<!-- alpha_j -->\n",
       "<g id=\"node1\" class=\"node\">\n",
       "<title>alpha_j</title>\n",
       "<ellipse fill=\"none\" stroke=\"black\" cx=\"57\" cy=\"-316.98\" rx=\"41.01\" ry=\"40.66\"/>\n",
       "<text text-anchor=\"middle\" x=\"57\" y=\"-328.43\" font-family=\"Times,serif\" font-size=\"14.00\">alpha_j</text>\n",
       "<text text-anchor=\"middle\" x=\"57\" y=\"-311.93\" font-family=\"Times,serif\" font-size=\"14.00\">~</text>\n",
       "<text text-anchor=\"middle\" x=\"57\" y=\"-295.43\" font-family=\"Times,serif\" font-size=\"14.00\">Normal</text>\n",
       "</g>\n",
       "<!-- p -->\n",
       "<g id=\"node3\" class=\"node\">\n",
       "<title>p</title>\n",
       "<polygon fill=\"none\" stroke=\"black\" points=\"138.12,-227.82 47.88,-227.82 47.88,-170.32 138.12,-170.32 138.12,-227.82\"/>\n",
       "<text text-anchor=\"middle\" x=\"93\" y=\"-210.52\" font-family=\"Times,serif\" font-size=\"14.00\">p</text>\n",
       "<text text-anchor=\"middle\" x=\"93\" y=\"-194.02\" font-family=\"Times,serif\" font-size=\"14.00\">~</text>\n",
       "<text text-anchor=\"middle\" x=\"93\" y=\"-177.52\" font-family=\"Times,serif\" font-size=\"14.00\">Deterministic</text>\n",
       "</g>\n",
       "<!-- alpha_j&#45;&gt;p -->\n",
       "<g id=\"edge1\" class=\"edge\">\n",
       "<title>alpha_j&#45;&gt;p</title>\n",
       "<path fill=\"none\" stroke=\"black\" d=\"M68.89,-277.7C72.78,-265.16 77.11,-251.21 81.02,-238.64\"/>\n",
       "<polygon fill=\"black\" stroke=\"black\" points=\"84.24,-240.06 83.87,-229.47 77.56,-237.98 84.24,-240.06\"/>\n",
       "</g>\n",
       "<!-- beta_pf -->\n",
       "<g id=\"node2\" class=\"node\">\n",
       "<title>beta_pf</title>\n",
       "<ellipse fill=\"none\" stroke=\"black\" cx=\"163\" cy=\"-316.98\" rx=\"41.01\" ry=\"40.66\"/>\n",
       "<text text-anchor=\"middle\" x=\"163\" y=\"-328.43\" font-family=\"Times,serif\" font-size=\"14.00\">beta_pf</text>\n",
       "<text text-anchor=\"middle\" x=\"163\" y=\"-311.93\" font-family=\"Times,serif\" font-size=\"14.00\">~</text>\n",
       "<text text-anchor=\"middle\" x=\"163\" y=\"-295.43\" font-family=\"Times,serif\" font-size=\"14.00\">Normal</text>\n",
       "</g>\n",
       "<!-- beta_pf&#45;&gt;p -->\n",
       "<g id=\"edge2\" class=\"edge\">\n",
       "<title>beta_pf&#45;&gt;p</title>\n",
       "<path fill=\"none\" stroke=\"black\" d=\"M142.19,-281.51C133.8,-267.63 124.12,-251.59 115.56,-237.43\"/>\n",
       "<polygon fill=\"black\" stroke=\"black\" points=\"118.8,-236.02 110.64,-229.27 112.81,-239.64 118.8,-236.02\"/>\n",
       "</g>\n",
       "<!-- y_cat -->\n",
       "<g id=\"node4\" class=\"node\">\n",
       "<title>y_cat</title>\n",
       "<ellipse fill=\"lightgrey\" stroke=\"black\" cx=\"93\" cy=\"-81.16\" rx=\"55.33\" ry=\"40.66\"/>\n",
       "<text text-anchor=\"middle\" x=\"93\" y=\"-92.61\" font-family=\"Times,serif\" font-size=\"14.00\">y_cat</text>\n",
       "<text text-anchor=\"middle\" x=\"93\" y=\"-76.11\" font-family=\"Times,serif\" font-size=\"14.00\">~</text>\n",
       "<text text-anchor=\"middle\" x=\"93\" y=\"-59.61\" font-family=\"Times,serif\" font-size=\"14.00\">Categorical</text>\n",
       "</g>\n",
       "<!-- p&#45;&gt;y_cat -->\n",
       "<g id=\"edge3\" class=\"edge\">\n",
       "<title>p&#45;&gt;y_cat</title>\n",
       "<path fill=\"none\" stroke=\"black\" d=\"M93,-170.01C93,-159.03 93,-146.08 93,-133.55\"/>\n",
       "<polygon fill=\"black\" stroke=\"black\" points=\"96.5,-133.74 93,-123.74 89.5,-133.74 96.5,-133.74\"/>\n",
       "</g>\n",
       "</g>\n",
       "</svg>\n"
      ],
      "text/plain": [
       "<graphviz.graphs.Digraph at 0x149dd1c10>"
      ]
     },
     "execution_count": 13,
     "metadata": {},
     "output_type": "execute_result"
    }
   ],
   "source": [
    "with pm.Model(coords=coords_1) as model_1:\n",
    "\n",
    "    # mu_α_p = pm.Normal(\"mu_α_p\", 0, 1)\n",
    "    # sigma_α_p = pm.HalfCauchy(\"sigma_α_p\", 1)\n",
    "\n",
    "    # alpha_p = pm.Normal(\"alpha_j\", mu_α_p, sigma_α_p, dims=[\"products\"])\n",
    "    # alpha_p = pt.set_subtensor(alpha_p[-1], 0) #outside good\n",
    "\n",
    "    # mu_β_p = pm.Normal(\"mu_β_p\", 0, 1)\n",
    "    # sigma_β_p = pm.HalfCauchy(\"sigma_β_p\", 1)\n",
    "\n",
    "    alpha_p = pm.Normal(\"alpha_j\", 0, 5, dims=[\"products\"])\n",
    "    alpha_p = pt.set_subtensor(alpha_p[-1], 0) #outside good\n",
    "\n",
    "    # beta_p = (\n",
    "    #     pm.math.ones((N, 1))\n",
    "    #     * pm.Normal(\"beta_pf\", mu_β_p, sigma_β_p, dims=[\"p_factors\"]).T\n",
    "    # )  # want there to be N*K beta's\n",
    "\n",
    "    beta_p = pm.Normal(\"beta_pf\", 0, 5, dims=[\"p_factors\"])\n",
    "\n",
    "    ## Construct Utility matrix\n",
    "\n",
    "    # beta_p_print = Print(\"beta_p\")(beta_p)\n",
    "\n",
    "    s = pm.math.ones((N, 1)) @ alpha_p.reshape((1, -1)) + df[\"product_features\"] @ beta_p\n",
    "\n",
    "    # s_print = Print(\"s\")(s)\n",
    "    # s = beta_p @ df[\"product_features\"].T\n",
    "    # s = pm.math.concatenate([s_good, np.zeros((N, 1))], axis=1)\n",
    "\n",
    "    ## Apply Softmax Transform\n",
    "    p_ = pm.Deterministic(\"p\", pm.math.softmax(s, axis=1), dims=(\"obs\", \"products\"))\n",
    "\n",
    "    ## Likelihood\n",
    "    choice_obs = pm.Categorical(\"y_cat\", p=p_, observed=observed_good, dims=\"obs\")\n",
    "\n",
    "pm.model_to_graphviz(model_1)"
   ]
  },
  {
   "cell_type": "code",
   "execution_count": 14,
   "metadata": {
    "ExecuteTime": {
     "end_time": "2024-06-26T21:48:46.443641Z",
     "start_time": "2024-06-26T21:48:45.153910Z"
    }
   },
   "outputs": [
    {
     "data": {
      "application/vnd.jupyter.widget-view+json": {
       "model_id": "3aeedb03925044ae89dcbc1a7a6e9d4f",
       "version_major": 2,
       "version_minor": 0
      },
      "text/plain": [
       "  0%|          | 0/6000 [00:00<?, ?it/s]"
      ]
     },
     "metadata": {},
     "output_type": "display_data"
    },
    {
     "data": {
      "application/vnd.jupyter.widget-view+json": {
       "model_id": "2e72ee3004ca421881c79fb8f3557cc0",
       "version_major": 2,
       "version_minor": 0
      },
      "text/plain": [
       "  0%|          | 0/6000 [00:00<?, ?it/s]"
      ]
     },
     "metadata": {},
     "output_type": "display_data"
    },
    {
     "data": {
      "application/vnd.jupyter.widget-view+json": {
       "model_id": "caa3782856be4a089869a623cd3c7027",
       "version_major": 2,
       "version_minor": 0
      },
      "text/plain": [
       "  0%|          | 0/6000 [00:00<?, ?it/s]"
      ]
     },
     "metadata": {},
     "output_type": "display_data"
    },
    {
     "data": {
      "application/vnd.jupyter.widget-view+json": {
       "model_id": "ea59b656f7a24e43b71dc6931a6db19a",
       "version_major": 2,
       "version_minor": 0
      },
      "text/plain": [
       "  0%|          | 0/6000 [00:00<?, ?it/s]"
      ]
     },
     "metadata": {},
     "output_type": "display_data"
    }
   ],
   "source": [
    "with model_1:\n",
    "    # idata_m1 = pm.sample_prior_predictive()\n",
    "    # idata_m1.extend(\n",
    "    #     pm.sample(\n",
    "    #         5000,\n",
    "    #         nuts_sampler=\"numpyro\",\n",
    "    #         idata_kwargs={\"log_likelihood\": True},\n",
    "    #         random_seed=100,\n",
    "    #     )\n",
    "    # )\n",
    "    # idata_m1.extend(pm.sample_posterior_predictive(idata_m1))\n",
    "    idata_m1 = pm.sample(\n",
    "        5000,\n",
    "        nuts_sampler=\"numpyro\",\n",
    "        idata_kwargs={\"log_likelihood\": True},\n",
    "        random_seed=100,\n",
    "    )"
   ]
  },
  {
   "cell_type": "code",
   "execution_count": 15,
   "metadata": {},
   "outputs": [
    {
     "data": {
      "text/html": [
       "<div>\n",
       "<style scoped>\n",
       "    .dataframe tbody tr th:only-of-type {\n",
       "        vertical-align: middle;\n",
       "    }\n",
       "\n",
       "    .dataframe tbody tr th {\n",
       "        vertical-align: top;\n",
       "    }\n",
       "\n",
       "    .dataframe thead th {\n",
       "        text-align: right;\n",
       "    }\n",
       "</style>\n",
       "<table border=\"1\" class=\"dataframe\">\n",
       "  <thead>\n",
       "    <tr style=\"text-align: right;\">\n",
       "      <th></th>\n",
       "      <th>mean</th>\n",
       "      <th>sd</th>\n",
       "      <th>hdi_3%</th>\n",
       "      <th>hdi_97%</th>\n",
       "      <th>mcse_mean</th>\n",
       "      <th>mcse_sd</th>\n",
       "      <th>ess_bulk</th>\n",
       "      <th>ess_tail</th>\n",
       "      <th>r_hat</th>\n",
       "    </tr>\n",
       "  </thead>\n",
       "  <tbody>\n",
       "  </tbody>\n",
       "</table>\n",
       "</div>"
      ],
      "text/plain": [
       "Empty DataFrame\n",
       "Columns: [mean, sd, hdi_3%, hdi_97%, mcse_mean, mcse_sd, ess_bulk, ess_tail, r_hat]\n",
       "Index: []"
      ]
     },
     "metadata": {},
     "output_type": "display_data"
    }
   ],
   "source": [
    "from IPython.display import display\n",
    "\n",
    "with pd.option_context('display.max_rows', 100, 'display.max_columns', 10):\n",
    "    display(az.summary(idata_m1).loc[lambda _df: _df['ess_tail'] < 1_000])"
   ]
  },
  {
   "cell_type": "code",
   "execution_count": 16,
   "metadata": {
    "ExecuteTime": {
     "end_time": "2024-06-26T21:36:42.904161Z",
     "start_time": "2024-06-26T21:36:42.899561Z"
    }
   },
   "outputs": [
    {
     "data": {
      "text/html": [
       "<div>\n",
       "<style scoped>\n",
       "    .dataframe tbody tr th:only-of-type {\n",
       "        vertical-align: middle;\n",
       "    }\n",
       "\n",
       "    .dataframe tbody tr th {\n",
       "        vertical-align: top;\n",
       "    }\n",
       "\n",
       "    .dataframe thead th {\n",
       "        text-align: right;\n",
       "    }\n",
       "</style>\n",
       "<table border=\"1\" class=\"dataframe\">\n",
       "  <thead>\n",
       "    <tr style=\"text-align: right;\">\n",
       "      <th></th>\n",
       "      <th>mean</th>\n",
       "      <th>sd</th>\n",
       "      <th>hdi_3%</th>\n",
       "      <th>hdi_97%</th>\n",
       "      <th>mcse_mean</th>\n",
       "      <th>mcse_sd</th>\n",
       "      <th>ess_bulk</th>\n",
       "      <th>ess_tail</th>\n",
       "      <th>r_hat</th>\n",
       "    </tr>\n",
       "  </thead>\n",
       "  <tbody>\n",
       "    <tr>\n",
       "      <th>alpha_j[product_0]</th>\n",
       "      <td>-0.901</td>\n",
       "      <td>0.205</td>\n",
       "      <td>-1.300</td>\n",
       "      <td>-0.530</td>\n",
       "      <td>0.001</td>\n",
       "      <td>0.001</td>\n",
       "      <td>32217.0</td>\n",
       "      <td>17203.0</td>\n",
       "      <td>1.0</td>\n",
       "    </tr>\n",
       "    <tr>\n",
       "      <th>alpha_j[product_1]</th>\n",
       "      <td>-0.603</td>\n",
       "      <td>0.188</td>\n",
       "      <td>-0.956</td>\n",
       "      <td>-0.247</td>\n",
       "      <td>0.001</td>\n",
       "      <td>0.001</td>\n",
       "      <td>30912.0</td>\n",
       "      <td>17793.0</td>\n",
       "      <td>1.0</td>\n",
       "    </tr>\n",
       "    <tr>\n",
       "      <th>alpha_j[product_2]</th>\n",
       "      <td>-0.891</td>\n",
       "      <td>0.207</td>\n",
       "      <td>-1.268</td>\n",
       "      <td>-0.489</td>\n",
       "      <td>0.001</td>\n",
       "      <td>0.001</td>\n",
       "      <td>30779.0</td>\n",
       "      <td>17178.0</td>\n",
       "      <td>1.0</td>\n",
       "    </tr>\n",
       "    <tr>\n",
       "      <th>alpha_j[product_3]</th>\n",
       "      <td>0.035</td>\n",
       "      <td>5.046</td>\n",
       "      <td>-9.382</td>\n",
       "      <td>9.598</td>\n",
       "      <td>0.025</td>\n",
       "      <td>0.040</td>\n",
       "      <td>39495.0</td>\n",
       "      <td>14719.0</td>\n",
       "      <td>1.0</td>\n",
       "    </tr>\n",
       "    <tr>\n",
       "      <th>beta_pf[pf_0]</th>\n",
       "      <td>-1.148</td>\n",
       "      <td>0.542</td>\n",
       "      <td>-2.188</td>\n",
       "      <td>-0.139</td>\n",
       "      <td>0.003</td>\n",
       "      <td>0.002</td>\n",
       "      <td>43260.0</td>\n",
       "      <td>15382.0</td>\n",
       "      <td>1.0</td>\n",
       "    </tr>\n",
       "    <tr>\n",
       "      <th>beta_pf[pf_1]</th>\n",
       "      <td>-0.328</td>\n",
       "      <td>0.507</td>\n",
       "      <td>-1.281</td>\n",
       "      <td>0.619</td>\n",
       "      <td>0.003</td>\n",
       "      <td>0.003</td>\n",
       "      <td>38274.0</td>\n",
       "      <td>14911.0</td>\n",
       "      <td>1.0</td>\n",
       "    </tr>\n",
       "    <tr>\n",
       "      <th>beta_pf[pf_2]</th>\n",
       "      <td>-0.554</td>\n",
       "      <td>0.549</td>\n",
       "      <td>-1.564</td>\n",
       "      <td>0.477</td>\n",
       "      <td>0.003</td>\n",
       "      <td>0.003</td>\n",
       "      <td>36185.0</td>\n",
       "      <td>15257.0</td>\n",
       "      <td>1.0</td>\n",
       "    </tr>\n",
       "    <tr>\n",
       "      <th>beta_pf[pf_3]</th>\n",
       "      <td>-0.939</td>\n",
       "      <td>0.563</td>\n",
       "      <td>-1.991</td>\n",
       "      <td>0.130</td>\n",
       "      <td>0.003</td>\n",
       "      <td>0.002</td>\n",
       "      <td>40122.0</td>\n",
       "      <td>15442.0</td>\n",
       "      <td>1.0</td>\n",
       "    </tr>\n",
       "    <tr>\n",
       "      <th>beta_pf[pf_4]</th>\n",
       "      <td>-0.523</td>\n",
       "      <td>0.535</td>\n",
       "      <td>-1.493</td>\n",
       "      <td>0.515</td>\n",
       "      <td>0.003</td>\n",
       "      <td>0.003</td>\n",
       "      <td>36697.0</td>\n",
       "      <td>15297.0</td>\n",
       "      <td>1.0</td>\n",
       "    </tr>\n",
       "  </tbody>\n",
       "</table>\n",
       "</div>"
      ],
      "text/plain": [
       "                     mean     sd  hdi_3%  hdi_97%  mcse_mean  mcse_sd  \\\n",
       "alpha_j[product_0] -0.901  0.205  -1.300   -0.530      0.001    0.001   \n",
       "alpha_j[product_1] -0.603  0.188  -0.956   -0.247      0.001    0.001   \n",
       "alpha_j[product_2] -0.891  0.207  -1.268   -0.489      0.001    0.001   \n",
       "alpha_j[product_3]  0.035  5.046  -9.382    9.598      0.025    0.040   \n",
       "beta_pf[pf_0]      -1.148  0.542  -2.188   -0.139      0.003    0.002   \n",
       "beta_pf[pf_1]      -0.328  0.507  -1.281    0.619      0.003    0.003   \n",
       "beta_pf[pf_2]      -0.554  0.549  -1.564    0.477      0.003    0.003   \n",
       "beta_pf[pf_3]      -0.939  0.563  -1.991    0.130      0.003    0.002   \n",
       "beta_pf[pf_4]      -0.523  0.535  -1.493    0.515      0.003    0.003   \n",
       "\n",
       "                    ess_bulk  ess_tail  r_hat  \n",
       "alpha_j[product_0]   32217.0   17203.0    1.0  \n",
       "alpha_j[product_1]   30912.0   17793.0    1.0  \n",
       "alpha_j[product_2]   30779.0   17178.0    1.0  \n",
       "alpha_j[product_3]   39495.0   14719.0    1.0  \n",
       "beta_pf[pf_0]        43260.0   15382.0    1.0  \n",
       "beta_pf[pf_1]        38274.0   14911.0    1.0  \n",
       "beta_pf[pf_2]        36185.0   15257.0    1.0  \n",
       "beta_pf[pf_3]        40122.0   15442.0    1.0  \n",
       "beta_pf[pf_4]        36697.0   15297.0    1.0  "
      ]
     },
     "execution_count": 16,
     "metadata": {},
     "output_type": "execute_result"
    }
   ],
   "source": [
    "az.summary(idata_m1, var_names=[\"~p\"])"
   ]
  },
  {
   "cell_type": "code",
   "execution_count": 17,
   "metadata": {},
   "outputs": [],
   "source": [
    "post = az.extract(idata_m1)"
   ]
  },
  {
   "cell_type": "code",
   "execution_count": 18,
   "metadata": {},
   "outputs": [
    {
     "data": {
      "image/png": "[encoded data removed]",
      "text/plain": [
       "<Figure size 640x480 with 6 Axes>"
      ]
     },
     "metadata": {
      "image/png": {
       "height": 464,
       "width": 627
      }
     },
     "output_type": "display_data"
    }
   ],
   "source": [
    "fig, axs = plt.subplots(3, 2)\n",
    "\n",
    "for i in range(6):\n",
    "    plt.sca(axs.flatten()[i])\n",
    "    if i >= K:\n",
    "        plt.gca().axis(\"off\")\n",
    "        continue\n",
    "    sns.histplot(\n",
    "        post[\"beta_pf\"][i, :],\n",
    "        bins=30,\n",
    "        ec=\"black\",\n",
    "    )\n",
    "    plt.axvline(df[\"latent_β_prod\"][i], linestyle=\"dashed\", color=\"black\")\n",
    "    plt.title(rf\"$\\beta_{i+1}$\")\n",
    "    plt.ylabel(None)\n",
    "    plt.yticks([])\n",
    "\n",
    "plt.tight_layout()\n",
    "plt.show()"
   ]
  },
  {
   "cell_type": "markdown",
   "metadata": {},
   "source": [
    "## Likert Dual Response"
   ]
  },
  {
   "cell_type": "markdown",
   "metadata": {},
   "source": [
    "### Construct the Model"
   ]
  },
  {
   "cell_type": "code",
   "execution_count": 19,
   "metadata": {},
   "outputs": [],
   "source": [
    "observed_inside = df[\"jstar\"]\n",
    "observed_buy = df[\"t\"] == df[\"jstar\"]\n",
    "\n",
    "N = params[\"N\"]\n",
    "J = params[\"J\"]\n",
    "K = params[\"K\"]\n",
    "\n",
    "coords_2 = {\n",
    "    \"products\": [f\"product_{i}\" for i in range(J)],\n",
    "    \"p_factors\": [f\"pf_{i}\" for i in range(K)],\n",
    "    \"obs\": range(N),\n",
    "}"
   ]
  },
  {
   "cell_type": "code",
   "execution_count": 20,
   "metadata": {},
   "outputs": [
    {
     "data": {
      "image/svg+xml": [
       "<?xml version=\"1.0\" encoding=\"UTF-8\" standalone=\"no\"?>\n",
       "<!DOCTYPE svg PUBLIC \"-//W3C//DTD SVG 1.1//EN\"\n",
       " \"http://www.w3.org/Graphics/SVG/1.1/DTD/svg11.dtd\">\n",
       "<!-- Generated by graphviz version 12.1.2 (20240928.0832)\n",
       " -->\n",
       "<!-- Pages: 1 -->\n",
       "<svg width=\"261pt\" height=\"499pt\"\n",
       " viewBox=\"0.00 0.00 261.00 498.95\" xmlns=\"http://www.w3.org/2000/svg\" xmlns:xlink=\"http://www.w3.org/1999/xlink\">\n",
       "<g id=\"graph0\" class=\"graph\" transform=\"scale(1 1) rotate(0) translate(4 494.95)\">\n",
       "<polygon fill=\"white\" stroke=\"none\" points=\"-4,4 -4,-494.95 257,-494.95 257,4 -4,4\"/>\n",
       "<g id=\"clust1\" class=\"cluster\">\n",
       "<title>clusterproducts (3)</title>\n",
       "<path fill=\"none\" stroke=\"black\" d=\"M20,-361.13C20,-361.13 94,-361.13 94,-361.13 100,-361.13 106,-367.13 106,-373.13 106,-373.13 106,-470.95 106,-470.95 106,-476.95 100,-482.95 94,-482.95 94,-482.95 20,-482.95 20,-482.95 14,-482.95 8,-476.95 8,-470.95 8,-470.95 8,-373.13 8,-373.13 8,-367.13 14,-361.13 20,-361.13\"/>\n",
       "<text text-anchor=\"middle\" x=\"65\" y=\"-368.33\" font-family=\"Times,serif\" font-size=\"14.00\">products (3)</text>\n",
       "</g>\n",
       "<g id=\"clust2\" class=\"cluster\">\n",
       "<title>clusterp_factors (5)</title>\n",
       "<path fill=\"none\" stroke=\"black\" d=\"M140,-361.13C140,-361.13 214,-361.13 214,-361.13 220,-361.13 226,-367.13 226,-373.13 226,-373.13 226,-470.95 226,-470.95 226,-476.95 220,-482.95 214,-482.95 214,-482.95 140,-482.95 140,-482.95 134,-482.95 128,-476.95 128,-470.95 128,-470.95 128,-373.13 128,-373.13 128,-367.13 134,-361.13 140,-361.13\"/>\n",
       "<text text-anchor=\"middle\" x=\"183.12\" y=\"-368.33\" font-family=\"Times,serif\" font-size=\"14.00\">p_factors (5)</text>\n",
       "</g>\n",
       "<g id=\"clust3\" class=\"cluster\">\n",
       "<title>clusterobs (200) x products (3)</title>\n",
       "<path fill=\"none\" stroke=\"black\" d=\"M38,-255.13C38,-255.13 162,-255.13 162,-255.13 168,-255.13 174,-261.13 174,-267.13 174,-267.13 174,-341.13 174,-341.13 174,-347.13 168,-353.13 162,-353.13 162,-353.13 38,-353.13 38,-353.13 32,-353.13 26,-347.13 26,-341.13 26,-341.13 26,-267.13 26,-267.13 26,-261.13 32,-255.13 38,-255.13\"/>\n",
       "<text text-anchor=\"middle\" x=\"100\" y=\"-262.33\" font-family=\"Times,serif\" font-size=\"14.00\">obs (200) x products (3)</text>\n",
       "</g>\n",
       "<g id=\"clust4\" class=\"cluster\">\n",
       "<title>clusterobs (200)</title>\n",
       "<path fill=\"none\" stroke=\"black\" d=\"M23,-8C23,-8 233,-8 233,-8 239,-8 245,-14 245,-20 245,-20 245,-235.13 245,-235.13 245,-241.13 239,-247.13 233,-247.13 233,-247.13 23,-247.13 23,-247.13 17,-247.13 11,-241.13 11,-235.13 11,-235.13 11,-20 11,-20 11,-14 17,-8 23,-8\"/>\n",
       "<text text-anchor=\"middle\" x=\"211.12\" y=\"-15.2\" font-family=\"Times,serif\" font-size=\"14.00\">obs (200)</text>\n",
       "</g>\n",
       "<!-- alpha_j -->\n",
       "<g id=\"node1\" class=\"node\">\n",
       "<title>alpha_j</title>\n",
       "<ellipse fill=\"none\" stroke=\"black\" cx=\"57\" cy=\"-434.29\" rx=\"41.01\" ry=\"40.66\"/>\n",
       "<text text-anchor=\"middle\" x=\"57\" y=\"-445.74\" font-family=\"Times,serif\" font-size=\"14.00\">alpha_j</text>\n",
       "<text text-anchor=\"middle\" x=\"57\" y=\"-429.24\" font-family=\"Times,serif\" font-size=\"14.00\">~</text>\n",
       "<text text-anchor=\"middle\" x=\"57\" y=\"-412.74\" font-family=\"Times,serif\" font-size=\"14.00\">Normal</text>\n",
       "</g>\n",
       "<!-- p -->\n",
       "<g id=\"node3\" class=\"node\">\n",
       "<title>p</title>\n",
       "<polygon fill=\"none\" stroke=\"black\" points=\"126.12,-345.13 35.88,-345.13 35.88,-287.63 126.12,-287.63 126.12,-345.13\"/>\n",
       "<text text-anchor=\"middle\" x=\"81\" y=\"-327.83\" font-family=\"Times,serif\" font-size=\"14.00\">p</text>\n",
       "<text text-anchor=\"middle\" x=\"81\" y=\"-311.33\" font-family=\"Times,serif\" font-size=\"14.00\">~</text>\n",
       "<text text-anchor=\"middle\" x=\"81\" y=\"-294.83\" font-family=\"Times,serif\" font-size=\"14.00\">Deterministic</text>\n",
       "</g>\n",
       "<!-- alpha_j&#45;&gt;p -->\n",
       "<g id=\"edge1\" class=\"edge\">\n",
       "<title>alpha_j&#45;&gt;p</title>\n",
       "<path fill=\"none\" stroke=\"black\" d=\"M65.13,-394.05C67.62,-382.01 70.36,-368.76 72.86,-356.71\"/>\n",
       "<polygon fill=\"black\" stroke=\"black\" points=\"76.25,-357.58 74.85,-347.08 69.4,-356.16 76.25,-357.58\"/>\n",
       "</g>\n",
       "<!-- q -->\n",
       "<g id=\"node6\" class=\"node\">\n",
       "<title>q</title>\n",
       "<polygon fill=\"none\" stroke=\"black\" points=\"237.12,-227.23 146.88,-227.23 146.88,-169.73 237.12,-169.73 237.12,-227.23\"/>\n",
       "<text text-anchor=\"middle\" x=\"192\" y=\"-209.93\" font-family=\"Times,serif\" font-size=\"14.00\">q</text>\n",
       "<text text-anchor=\"middle\" x=\"192\" y=\"-193.43\" font-family=\"Times,serif\" font-size=\"14.00\">~</text>\n",
       "<text text-anchor=\"middle\" x=\"192\" y=\"-176.93\" font-family=\"Times,serif\" font-size=\"14.00\">Deterministic</text>\n",
       "</g>\n",
       "<!-- alpha_j&#45;&gt;q -->\n",
       "<g id=\"edge3\" class=\"edge\">\n",
       "<title>alpha_j&#45;&gt;q</title>\n",
       "<path fill=\"none\" stroke=\"black\" d=\"M35.23,-399.4C12.71,-359.63 -14.46,-294.19 22,-255.13 30.82,-245.69 126.08,-252.12 138,-247.13 145.13,-244.15 151.97,-239.83 158.23,-234.99\"/>\n",
       "<polygon fill=\"black\" stroke=\"black\" points=\"160.43,-237.72 165.82,-228.61 155.92,-232.37 160.43,-237.72\"/>\n",
       "</g>\n",
       "<!-- beta_pf -->\n",
       "<g id=\"node2\" class=\"node\">\n",
       "<title>beta_pf</title>\n",
       "<ellipse fill=\"none\" stroke=\"black\" cx=\"177\" cy=\"-434.29\" rx=\"41.01\" ry=\"40.66\"/>\n",
       "<text text-anchor=\"middle\" x=\"177\" y=\"-445.74\" font-family=\"Times,serif\" font-size=\"14.00\">beta_pf</text>\n",
       "<text text-anchor=\"middle\" x=\"177\" y=\"-429.24\" font-family=\"Times,serif\" font-size=\"14.00\">~</text>\n",
       "<text text-anchor=\"middle\" x=\"177\" y=\"-412.74\" font-family=\"Times,serif\" font-size=\"14.00\">Normal</text>\n",
       "</g>\n",
       "<!-- beta_pf&#45;&gt;p -->\n",
       "<g id=\"edge2\" class=\"edge\">\n",
       "<title>beta_pf&#45;&gt;p</title>\n",
       "<path fill=\"none\" stroke=\"black\" d=\"M151.27,-402.23C139.02,-387.43 124.27,-369.63 111.46,-354.16\"/>\n",
       "<polygon fill=\"black\" stroke=\"black\" points=\"114.21,-351.99 105.14,-346.53 108.82,-356.46 114.21,-351.99\"/>\n",
       "</g>\n",
       "<!-- beta_pf&#45;&gt;q -->\n",
       "<g id=\"edge4\" class=\"edge\">\n",
       "<title>beta_pf&#45;&gt;q</title>\n",
       "<path fill=\"none\" stroke=\"black\" d=\"M179.56,-393.36C182.33,-350.21 186.72,-281.85 189.47,-238.89\"/>\n",
       "<polygon fill=\"black\" stroke=\"black\" points=\"192.96,-239.21 190.11,-229 185.97,-238.76 192.96,-239.21\"/>\n",
       "</g>\n",
       "<!-- y_cat -->\n",
       "<g id=\"node4\" class=\"node\">\n",
       "<title>y_cat</title>\n",
       "<ellipse fill=\"lightgrey\" stroke=\"black\" cx=\"74\" cy=\"-198.48\" rx=\"55.33\" ry=\"40.66\"/>\n",
       "<text text-anchor=\"middle\" x=\"74\" y=\"-209.93\" font-family=\"Times,serif\" font-size=\"14.00\">y_cat</text>\n",
       "<text text-anchor=\"middle\" x=\"74\" y=\"-193.43\" font-family=\"Times,serif\" font-size=\"14.00\">~</text>\n",
       "<text text-anchor=\"middle\" x=\"74\" y=\"-176.93\" font-family=\"Times,serif\" font-size=\"14.00\">Categorical</text>\n",
       "</g>\n",
       "<!-- p&#45;&gt;y_cat -->\n",
       "<g id=\"edge5\" class=\"edge\">\n",
       "<title>p&#45;&gt;y_cat</title>\n",
       "<path fill=\"none\" stroke=\"black\" d=\"M79.31,-287.33C78.64,-276.35 77.86,-263.4 77.1,-250.87\"/>\n",
       "<polygon fill=\"black\" stroke=\"black\" points=\"80.61,-250.82 76.51,-241.05 73.62,-251.25 80.61,-250.82\"/>\n",
       "</g>\n",
       "<!-- y_bin -->\n",
       "<g id=\"node5\" class=\"node\">\n",
       "<title>y_bin</title>\n",
       "<ellipse fill=\"lightgrey\" stroke=\"black\" cx=\"190\" cy=\"-81.16\" rx=\"47.38\" ry=\"40.66\"/>\n",
       "<text text-anchor=\"middle\" x=\"190\" y=\"-92.61\" font-family=\"Times,serif\" font-size=\"14.00\">y_bin</text>\n",
       "<text text-anchor=\"middle\" x=\"190\" y=\"-76.11\" font-family=\"Times,serif\" font-size=\"14.00\">~</text>\n",
       "<text text-anchor=\"middle\" x=\"190\" y=\"-59.61\" font-family=\"Times,serif\" font-size=\"14.00\">Bernoulli</text>\n",
       "</g>\n",
       "<!-- q&#45;&gt;y_bin -->\n",
       "<g id=\"edge6\" class=\"edge\">\n",
       "<title>q&#45;&gt;y_bin</title>\n",
       "<path fill=\"none\" stroke=\"black\" d=\"M191.51,-169.27C191.32,-158.44 191.1,-145.73 190.89,-133.41\"/>\n",
       "<polygon fill=\"black\" stroke=\"black\" points=\"194.39,-133.72 190.72,-123.78 187.4,-133.84 194.39,-133.72\"/>\n",
       "</g>\n",
       "</g>\n",
       "</svg>\n"
      ],
      "text/plain": [
       "<graphviz.graphs.Digraph at 0x16a136a20>"
      ]
     },
     "execution_count": 20,
     "metadata": {},
     "output_type": "execute_result"
    }
   ],
   "source": [
    "with pm.Model(coords=coords_2) as model_2:\n",
    "\n",
    "    # mu_α_p = pm.Normal(\"mu_α_p\", 0, 1)\n",
    "    # sigma_α_p = pm.Exponential(\"sigma_α_p\", 1)\n",
    "\n",
    "    alpha_p = pm.Normal(\"alpha_j\", 0, 5, dims=[\"products\"])\n",
    "    \n",
    "    # mu_β_p = pm.Normal(\"mu_β_p\", 0, 1)\n",
    "    # sigma_β_p = pm.Exponential(\"sigma_β_p\", 1)\n",
    "    \n",
    "    beta_p = pm.Normal(\"beta_pf\", 0, 5, dims=[\"p_factors\"])\n",
    "\n",
    "    ## Construct Utility matrix\n",
    "\n",
    "    s = pm.math.ones((N, 1)) @ alpha_p.reshape((1, -1)) + df[\"product_features\"][:, :-1, :] @ beta_p\n",
    "\n",
    "    ## Construct Probabilities\n",
    "    p_ = pm.Deterministic(\"p\", pm.math.softmax(s, axis=1), dims=(\"obs\", \"products\"))\n",
    "    q_ = pm.Deterministic(\"q\", pm.math.log(pm.math.sum(pm.math.exp(s), axis=1)), dims=\"obs\")\n",
    "    \n",
    "    ## Likelihood\n",
    "    choice_obs = pm.Categorical(\"y_cat\", p=p_, observed=observed_inside, dims=\"obs\")\n",
    "    bin_obs = pm.Bernoulli(\"y_bin\", logit_p = q_, observed=observed_buy, dims=\"obs\")\n",
    "\n",
    "pm.model_to_graphviz(model_2)"
   ]
  },
  {
   "cell_type": "markdown",
   "metadata": {},
   "source": [
    "### Estimate the Model"
   ]
  },
  {
   "cell_type": "code",
   "execution_count": 21,
   "metadata": {},
   "outputs": [
    {
     "data": {
      "application/vnd.jupyter.widget-view+json": {
       "model_id": "11be04a15afd4dc89221ee9a1f638a01",
       "version_major": 2,
       "version_minor": 0
      },
      "text/plain": [
       "  0%|          | 0/6000 [00:00<?, ?it/s]"
      ]
     },
     "metadata": {},
     "output_type": "display_data"
    },
    {
     "data": {
      "application/vnd.jupyter.widget-view+json": {
       "model_id": "8272c48bfa514a10b1f362cfa56caf32",
       "version_major": 2,
       "version_minor": 0
      },
      "text/plain": [
       "  0%|          | 0/6000 [00:00<?, ?it/s]"
      ]
     },
     "metadata": {},
     "output_type": "display_data"
    },
    {
     "data": {
      "application/vnd.jupyter.widget-view+json": {
       "model_id": "3f9b9f19f80b420a82a9f23bf3f418df",
       "version_major": 2,
       "version_minor": 0
      },
      "text/plain": [
       "  0%|          | 0/6000 [00:00<?, ?it/s]"
      ]
     },
     "metadata": {},
     "output_type": "display_data"
    },
    {
     "data": {
      "application/vnd.jupyter.widget-view+json": {
       "model_id": "725ed72ad0d140428197ee870c0a660b",
       "version_major": 2,
       "version_minor": 0
      },
      "text/plain": [
       "  0%|          | 0/6000 [00:00<?, ?it/s]"
      ]
     },
     "metadata": {},
     "output_type": "display_data"
    }
   ],
   "source": [
    "with model_2:\n",
    "    idata_m2 = pm.sample(\n",
    "        5000,\n",
    "        nuts_sampler=\"numpyro\",\n",
    "        idata_kwargs={\"log_likelihood\": True},\n",
    "        random_seed=100,\n",
    "    )"
   ]
  },
  {
   "cell_type": "markdown",
   "metadata": {},
   "source": [
    "### Visualize the Estimates"
   ]
  },
  {
   "cell_type": "code",
   "execution_count": 22,
   "metadata": {},
   "outputs": [
    {
     "data": {
      "text/html": [
       "<div>\n",
       "<style scoped>\n",
       "    .dataframe tbody tr th:only-of-type {\n",
       "        vertical-align: middle;\n",
       "    }\n",
       "\n",
       "    .dataframe tbody tr th {\n",
       "        vertical-align: top;\n",
       "    }\n",
       "\n",
       "    .dataframe thead th {\n",
       "        text-align: right;\n",
       "    }\n",
       "</style>\n",
       "<table border=\"1\" class=\"dataframe\">\n",
       "  <thead>\n",
       "    <tr style=\"text-align: right;\">\n",
       "      <th></th>\n",
       "      <th>mean</th>\n",
       "      <th>sd</th>\n",
       "      <th>hdi_3%</th>\n",
       "      <th>hdi_97%</th>\n",
       "      <th>mcse_mean</th>\n",
       "      <th>mcse_sd</th>\n",
       "      <th>ess_bulk</th>\n",
       "      <th>ess_tail</th>\n",
       "      <th>r_hat</th>\n",
       "    </tr>\n",
       "  </thead>\n",
       "  <tbody>\n",
       "    <tr>\n",
       "      <th>alpha_j[product_0]</th>\n",
       "      <td>-0.960</td>\n",
       "      <td>0.187</td>\n",
       "      <td>-1.322</td>\n",
       "      <td>-0.619</td>\n",
       "      <td>0.001</td>\n",
       "      <td>0.001</td>\n",
       "      <td>21167.0</td>\n",
       "      <td>16906.0</td>\n",
       "      <td>1.0</td>\n",
       "    </tr>\n",
       "    <tr>\n",
       "      <th>alpha_j[product_1]</th>\n",
       "      <td>-0.631</td>\n",
       "      <td>0.174</td>\n",
       "      <td>-0.956</td>\n",
       "      <td>-0.298</td>\n",
       "      <td>0.001</td>\n",
       "      <td>0.001</td>\n",
       "      <td>21242.0</td>\n",
       "      <td>17047.0</td>\n",
       "      <td>1.0</td>\n",
       "    </tr>\n",
       "    <tr>\n",
       "      <th>alpha_j[product_2]</th>\n",
       "      <td>-0.774</td>\n",
       "      <td>0.179</td>\n",
       "      <td>-1.116</td>\n",
       "      <td>-0.443</td>\n",
       "      <td>0.001</td>\n",
       "      <td>0.001</td>\n",
       "      <td>21824.0</td>\n",
       "      <td>15533.0</td>\n",
       "      <td>1.0</td>\n",
       "    </tr>\n",
       "    <tr>\n",
       "      <th>beta_pf[pf_0]</th>\n",
       "      <td>-1.263</td>\n",
       "      <td>0.419</td>\n",
       "      <td>-2.054</td>\n",
       "      <td>-0.479</td>\n",
       "      <td>0.002</td>\n",
       "      <td>0.002</td>\n",
       "      <td>34156.0</td>\n",
       "      <td>14209.0</td>\n",
       "      <td>1.0</td>\n",
       "    </tr>\n",
       "    <tr>\n",
       "      <th>beta_pf[pf_1]</th>\n",
       "      <td>-0.314</td>\n",
       "      <td>0.418</td>\n",
       "      <td>-1.096</td>\n",
       "      <td>0.463</td>\n",
       "      <td>0.002</td>\n",
       "      <td>0.002</td>\n",
       "      <td>34333.0</td>\n",
       "      <td>15368.0</td>\n",
       "      <td>1.0</td>\n",
       "    </tr>\n",
       "    <tr>\n",
       "      <th>beta_pf[pf_2]</th>\n",
       "      <td>-0.933</td>\n",
       "      <td>0.457</td>\n",
       "      <td>-1.783</td>\n",
       "      <td>-0.068</td>\n",
       "      <td>0.003</td>\n",
       "      <td>0.002</td>\n",
       "      <td>32080.0</td>\n",
       "      <td>14999.0</td>\n",
       "      <td>1.0</td>\n",
       "    </tr>\n",
       "    <tr>\n",
       "      <th>beta_pf[pf_3]</th>\n",
       "      <td>-0.520</td>\n",
       "      <td>0.441</td>\n",
       "      <td>-1.320</td>\n",
       "      <td>0.325</td>\n",
       "      <td>0.002</td>\n",
       "      <td>0.002</td>\n",
       "      <td>33700.0</td>\n",
       "      <td>15705.0</td>\n",
       "      <td>1.0</td>\n",
       "    </tr>\n",
       "    <tr>\n",
       "      <th>beta_pf[pf_4]</th>\n",
       "      <td>-1.206</td>\n",
       "      <td>0.413</td>\n",
       "      <td>-1.984</td>\n",
       "      <td>-0.428</td>\n",
       "      <td>0.002</td>\n",
       "      <td>0.002</td>\n",
       "      <td>33246.0</td>\n",
       "      <td>15723.0</td>\n",
       "      <td>1.0</td>\n",
       "    </tr>\n",
       "  </tbody>\n",
       "</table>\n",
       "</div>"
      ],
      "text/plain": [
       "                     mean     sd  hdi_3%  hdi_97%  mcse_mean  mcse_sd  \\\n",
       "alpha_j[product_0] -0.960  0.187  -1.322   -0.619      0.001    0.001   \n",
       "alpha_j[product_1] -0.631  0.174  -0.956   -0.298      0.001    0.001   \n",
       "alpha_j[product_2] -0.774  0.179  -1.116   -0.443      0.001    0.001   \n",
       "beta_pf[pf_0]      -1.263  0.419  -2.054   -0.479      0.002    0.002   \n",
       "beta_pf[pf_1]      -0.314  0.418  -1.096    0.463      0.002    0.002   \n",
       "beta_pf[pf_2]      -0.933  0.457  -1.783   -0.068      0.003    0.002   \n",
       "beta_pf[pf_3]      -0.520  0.441  -1.320    0.325      0.002    0.002   \n",
       "beta_pf[pf_4]      -1.206  0.413  -1.984   -0.428      0.002    0.002   \n",
       "\n",
       "                    ess_bulk  ess_tail  r_hat  \n",
       "alpha_j[product_0]   21167.0   16906.0    1.0  \n",
       "alpha_j[product_1]   21242.0   17047.0    1.0  \n",
       "alpha_j[product_2]   21824.0   15533.0    1.0  \n",
       "beta_pf[pf_0]        34156.0   14209.0    1.0  \n",
       "beta_pf[pf_1]        34333.0   15368.0    1.0  \n",
       "beta_pf[pf_2]        32080.0   14999.0    1.0  \n",
       "beta_pf[pf_3]        33700.0   15705.0    1.0  \n",
       "beta_pf[pf_4]        33246.0   15723.0    1.0  "
      ]
     },
     "execution_count": 22,
     "metadata": {},
     "output_type": "execute_result"
    }
   ],
   "source": [
    "az.summary(idata_m2, var_names=[\"~p\", \"~q\"])"
   ]
  },
  {
   "cell_type": "code",
   "execution_count": 23,
   "metadata": {},
   "outputs": [
    {
     "data": {
      "image/png": "[encoded data removed]",
      "text/plain": [
       "<Figure size 640x480 with 6 Axes>"
      ]
     },
     "metadata": {
      "image/png": {
       "height": 464,
       "width": 623
      }
     },
     "output_type": "display_data"
    }
   ],
   "source": [
    "post = az.extract(idata_m2)\n",
    "fig, axs = plt.subplots(3, 2)\n",
    "\n",
    "for i in range(6):\n",
    "    plt.sca(axs.flatten()[i])\n",
    "    if i >= K:\n",
    "        plt.gca().axis(\"off\")\n",
    "        continue\n",
    "    sns.histplot(\n",
    "        post[\"beta_pf\"][i, :],\n",
    "        bins=30,\n",
    "        ec=\"black\",\n",
    "    )\n",
    "    plt.axvline(df[\"latent_β_prod\"][i], linestyle=\"dashed\", color=\"black\")\n",
    "    plt.title(rf\"$\\beta_{i+1}$\")\n",
    "    plt.ylabel(None)\n",
    "    plt.yticks([])\n",
    "\n",
    "plt.tight_layout()\n",
    "plt.show()"
   ]
  },
  {
   "cell_type": "markdown",
   "metadata": {},
   "source": [
    "### Construct the \"Synthetic Data\" Model"
   ]
  },
  {
   "cell_type": "code",
   "execution_count": 24,
   "metadata": {},
   "outputs": [],
   "source": [
    "observed_inside = df[\"jstar\"]\n",
    "observed_good = df[\"t\"]\n",
    "\n",
    "N = params[\"N\"]\n",
    "J = params[\"J\"]\n",
    "K = params[\"K\"]\n",
    "\n",
    "coords_2p = {\n",
    "    \"products\": [f\"product_{i}\" for i in range(J+1)],\n",
    "    \"p_factors\": [f\"pf_{i}\" for i in range(K)],\n",
    "    \"obs\": range(N),\n",
    "}"
   ]
  },
  {
   "cell_type": "code",
   "execution_count": 25,
   "metadata": {},
   "outputs": [
    {
     "data": {
      "image/svg+xml": [
       "<?xml version=\"1.0\" encoding=\"UTF-8\" standalone=\"no\"?>\n",
       "<!DOCTYPE svg PUBLIC \"-//W3C//DTD SVG 1.1//EN\"\n",
       " \"http://www.w3.org/Graphics/SVG/1.1/DTD/svg11.dtd\">\n",
       "<!-- Generated by graphviz version 12.1.2 (20240928.0832)\n",
       " -->\n",
       "<!-- Pages: 1 -->\n",
       "<svg width=\"286pt\" height=\"382pt\"\n",
       " viewBox=\"0.00 0.00 286.00 381.63\" xmlns=\"http://www.w3.org/2000/svg\" xmlns:xlink=\"http://www.w3.org/1999/xlink\">\n",
       "<g id=\"graph0\" class=\"graph\" transform=\"scale(1 1) rotate(0) translate(4 377.63)\">\n",
       "<polygon fill=\"white\" stroke=\"none\" points=\"-4,4 -4,-377.63 282,-377.63 282,4 -4,4\"/>\n",
       "<g id=\"clust1\" class=\"cluster\">\n",
       "<title>clusterproducts (4)</title>\n",
       "<path fill=\"none\" stroke=\"black\" d=\"M46,-243.82C46,-243.82 120,-243.82 120,-243.82 126,-243.82 132,-249.82 132,-255.82 132,-255.82 132,-353.63 132,-353.63 132,-359.63 126,-365.63 120,-365.63 120,-365.63 46,-365.63 46,-365.63 40,-365.63 34,-359.63 34,-353.63 34,-353.63 34,-255.82 34,-255.82 34,-249.82 40,-243.82 46,-243.82\"/>\n",
       "<text text-anchor=\"middle\" x=\"91\" y=\"-251.02\" font-family=\"Times,serif\" font-size=\"14.00\">products (4)</text>\n",
       "</g>\n",
       "<g id=\"clust2\" class=\"cluster\">\n",
       "<title>clusterp_factors (5)</title>\n",
       "<path fill=\"none\" stroke=\"black\" d=\"M156,-243.82C156,-243.82 230,-243.82 230,-243.82 236,-243.82 242,-249.82 242,-255.82 242,-255.82 242,-353.63 242,-353.63 242,-359.63 236,-365.63 230,-365.63 230,-365.63 156,-365.63 156,-365.63 150,-365.63 144,-359.63 144,-353.63 144,-353.63 144,-255.82 144,-255.82 144,-249.82 150,-243.82 156,-243.82\"/>\n",
       "<text text-anchor=\"middle\" x=\"199.12\" y=\"-251.02\" font-family=\"Times,serif\" font-size=\"14.00\">p_factors (5)</text>\n",
       "</g>\n",
       "<g id=\"clust3\" class=\"cluster\">\n",
       "<title>cluster200 x 4</title>\n",
       "<path fill=\"none\" stroke=\"black\" d=\"M40,-137.82C40,-137.82 122,-137.82 122,-137.82 128,-137.82 134,-143.82 134,-149.82 134,-149.82 134,-223.82 134,-223.82 134,-229.82 128,-235.82 122,-235.82 122,-235.82 40,-235.82 40,-235.82 34,-235.82 28,-229.82 28,-223.82 28,-223.82 28,-149.82 28,-149.82 28,-143.82 34,-137.82 40,-137.82\"/>\n",
       "<text text-anchor=\"middle\" x=\"105.38\" y=\"-145.02\" font-family=\"Times,serif\" font-size=\"14.00\">200 x 4</text>\n",
       "</g>\n",
       "<g id=\"clust4\" class=\"cluster\">\n",
       "<title>cluster83 x 3</title>\n",
       "<path fill=\"none\" stroke=\"black\" d=\"M154,-137.82C154,-137.82 236,-137.82 236,-137.82 242,-137.82 248,-143.82 248,-149.82 248,-149.82 248,-223.82 248,-223.82 248,-229.82 242,-235.82 236,-235.82 236,-235.82 154,-235.82 154,-235.82 148,-235.82 142,-229.82 142,-223.82 142,-223.82 142,-149.82 142,-149.82 142,-143.82 148,-137.82 154,-137.82\"/>\n",
       "<text text-anchor=\"middle\" x=\"222.75\" y=\"-145.02\" font-family=\"Times,serif\" font-size=\"14.00\">83 x 3</text>\n",
       "</g>\n",
       "<g id=\"clust5\" class=\"cluster\">\n",
       "<title>clusterobs (200)</title>\n",
       "<path fill=\"none\" stroke=\"black\" d=\"M20,-8C20,-8 122,-8 122,-8 128,-8 134,-14 134,-20 134,-20 134,-117.82 134,-117.82 134,-123.82 128,-129.82 122,-129.82 122,-129.82 20,-129.82 20,-129.82 14,-129.82 8,-123.82 8,-117.82 8,-117.82 8,-20 8,-20 8,-14 14,-8 20,-8\"/>\n",
       "<text text-anchor=\"middle\" x=\"100.12\" y=\"-15.2\" font-family=\"Times,serif\" font-size=\"14.00\">obs (200)</text>\n",
       "</g>\n",
       "<g id=\"clust6\" class=\"cluster\">\n",
       "<title>cluster83</title>\n",
       "<path fill=\"none\" stroke=\"black\" d=\"M154,-8C154,-8 258,-8 258,-8 264,-8 270,-14 270,-20 270,-20 270,-117.82 270,-117.82 270,-123.82 264,-129.82 258,-129.82 258,-129.82 154,-129.82 154,-129.82 148,-129.82 142,-123.82 142,-117.82 142,-117.82 142,-20 142,-20 142,-14 148,-8 154,-8\"/>\n",
       "<text text-anchor=\"middle\" x=\"255.25\" y=\"-15.2\" font-family=\"Times,serif\" font-size=\"14.00\">83</text>\n",
       "</g>\n",
       "<!-- alpha_j -->\n",
       "<g id=\"node1\" class=\"node\">\n",
       "<title>alpha_j</title>\n",
       "<ellipse fill=\"none\" stroke=\"black\" cx=\"83\" cy=\"-316.98\" rx=\"41.01\" ry=\"40.66\"/>\n",
       "<text text-anchor=\"middle\" x=\"83\" y=\"-328.43\" font-family=\"Times,serif\" font-size=\"14.00\">alpha_j</text>\n",
       "<text text-anchor=\"middle\" x=\"83\" y=\"-311.93\" font-family=\"Times,serif\" font-size=\"14.00\">~</text>\n",
       "<text text-anchor=\"middle\" x=\"83\" y=\"-295.43\" font-family=\"Times,serif\" font-size=\"14.00\">Normal</text>\n",
       "</g>\n",
       "<!-- p -->\n",
       "<g id=\"node3\" class=\"node\">\n",
       "<title>p</title>\n",
       "<polygon fill=\"none\" stroke=\"black\" points=\"126.12,-227.82 35.88,-227.82 35.88,-170.32 126.12,-170.32 126.12,-227.82\"/>\n",
       "<text text-anchor=\"middle\" x=\"81\" y=\"-210.52\" font-family=\"Times,serif\" font-size=\"14.00\">p</text>\n",
       "<text text-anchor=\"middle\" x=\"81\" y=\"-194.02\" font-family=\"Times,serif\" font-size=\"14.00\">~</text>\n",
       "<text text-anchor=\"middle\" x=\"81\" y=\"-177.52\" font-family=\"Times,serif\" font-size=\"14.00\">Deterministic</text>\n",
       "</g>\n",
       "<!-- alpha_j&#45;&gt;p -->\n",
       "<g id=\"edge1\" class=\"edge\">\n",
       "<title>alpha_j&#45;&gt;p</title>\n",
       "<path fill=\"none\" stroke=\"black\" d=\"M82.31,-276.09C82.11,-264.2 81.88,-251.19 81.68,-239.34\"/>\n",
       "<polygon fill=\"black\" stroke=\"black\" points=\"85.18,-239.42 81.51,-229.48 78.18,-239.54 85.18,-239.42\"/>\n",
       "</g>\n",
       "<!-- q -->\n",
       "<g id=\"node4\" class=\"node\">\n",
       "<title>q</title>\n",
       "<polygon fill=\"none\" stroke=\"black\" points=\"240.12,-227.82 149.88,-227.82 149.88,-170.32 240.12,-170.32 240.12,-227.82\"/>\n",
       "<text text-anchor=\"middle\" x=\"195\" y=\"-210.52\" font-family=\"Times,serif\" font-size=\"14.00\">q</text>\n",
       "<text text-anchor=\"middle\" x=\"195\" y=\"-194.02\" font-family=\"Times,serif\" font-size=\"14.00\">~</text>\n",
       "<text text-anchor=\"middle\" x=\"195\" y=\"-177.52\" font-family=\"Times,serif\" font-size=\"14.00\">Deterministic</text>\n",
       "</g>\n",
       "<!-- alpha_j&#45;&gt;q -->\n",
       "<g id=\"edge3\" class=\"edge\">\n",
       "<title>alpha_j&#45;&gt;q</title>\n",
       "<path fill=\"none\" stroke=\"black\" d=\"M106.47,-283.03C116.23,-270.24 128.05,-255.8 140,-243.82 142.75,-241.05 145.68,-238.3 148.68,-235.59\"/>\n",
       "<polygon fill=\"black\" stroke=\"black\" points=\"150.9,-238.31 156.17,-229.12 146.32,-233.01 150.9,-238.31\"/>\n",
       "</g>\n",
       "<!-- beta_pf -->\n",
       "<g id=\"node2\" class=\"node\">\n",
       "<title>beta_pf</title>\n",
       "<ellipse fill=\"none\" stroke=\"black\" cx=\"193\" cy=\"-316.98\" rx=\"41.01\" ry=\"40.66\"/>\n",
       "<text text-anchor=\"middle\" x=\"193\" y=\"-328.43\" font-family=\"Times,serif\" font-size=\"14.00\">beta_pf</text>\n",
       "<text text-anchor=\"middle\" x=\"193\" y=\"-311.93\" font-family=\"Times,serif\" font-size=\"14.00\">~</text>\n",
       "<text text-anchor=\"middle\" x=\"193\" y=\"-295.43\" font-family=\"Times,serif\" font-size=\"14.00\">Normal</text>\n",
       "</g>\n",
       "<!-- beta_pf&#45;&gt;p -->\n",
       "<g id=\"edge2\" class=\"edge\">\n",
       "<title>beta_pf&#45;&gt;p</title>\n",
       "<path fill=\"none\" stroke=\"black\" d=\"M169.53,-283.03C159.77,-270.24 147.95,-255.8 136,-243.82 133.25,-241.05 130.32,-238.3 127.32,-235.59\"/>\n",
       "<polygon fill=\"black\" stroke=\"black\" points=\"129.68,-233.01 119.83,-229.12 125.1,-238.31 129.68,-233.01\"/>\n",
       "</g>\n",
       "<!-- beta_pf&#45;&gt;q -->\n",
       "<g id=\"edge4\" class=\"edge\">\n",
       "<title>beta_pf&#45;&gt;q</title>\n",
       "<path fill=\"none\" stroke=\"black\" d=\"M193.69,-276.09C193.89,-264.2 194.12,-251.19 194.32,-239.34\"/>\n",
       "<polygon fill=\"black\" stroke=\"black\" points=\"197.82,-239.54 194.49,-229.48 190.82,-239.42 197.82,-239.54\"/>\n",
       "</g>\n",
       "<!-- y_cat -->\n",
       "<g id=\"node5\" class=\"node\">\n",
       "<title>y_cat</title>\n",
       "<ellipse fill=\"lightgrey\" stroke=\"black\" cx=\"71\" cy=\"-81.16\" rx=\"55.33\" ry=\"40.66\"/>\n",
       "<text text-anchor=\"middle\" x=\"71\" y=\"-92.61\" font-family=\"Times,serif\" font-size=\"14.00\">y_cat</text>\n",
       "<text text-anchor=\"middle\" x=\"71\" y=\"-76.11\" font-family=\"Times,serif\" font-size=\"14.00\">~</text>\n",
       "<text text-anchor=\"middle\" x=\"71\" y=\"-59.61\" font-family=\"Times,serif\" font-size=\"14.00\">Categorical</text>\n",
       "</g>\n",
       "<!-- p&#45;&gt;y_cat -->\n",
       "<g id=\"edge5\" class=\"edge\">\n",
       "<title>p&#45;&gt;y_cat</title>\n",
       "<path fill=\"none\" stroke=\"black\" d=\"M78.58,-170.01C77.63,-159.03 76.52,-146.08 75.43,-133.55\"/>\n",
       "<polygon fill=\"black\" stroke=\"black\" points=\"78.93,-133.4 74.59,-123.73 71.96,-134 78.93,-133.4\"/>\n",
       "</g>\n",
       "<!-- y_cat_extra -->\n",
       "<g id=\"node6\" class=\"node\">\n",
       "<title>y_cat_extra</title>\n",
       "<ellipse fill=\"lightgrey\" stroke=\"black\" cx=\"206\" cy=\"-81.16\" rx=\"55.86\" ry=\"40.66\"/>\n",
       "<text text-anchor=\"middle\" x=\"206\" y=\"-92.61\" font-family=\"Times,serif\" font-size=\"14.00\">y_cat_extra</text>\n",
       "<text text-anchor=\"middle\" x=\"206\" y=\"-76.11\" font-family=\"Times,serif\" font-size=\"14.00\">~</text>\n",
       "<text text-anchor=\"middle\" x=\"206\" y=\"-59.61\" font-family=\"Times,serif\" font-size=\"14.00\">Categorical</text>\n",
       "</g>\n",
       "<!-- q&#45;&gt;y_cat_extra -->\n",
       "<g id=\"edge6\" class=\"edge\">\n",
       "<title>q&#45;&gt;y_cat_extra</title>\n",
       "<path fill=\"none\" stroke=\"black\" d=\"M197.66,-170.01C198.71,-158.93 199.96,-145.84 201.16,-133.2\"/>\n",
       "<polygon fill=\"black\" stroke=\"black\" points=\"204.64,-133.58 202.1,-123.29 197.67,-132.92 204.64,-133.58\"/>\n",
       "</g>\n",
       "</g>\n",
       "</svg>\n"
      ],
      "text/plain": [
       "<graphviz.graphs.Digraph at 0x324a1eb40>"
      ]
     },
     "execution_count": 25,
     "metadata": {},
     "output_type": "execute_result"
    }
   ],
   "source": [
    "with pm.Model(coords=coords_2p) as model_2p:\n",
    "\n",
    "    # mu_α_p = pm.Normal(\"mu_α_p\", 0, 1)\n",
    "    # sigma_α_p = pm.Exponential(\"sigma_α_p\", 1)\n",
    "\n",
    "    alpha_p = pm.Normal(\"alpha_j\", 0, 5, dims=[\"products\"])\n",
    "    alpha_p = pt.set_subtensor(alpha_p[-1], 0) #outside good\n",
    "\n",
    "    # mu_β_p = pm.Normal(\"mu_β_p\", 0, 1)\n",
    "    # sigma_β_p = pm.Exponential(\"sigma_β_p\", 1)\n",
    "    \n",
    "    beta_p = pm.Normal(\"beta_pf\", 0, 5, dims=[\"p_factors\"])\n",
    "\n",
    "    ## Construct Utility matrix\n",
    "\n",
    "    s = pm.math.ones((N, 1)) @ alpha_p.reshape((1, -1)) + df[\"product_features\"] @ beta_p\n",
    "\n",
    "    ## Construct Probabilities\n",
    "    extra_info_indices = observed_good == J\n",
    "    p_ = pm.Deterministic(\"p\", pm.math.softmax(s, axis=1)) #all goods\n",
    "    q_ = pm.Deterministic(\"q\", pm.math.softmax(s[extra_info_indices, :-1], axis=1)) #inside goods\n",
    "    \n",
    "    \n",
    "    ## Likelihood\n",
    "    choice_obs = pm.Categorical(\"y_cat\", p=p_, observed=observed_good, dims=\"obs\")\n",
    "    choice_obs_extra = pm.Categorical(\"y_cat_extra\", p=q_, observed=observed_inside[extra_info_indices])\n",
    "    \n",
    "\n",
    "pm.model_to_graphviz(model_2p)"
   ]
  },
  {
   "cell_type": "markdown",
   "metadata": {},
   "source": [
    "### Estimate the Model"
   ]
  },
  {
   "cell_type": "code",
   "execution_count": 26,
   "metadata": {},
   "outputs": [
    {
     "data": {
      "application/vnd.jupyter.widget-view+json": {
       "model_id": "3b947f92a4044a08b5e3ac360e3f6c85",
       "version_major": 2,
       "version_minor": 0
      },
      "text/plain": [
       "  0%|          | 0/6000 [00:00<?, ?it/s]"
      ]
     },
     "metadata": {},
     "output_type": "display_data"
    },
    {
     "data": {
      "application/vnd.jupyter.widget-view+json": {
       "model_id": "4a7793abc38847ee9f8ac7752582600b",
       "version_major": 2,
       "version_minor": 0
      },
      "text/plain": [
       "  0%|          | 0/6000 [00:00<?, ?it/s]"
      ]
     },
     "metadata": {},
     "output_type": "display_data"
    },
    {
     "data": {
      "application/vnd.jupyter.widget-view+json": {
       "model_id": "7c3bd66af83742788b9c17b393338658",
       "version_major": 2,
       "version_minor": 0
      },
      "text/plain": [
       "  0%|          | 0/6000 [00:00<?, ?it/s]"
      ]
     },
     "metadata": {},
     "output_type": "display_data"
    },
    {
     "data": {
      "application/vnd.jupyter.widget-view+json": {
       "model_id": "a2e069966df1403192d2725e1246eb2f",
       "version_major": 2,
       "version_minor": 0
      },
      "text/plain": [
       "  0%|          | 0/6000 [00:00<?, ?it/s]"
      ]
     },
     "metadata": {},
     "output_type": "display_data"
    }
   ],
   "source": [
    "with model_2p:\n",
    "    idata_m2p = pm.sample(\n",
    "        5000,\n",
    "        nuts_sampler=\"numpyro\",\n",
    "        idata_kwargs={\"log_likelihood\": True},\n",
    "        random_seed=100,\n",
    "    )"
   ]
  },
  {
   "cell_type": "markdown",
   "metadata": {},
   "source": [
    "### Visualize the Estimates"
   ]
  },
  {
   "cell_type": "code",
   "execution_count": 27,
   "metadata": {},
   "outputs": [
    {
     "data": {
      "text/html": [
       "<div>\n",
       "<style scoped>\n",
       "    .dataframe tbody tr th:only-of-type {\n",
       "        vertical-align: middle;\n",
       "    }\n",
       "\n",
       "    .dataframe tbody tr th {\n",
       "        vertical-align: top;\n",
       "    }\n",
       "\n",
       "    .dataframe thead th {\n",
       "        text-align: right;\n",
       "    }\n",
       "</style>\n",
       "<table border=\"1\" class=\"dataframe\">\n",
       "  <thead>\n",
       "    <tr style=\"text-align: right;\">\n",
       "      <th></th>\n",
       "      <th>mean</th>\n",
       "      <th>sd</th>\n",
       "      <th>hdi_3%</th>\n",
       "      <th>hdi_97%</th>\n",
       "      <th>mcse_mean</th>\n",
       "      <th>mcse_sd</th>\n",
       "      <th>ess_bulk</th>\n",
       "      <th>ess_tail</th>\n",
       "      <th>r_hat</th>\n",
       "    </tr>\n",
       "  </thead>\n",
       "  <tbody>\n",
       "    <tr>\n",
       "      <th>alpha_j[product_0]</th>\n",
       "      <td>-0.960</td>\n",
       "      <td>0.187</td>\n",
       "      <td>-1.322</td>\n",
       "      <td>-0.621</td>\n",
       "      <td>0.001</td>\n",
       "      <td>0.001</td>\n",
       "      <td>23969.0</td>\n",
       "      <td>16883.0</td>\n",
       "      <td>1.0</td>\n",
       "    </tr>\n",
       "    <tr>\n",
       "      <th>alpha_j[product_1]</th>\n",
       "      <td>-0.632</td>\n",
       "      <td>0.174</td>\n",
       "      <td>-0.955</td>\n",
       "      <td>-0.305</td>\n",
       "      <td>0.001</td>\n",
       "      <td>0.001</td>\n",
       "      <td>23379.0</td>\n",
       "      <td>17954.0</td>\n",
       "      <td>1.0</td>\n",
       "    </tr>\n",
       "    <tr>\n",
       "      <th>alpha_j[product_2]</th>\n",
       "      <td>-0.774</td>\n",
       "      <td>0.179</td>\n",
       "      <td>-1.111</td>\n",
       "      <td>-0.439</td>\n",
       "      <td>0.001</td>\n",
       "      <td>0.001</td>\n",
       "      <td>22445.0</td>\n",
       "      <td>17660.0</td>\n",
       "      <td>1.0</td>\n",
       "    </tr>\n",
       "    <tr>\n",
       "      <th>alpha_j[product_3]</th>\n",
       "      <td>0.051</td>\n",
       "      <td>5.020</td>\n",
       "      <td>-9.462</td>\n",
       "      <td>9.439</td>\n",
       "      <td>0.027</td>\n",
       "      <td>0.039</td>\n",
       "      <td>34935.0</td>\n",
       "      <td>15196.0</td>\n",
       "      <td>1.0</td>\n",
       "    </tr>\n",
       "    <tr>\n",
       "      <th>beta_pf[pf_0]</th>\n",
       "      <td>-1.262</td>\n",
       "      <td>0.420</td>\n",
       "      <td>-2.038</td>\n",
       "      <td>-0.450</td>\n",
       "      <td>0.002</td>\n",
       "      <td>0.002</td>\n",
       "      <td>32632.0</td>\n",
       "      <td>15971.0</td>\n",
       "      <td>1.0</td>\n",
       "    </tr>\n",
       "    <tr>\n",
       "      <th>beta_pf[pf_1]</th>\n",
       "      <td>-0.316</td>\n",
       "      <td>0.417</td>\n",
       "      <td>-1.067</td>\n",
       "      <td>0.499</td>\n",
       "      <td>0.002</td>\n",
       "      <td>0.002</td>\n",
       "      <td>36492.0</td>\n",
       "      <td>15021.0</td>\n",
       "      <td>1.0</td>\n",
       "    </tr>\n",
       "    <tr>\n",
       "      <th>beta_pf[pf_2]</th>\n",
       "      <td>-0.932</td>\n",
       "      <td>0.448</td>\n",
       "      <td>-1.775</td>\n",
       "      <td>-0.107</td>\n",
       "      <td>0.003</td>\n",
       "      <td>0.002</td>\n",
       "      <td>31449.0</td>\n",
       "      <td>14837.0</td>\n",
       "      <td>1.0</td>\n",
       "    </tr>\n",
       "    <tr>\n",
       "      <th>beta_pf[pf_3]</th>\n",
       "      <td>-0.518</td>\n",
       "      <td>0.444</td>\n",
       "      <td>-1.354</td>\n",
       "      <td>0.309</td>\n",
       "      <td>0.002</td>\n",
       "      <td>0.002</td>\n",
       "      <td>34178.0</td>\n",
       "      <td>16017.0</td>\n",
       "      <td>1.0</td>\n",
       "    </tr>\n",
       "    <tr>\n",
       "      <th>beta_pf[pf_4]</th>\n",
       "      <td>-1.212</td>\n",
       "      <td>0.421</td>\n",
       "      <td>-1.996</td>\n",
       "      <td>-0.427</td>\n",
       "      <td>0.002</td>\n",
       "      <td>0.002</td>\n",
       "      <td>35436.0</td>\n",
       "      <td>14769.0</td>\n",
       "      <td>1.0</td>\n",
       "    </tr>\n",
       "  </tbody>\n",
       "</table>\n",
       "</div>"
      ],
      "text/plain": [
       "                     mean     sd  hdi_3%  hdi_97%  mcse_mean  mcse_sd  \\\n",
       "alpha_j[product_0] -0.960  0.187  -1.322   -0.621      0.001    0.001   \n",
       "alpha_j[product_1] -0.632  0.174  -0.955   -0.305      0.001    0.001   \n",
       "alpha_j[product_2] -0.774  0.179  -1.111   -0.439      0.001    0.001   \n",
       "alpha_j[product_3]  0.051  5.020  -9.462    9.439      0.027    0.039   \n",
       "beta_pf[pf_0]      -1.262  0.420  -2.038   -0.450      0.002    0.002   \n",
       "beta_pf[pf_1]      -0.316  0.417  -1.067    0.499      0.002    0.002   \n",
       "beta_pf[pf_2]      -0.932  0.448  -1.775   -0.107      0.003    0.002   \n",
       "beta_pf[pf_3]      -0.518  0.444  -1.354    0.309      0.002    0.002   \n",
       "beta_pf[pf_4]      -1.212  0.421  -1.996   -0.427      0.002    0.002   \n",
       "\n",
       "                    ess_bulk  ess_tail  r_hat  \n",
       "alpha_j[product_0]   23969.0   16883.0    1.0  \n",
       "alpha_j[product_1]   23379.0   17954.0    1.0  \n",
       "alpha_j[product_2]   22445.0   17660.0    1.0  \n",
       "alpha_j[product_3]   34935.0   15196.0    1.0  \n",
       "beta_pf[pf_0]        32632.0   15971.0    1.0  \n",
       "beta_pf[pf_1]        36492.0   15021.0    1.0  \n",
       "beta_pf[pf_2]        31449.0   14837.0    1.0  \n",
       "beta_pf[pf_3]        34178.0   16017.0    1.0  \n",
       "beta_pf[pf_4]        35436.0   14769.0    1.0  "
      ]
     },
     "execution_count": 27,
     "metadata": {},
     "output_type": "execute_result"
    }
   ],
   "source": [
    "# standard errors are too small\n",
    "az.summary(idata_m2p, var_names=[\"~p\", \"~q\"])"
   ]
  },
  {
   "cell_type": "code",
   "execution_count": 28,
   "metadata": {},
   "outputs": [
    {
     "data": {
      "image/png": "[encoded data removed]",
      "text/plain": [
       "<Figure size 640x480 with 6 Axes>"
      ]
     },
     "metadata": {
      "image/png": {
       "height": 464,
       "width": 623
      }
     },
     "output_type": "display_data"
    }
   ],
   "source": [
    "post = az.extract(idata_m2p)\n",
    "fig, axs = plt.subplots(3, 2)\n",
    "\n",
    "for i in range(6):\n",
    "    plt.sca(axs.flatten()[i])\n",
    "    if i >= K:\n",
    "        plt.gca().axis(\"off\")\n",
    "        continue\n",
    "    sns.histplot(\n",
    "        post[\"beta_pf\"][i, :],\n",
    "        bins=30,\n",
    "        ec=\"black\",\n",
    "    )\n",
    "    plt.axvline(df[\"latent_β_prod\"][i], linestyle=\"dashed\", color=\"black\")\n",
    "    plt.title(rf\"$\\beta_{i+1}$\")\n",
    "    plt.ylabel(None)\n",
    "    plt.yticks([])\n",
    "\n",
    "plt.tight_layout()\n",
    "plt.show()"
   ]
  },
  {
   "cell_type": "markdown",
   "metadata": {},
   "source": [
    "## Likert Multinomial Logit (ALL BELOW IS OLD)"
   ]
  },
  {
   "cell_type": "markdown",
   "metadata": {},
   "source": [
    "### Simulate Data"
   ]
  },
  {
   "cell_type": "code",
   "execution_count": 14,
   "metadata": {},
   "outputs": [],
   "source": [
    "def make_data(params):\n",
    "\n",
    "    ## load parameters\n",
    "    W = params[\"W\"]\n",
    "    J = params[\"J\"]\n",
    "    K = params[\"K\"]\n",
    "    N = params[\"N\"]\n",
    "\n",
    "    np.random.seed(42)\n",
    "\n",
    "    ## generate latent parameters\n",
    "    product_features = np.random.normal(-1, 0.2, (J, K))\n",
    "    π = np.random.dirichlet([1] * W, 1).flatten().cumsum()\n",
    "    η = np.random.gumbel(0, 1, (N, J))\n",
    "    # ɛ = np.random.normal(0, 1, (N, J))\n",
    "\n",
    "    β_prod = np.ones((N, 1)) @ np.random.normal(0, 1, (1, K))\n",
    "    ## generate data\n",
    "    # y = np.zeros((N, J))\n",
    "\n",
    "    u = β_prod @ product_features.T + η\n",
    "\n",
    "    t = np.argmax(u, axis=1)\n",
    "    v = u[np.arange(N), t]\n",
    "    w = np.digitize(gumbel_r.cdf(v), π)\n",
    "\n",
    "    d = {\n",
    "        \"product_features\": product_features,\n",
    "        \"t\": t,\n",
    "        \"w\": w,\n",
    "        \"latent_cutpoints\": π,\n",
    "        \"latent_utilities\": u,\n",
    "        \"latent_β_prod\": β_prod,\n",
    "    }\n",
    "    \n",
    "    return d\n",
    "\n",
    "\n",
    "params = {\"N\": 1000, \"J\": 3, \"K\": 5, \"M\": 2, \"W\": 4}\n",
    "\n",
    "df = make_data(params)"
   ]
  },
  {
   "cell_type": "code",
   "execution_count": 15,
   "metadata": {},
   "outputs": [],
   "source": [
    "observed_good = df[\"t\"]\n",
    "observed_bin = df[\"w\"]\n",
    "\n",
    "N = params[\"N\"]\n",
    "J = params[\"J\"]\n",
    "K = params[\"K\"]\n",
    "W = params[\"W\"]\n",
    "\n",
    "\n",
    "coords = {\n",
    "    \"products\": [f\"product_{i}\" for i in range(J)],\n",
    "    \"p_factors\": [f\"pf_{i}\" for i in range(K)],\n",
    "    \"obs\": range(N),\n",
    "    \"bins\": range(W)\n",
    "}"
   ]
  },
  {
   "cell_type": "code",
   "execution_count": null,
   "metadata": {},
   "outputs": [],
   "source": [
    "with pm.Model(coords=coords) as model_1:\n",
    "\n",
    "    mu_β_p = pm.Normal(\"mu_β_p\", 0, 1)\n",
    "    sigma_β_p = pm.Exponential(\"sigma_β_p\", 1)\n",
    "    beta_p = (\n",
    "        pm.math.ones((N, 1))\n",
    "        * pm.Normal(\"beta_pf\", mu_β_p, sigma_β_p, dims=[\"p_factors\"]).T\n",
    "    )  # want there to be N*K beta's\n",
    "\n",
    "    ## Construct Utility matrix\n",
    "\n",
    "    s = beta_p @ df[\"product_features\"].T\n",
    "    u = pm.math.log(pm.math.sum(pm.math.exp(s), axis=1))\n",
    "    # s = pm.math.concatenate([s_good, np.zeros((N, 1))], axis=1)\n",
    "\n",
    "    ## Apply Softmax Transform\n",
    "    p_ = pm.Deterministic(\"p\", pm.math.softmax(s, axis=1), dims=(\"obs\", \"products\"))\n",
    "\n",
    "    π = pm.Dirichlet(\"latent_binwidths\", a=pm.math.ones(W))  # W x 1\n",
    "    π = pm.Deterministic(\n",
    "        \"latent_cutpoints\", pm.math.cumsum(π)\n",
    "    )\n",
    "    cutpoints = -pm.math.log(-pm.math.log(π[:-1]))\n",
    "\n",
    "    ## Likelihood\n",
    "    choice_obs = pm.Categorical(\"preferred_good\", p=p_, observed=observed_good, dims=\"obs\")\n",
    "    bin_obs = pm.OrderedLogistic(\"buy_probability\", eta=u, cutpoints=cutpoints, observed=observed_bin)\n",
    "\n",
    "pm.model_to_graphviz(model_1)"
   ]
  },
  {
   "cell_type": "code",
   "execution_count": null,
   "metadata": {},
   "outputs": [],
   "source": [
    "with model_1:\n",
    "    idata_m1 = (\n",
    "        pm.sample(\n",
    "            5000,\n",
    "            nuts_sampler=\"numpyro\",\n",
    "            idata_kwargs={\"log_likelihood\": True},\n",
    "            random_seed=100,\n",
    "        )\n",
    "    )"
   ]
  },
  {
   "cell_type": "code",
   "execution_count": null,
   "metadata": {},
   "outputs": [],
   "source": [
    "az.summary(idata_m1, var_names=[\"beta_pf\"])"
   ]
  },
  {
   "cell_type": "code",
   "execution_count": null,
   "metadata": {},
   "outputs": [],
   "source": [
    "post = az.extract(idata_m1)\n",
    "fig, axs = plt.subplots(3, 2)\n",
    "\n",
    "for i in range(6):\n",
    "    plt.sca(axs.flatten()[i])\n",
    "    if i >= K:\n",
    "        plt.gca().axis(\"off\")\n",
    "        continue\n",
    "    sns.histplot(\n",
    "        post[\"beta_pf\"][i, :],\n",
    "        bins=30,\n",
    "        ec=\"black\",\n",
    "    )\n",
    "    plt.axvline(df[\"latent_β_prod\"][0, i], linestyle=\"dashed\", color=\"black\")\n",
    "    plt.title(rf\"$\\beta_{i+1}$\")\n",
    "    plt.ylabel(None)\n",
    "    plt.yticks([])\n",
    "\n",
    "plt.tight_layout()\n",
    "plt.show()"
   ]
  },
  {
   "cell_type": "markdown",
   "metadata": {},
   "source": [
    "### Individual-specific $\\beta$ (To Do...)"
   ]
  },
  {
   "cell_type": "code",
   "execution_count": 20,
   "metadata": {},
   "outputs": [],
   "source": [
    "def make_data(params):\n",
    "\n",
    "    ## load parameters\n",
    "    M = params[\"M\"]\n",
    "    W = params[\"W\"]\n",
    "    J = params[\"J\"]\n",
    "    K = params[\"K\"]\n",
    "    N = params[\"N\"]\n",
    "\n",
    "    np.random.seed(42)\n",
    "\n",
    "    ## generate latent parameters\n",
    "\n",
    "    π = np.random.dirichlet([1] * W, 1).flatten().cumsum()\n",
    "    η = np.random.gumbel(0, 1, (N, J))\n",
    "    β_prod = np.ones((N, 1)) @ np.random.normal(0, 1, (1, K))\n",
    "\n",
    "    ## generate observable product features\n",
    "\n",
    "    product_features = np.random.normal(-1, 0.2, (J, K))\n",
    "\n",
    "    ## generate data\n",
    "    u = β_prod @ product_features.T + η\n",
    "\n",
    "    t = np.argmax(u, axis=1)\n",
    "    v = u[np.arange(N), t]\n",
    "    w = np.digitize(gumbel_r.cdf(v), π)\n",
    "\n",
    "    d = {\n",
    "        \"product_features\": product_features,\n",
    "        \"t\": t,\n",
    "        \"w\": w,\n",
    "        \"latent_cutpoints\": π,\n",
    "        \"latent_utilities\": u,\n",
    "        \"latent_β_prod\": β_prod,\n",
    "    }\n",
    "\n",
    "    return d\n",
    "\n",
    "\n",
    "params = {\"N\": 1000, \"J\": 3, \"K\": 5, \"M\": 2, \"W\": 4}\n",
    "\n",
    "df = make_data(params)"
   ]
  },
  {
   "cell_type": "code",
   "execution_count": null,
   "metadata": {},
   "outputs": [],
   "source": [
    "sns.barplot(**dict(zip([\"x\", \"y\"], np.unique(df[\"w\"], return_counts=True))))\n",
    "plt.show()"
   ]
  },
  {
   "cell_type": "code",
   "execution_count": null,
   "metadata": {},
   "outputs": [],
   "source": [
    "fig, axs = plt.subplots(2,2)\n",
    "\n",
    "for i, ax in enumerate(axs.flatten()):\n",
    "    plt.sca(ax)\n",
    "    if i >= J:\n",
    "        plt.gca().axis(\"off\")\n",
    "        continue\n",
    "    # sns.barplot(**dict(zip([\"x\", \"y\"], np.unique(df[\"w\"][df[\"t\"] == i], return_counts=True))))\n",
    "    sns.histplot(df[\"w\"][df[\"t\"] == i], stat=\"density\", discrete=True)\n",
    "    plt.title(rf\"$K={i}$\")\n",
    "    \n",
    "plt.suptitle(r\"$\\mathbb{P}\\left(\\text{Buy}\\,\\middle\\vert\\,K\\right)$\")\n",
    "# plt.suptitle(\"abc\")\n",
    "plt.tight_layout()\n",
    "plt.show()"
   ]
  },
  {
   "cell_type": "code",
   "execution_count": 23,
   "metadata": {},
   "outputs": [],
   "source": [
    "observed_good = df[\"t\"]\n",
    "observed_bin = df[\"w\"]\n",
    "\n",
    "N = params[\"N\"]\n",
    "M = params[\"M\"]\n",
    "J = params[\"J\"]\n",
    "K = params[\"K\"]\n",
    "W = params[\"W\"]\n",
    "# J, K = df[\"product_features\"].shape\n",
    "# W = len(np.unique(observed_bin))\n",
    "\n",
    "\n",
    "coords = {\n",
    "    \"products\": [f\"product_{i}\" for i in range(J)],\n",
    "    \"i_factors\": [f\"if_{i}\" for i in range(N)],\n",
    "    \"p_factors\": [f\"pf_{i}\" for i in range(K)],\n",
    "    \"obs\": range(N),\n",
    "}"
   ]
  },
  {
   "cell_type": "code",
   "execution_count": null,
   "metadata": {},
   "outputs": [],
   "source": [
    "with pm.Model(coords=coords) as model_1:\n",
    "\n",
    "    mu_β_p = pm.Normal(\"mu_β_p\", 0, 1)\n",
    "    sigma_β_p = pm.Exponential(\"sigma_β_p\", 5)\n",
    "\n",
    "    beta_p = (\n",
    "        pm.math.ones((N, 1))\n",
    "        * pm.Normal(\"beta_pf\", mu_β_p, sigma_β_p, dims=[\"p_factors\"]).T\n",
    "    )  # want there to be N*K beta's\n",
    "\n",
    "    π = pm.Dirichlet(\"latent_binwidths\", a=pm.math.ones(W))  # W x 1\n",
    "    α = pm.Deterministic(\n",
    "        \"latent_cutpoints\", pm.math.concatenate([np.ones(1) * 0, pm.math.cumsum(π)])\n",
    "    )  # (W+1) x 1\n",
    "\n",
    "    ## Construct Utility matrix\n",
    "\n",
    "    s_good = beta_p @ df[\"product_features\"].T\n",
    "\n",
    "    # s = pm.math.concatenate([s_good, np.zeros((N, 1))], axis=1)\n",
    "    \n",
    "    s = s_good\n",
    "\n",
    "    ## Calculate good conditional likelihoods\n",
    "    \n",
    "    p_goods = pm.math.softmax(s, axis=1)  # probability that good i is best of J\n",
    "    \n",
    "    ## Apply Softmax Transform\n",
    "    \n",
    "    p_ = pm.Deterministic(\"p\", pm.math.softmax(s, axis=1), dims=(\"obs\", \"products\"))\n",
    "   \n",
    "    ## Apply Gumbel-Max Adjustment\n",
    "    \n",
    "    μbar = pm.math.log(pm.math.sum(pm.math.exp(s), axis=1))  # should be N x 1    \n",
    "\n",
    "    ## Likelihood\n",
    "    \n",
    "    choice_obs = pm.Categorical(\"y_cat\", p=p_, observed=observed_good, dims=\"obs\")\n",
    "    bin_obs = pm.OrderedLogistic(\"bin\", eta=μbar, cutpoints=α, observed=observed_bin, dims=\"obs\")\n",
    " \n",
    "pm.model_to_graphviz(model_1)"
   ]
  },
  {
   "cell_type": "code",
   "execution_count": null,
   "metadata": {},
   "outputs": [],
   "source": [
    "with model_1:\n",
    "    idata_m1 = pm.sample_prior_predictive()\n",
    "    idata_m1.extend(\n",
    "        pm.sample(\n",
    "            5000,\n",
    "            nuts_sampler=\"numpyro\",\n",
    "            idata_kwargs={\"log_likelihood\": True},\n",
    "            random_seed=100,\n",
    "        )\n",
    "    )\n",
    "    idata_m1.extend(pm.sample_posterior_predictive(idata_m1))"
   ]
  },
  {
   "cell_type": "code",
   "execution_count": null,
   "metadata": {},
   "outputs": [],
   "source": [
    "post = az.extract(idata_m1)\n",
    "fig, axs = plt.subplots(3, 2)\n",
    "\n",
    "for i in range(6):\n",
    "    plt.sca(axs.flatten()[i])\n",
    "    if i >= K:\n",
    "        plt.gca().axis(\"off\")\n",
    "        continue\n",
    "    sns.histplot(\n",
    "        post[\"beta_pf\"][i, :],\n",
    "        bins=30,\n",
    "        ec=\"black\",\n",
    "    )\n",
    "    plt.axvline(df[\"latent_β_prod\"][0, i], linestyle=\"dashed\", color=\"black\")\n",
    "    plt.title(rf\"$\\beta_{i+1}$\")\n",
    "    plt.ylabel(None)\n",
    "    plt.yticks([])\n",
    "\n",
    "plt.tight_layout()\n",
    "plt.show()"
   ]
  },
  {
   "cell_type": "markdown",
   "metadata": {},
   "source": [
    "### Archive"
   ]
  },
  {
   "cell_type": "code",
   "execution_count": 27,
   "metadata": {},
   "outputs": [],
   "source": [
    "# def make_data(params):\n",
    "\n",
    "#     ## load parameters\n",
    "#     M = params[\"M\"]\n",
    "#     W = params[\"W\"]\n",
    "#     J = params[\"J\"]\n",
    "#     K = params[\"K\"]\n",
    "#     N = params[\"N\"]\n",
    "\n",
    "#     np.random.seed(42)\n",
    "\n",
    "#     ## generate latent parameters\n",
    "#     # individual_features = np.random.normal(0, 0.1, (N, M))\n",
    "#     # individual_features = np.zeros((N, M))\n",
    "#     individual_features = ...\n",
    "#     product_features = np.random.normal(-1, 0.2, (J, K))\n",
    "#     π = np.random.dirichlet([1] * W, 1).flatten().cumsum()\n",
    "#     β_ind = ...\n",
    "#     # β_ind = np.random.normal(0, 1, M)\n",
    "#     # β_prod = np.random.normal(0, 0.2, (K, N))\n",
    "#     # ν = np.random.normal(0, 1, (N, J))\n",
    "#     η = np.random.gumbel(0, 1, (N, J+1))\n",
    "#     # ɛ = np.random.normal(0, 1, (N, J))\n",
    "\n",
    "#     if heterogeneous:\n",
    "#         β_prod = np.random.normal(0, 1, (K, N))\n",
    "#     else:\n",
    "#         β_prod = np.ones((N, 1)) @ np.random.normal(0, 1, (1, K))\n",
    "#     ## generate data\n",
    "#     # y = np.zeros((N, J))\n",
    "\n",
    "#     # u_individual = np.outer(\n",
    "#     #     individual_features @ β_ind,\n",
    "#     #     np.ones(J),\n",
    "#     # )\n",
    "#     u = β_prod @ product_features.T + η\n",
    "\n",
    "#     if heterogeneous:\n",
    "#         u_individual = ...\n",
    "#         u += u_individual\n",
    "\n",
    "#     t = np.argmax(u, axis=1)\n",
    "#     v = u[:, t]\n",
    "#     w = np.digitize(gumbel_r.cdf(v), π)\n",
    "\n",
    "#     d = {\n",
    "#         \"product_features\": product_features,\n",
    "#         \"t\": t,\n",
    "#         \"w\": w,\n",
    "#         \"latent_cutpoints\": π,\n",
    "#         \"latent_utilities\": u,\n",
    "#         \"latent_β_prod\": β_prod\n",
    "#     }\n",
    "\n",
    "#     if heterogeneous:\n",
    "#         d[\"individual_features\"] = individual_features\n",
    "\n",
    "#     if heterogeneous:\n",
    "#         d[\"individual_features\"] = individual_features\n",
    "#         d[\"latent_β_ind\"] = β_ind\n",
    "\n",
    "#     return d\n",
    "\n",
    "# params = {\"N\": 1000, \"J\": 3, \"K\": 5, \"M\": 2, \"W\": 4}\n",
    "\n",
    "# df = make_data(params)"
   ]
  },
  {
   "cell_type": "code",
   "execution_count": 28,
   "metadata": {},
   "outputs": [],
   "source": [
    "# with pm.Model(coords=coords) as model_1:\n",
    "\n",
    "#     mu_β_p = pm.Normal(\"mu_β_p\", 0, 1)\n",
    "#     sigma_β_p = pm.Exponential(\"sigma_β_p\", 5)\n",
    "#     # beta_p = pm.Normal(\n",
    "#     #     \"beta_pf\", mu_β_p, sigma_β_p, dims=[\"obs\", \"p_factors\"]\n",
    "#     # )  # want there to be N*K beta's\n",
    "\n",
    "#     beta_p = (\n",
    "#         pm.math.ones((N, 1))\n",
    "#         * pm.Normal(\"beta_pf\", mu_β_p, sigma_β_p, dims=[\"p_factors\"]).T\n",
    "#     )  # want there to be N*K beta's\n",
    "\n",
    "#     # beta_p_print = Print(\"beta_p\")(beta_p)\n",
    "\n",
    "#     # π = pm.Dirichlet(\"latent_binwidths\", a=pm.math.ones(W))  # W x 1\n",
    "#     # α = pm.Deterministic(\n",
    "#     #     \"latent_cutpoints\", pt.concatenate([np.ones(1) * 0, pt.extra_ops.cumsum(π)])\n",
    "#     # )  # (W+1) x 1\n",
    "\n",
    "#     ## Construct Utility matrix\n",
    "\n",
    "#     # s_good = pm.math.dot(beta_p, df[\"product_features\"].T)  # N x J\n",
    "\n",
    "#     s_good = beta_p @ df[\"product_features\"].T\n",
    "\n",
    "#     # individual_effects = pm.math.sum(pm.math.dot(beta_i, df[\"individual_features\"]), axis=1)\n",
    "#     # s_person = individual_effects[:, None] * pm.math.ones_like(df[\"individual_features\"])\n",
    "#     # s = s_good + 0\n",
    "\n",
    "#     # s_good_print = Print(\"s_good\")(s_good)\n",
    "\n",
    "#     s = pm.math.concatenate([s_good, np.zeros((N, 1))], axis=1)\n",
    "#     ## Calculate good conditional likelihoods\n",
    "#     # p_goods = pm.math.softmax(s, axis=1)  # probability that good i is best of J\n",
    "\n",
    "#     ## Apply Gumbel-Max Adjustment\n",
    "#     # μbar = pm.math.log(pm.math.sum(pm.math.exp(s), axis=1))  # should be N x 1\n",
    "\n",
    "#     ## Apply Softmax Transform\n",
    "#     p_ = pm.Deterministic(\"p\", pm.math.softmax(s, axis=1), dims=(\"obs\", \"products\"))\n",
    "\n",
    "#     ## Likelihood\n",
    "#     choice_obs = pm.Categorical(\"y_cat\", p=p_, observed=observed_good, dims=\"obs\")\n",
    "\n",
    "#     # sandwich_meat = [\n",
    "#     #     (\n",
    "#     #         pm.math.exp(pm.math.exp(μbar) * pm.math.log(α[w]))\n",
    "#     #         - pm.math.exp(pm.math.exp(μbar) * pm.math.log(α[w - 1]))\n",
    "#     #     )\n",
    "#     #     for w in range(2, W)\n",
    "#     # ]\n",
    "\n",
    "#     # ## Calculate bin conditional likelihoods\n",
    "#     # p_bins = pt.stack(\n",
    "#     #     [\n",
    "#     #         pm.math.exp(pm.math.exp(μbar) * pm.math.log(α[1])),  # should be N x 1\n",
    "#     #         *sandwich_meat,  # should be N x W-2\n",
    "#     #         1 - pm.math.exp(pm.math.exp(μbar) * pm.math.log(α[-1])),  # should be N x 1\n",
    "#     #     ],\n",
    "#     #     axis=0,\n",
    "#     # ).T  # should be N x W\n",
    "\n",
    "#     ## Map to observables\n",
    "#     # good_obs = pm.Categorical(\"product\", p=p_goods, observed=observed_good, dims=\"obs\")\n",
    "#     # outside_obs =\n",
    "#     # prob_obs = pm.Categorical(\"bin\", p=probs, observed=observed_prob, dims=\"obs\")\n",
    "#     # bin_obs = pm.Categorical(\"bin\", p=p_bins, observed=observed_bin, dims=\"obs\")\n",
    "\n",
    "# pm.model_to_graphviz(model_1)"
   ]
  },
  {
   "cell_type": "code",
   "execution_count": 29,
   "metadata": {
    "ExecuteTime": {
     "end_time": "2024-06-26T21:36:42.904161Z",
     "start_time": "2024-06-26T21:36:42.899561Z"
    }
   },
   "outputs": [],
   "source": [
    "# az.summary(idata_m1, var_names=[\"mu_β_p\", \"sigma_β_p\", \"latent_cutpoints\"])"
   ]
  }
 ],
 "metadata": {
  "kernelspec": {
   "display_name": ".venv",
   "language": "python",
   "name": "python3"
  },
  "language_info": {
   "codemirror_mode": {
    "name": "ipython",
    "version": 3
   },
   "file_extension": ".py",
   "mimetype": "text/x-python",
   "name": "python",
   "nbconvert_exporter": "python",
   "pygments_lexer": "ipython3",
   "version": "3.12.6"
  }
 },
 "nbformat": 4,
 "nbformat_minor": 2
}
