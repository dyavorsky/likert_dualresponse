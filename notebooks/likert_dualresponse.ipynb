{
 "cells": [
  {
   "cell_type": "code",
   "execution_count": 1,
   "metadata": {
    "ExecuteTime": {
     "end_time": "2024-06-26T21:27:22.690582Z",
     "start_time": "2024-06-26T21:27:20.728808Z"
    }
   },
   "outputs": [
    {
     "name": "stderr",
     "output_type": "stream",
     "text": [
      "WARNING (pytensor.tensor.blas): Using NumPy C-API based implementation for BLAS functions.\n"
     ]
    }
   ],
   "source": [
    "import arviz as az\n",
    "import numpy as np  # For vectorized math operations\n",
    "\n",
    "import pandas as pd  # For file input/output\n",
    "import pymc as pm\n",
    "import pytensor.tensor as pt\n",
    "from scipy.stats import gumbel_r\n",
    "import seaborn as sns\n",
    "from matplotlib import pyplot as plt"
   ]
  },
  {
   "cell_type": "code",
   "execution_count": 2,
   "metadata": {},
   "outputs": [],
   "source": [
    "%config InlineBackend.figure_format='retina'\n",
    "\n",
    "sns.set_theme(\n",
    "    context=\"notebook\",\n",
    "    style=\"white\",\n",
    "    font=\"Latin Modern Roman\",\n",
    "    rc={\n",
    "        \"axes.spines.right\": False,\n",
    "        \"axes.spines.top\": False,\n",
    "        \"text.usetex\": True,\n",
    "    },\n",
    ")\n",
    "\n",
    "extra_params = {\n",
    "    \"text.latex.preamble\": \" \".join([r\"\\usepackage{mathtools}\", r\"\\usepackage{amssymb}\"])\n",
    "}\n",
    "\n",
    "plt.rcParams.update(extra_params)"
   ]
  },
  {
   "cell_type": "markdown",
   "metadata": {},
   "source": [
    "# Introduction\n",
    "\n",
    "Data generating process is:\n",
    "$$\n",
    "u_{ij} = {\\alpha_{ij}} + {x_j}'\\beta^{\\text{feature}}_{i} + \\eta_{ij} - \\eta_{i0}\n",
    "$$\n",
    "where\n",
    "- the consumer knows $\\left(\\alpha_{ij}, x_j, \\beta^{\\text{feature}}_{i}, \\eta_{ij}\\right)$, which implies outcome variables $\\left(j^{(1)}_i,\\, \\ldots\\right)$\n",
    "- the econometrician knows $\\left(x_j, j^{(1)},\\,\\ldots \\right)$ and has priors over $\\left(\\alpha, \\beta^{\\text{feature}}\\right)$\n",
    "- neither the consumer nor the econometrician knows $\\eta_{i0}$, but they have common priors\n",
    "\n",
    "Consumer reports\n",
    "- their preferred \"inside\" good $j^{(1)}$\n",
    "\n",
    "Depending on the setup, the consumer either reports\n",
    "- their preferred \"overall\" good $k^{(1)}$\n",
    "- the probability they purchase the good on a Likert scale with $W$ categories"
   ]
  },
  {
   "cell_type": "markdown",
   "metadata": {},
   "source": [
    "## Notation\n",
    "\n",
    "- $N$ is the number of individuals\n",
    "- $J$ is the number of products\n",
    "- $K$ is the number of product attributes\n",
    "- $M$ is the number of individual attributes\n",
    "- $W$ is the number of categories on the Likert scale"
   ]
  },
  {
   "cell_type": "markdown",
   "metadata": {},
   "source": [
    "### Simulate Data"
   ]
  },
  {
   "cell_type": "code",
   "execution_count": 3,
   "metadata": {
    "ExecuteTime": {
     "end_time": "2024-06-26T21:27:22.697684Z",
     "start_time": "2024-06-26T21:27:22.691863Z"
    }
   },
   "outputs": [],
   "source": [
    "def basic_model(params, draws):\n",
    "    J = params[\"J\"]\n",
    "    K = params[\"K\"]\n",
    "    N = params[\"N\"]\n",
    "\n",
    "    u = np.ones((N, 1)) @ draws[\"α_j\"].reshape((1, -1)) + draws[\"product_features\"] @ draws[\"β_k\"] + draws[\"η\"]\n",
    "\n",
    "    # jstar = np.argmax(u[:, :-1], axis=1)\n",
    "    # kstar = np.argmax(u, axis=1)\n",
    "\n",
    "    return draws | {\n",
    "        \"utilities\": u,\n",
    "        \"α_j\": draws[\"α_j\"],\n",
    "        \"β_k\": draws[\"β_k\"],\n",
    "    }\n",
    "\n",
    "\n",
    "def random_coefficient_model(params, draws):\n",
    "    J = params[\"J\"]\n",
    "    K = params[\"K\"]\n",
    "    N = params[\"N\"]\n",
    "\n",
    "    α_ij = np.ones((N, 1)) @ draws[\"α_j\"].reshape((1, -1)) + np.random.normal(0, 1, (N, J+1))\n",
    "    α_ij[:, -1] = 0\n",
    "    β_ik = np.ones((N, 1)) @ draws[\"β_k\"].reshape((1, -1)) + np.random.normal(0, 1, (N, K))\n",
    "\n",
    "    u = α_ij + np.sum(draws[\"product_features\"] * β_ik.reshape(N, 1, K), axis=2) + draws[\"η\"]\n",
    "\n",
    "    # jstar = np.argmax(u[:, :-1], axis=1)\n",
    "    # kstar = np.argmax(u, axis=1)\n",
    "\n",
    "    return draws | {\n",
    "        \"utilities\": u,\n",
    "        \"α_j\": draws[\"α_j\"],\n",
    "        \"β_k\": draws[\"β_k\"],\n",
    "        \"α_ij\": α_ij,\n",
    "        \"β_ik\": β_ik,\n",
    "    }\n",
    "\n",
    "dgp = {\n",
    "    \"homogeneous\": basic_model,\n",
    "    \"heterogeneous\": random_coefficient_model, # add more DGPs here\n",
    "}\n",
    "\n",
    "def simulate_dgps(params):\n",
    "\n",
    "    ## load parameters\n",
    "    # M = params[\"M\"]\n",
    "    W = params[\"W\"]\n",
    "    J = params[\"J\"]\n",
    "    K = params[\"K\"]\n",
    "    N = params[\"N\"]\n",
    "\n",
    "    np.random.seed(42)\n",
    "    \n",
    "    # draw product features to be same across all DGPs\n",
    "    \n",
    "    product_features = np.random.normal(0, 0.2, (N, J, K))\n",
    "    product_features = np.concatenate(\n",
    "        [product_features, np.zeros((N, 1, K))], axis=1\n",
    "    )  # outside good\n",
    "\n",
    "    # draw latent preference parameters to be comparable across all DGPs\n",
    "\n",
    "    α_j = np.random.normal(-2, 1, J+1)\n",
    "    β_k = np.random.normal(0, 1, K)\n",
    "    α_j[-1] = 0 # outside good\n",
    "    \n",
    "    π = np.random.dirichlet([1] * W, 1).flatten().cumsum()\n",
    "    η = np.random.gumbel(0, 1, (N, J + 1))\n",
    "    \n",
    "    draws = {\n",
    "        \"α_j\": α_j,\n",
    "        \"β_k\": β_k,\n",
    "        \"π\": π,\n",
    "        \"η\": η,\n",
    "        \"product_features\": product_features\n",
    "    }\n",
    "\n",
    "    # d = {\n",
    "    #     \"product_features\": product_features,\n",
    "    # }\n",
    "\n",
    "    d = {k: dgp[k](params, draws) for k in dgp}\n",
    "    # for k in dgp:\n",
    "    #     d[f\"dgp{k}\"] = dgp[k](params, draws)\n",
    "        \n",
    "    return d\n",
    "\n",
    "def basic_conjoint(dgp):\n",
    "    u = dgp[\"utilities\"]\n",
    "    \n",
    "    # jstar = np.argmax(u[:, :-1], axis=1)\n",
    "    kstar = np.argmax(u, axis=1)\n",
    "    \n",
    "    return {\n",
    "        \"product_features\": dgp[\"product_features\"],\n",
    "        \"kstar\": kstar, #preferred overall good\n",
    "    }\n",
    "\n",
    "def dual_response_conjoint(dgp):\n",
    "    u = dgp[\"utilities\"]\n",
    "    \n",
    "    jstar = np.argmax(u[:, :-1], axis=1)\n",
    "    kstar = np.argmax(u, axis=1)\n",
    "    \n",
    "    return {\n",
    "        \"product_features\": dgp[\"product_features\"],\n",
    "        \"jstar\": jstar, #preferred inside good\n",
    "        \"kstar\": kstar, #preferred overall good\n",
    "    }\n",
    "\n",
    "def likert_dual_conjoint(dgp):\n",
    "    u = dgp[\"utilities\"]\n",
    "    jstar = np.argmax(u[:, :-1], axis=1)\n",
    "    v = np.max(u[:, :-1], axis=1)\n",
    "    w = np.digitize(gumbel_r.cdf(v), dgp[\"π\"])\n",
    "\n",
    "    return {\n",
    "        \"product_features\": dgp[\"product_features\"],\n",
    "        \"jstar\": jstar,  # preferred inside good\n",
    "        \"w\": w,  # likert bucket\n",
    "    }\n",
    "\n",
    "\n",
    "generate_observables = {\n",
    "    \"basic_conjoint\": basic_conjoint,\n",
    "    \"dual_response_conjoint\": dual_response_conjoint,\n",
    "    \"likert_dual_conjoint\": likert_dual_conjoint,\n",
    "}\n",
    "\n",
    "params = {\"N\": 200, \"J\": 3, \"K\": 5, \"M\": 2, \"W\": 4}\n",
    "\n",
    "dgps = simulate_dgps(params)"
   ]
  },
  {
   "cell_type": "markdown",
   "metadata": {},
   "source": [
    "### Export Data"
   ]
  },
  {
   "cell_type": "code",
   "execution_count": 4,
   "metadata": {},
   "outputs": [],
   "source": [
    "# out_data1 = np.array(\n",
    "#     [\n",
    "#         [n, j, 0, data[\"t\"][n] == j, *data[\"product_features\"][n, j, :]]\n",
    "#         for n in range(params[\"N\"])\n",
    "#         for j in range(params[\"J\"] + 1)\n",
    "#     ]\n",
    "# )\n",
    "\n",
    "# out_data2 = np.array(\n",
    "#     [\n",
    "#         [\n",
    "#             n,\n",
    "#             j,\n",
    "#             1, \n",
    "#             data[\"jstar\"][n] == j,\n",
    "#             *data[\"product_features\"][n, j, :],\n",
    "#             data[\"jstar\"][n] == data[\"t\"][n],\n",
    "#         ]\n",
    "#         for n in range(params[\"N\"])\n",
    "#         for j in range(params[\"J\"])\n",
    "#     ]\n",
    "# )\n",
    "# out_data = np.concatenate([out_data1, out_data2[out_data2[:, -1] == 0, :-1]], axis=0)\n",
    "# pd.DataFrame(\n",
    "#     out_data,\n",
    "#     columns=[\n",
    "#         \"consumer_id\",\n",
    "#         \"choice_id\",\n",
    "#         \"task_id\",\n",
    "#         \"purchase\",\n",
    "#         *[f\"f_{k}\" for k in range(params[\"K\"])],\n",
    "#     ],\n",
    "# ).to_csv(\"/Users/gzheng/Desktop/data.csv\", index=False)"
   ]
  },
  {
   "cell_type": "markdown",
   "metadata": {},
   "source": [
    "# Representative Consumer Preferences"
   ]
  },
  {
   "cell_type": "code",
   "execution_count": 5,
   "metadata": {},
   "outputs": [],
   "source": [
    "data = generate_observables[\"basic_conjoint\"](dgps[\"homogeneous\"])"
   ]
  },
  {
   "cell_type": "markdown",
   "metadata": {},
   "source": [
    "### Visualize the Data"
   ]
  },
  {
   "cell_type": "code",
   "execution_count": 6,
   "metadata": {},
   "outputs": [
    {
     "data": {
      "image/png": "[encoded data removed]",
      "text/plain": [
       "<Figure size 640x480 with 1 Axes>"
      ]
     },
     "metadata": {
      "image/png": {
       "height": 416,
       "width": 572
      }
     },
     "output_type": "display_data"
    }
   ],
   "source": [
    "# sns.countplot(x=data[\"jstar\"])\n",
    "sns.countplot(x=data[\"kstar\"])\n",
    "# plt.legend(title=\"Survey Response\", labels=[\"Preferred Inside Good\", \"Preferred Overall Good\"])\n",
    "plt.show()"
   ]
  },
  {
   "cell_type": "markdown",
   "metadata": {},
   "source": [
    "## Classic Multinomial Logit"
   ]
  },
  {
   "cell_type": "markdown",
   "metadata": {},
   "source": [
    "First, try \"classical\" conjoint, in which $\\eta_0$ is observed by the consumer."
   ]
  },
  {
   "cell_type": "markdown",
   "metadata": {},
   "source": [
    "### Construct the Model"
   ]
  },
  {
   "cell_type": "code",
   "execution_count": 7,
   "metadata": {
    "ExecuteTime": {
     "end_time": "2024-06-26T21:27:26.956688Z",
     "start_time": "2024-06-26T21:27:26.952887Z"
    }
   },
   "outputs": [],
   "source": [
    "observed_good = data[\"kstar\"]\n",
    "\n",
    "N = params[\"N\"]\n",
    "M = params[\"M\"]\n",
    "J = params[\"J\"]\n",
    "K = params[\"K\"]\n",
    "W = params[\"W\"]\n",
    "# J, K = data[\"product_features\"].shape\n",
    "# W = len(np.unique(observed_bin))\n",
    "\n",
    "\n",
    "coords_1 = {\n",
    "    \"products\": [f\"product_{i}\" for i in range(J + 1)],\n",
    "    \"i_factors\": [f\"if_{i}\" for i in range(M)],\n",
    "    \"p_factors\": [f\"pf_{i}\" for i in range(K)],\n",
    "    \"obs\": range(N),\n",
    "}"
   ]
  },
  {
   "cell_type": "code",
   "execution_count": 8,
   "metadata": {},
   "outputs": [
    {
     "data": {
      "image/svg+xml": [
       "<?xml version=\"1.0\" encoding=\"UTF-8\" standalone=\"no\"?>\n",
       "<!DOCTYPE svg PUBLIC \"-//W3C//DTD SVG 1.1//EN\"\n",
       " \"http://www.w3.org/Graphics/SVG/1.1/DTD/svg11.dtd\">\n",
       "<!-- Generated by graphviz version 12.1.2 (20240928.0832)\n",
       " -->\n",
       "<!-- Pages: 1 -->\n",
       "<svg width=\"228pt\" height=\"382pt\"\n",
       " viewBox=\"0.00 0.00 228.00 381.63\" xmlns=\"http://www.w3.org/2000/svg\" xmlns:xlink=\"http://www.w3.org/1999/xlink\">\n",
       "<g id=\"graph0\" class=\"graph\" transform=\"scale(1 1) rotate(0) translate(4 377.63)\">\n",
       "<polygon fill=\"white\" stroke=\"none\" points=\"-4,4 -4,-377.63 224,-377.63 224,4 -4,4\"/>\n",
       "<g id=\"clust1\" class=\"cluster\">\n",
       "<title>clusterproducts (4)</title>\n",
       "<path fill=\"none\" stroke=\"black\" d=\"M20,-243.82C20,-243.82 94,-243.82 94,-243.82 100,-243.82 106,-249.82 106,-255.82 106,-255.82 106,-353.63 106,-353.63 106,-359.63 100,-365.63 94,-365.63 94,-365.63 20,-365.63 20,-365.63 14,-365.63 8,-359.63 8,-353.63 8,-353.63 8,-255.82 8,-255.82 8,-249.82 14,-243.82 20,-243.82\"/>\n",
       "<text text-anchor=\"middle\" x=\"65\" y=\"-251.02\" font-family=\"Times,serif\" font-size=\"14.00\">products (4)</text>\n",
       "</g>\n",
       "<g id=\"clust2\" class=\"cluster\">\n",
       "<title>clusterp_factors (5)</title>\n",
       "<path fill=\"none\" stroke=\"black\" d=\"M126,-243.82C126,-243.82 200,-243.82 200,-243.82 206,-243.82 212,-249.82 212,-255.82 212,-255.82 212,-353.63 212,-353.63 212,-359.63 206,-365.63 200,-365.63 200,-365.63 126,-365.63 126,-365.63 120,-365.63 114,-359.63 114,-353.63 114,-353.63 114,-255.82 114,-255.82 114,-249.82 120,-243.82 126,-243.82\"/>\n",
       "<text text-anchor=\"middle\" x=\"169.12\" y=\"-251.02\" font-family=\"Times,serif\" font-size=\"14.00\">p_factors (5)</text>\n",
       "</g>\n",
       "<g id=\"clust3\" class=\"cluster\">\n",
       "<title>clusterobs (200) x products (4)</title>\n",
       "<path fill=\"none\" stroke=\"black\" d=\"M47,-137.82C47,-137.82 171,-137.82 171,-137.82 177,-137.82 183,-143.82 183,-149.82 183,-149.82 183,-223.82 183,-223.82 183,-229.82 177,-235.82 171,-235.82 171,-235.82 47,-235.82 47,-235.82 41,-235.82 35,-229.82 35,-223.82 35,-223.82 35,-149.82 35,-149.82 35,-143.82 41,-137.82 47,-137.82\"/>\n",
       "<text text-anchor=\"middle\" x=\"109\" y=\"-145.02\" font-family=\"Times,serif\" font-size=\"14.00\">obs (200) x products (4)</text>\n",
       "</g>\n",
       "<g id=\"clust4\" class=\"cluster\">\n",
       "<title>clusterobs (200)</title>\n",
       "<path fill=\"none\" stroke=\"black\" d=\"M42,-8C42,-8 144,-8 144,-8 150,-8 156,-14 156,-20 156,-20 156,-117.82 156,-117.82 156,-123.82 150,-129.82 144,-129.82 144,-129.82 42,-129.82 42,-129.82 36,-129.82 30,-123.82 30,-117.82 30,-117.82 30,-20 30,-20 30,-14 36,-8 42,-8\"/>\n",
       "<text text-anchor=\"middle\" x=\"122.12\" y=\"-15.2\" font-family=\"Times,serif\" font-size=\"14.00\">obs (200)</text>\n",
       "</g>\n",
       "<!-- alpha_j -->\n",
       "<g id=\"node1\" class=\"node\">\n",
       "<title>alpha_j</title>\n",
       "<ellipse fill=\"none\" stroke=\"black\" cx=\"57\" cy=\"-316.98\" rx=\"41.01\" ry=\"40.66\"/>\n",
       "<text text-anchor=\"middle\" x=\"57\" y=\"-328.43\" font-family=\"Times,serif\" font-size=\"14.00\">alpha_j</text>\n",
       "<text text-anchor=\"middle\" x=\"57\" y=\"-311.93\" font-family=\"Times,serif\" font-size=\"14.00\">~</text>\n",
       "<text text-anchor=\"middle\" x=\"57\" y=\"-295.43\" font-family=\"Times,serif\" font-size=\"14.00\">Normal</text>\n",
       "</g>\n",
       "<!-- p -->\n",
       "<g id=\"node3\" class=\"node\">\n",
       "<title>p</title>\n",
       "<polygon fill=\"none\" stroke=\"black\" points=\"138.12,-227.82 47.88,-227.82 47.88,-170.32 138.12,-170.32 138.12,-227.82\"/>\n",
       "<text text-anchor=\"middle\" x=\"93\" y=\"-210.52\" font-family=\"Times,serif\" font-size=\"14.00\">p</text>\n",
       "<text text-anchor=\"middle\" x=\"93\" y=\"-194.02\" font-family=\"Times,serif\" font-size=\"14.00\">~</text>\n",
       "<text text-anchor=\"middle\" x=\"93\" y=\"-177.52\" font-family=\"Times,serif\" font-size=\"14.00\">Deterministic</text>\n",
       "</g>\n",
       "<!-- alpha_j&#45;&gt;p -->\n",
       "<g id=\"edge2\" class=\"edge\">\n",
       "<title>alpha_j&#45;&gt;p</title>\n",
       "<path fill=\"none\" stroke=\"black\" d=\"M68.89,-277.7C72.78,-265.16 77.11,-251.21 81.02,-238.64\"/>\n",
       "<polygon fill=\"black\" stroke=\"black\" points=\"84.24,-240.06 83.87,-229.47 77.56,-237.98 84.24,-240.06\"/>\n",
       "</g>\n",
       "<!-- beta_k -->\n",
       "<g id=\"node2\" class=\"node\">\n",
       "<title>beta_k</title>\n",
       "<ellipse fill=\"none\" stroke=\"black\" cx=\"163\" cy=\"-316.98\" rx=\"41.01\" ry=\"40.66\"/>\n",
       "<text text-anchor=\"middle\" x=\"163\" y=\"-328.43\" font-family=\"Times,serif\" font-size=\"14.00\">beta_k</text>\n",
       "<text text-anchor=\"middle\" x=\"163\" y=\"-311.93\" font-family=\"Times,serif\" font-size=\"14.00\">~</text>\n",
       "<text text-anchor=\"middle\" x=\"163\" y=\"-295.43\" font-family=\"Times,serif\" font-size=\"14.00\">Normal</text>\n",
       "</g>\n",
       "<!-- beta_k&#45;&gt;p -->\n",
       "<g id=\"edge1\" class=\"edge\">\n",
       "<title>beta_k&#45;&gt;p</title>\n",
       "<path fill=\"none\" stroke=\"black\" d=\"M142.19,-281.51C133.8,-267.63 124.12,-251.59 115.56,-237.43\"/>\n",
       "<polygon fill=\"black\" stroke=\"black\" points=\"118.8,-236.02 110.64,-229.27 112.81,-239.64 118.8,-236.02\"/>\n",
       "</g>\n",
       "<!-- y_cat -->\n",
       "<g id=\"node4\" class=\"node\">\n",
       "<title>y_cat</title>\n",
       "<ellipse fill=\"lightgrey\" stroke=\"black\" cx=\"93\" cy=\"-81.16\" rx=\"55.33\" ry=\"40.66\"/>\n",
       "<text text-anchor=\"middle\" x=\"93\" y=\"-92.61\" font-family=\"Times,serif\" font-size=\"14.00\">y_cat</text>\n",
       "<text text-anchor=\"middle\" x=\"93\" y=\"-76.11\" font-family=\"Times,serif\" font-size=\"14.00\">~</text>\n",
       "<text text-anchor=\"middle\" x=\"93\" y=\"-59.61\" font-family=\"Times,serif\" font-size=\"14.00\">Categorical</text>\n",
       "</g>\n",
       "<!-- p&#45;&gt;y_cat -->\n",
       "<g id=\"edge3\" class=\"edge\">\n",
       "<title>p&#45;&gt;y_cat</title>\n",
       "<path fill=\"none\" stroke=\"black\" d=\"M93,-170.01C93,-159.03 93,-146.08 93,-133.55\"/>\n",
       "<polygon fill=\"black\" stroke=\"black\" points=\"96.5,-133.74 93,-123.74 89.5,-133.74 96.5,-133.74\"/>\n",
       "</g>\n",
       "</g>\n",
       "</svg>\n"
      ],
      "text/plain": [
       "<graphviz.graphs.Digraph at 0x16ca11a30>"
      ]
     },
     "execution_count": 8,
     "metadata": {},
     "output_type": "execute_result"
    }
   ],
   "source": [
    "with pm.Model(coords=coords_1) as model_1:\n",
    "\n",
    "    # mu_α_p = pm.Normal(\"mu_α_p\", 0, 1)\n",
    "    # sigma_α_p = pm.HalfCauchy(\"sigma_α_p\", 1)\n",
    "\n",
    "    # alpha_p = pm.Normal(\"alpha_j\", mu_α_p, sigma_α_p, dims=[\"products\"])\n",
    "    # alpha_p = pt.set_subtensor(alpha_p[-1], 0) #outside good\n",
    "\n",
    "    # mu_β_p = pm.Normal(\"mu_β_p\", 0, 1)\n",
    "    # sigma_β_p = pm.HalfCauchy(\"sigma_β_p\", 1)\n",
    "\n",
    "    alpha_p = pm.Normal(\"alpha_j\", 0, 5, dims=[\"products\"])\n",
    "    alpha_p = pt.set_subtensor(alpha_p[-1], 0) #outside good\n",
    "\n",
    "    # beta_p = (\n",
    "    #     pm.math.ones((N, 1))\n",
    "    #     * pm.Normal(\"beta_pf\", mu_β_p, sigma_β_p, dims=[\"p_factors\"]).T\n",
    "    # )  # want there to be N*K beta's\n",
    "\n",
    "    beta_p = pm.Normal(\"beta_k\", 0, 5, dims=[\"p_factors\"])\n",
    "\n",
    "    ## Construct Utility matrix\n",
    "\n",
    "    # beta_p_print = Print(\"beta_p\")(beta_p)\n",
    "\n",
    "    s = pm.math.ones((N, 1)) @ alpha_p.reshape((1, -1)) + data[\"product_features\"] @ beta_p\n",
    "\n",
    "    # s_print = Print(\"s\")(s)\n",
    "    # s = beta_p @ data[\"product_features\"].T\n",
    "    # s = pm.math.concatenate([s_good, np.zeros((N, 1))], axis=1)\n",
    "\n",
    "    ## Apply Softmax Transform\n",
    "    p_ = pm.Deterministic(\"p\", pm.math.softmax(s, axis=1), dims=(\"obs\", \"products\"))\n",
    "\n",
    "    ## Likelihood\n",
    "    choice_obs = pm.Categorical(\"y_cat\", p=p_, observed=observed_good, dims=\"obs\")\n",
    "\n",
    "pm.model_to_graphviz(model_1)"
   ]
  },
  {
   "cell_type": "markdown",
   "metadata": {},
   "source": [
    "### Estimate the Model"
   ]
  },
  {
   "cell_type": "code",
   "execution_count": 9,
   "metadata": {
    "ExecuteTime": {
     "end_time": "2024-06-26T21:48:46.443641Z",
     "start_time": "2024-06-26T21:48:45.153910Z"
    }
   },
   "outputs": [
    {
     "data": {
      "application/vnd.jupyter.widget-view+json": {
       "model_id": "e14d8eec2a044781b7f998c4720082e8",
       "version_major": 2,
       "version_minor": 0
      },
      "text/plain": [
       "  0%|          | 0/6000 [00:00<?, ?it/s]"
      ]
     },
     "metadata": {},
     "output_type": "display_data"
    },
    {
     "data": {
      "application/vnd.jupyter.widget-view+json": {
       "model_id": "8ae5c2bcc8ba43c499dac00ce4f22907",
       "version_major": 2,
       "version_minor": 0
      },
      "text/plain": [
       "  0%|          | 0/6000 [00:00<?, ?it/s]"
      ]
     },
     "metadata": {},
     "output_type": "display_data"
    },
    {
     "data": {
      "application/vnd.jupyter.widget-view+json": {
       "model_id": "302d2125d13f4f778e9390128b8f40c9",
       "version_major": 2,
       "version_minor": 0
      },
      "text/plain": [
       "  0%|          | 0/6000 [00:00<?, ?it/s]"
      ]
     },
     "metadata": {},
     "output_type": "display_data"
    },
    {
     "data": {
      "application/vnd.jupyter.widget-view+json": {
       "model_id": "40ba929ac14e437db9fd44fe8b52518f",
       "version_major": 2,
       "version_minor": 0
      },
      "text/plain": [
       "  0%|          | 0/6000 [00:00<?, ?it/s]"
      ]
     },
     "metadata": {},
     "output_type": "display_data"
    }
   ],
   "source": [
    "with model_1:\n",
    "    # idata_m1 = pm.sample_prior_predictive()\n",
    "    # idata_m1.extend(\n",
    "    #     pm.sample(\n",
    "    #         5000,\n",
    "    #         nuts_sampler=\"numpyro\",\n",
    "    #         idata_kwargs={\"log_likelihood\": True},\n",
    "    #         random_seed=100,\n",
    "    #     )\n",
    "    # )\n",
    "    # idata_m1.extend(pm.sample_posterior_predictive(idata_m1))\n",
    "    idata_m1 = pm.sample(\n",
    "        5000,\n",
    "        nuts_sampler=\"numpyro\",\n",
    "        idata_kwargs={\"log_likelihood\": True},\n",
    "        random_seed=100,\n",
    "    )"
   ]
  },
  {
   "cell_type": "code",
   "execution_count": 10,
   "metadata": {},
   "outputs": [],
   "source": [
    "# from IPython.display import display\n",
    "\n",
    "# with pd.option_context('display.max_rows', 100, 'display.max_columns', 10):\n",
    "#     display(az.summary(idata_m1, var_names=[\"~p\"]).loc[lambda _df: _df['ess_tail'] < 1_000])"
   ]
  },
  {
   "cell_type": "code",
   "execution_count": 11,
   "metadata": {
    "ExecuteTime": {
     "end_time": "2024-06-26T21:36:42.904161Z",
     "start_time": "2024-06-26T21:36:42.899561Z"
    }
   },
   "outputs": [
    {
     "data": {
      "text/html": [
       "<div>\n",
       "<style scoped>\n",
       "    .dataframe tbody tr th:only-of-type {\n",
       "        vertical-align: middle;\n",
       "    }\n",
       "\n",
       "    .dataframe tbody tr th {\n",
       "        vertical-align: top;\n",
       "    }\n",
       "\n",
       "    .dataframe thead th {\n",
       "        text-align: right;\n",
       "    }\n",
       "</style>\n",
       "<table border=\"1\" class=\"dataframe\">\n",
       "  <thead>\n",
       "    <tr style=\"text-align: right;\">\n",
       "      <th></th>\n",
       "      <th>mean</th>\n",
       "      <th>sd</th>\n",
       "      <th>hdi_3%</th>\n",
       "      <th>hdi_97%</th>\n",
       "      <th>mcse_mean</th>\n",
       "      <th>mcse_sd</th>\n",
       "      <th>ess_bulk</th>\n",
       "      <th>ess_tail</th>\n",
       "      <th>r_hat</th>\n",
       "    </tr>\n",
       "  </thead>\n",
       "  <tbody>\n",
       "    <tr>\n",
       "      <th>alpha_j[product_0]</th>\n",
       "      <td>-4.914</td>\n",
       "      <td>0.768</td>\n",
       "      <td>-6.367</td>\n",
       "      <td>-3.565</td>\n",
       "      <td>0.005</td>\n",
       "      <td>0.004</td>\n",
       "      <td>29507.0</td>\n",
       "      <td>13539.0</td>\n",
       "      <td>1.0</td>\n",
       "    </tr>\n",
       "    <tr>\n",
       "      <th>alpha_j[product_1]</th>\n",
       "      <td>-2.541</td>\n",
       "      <td>0.284</td>\n",
       "      <td>-3.060</td>\n",
       "      <td>-1.993</td>\n",
       "      <td>0.002</td>\n",
       "      <td>0.001</td>\n",
       "      <td>24433.0</td>\n",
       "      <td>15479.0</td>\n",
       "      <td>1.0</td>\n",
       "    </tr>\n",
       "    <tr>\n",
       "      <th>alpha_j[product_2]</th>\n",
       "      <td>-2.609</td>\n",
       "      <td>0.294</td>\n",
       "      <td>-3.168</td>\n",
       "      <td>-2.069</td>\n",
       "      <td>0.002</td>\n",
       "      <td>0.001</td>\n",
       "      <td>24912.0</td>\n",
       "      <td>15291.0</td>\n",
       "      <td>1.0</td>\n",
       "    </tr>\n",
       "    <tr>\n",
       "      <th>alpha_j[product_3]</th>\n",
       "      <td>0.061</td>\n",
       "      <td>5.010</td>\n",
       "      <td>-9.691</td>\n",
       "      <td>9.171</td>\n",
       "      <td>0.025</td>\n",
       "      <td>0.040</td>\n",
       "      <td>39735.0</td>\n",
       "      <td>14779.0</td>\n",
       "      <td>1.0</td>\n",
       "    </tr>\n",
       "    <tr>\n",
       "      <th>beta_k[pf_0]</th>\n",
       "      <td>0.078</td>\n",
       "      <td>0.872</td>\n",
       "      <td>-1.555</td>\n",
       "      <td>1.728</td>\n",
       "      <td>0.004</td>\n",
       "      <td>0.007</td>\n",
       "      <td>38347.0</td>\n",
       "      <td>15748.0</td>\n",
       "      <td>1.0</td>\n",
       "    </tr>\n",
       "    <tr>\n",
       "      <th>beta_k[pf_1]</th>\n",
       "      <td>-2.413</td>\n",
       "      <td>0.831</td>\n",
       "      <td>-4.011</td>\n",
       "      <td>-0.891</td>\n",
       "      <td>0.005</td>\n",
       "      <td>0.004</td>\n",
       "      <td>31647.0</td>\n",
       "      <td>14882.0</td>\n",
       "      <td>1.0</td>\n",
       "    </tr>\n",
       "    <tr>\n",
       "      <th>beta_k[pf_2]</th>\n",
       "      <td>1.137</td>\n",
       "      <td>0.883</td>\n",
       "      <td>-0.525</td>\n",
       "      <td>2.772</td>\n",
       "      <td>0.005</td>\n",
       "      <td>0.004</td>\n",
       "      <td>34739.0</td>\n",
       "      <td>15496.0</td>\n",
       "      <td>1.0</td>\n",
       "    </tr>\n",
       "    <tr>\n",
       "      <th>beta_k[pf_3]</th>\n",
       "      <td>-1.539</td>\n",
       "      <td>0.941</td>\n",
       "      <td>-3.325</td>\n",
       "      <td>0.193</td>\n",
       "      <td>0.005</td>\n",
       "      <td>0.004</td>\n",
       "      <td>32988.0</td>\n",
       "      <td>16482.0</td>\n",
       "      <td>1.0</td>\n",
       "    </tr>\n",
       "    <tr>\n",
       "      <th>beta_k[pf_4]</th>\n",
       "      <td>2.388</td>\n",
       "      <td>0.859</td>\n",
       "      <td>0.760</td>\n",
       "      <td>3.988</td>\n",
       "      <td>0.005</td>\n",
       "      <td>0.004</td>\n",
       "      <td>27963.0</td>\n",
       "      <td>16346.0</td>\n",
       "      <td>1.0</td>\n",
       "    </tr>\n",
       "  </tbody>\n",
       "</table>\n",
       "</div>"
      ],
      "text/plain": [
       "                     mean     sd  hdi_3%  hdi_97%  mcse_mean  mcse_sd  \\\n",
       "alpha_j[product_0] -4.914  0.768  -6.367   -3.565      0.005    0.004   \n",
       "alpha_j[product_1] -2.541  0.284  -3.060   -1.993      0.002    0.001   \n",
       "alpha_j[product_2] -2.609  0.294  -3.168   -2.069      0.002    0.001   \n",
       "alpha_j[product_3]  0.061  5.010  -9.691    9.171      0.025    0.040   \n",
       "beta_k[pf_0]        0.078  0.872  -1.555    1.728      0.004    0.007   \n",
       "beta_k[pf_1]       -2.413  0.831  -4.011   -0.891      0.005    0.004   \n",
       "beta_k[pf_2]        1.137  0.883  -0.525    2.772      0.005    0.004   \n",
       "beta_k[pf_3]       -1.539  0.941  -3.325    0.193      0.005    0.004   \n",
       "beta_k[pf_4]        2.388  0.859   0.760    3.988      0.005    0.004   \n",
       "\n",
       "                    ess_bulk  ess_tail  r_hat  \n",
       "alpha_j[product_0]   29507.0   13539.0    1.0  \n",
       "alpha_j[product_1]   24433.0   15479.0    1.0  \n",
       "alpha_j[product_2]   24912.0   15291.0    1.0  \n",
       "alpha_j[product_3]   39735.0   14779.0    1.0  \n",
       "beta_k[pf_0]         38347.0   15748.0    1.0  \n",
       "beta_k[pf_1]         31647.0   14882.0    1.0  \n",
       "beta_k[pf_2]         34739.0   15496.0    1.0  \n",
       "beta_k[pf_3]         32988.0   16482.0    1.0  \n",
       "beta_k[pf_4]         27963.0   16346.0    1.0  "
      ]
     },
     "execution_count": 11,
     "metadata": {},
     "output_type": "execute_result"
    }
   ],
   "source": [
    "az.summary(idata_m1, var_names=[\"~p\"])"
   ]
  },
  {
   "cell_type": "code",
   "execution_count": 12,
   "metadata": {},
   "outputs": [],
   "source": [
    "post1 = az.extract(idata_m1)"
   ]
  },
  {
   "cell_type": "code",
   "execution_count": 13,
   "metadata": {},
   "outputs": [
    {
     "data": {
      "image/png": "[encoded data removed]",
      "text/plain": [
       "<Figure size 640x480 with 4 Axes>"
      ]
     },
     "metadata": {
      "image/png": {
       "height": 463,
       "width": 633
      }
     },
     "output_type": "display_data"
    }
   ],
   "source": [
    "fig, axs = plt.subplots(J // 2 + J % 2, 2)\n",
    "\n",
    "for i in range((J // 2 + J % 2)*2):\n",
    "    plt.sca(axs.flatten()[i])\n",
    "    if i >= J:\n",
    "        plt.gca().axis(\"off\")\n",
    "        continue\n",
    "    sns.histplot(\n",
    "        post1[\"alpha_j\"][i, :],\n",
    "        bins=30,\n",
    "        ec=\"black\",\n",
    "    )\n",
    "    plt.axvline(dgps[\"homogeneous\"][\"α_j\"][i], linestyle=\"dashed\", color=\"black\")\n",
    "    plt.title(rf\"$\\alpha_{i+1}$\")\n",
    "    plt.ylabel(None)\n",
    "    plt.yticks([])\n",
    "\n",
    "plt.tight_layout()\n",
    "plt.show()"
   ]
  },
  {
   "cell_type": "code",
   "execution_count": 14,
   "metadata": {},
   "outputs": [
    {
     "data": {
      "image/png": "[encoded data removed]",
      "text/plain": [
       "<Figure size 640x480 with 6 Axes>"
      ]
     },
     "metadata": {
      "image/png": {
       "height": 464,
       "width": 623
      }
     },
     "output_type": "display_data"
    }
   ],
   "source": [
    "fig, axs = plt.subplots(K // 2 + K % 2, 2)\n",
    "\n",
    "for i in range((K // 2 + K % 2)*2):\n",
    "    plt.sca(axs.flatten()[i])\n",
    "    if i >= K:\n",
    "        plt.gca().axis(\"off\")\n",
    "        continue\n",
    "    sns.histplot(\n",
    "        post1[\"beta_k\"][i, :],\n",
    "        bins=30,\n",
    "        ec=\"black\",\n",
    "    )\n",
    "    plt.axvline(dgps[\"homogeneous\"][\"β_k\"][i], linestyle=\"dashed\", color=\"black\")\n",
    "    plt.title(rf\"$\\beta_{i+1}$\")\n",
    "    plt.ylabel(None)\n",
    "    plt.yticks([])\n",
    "\n",
    "plt.tight_layout()\n",
    "plt.show()"
   ]
  },
  {
   "cell_type": "markdown",
   "metadata": {},
   "source": [
    "## Dual Response (Logit)"
   ]
  },
  {
   "cell_type": "code",
   "execution_count": 15,
   "metadata": {},
   "outputs": [],
   "source": [
    "data = generate_observables[\"dual_response_conjoint\"](dgps[\"homogeneous\"])"
   ]
  },
  {
   "cell_type": "code",
   "execution_count": 16,
   "metadata": {},
   "outputs": [
    {
     "data": {
      "image/png": "[encoded data removed]",
      "text/plain": [
       "<Figure size 640x480 with 1 Axes>"
      ]
     },
     "metadata": {
      "image/png": {
       "height": 416,
       "width": 572
      }
     },
     "output_type": "display_data"
    }
   ],
   "source": [
    "sns.countplot(x=data[\"jstar\"])\n",
    "sns.countplot(x=data[\"kstar\"])\n",
    "plt.legend(title=\"Survey Response\", labels=[\"Preferred Inside Good\", \"Preferred Overall Good\"])\n",
    "plt.show()"
   ]
  },
  {
   "cell_type": "code",
   "execution_count": 17,
   "metadata": {},
   "outputs": [
    {
     "data": {
      "image/png": "[encoded data removed]",
      "text/plain": [
       "<Figure size 640x480 with 2 Axes>"
      ]
     },
     "metadata": {
      "image/png": {
       "height": 463,
       "width": 623
      }
     },
     "output_type": "display_data"
    }
   ],
   "source": [
    "fig, axs = plt.subplots(1, 2)\n",
    "sns.countplot(x=data[\"jstar\"], ax=axs[0]).set(title=\"Preferred Good\")\n",
    "sns.countplot(x=data[\"jstar\"]==data[\"kstar\"], ax=axs[1]).set(title=\"Would Buy\")\n",
    "# plt.legend(title=\"Survey Response\", labels=[\"Preferred Inside Good\", \"Would Buy\"])\n",
    "plt.tight_layout()\n",
    "plt.show()"
   ]
  },
  {
   "cell_type": "markdown",
   "metadata": {},
   "source": [
    "### Construct the Model"
   ]
  },
  {
   "cell_type": "code",
   "execution_count": 18,
   "metadata": {},
   "outputs": [],
   "source": [
    "observed_inside = data[\"jstar\"]\n",
    "observed_buy = data[\"kstar\"] == data[\"jstar\"]\n",
    "\n",
    "N = params[\"N\"]\n",
    "J = params[\"J\"]\n",
    "K = params[\"K\"]\n",
    "\n",
    "coords_2 = {\n",
    "    \"products\": [f\"product_{j}\" for j in range(J)],\n",
    "    \"p_factors\": [f\"feature_{k}\" for k in range(K)],\n",
    "    \"obs\": range(N),\n",
    "}"
   ]
  },
  {
   "cell_type": "code",
   "execution_count": 19,
   "metadata": {},
   "outputs": [
    {
     "data": {
      "image/svg+xml": [
       "<?xml version=\"1.0\" encoding=\"UTF-8\" standalone=\"no\"?>\n",
       "<!DOCTYPE svg PUBLIC \"-//W3C//DTD SVG 1.1//EN\"\n",
       " \"http://www.w3.org/Graphics/SVG/1.1/DTD/svg11.dtd\">\n",
       "<!-- Generated by graphviz version 12.1.2 (20240928.0832)\n",
       " -->\n",
       "<!-- Pages: 1 -->\n",
       "<svg width=\"258pt\" height=\"499pt\"\n",
       " viewBox=\"0.00 0.00 258.00 498.95\" xmlns=\"http://www.w3.org/2000/svg\" xmlns:xlink=\"http://www.w3.org/1999/xlink\">\n",
       "<g id=\"graph0\" class=\"graph\" transform=\"scale(1 1) rotate(0) translate(4 494.95)\">\n",
       "<polygon fill=\"white\" stroke=\"none\" points=\"-4,4 -4,-494.95 254,-494.95 254,4 -4,4\"/>\n",
       "<g id=\"clust1\" class=\"cluster\">\n",
       "<title>clusterproducts (3)</title>\n",
       "<path fill=\"none\" stroke=\"black\" d=\"M37,-361.13C37,-361.13 111,-361.13 111,-361.13 117,-361.13 123,-367.13 123,-373.13 123,-373.13 123,-470.95 123,-470.95 123,-476.95 117,-482.95 111,-482.95 111,-482.95 37,-482.95 37,-482.95 31,-482.95 25,-476.95 25,-470.95 25,-470.95 25,-373.13 25,-373.13 25,-367.13 31,-361.13 37,-361.13\"/>\n",
       "<text text-anchor=\"middle\" x=\"82\" y=\"-368.33\" font-family=\"Times,serif\" font-size=\"14.00\">products (3)</text>\n",
       "</g>\n",
       "<g id=\"clust2\" class=\"cluster\">\n",
       "<title>clusterp_factors (5)</title>\n",
       "<path fill=\"none\" stroke=\"black\" d=\"M145,-361.13C145,-361.13 219,-361.13 219,-361.13 225,-361.13 231,-367.13 231,-373.13 231,-373.13 231,-470.95 231,-470.95 231,-476.95 225,-482.95 219,-482.95 219,-482.95 145,-482.95 145,-482.95 139,-482.95 133,-476.95 133,-470.95 133,-470.95 133,-373.13 133,-373.13 133,-367.13 139,-361.13 145,-361.13\"/>\n",
       "<text text-anchor=\"middle\" x=\"188.12\" y=\"-368.33\" font-family=\"Times,serif\" font-size=\"14.00\">p_factors (5)</text>\n",
       "</g>\n",
       "<g id=\"clust3\" class=\"cluster\">\n",
       "<title>clusterobs (200) x products (3)</title>\n",
       "<path fill=\"none\" stroke=\"black\" d=\"M91,-255.13C91,-255.13 215,-255.13 215,-255.13 221,-255.13 227,-261.13 227,-267.13 227,-267.13 227,-341.13 227,-341.13 227,-347.13 221,-353.13 215,-353.13 215,-353.13 91,-353.13 91,-353.13 85,-353.13 79,-347.13 79,-341.13 79,-341.13 79,-267.13 79,-267.13 79,-261.13 85,-255.13 91,-255.13\"/>\n",
       "<text text-anchor=\"middle\" x=\"153\" y=\"-262.33\" font-family=\"Times,serif\" font-size=\"14.00\">obs (200) x products (3)</text>\n",
       "</g>\n",
       "<g id=\"clust4\" class=\"cluster\">\n",
       "<title>clusterobs (200)</title>\n",
       "<path fill=\"none\" stroke=\"black\" d=\"M20,-8C20,-8 230,-8 230,-8 236,-8 242,-14 242,-20 242,-20 242,-235.13 242,-235.13 242,-241.13 236,-247.13 230,-247.13 230,-247.13 20,-247.13 20,-247.13 14,-247.13 8,-241.13 8,-235.13 8,-235.13 8,-20 8,-20 8,-14 14,-8 20,-8\"/>\n",
       "<text text-anchor=\"middle\" x=\"208.12\" y=\"-15.2\" font-family=\"Times,serif\" font-size=\"14.00\">obs (200)</text>\n",
       "</g>\n",
       "<!-- alpha_j -->\n",
       "<g id=\"node1\" class=\"node\">\n",
       "<title>alpha_j</title>\n",
       "<ellipse fill=\"none\" stroke=\"black\" cx=\"74\" cy=\"-434.29\" rx=\"41.01\" ry=\"40.66\"/>\n",
       "<text text-anchor=\"middle\" x=\"74\" y=\"-445.74\" font-family=\"Times,serif\" font-size=\"14.00\">alpha_j</text>\n",
       "<text text-anchor=\"middle\" x=\"74\" y=\"-429.24\" font-family=\"Times,serif\" font-size=\"14.00\">~</text>\n",
       "<text text-anchor=\"middle\" x=\"74\" y=\"-412.74\" font-family=\"Times,serif\" font-size=\"14.00\">Normal</text>\n",
       "</g>\n",
       "<!-- p -->\n",
       "<g id=\"node3\" class=\"node\">\n",
       "<title>p</title>\n",
       "<polygon fill=\"none\" stroke=\"black\" points=\"217.12,-345.13 126.88,-345.13 126.88,-287.63 217.12,-287.63 217.12,-345.13\"/>\n",
       "<text text-anchor=\"middle\" x=\"172\" y=\"-327.83\" font-family=\"Times,serif\" font-size=\"14.00\">p</text>\n",
       "<text text-anchor=\"middle\" x=\"172\" y=\"-311.33\" font-family=\"Times,serif\" font-size=\"14.00\">~</text>\n",
       "<text text-anchor=\"middle\" x=\"172\" y=\"-294.83\" font-family=\"Times,serif\" font-size=\"14.00\">Deterministic</text>\n",
       "</g>\n",
       "<!-- alpha_j&#45;&gt;p -->\n",
       "<g id=\"edge2\" class=\"edge\">\n",
       "<title>alpha_j&#45;&gt;p</title>\n",
       "<path fill=\"none\" stroke=\"black\" d=\"M97.53,-400.64C106.97,-388.02 118.17,-373.63 129,-361.13 131.09,-358.72 133.28,-356.27 135.53,-353.83\"/>\n",
       "<polygon fill=\"black\" stroke=\"black\" points=\"137.92,-356.39 142.21,-346.71 132.82,-351.6 137.92,-356.39\"/>\n",
       "</g>\n",
       "<!-- q -->\n",
       "<g id=\"node4\" class=\"node\">\n",
       "<title>q</title>\n",
       "<polygon fill=\"none\" stroke=\"black\" points=\"106.12,-227.23 15.88,-227.23 15.88,-169.73 106.12,-169.73 106.12,-227.23\"/>\n",
       "<text text-anchor=\"middle\" x=\"61\" y=\"-209.93\" font-family=\"Times,serif\" font-size=\"14.00\">q</text>\n",
       "<text text-anchor=\"middle\" x=\"61\" y=\"-193.43\" font-family=\"Times,serif\" font-size=\"14.00\">~</text>\n",
       "<text text-anchor=\"middle\" x=\"61\" y=\"-176.93\" font-family=\"Times,serif\" font-size=\"14.00\">Deterministic</text>\n",
       "</g>\n",
       "<!-- alpha_j&#45;&gt;q -->\n",
       "<g id=\"edge4\" class=\"edge\">\n",
       "<title>alpha_j&#45;&gt;q</title>\n",
       "<path fill=\"none\" stroke=\"black\" d=\"M71.78,-393.36C69.38,-350.21 65.58,-281.85 63.19,-238.89\"/>\n",
       "<polygon fill=\"black\" stroke=\"black\" points=\"66.69,-238.79 62.64,-229 59.7,-239.18 66.69,-238.79\"/>\n",
       "</g>\n",
       "<!-- beta_k -->\n",
       "<g id=\"node2\" class=\"node\">\n",
       "<title>beta_k</title>\n",
       "<ellipse fill=\"none\" stroke=\"black\" cx=\"182\" cy=\"-434.29\" rx=\"41.01\" ry=\"40.66\"/>\n",
       "<text text-anchor=\"middle\" x=\"182\" y=\"-445.74\" font-family=\"Times,serif\" font-size=\"14.00\">beta_k</text>\n",
       "<text text-anchor=\"middle\" x=\"182\" y=\"-429.24\" font-family=\"Times,serif\" font-size=\"14.00\">~</text>\n",
       "<text text-anchor=\"middle\" x=\"182\" y=\"-412.74\" font-family=\"Times,serif\" font-size=\"14.00\">Normal</text>\n",
       "</g>\n",
       "<!-- beta_k&#45;&gt;p -->\n",
       "<g id=\"edge1\" class=\"edge\">\n",
       "<title>beta_k&#45;&gt;p</title>\n",
       "<path fill=\"none\" stroke=\"black\" d=\"M178.56,-393.4C177.53,-381.52 176.41,-368.51 175.39,-356.66\"/>\n",
       "<polygon fill=\"black\" stroke=\"black\" points=\"178.88,-356.46 174.54,-346.8 171.91,-357.06 178.88,-356.46\"/>\n",
       "</g>\n",
       "<!-- beta_k&#45;&gt;q -->\n",
       "<g id=\"edge3\" class=\"edge\">\n",
       "<title>beta_k&#45;&gt;q</title>\n",
       "<path fill=\"none\" stroke=\"black\" d=\"M206.53,-401.36C233.59,-362.03 268.65,-295.47 231,-255.13 222.18,-245.69 126.92,-252.12 115,-247.13 107.87,-244.15 101.03,-239.83 94.77,-234.99\"/>\n",
       "<polygon fill=\"black\" stroke=\"black\" points=\"97.08,-232.37 87.18,-228.61 92.57,-237.72 97.08,-232.37\"/>\n",
       "</g>\n",
       "<!-- jstar -->\n",
       "<g id=\"node5\" class=\"node\">\n",
       "<title>jstar</title>\n",
       "<ellipse fill=\"lightgrey\" stroke=\"black\" cx=\"179\" cy=\"-198.48\" rx=\"55.33\" ry=\"40.66\"/>\n",
       "<text text-anchor=\"middle\" x=\"179\" y=\"-209.93\" font-family=\"Times,serif\" font-size=\"14.00\">jstar</text>\n",
       "<text text-anchor=\"middle\" x=\"179\" y=\"-193.43\" font-family=\"Times,serif\" font-size=\"14.00\">~</text>\n",
       "<text text-anchor=\"middle\" x=\"179\" y=\"-176.93\" font-family=\"Times,serif\" font-size=\"14.00\">Categorical</text>\n",
       "</g>\n",
       "<!-- p&#45;&gt;jstar -->\n",
       "<g id=\"edge5\" class=\"edge\">\n",
       "<title>p&#45;&gt;jstar</title>\n",
       "<path fill=\"none\" stroke=\"black\" d=\"M173.69,-287.33C174.36,-276.35 175.14,-263.4 175.9,-250.87\"/>\n",
       "<polygon fill=\"black\" stroke=\"black\" points=\"179.38,-251.25 176.49,-241.05 172.39,-250.82 179.38,-251.25\"/>\n",
       "</g>\n",
       "<!-- buy -->\n",
       "<g id=\"node6\" class=\"node\">\n",
       "<title>buy</title>\n",
       "<ellipse fill=\"lightgrey\" stroke=\"black\" cx=\"63\" cy=\"-81.16\" rx=\"47.38\" ry=\"40.66\"/>\n",
       "<text text-anchor=\"middle\" x=\"63\" y=\"-92.61\" font-family=\"Times,serif\" font-size=\"14.00\">buy</text>\n",
       "<text text-anchor=\"middle\" x=\"63\" y=\"-76.11\" font-family=\"Times,serif\" font-size=\"14.00\">~</text>\n",
       "<text text-anchor=\"middle\" x=\"63\" y=\"-59.61\" font-family=\"Times,serif\" font-size=\"14.00\">Bernoulli</text>\n",
       "</g>\n",
       "<!-- q&#45;&gt;buy -->\n",
       "<g id=\"edge6\" class=\"edge\">\n",
       "<title>q&#45;&gt;buy</title>\n",
       "<path fill=\"none\" stroke=\"black\" d=\"M61.49,-169.27C61.68,-158.44 61.9,-145.73 62.11,-133.41\"/>\n",
       "<polygon fill=\"black\" stroke=\"black\" points=\"65.6,-133.84 62.28,-123.78 58.61,-133.72 65.6,-133.84\"/>\n",
       "</g>\n",
       "</g>\n",
       "</svg>\n"
      ],
      "text/plain": [
       "<graphviz.graphs.Digraph at 0x32bdeeba0>"
      ]
     },
     "execution_count": 19,
     "metadata": {},
     "output_type": "execute_result"
    }
   ],
   "source": [
    "with pm.Model(coords=coords_2) as model_2:\n",
    "\n",
    "    # mu_α_p = pm.Normal(\"mu_α_p\", 0, 1)\n",
    "    # sigma_α_p = pm.Exponential(\"sigma_α_p\", 1)\n",
    "\n",
    "    alpha_p = pm.Normal(\"alpha_j\", 0, 5, dims=[\"products\"])\n",
    "    \n",
    "    # mu_β_p = pm.Normal(\"mu_β_p\", 0, 1)\n",
    "    # sigma_β_p = pm.Exponential(\"sigma_β_p\", 1)\n",
    "    \n",
    "    beta_p = pm.Normal(\"beta_k\", 0, 5, dims=[\"p_factors\"])\n",
    "\n",
    "    ## Construct Utility matrix\n",
    "\n",
    "    s = pm.math.ones((N, 1)) @ alpha_p.reshape((1, -1)) + data[\"product_features\"][:, :-1, :] @ beta_p\n",
    "\n",
    "    ## Construct Probabilities\n",
    "    p_ = pm.Deterministic(\"p\", pm.math.softmax(s, axis=1), dims=(\"obs\", \"products\"))\n",
    "    q_ = pm.Deterministic(\"q\", pm.math.log(pm.math.sum(pm.math.exp(s), axis=1)), dims=\"obs\")\n",
    "    \n",
    "    ## Likelihood\n",
    "    choice_obs = pm.Categorical(\"jstar\", p=p_, observed=observed_inside, dims=\"obs\")\n",
    "    bin_obs = pm.Bernoulli(\"buy\", logit_p = q_, observed=observed_buy, dims=\"obs\")\n",
    "\n",
    "pm.model_to_graphviz(model_2)"
   ]
  },
  {
   "cell_type": "markdown",
   "metadata": {},
   "source": [
    "### Estimate the Model"
   ]
  },
  {
   "cell_type": "code",
   "execution_count": 20,
   "metadata": {},
   "outputs": [
    {
     "data": {
      "application/vnd.jupyter.widget-view+json": {
       "model_id": "6c127a391f9e4c3eb24fe3c0606bd29a",
       "version_major": 2,
       "version_minor": 0
      },
      "text/plain": [
       "  0%|          | 0/6000 [00:00<?, ?it/s]"
      ]
     },
     "metadata": {},
     "output_type": "display_data"
    },
    {
     "data": {
      "application/vnd.jupyter.widget-view+json": {
       "model_id": "10ad5bfdc47345a9a48e67533eae729f",
       "version_major": 2,
       "version_minor": 0
      },
      "text/plain": [
       "  0%|          | 0/6000 [00:00<?, ?it/s]"
      ]
     },
     "metadata": {},
     "output_type": "display_data"
    },
    {
     "data": {
      "application/vnd.jupyter.widget-view+json": {
       "model_id": "58cddb4ac8fe4e3c8d0717168e36a424",
       "version_major": 2,
       "version_minor": 0
      },
      "text/plain": [
       "  0%|          | 0/6000 [00:00<?, ?it/s]"
      ]
     },
     "metadata": {},
     "output_type": "display_data"
    },
    {
     "data": {
      "application/vnd.jupyter.widget-view+json": {
       "model_id": "7454c25152a04ebba51f5fdd4091d36e",
       "version_major": 2,
       "version_minor": 0
      },
      "text/plain": [
       "  0%|          | 0/6000 [00:00<?, ?it/s]"
      ]
     },
     "metadata": {},
     "output_type": "display_data"
    }
   ],
   "source": [
    "with model_2:\n",
    "    idata_m2 = pm.sample(\n",
    "        5000,\n",
    "        nuts_sampler=\"numpyro\",\n",
    "        idata_kwargs={\"log_likelihood\": True},\n",
    "        random_seed=100,\n",
    "    )"
   ]
  },
  {
   "cell_type": "markdown",
   "metadata": {},
   "source": [
    "### Visualize the Estimates"
   ]
  },
  {
   "cell_type": "code",
   "execution_count": 21,
   "metadata": {},
   "outputs": [
    {
     "data": {
      "text/html": [
       "<div>\n",
       "<style scoped>\n",
       "    .dataframe tbody tr th:only-of-type {\n",
       "        vertical-align: middle;\n",
       "    }\n",
       "\n",
       "    .dataframe tbody tr th {\n",
       "        vertical-align: top;\n",
       "    }\n",
       "\n",
       "    .dataframe thead th {\n",
       "        text-align: right;\n",
       "    }\n",
       "</style>\n",
       "<table border=\"1\" class=\"dataframe\">\n",
       "  <thead>\n",
       "    <tr style=\"text-align: right;\">\n",
       "      <th></th>\n",
       "      <th>mean</th>\n",
       "      <th>sd</th>\n",
       "      <th>hdi_3%</th>\n",
       "      <th>hdi_97%</th>\n",
       "      <th>mcse_mean</th>\n",
       "      <th>mcse_sd</th>\n",
       "      <th>ess_bulk</th>\n",
       "      <th>ess_tail</th>\n",
       "      <th>r_hat</th>\n",
       "    </tr>\n",
       "  </thead>\n",
       "  <tbody>\n",
       "    <tr>\n",
       "      <th>alpha_j[product_0]</th>\n",
       "      <td>-4.216</td>\n",
       "      <td>0.318</td>\n",
       "      <td>-4.812</td>\n",
       "      <td>-3.625</td>\n",
       "      <td>0.003</td>\n",
       "      <td>0.002</td>\n",
       "      <td>15488.0</td>\n",
       "      <td>15498.0</td>\n",
       "      <td>1.0</td>\n",
       "    </tr>\n",
       "    <tr>\n",
       "      <th>alpha_j[product_1]</th>\n",
       "      <td>-2.661</td>\n",
       "      <td>0.216</td>\n",
       "      <td>-3.048</td>\n",
       "      <td>-2.237</td>\n",
       "      <td>0.002</td>\n",
       "      <td>0.001</td>\n",
       "      <td>13866.0</td>\n",
       "      <td>14849.0</td>\n",
       "      <td>1.0</td>\n",
       "    </tr>\n",
       "    <tr>\n",
       "      <th>alpha_j[product_2]</th>\n",
       "      <td>-2.292</td>\n",
       "      <td>0.204</td>\n",
       "      <td>-2.672</td>\n",
       "      <td>-1.911</td>\n",
       "      <td>0.002</td>\n",
       "      <td>0.001</td>\n",
       "      <td>14255.0</td>\n",
       "      <td>15026.0</td>\n",
       "      <td>1.0</td>\n",
       "    </tr>\n",
       "    <tr>\n",
       "      <th>beta_k[feature_0]</th>\n",
       "      <td>1.126</td>\n",
       "      <td>0.458</td>\n",
       "      <td>0.256</td>\n",
       "      <td>1.972</td>\n",
       "      <td>0.003</td>\n",
       "      <td>0.002</td>\n",
       "      <td>28072.0</td>\n",
       "      <td>15204.0</td>\n",
       "      <td>1.0</td>\n",
       "    </tr>\n",
       "    <tr>\n",
       "      <th>beta_k[feature_1]</th>\n",
       "      <td>-1.888</td>\n",
       "      <td>0.473</td>\n",
       "      <td>-2.812</td>\n",
       "      <td>-1.040</td>\n",
       "      <td>0.003</td>\n",
       "      <td>0.002</td>\n",
       "      <td>28251.0</td>\n",
       "      <td>15621.0</td>\n",
       "      <td>1.0</td>\n",
       "    </tr>\n",
       "    <tr>\n",
       "      <th>beta_k[feature_2]</th>\n",
       "      <td>1.049</td>\n",
       "      <td>0.487</td>\n",
       "      <td>0.146</td>\n",
       "      <td>1.966</td>\n",
       "      <td>0.003</td>\n",
       "      <td>0.002</td>\n",
       "      <td>28537.0</td>\n",
       "      <td>15082.0</td>\n",
       "      <td>1.0</td>\n",
       "    </tr>\n",
       "    <tr>\n",
       "      <th>beta_k[feature_3]</th>\n",
       "      <td>-1.563</td>\n",
       "      <td>0.525</td>\n",
       "      <td>-2.542</td>\n",
       "      <td>-0.569</td>\n",
       "      <td>0.003</td>\n",
       "      <td>0.002</td>\n",
       "      <td>29330.0</td>\n",
       "      <td>15135.0</td>\n",
       "      <td>1.0</td>\n",
       "    </tr>\n",
       "    <tr>\n",
       "      <th>beta_k[feature_4]</th>\n",
       "      <td>1.447</td>\n",
       "      <td>0.487</td>\n",
       "      <td>0.540</td>\n",
       "      <td>2.365</td>\n",
       "      <td>0.003</td>\n",
       "      <td>0.002</td>\n",
       "      <td>24642.0</td>\n",
       "      <td>14988.0</td>\n",
       "      <td>1.0</td>\n",
       "    </tr>\n",
       "  </tbody>\n",
       "</table>\n",
       "</div>"
      ],
      "text/plain": [
       "                     mean     sd  hdi_3%  hdi_97%  mcse_mean  mcse_sd  \\\n",
       "alpha_j[product_0] -4.216  0.318  -4.812   -3.625      0.003    0.002   \n",
       "alpha_j[product_1] -2.661  0.216  -3.048   -2.237      0.002    0.001   \n",
       "alpha_j[product_2] -2.292  0.204  -2.672   -1.911      0.002    0.001   \n",
       "beta_k[feature_0]   1.126  0.458   0.256    1.972      0.003    0.002   \n",
       "beta_k[feature_1]  -1.888  0.473  -2.812   -1.040      0.003    0.002   \n",
       "beta_k[feature_2]   1.049  0.487   0.146    1.966      0.003    0.002   \n",
       "beta_k[feature_3]  -1.563  0.525  -2.542   -0.569      0.003    0.002   \n",
       "beta_k[feature_4]   1.447  0.487   0.540    2.365      0.003    0.002   \n",
       "\n",
       "                    ess_bulk  ess_tail  r_hat  \n",
       "alpha_j[product_0]   15488.0   15498.0    1.0  \n",
       "alpha_j[product_1]   13866.0   14849.0    1.0  \n",
       "alpha_j[product_2]   14255.0   15026.0    1.0  \n",
       "beta_k[feature_0]    28072.0   15204.0    1.0  \n",
       "beta_k[feature_1]    28251.0   15621.0    1.0  \n",
       "beta_k[feature_2]    28537.0   15082.0    1.0  \n",
       "beta_k[feature_3]    29330.0   15135.0    1.0  \n",
       "beta_k[feature_4]    24642.0   14988.0    1.0  "
      ]
     },
     "execution_count": 21,
     "metadata": {},
     "output_type": "execute_result"
    }
   ],
   "source": [
    "az.summary(idata_m2, var_names=[\"~p\", \"~q\"])"
   ]
  },
  {
   "cell_type": "code",
   "execution_count": 22,
   "metadata": {},
   "outputs": [],
   "source": [
    "post2 = az.extract(idata_m2)"
   ]
  },
  {
   "cell_type": "code",
   "execution_count": 23,
   "metadata": {},
   "outputs": [
    {
     "data": {
      "image/png": "[encoded data removed]",
      "text/plain": [
       "<Figure size 640x480 with 4 Axes>"
      ]
     },
     "metadata": {
      "image/png": {
       "height": 463,
       "width": 623
      }
     },
     "output_type": "display_data"
    }
   ],
   "source": [
    "fig, axs = plt.subplots( J // 2 + J % 2, 2)\n",
    "\n",
    "for i in range((J // 2 + J % 2)*2):\n",
    "    plt.sca(axs.flatten()[i])\n",
    "    if i >= J:\n",
    "        plt.gca().axis(\"off\")\n",
    "        continue\n",
    "    sns.histplot(\n",
    "        post2[\"alpha_j\"][i, :],\n",
    "        bins=30,\n",
    "        ec=\"black\",\n",
    "    )\n",
    "    plt.axvline(dgps[\"homogeneous\"][\"α_j\"][i], linestyle=\"dashed\", color=\"black\")\n",
    "    plt.title(rf\"$\\alpha_{i+1}$\")\n",
    "    plt.ylabel(None)\n",
    "    plt.yticks([])\n",
    "\n",
    "plt.tight_layout()\n",
    "plt.show()"
   ]
  },
  {
   "cell_type": "code",
   "execution_count": 24,
   "metadata": {},
   "outputs": [
    {
     "data": {
      "image/png": "[encoded data removed]",
      "text/plain": [
       "<Figure size 640x480 with 6 Axes>"
      ]
     },
     "metadata": {
      "image/png": {
       "height": 464,
       "width": 631
      }
     },
     "output_type": "display_data"
    }
   ],
   "source": [
    "fig, axs = plt.subplots(K // 2 + K % 2, 2)\n",
    "\n",
    "for i in range((K // 2 + K % 2) * 2):\n",
    "    plt.sca(axs.flatten()[i])\n",
    "    if i >= K:\n",
    "        plt.gca().axis(\"off\")\n",
    "        continue\n",
    "    sns.histplot(\n",
    "        post2[\"beta_k\"][i, :],\n",
    "        bins=30,\n",
    "        ec=\"black\",\n",
    "    )\n",
    "    plt.axvline(dgps[\"homogeneous\"][\"β_k\"][i], linestyle=\"dashed\", color=\"black\")\n",
    "    plt.title(rf\"$\\beta_{i+1}$\")\n",
    "    plt.ylabel(None)\n",
    "    plt.yticks([])\n",
    "\n",
    "plt.tight_layout()\n",
    "plt.show()"
   ]
  },
  {
   "cell_type": "markdown",
   "metadata": {},
   "source": [
    "## Dual Response (Synthetic Data)"
   ]
  },
  {
   "cell_type": "code",
   "execution_count": 25,
   "metadata": {},
   "outputs": [],
   "source": [
    "data = generate_observables[\"dual_response_conjoint\"](dgps[\"homogeneous\"])"
   ]
  },
  {
   "cell_type": "markdown",
   "metadata": {},
   "source": [
    "### Construct the \"Synthetic Data\" Model"
   ]
  },
  {
   "cell_type": "code",
   "execution_count": 26,
   "metadata": {},
   "outputs": [],
   "source": [
    "observed_inside = data[\"jstar\"]\n",
    "observed_good = data[\"kstar\"]\n",
    "\n",
    "N = params[\"N\"]\n",
    "J = params[\"J\"]\n",
    "K = params[\"K\"]\n",
    "\n",
    "coords_3 = {\n",
    "    \"products\": [f\"product_{j}\" for j in range(J+1)],\n",
    "    \"p_factors\": [f\"feature_{k}\" for k in range(K)],\n",
    "    \"obs\": range(N),\n",
    "}"
   ]
  },
  {
   "cell_type": "code",
   "execution_count": 27,
   "metadata": {},
   "outputs": [
    {
     "data": {
      "image/svg+xml": [
       "<?xml version=\"1.0\" encoding=\"UTF-8\" standalone=\"no\"?>\n",
       "<!DOCTYPE svg PUBLIC \"-//W3C//DTD SVG 1.1//EN\"\n",
       " \"http://www.w3.org/Graphics/SVG/1.1/DTD/svg11.dtd\">\n",
       "<!-- Generated by graphviz version 12.1.2 (20240928.0832)\n",
       " -->\n",
       "<!-- Pages: 1 -->\n",
       "<svg width=\"286pt\" height=\"382pt\"\n",
       " viewBox=\"0.00 0.00 286.00 381.63\" xmlns=\"http://www.w3.org/2000/svg\" xmlns:xlink=\"http://www.w3.org/1999/xlink\">\n",
       "<g id=\"graph0\" class=\"graph\" transform=\"scale(1 1) rotate(0) translate(4 377.63)\">\n",
       "<polygon fill=\"white\" stroke=\"none\" points=\"-4,4 -4,-377.63 282,-377.63 282,4 -4,4\"/>\n",
       "<g id=\"clust1\" class=\"cluster\">\n",
       "<title>clusterproducts (4)</title>\n",
       "<path fill=\"none\" stroke=\"black\" d=\"M46,-243.82C46,-243.82 120,-243.82 120,-243.82 126,-243.82 132,-249.82 132,-255.82 132,-255.82 132,-353.63 132,-353.63 132,-359.63 126,-365.63 120,-365.63 120,-365.63 46,-365.63 46,-365.63 40,-365.63 34,-359.63 34,-353.63 34,-353.63 34,-255.82 34,-255.82 34,-249.82 40,-243.82 46,-243.82\"/>\n",
       "<text text-anchor=\"middle\" x=\"91\" y=\"-251.02\" font-family=\"Times,serif\" font-size=\"14.00\">products (4)</text>\n",
       "</g>\n",
       "<g id=\"clust2\" class=\"cluster\">\n",
       "<title>clusterp_factors (5)</title>\n",
       "<path fill=\"none\" stroke=\"black\" d=\"M156,-243.82C156,-243.82 230,-243.82 230,-243.82 236,-243.82 242,-249.82 242,-255.82 242,-255.82 242,-353.63 242,-353.63 242,-359.63 236,-365.63 230,-365.63 230,-365.63 156,-365.63 156,-365.63 150,-365.63 144,-359.63 144,-353.63 144,-353.63 144,-255.82 144,-255.82 144,-249.82 150,-243.82 156,-243.82\"/>\n",
       "<text text-anchor=\"middle\" x=\"199.12\" y=\"-251.02\" font-family=\"Times,serif\" font-size=\"14.00\">p_factors (5)</text>\n",
       "</g>\n",
       "<g id=\"clust3\" class=\"cluster\">\n",
       "<title>cluster200 x 4</title>\n",
       "<path fill=\"none\" stroke=\"black\" d=\"M40,-137.82C40,-137.82 122,-137.82 122,-137.82 128,-137.82 134,-143.82 134,-149.82 134,-149.82 134,-223.82 134,-223.82 134,-229.82 128,-235.82 122,-235.82 122,-235.82 40,-235.82 40,-235.82 34,-235.82 28,-229.82 28,-223.82 28,-223.82 28,-149.82 28,-149.82 28,-143.82 34,-137.82 40,-137.82\"/>\n",
       "<text text-anchor=\"middle\" x=\"105.38\" y=\"-145.02\" font-family=\"Times,serif\" font-size=\"14.00\">200 x 4</text>\n",
       "</g>\n",
       "<g id=\"clust4\" class=\"cluster\">\n",
       "<title>cluster162 x 3</title>\n",
       "<path fill=\"none\" stroke=\"black\" d=\"M154,-137.82C154,-137.82 236,-137.82 236,-137.82 242,-137.82 248,-143.82 248,-149.82 248,-149.82 248,-223.82 248,-223.82 248,-229.82 242,-235.82 236,-235.82 236,-235.82 154,-235.82 154,-235.82 148,-235.82 142,-229.82 142,-223.82 142,-223.82 142,-149.82 142,-149.82 142,-143.82 148,-137.82 154,-137.82\"/>\n",
       "<text text-anchor=\"middle\" x=\"219.38\" y=\"-145.02\" font-family=\"Times,serif\" font-size=\"14.00\">162 x 3</text>\n",
       "</g>\n",
       "<g id=\"clust5\" class=\"cluster\">\n",
       "<title>clusterobs (200)</title>\n",
       "<path fill=\"none\" stroke=\"black\" d=\"M20,-8C20,-8 122,-8 122,-8 128,-8 134,-14 134,-20 134,-20 134,-117.82 134,-117.82 134,-123.82 128,-129.82 122,-129.82 122,-129.82 20,-129.82 20,-129.82 14,-129.82 8,-123.82 8,-117.82 8,-117.82 8,-20 8,-20 8,-14 14,-8 20,-8\"/>\n",
       "<text text-anchor=\"middle\" x=\"100.12\" y=\"-15.2\" font-family=\"Times,serif\" font-size=\"14.00\">obs (200)</text>\n",
       "</g>\n",
       "<g id=\"clust6\" class=\"cluster\">\n",
       "<title>cluster162</title>\n",
       "<path fill=\"none\" stroke=\"black\" d=\"M154,-8C154,-8 258,-8 258,-8 264,-8 270,-14 270,-20 270,-20 270,-117.82 270,-117.82 270,-123.82 264,-129.82 258,-129.82 258,-129.82 154,-129.82 154,-129.82 148,-129.82 142,-123.82 142,-117.82 142,-117.82 142,-20 142,-20 142,-14 148,-8 154,-8\"/>\n",
       "<text text-anchor=\"middle\" x=\"251.88\" y=\"-15.2\" font-family=\"Times,serif\" font-size=\"14.00\">162</text>\n",
       "</g>\n",
       "<!-- alpha_j -->\n",
       "<g id=\"node1\" class=\"node\">\n",
       "<title>alpha_j</title>\n",
       "<ellipse fill=\"none\" stroke=\"black\" cx=\"83\" cy=\"-316.98\" rx=\"41.01\" ry=\"40.66\"/>\n",
       "<text text-anchor=\"middle\" x=\"83\" y=\"-328.43\" font-family=\"Times,serif\" font-size=\"14.00\">alpha_j</text>\n",
       "<text text-anchor=\"middle\" x=\"83\" y=\"-311.93\" font-family=\"Times,serif\" font-size=\"14.00\">~</text>\n",
       "<text text-anchor=\"middle\" x=\"83\" y=\"-295.43\" font-family=\"Times,serif\" font-size=\"14.00\">Normal</text>\n",
       "</g>\n",
       "<!-- p -->\n",
       "<g id=\"node3\" class=\"node\">\n",
       "<title>p</title>\n",
       "<polygon fill=\"none\" stroke=\"black\" points=\"126.12,-227.82 35.88,-227.82 35.88,-170.32 126.12,-170.32 126.12,-227.82\"/>\n",
       "<text text-anchor=\"middle\" x=\"81\" y=\"-210.52\" font-family=\"Times,serif\" font-size=\"14.00\">p</text>\n",
       "<text text-anchor=\"middle\" x=\"81\" y=\"-194.02\" font-family=\"Times,serif\" font-size=\"14.00\">~</text>\n",
       "<text text-anchor=\"middle\" x=\"81\" y=\"-177.52\" font-family=\"Times,serif\" font-size=\"14.00\">Deterministic</text>\n",
       "</g>\n",
       "<!-- alpha_j&#45;&gt;p -->\n",
       "<g id=\"edge2\" class=\"edge\">\n",
       "<title>alpha_j&#45;&gt;p</title>\n",
       "<path fill=\"none\" stroke=\"black\" d=\"M82.31,-276.09C82.11,-264.2 81.88,-251.19 81.68,-239.34\"/>\n",
       "<polygon fill=\"black\" stroke=\"black\" points=\"85.18,-239.42 81.51,-229.48 78.18,-239.54 85.18,-239.42\"/>\n",
       "</g>\n",
       "<!-- q -->\n",
       "<g id=\"node4\" class=\"node\">\n",
       "<title>q</title>\n",
       "<polygon fill=\"none\" stroke=\"black\" points=\"240.12,-227.82 149.88,-227.82 149.88,-170.32 240.12,-170.32 240.12,-227.82\"/>\n",
       "<text text-anchor=\"middle\" x=\"195\" y=\"-210.52\" font-family=\"Times,serif\" font-size=\"14.00\">q</text>\n",
       "<text text-anchor=\"middle\" x=\"195\" y=\"-194.02\" font-family=\"Times,serif\" font-size=\"14.00\">~</text>\n",
       "<text text-anchor=\"middle\" x=\"195\" y=\"-177.52\" font-family=\"Times,serif\" font-size=\"14.00\">Deterministic</text>\n",
       "</g>\n",
       "<!-- alpha_j&#45;&gt;q -->\n",
       "<g id=\"edge4\" class=\"edge\">\n",
       "<title>alpha_j&#45;&gt;q</title>\n",
       "<path fill=\"none\" stroke=\"black\" d=\"M106.47,-283.03C116.23,-270.24 128.05,-255.8 140,-243.82 142.75,-241.05 145.68,-238.3 148.68,-235.59\"/>\n",
       "<polygon fill=\"black\" stroke=\"black\" points=\"150.9,-238.31 156.17,-229.12 146.32,-233.01 150.9,-238.31\"/>\n",
       "</g>\n",
       "<!-- beta_k -->\n",
       "<g id=\"node2\" class=\"node\">\n",
       "<title>beta_k</title>\n",
       "<ellipse fill=\"none\" stroke=\"black\" cx=\"193\" cy=\"-316.98\" rx=\"41.01\" ry=\"40.66\"/>\n",
       "<text text-anchor=\"middle\" x=\"193\" y=\"-328.43\" font-family=\"Times,serif\" font-size=\"14.00\">beta_k</text>\n",
       "<text text-anchor=\"middle\" x=\"193\" y=\"-311.93\" font-family=\"Times,serif\" font-size=\"14.00\">~</text>\n",
       "<text text-anchor=\"middle\" x=\"193\" y=\"-295.43\" font-family=\"Times,serif\" font-size=\"14.00\">Normal</text>\n",
       "</g>\n",
       "<!-- beta_k&#45;&gt;p -->\n",
       "<g id=\"edge1\" class=\"edge\">\n",
       "<title>beta_k&#45;&gt;p</title>\n",
       "<path fill=\"none\" stroke=\"black\" d=\"M169.53,-283.03C159.77,-270.24 147.95,-255.8 136,-243.82 133.25,-241.05 130.32,-238.3 127.32,-235.59\"/>\n",
       "<polygon fill=\"black\" stroke=\"black\" points=\"129.68,-233.01 119.83,-229.12 125.1,-238.31 129.68,-233.01\"/>\n",
       "</g>\n",
       "<!-- beta_k&#45;&gt;q -->\n",
       "<g id=\"edge3\" class=\"edge\">\n",
       "<title>beta_k&#45;&gt;q</title>\n",
       "<path fill=\"none\" stroke=\"black\" d=\"M193.69,-276.09C193.89,-264.2 194.12,-251.19 194.32,-239.34\"/>\n",
       "<polygon fill=\"black\" stroke=\"black\" points=\"197.82,-239.54 194.49,-229.48 190.82,-239.42 197.82,-239.54\"/>\n",
       "</g>\n",
       "<!-- y_cat -->\n",
       "<g id=\"node5\" class=\"node\">\n",
       "<title>y_cat</title>\n",
       "<ellipse fill=\"lightgrey\" stroke=\"black\" cx=\"71\" cy=\"-81.16\" rx=\"55.33\" ry=\"40.66\"/>\n",
       "<text text-anchor=\"middle\" x=\"71\" y=\"-92.61\" font-family=\"Times,serif\" font-size=\"14.00\">y_cat</text>\n",
       "<text text-anchor=\"middle\" x=\"71\" y=\"-76.11\" font-family=\"Times,serif\" font-size=\"14.00\">~</text>\n",
       "<text text-anchor=\"middle\" x=\"71\" y=\"-59.61\" font-family=\"Times,serif\" font-size=\"14.00\">Categorical</text>\n",
       "</g>\n",
       "<!-- p&#45;&gt;y_cat -->\n",
       "<g id=\"edge5\" class=\"edge\">\n",
       "<title>p&#45;&gt;y_cat</title>\n",
       "<path fill=\"none\" stroke=\"black\" d=\"M78.58,-170.01C77.63,-159.03 76.52,-146.08 75.43,-133.55\"/>\n",
       "<polygon fill=\"black\" stroke=\"black\" points=\"78.93,-133.4 74.59,-123.73 71.96,-134 78.93,-133.4\"/>\n",
       "</g>\n",
       "<!-- y_cat_extra -->\n",
       "<g id=\"node6\" class=\"node\">\n",
       "<title>y_cat_extra</title>\n",
       "<ellipse fill=\"lightgrey\" stroke=\"black\" cx=\"206\" cy=\"-81.16\" rx=\"55.86\" ry=\"40.66\"/>\n",
       "<text text-anchor=\"middle\" x=\"206\" y=\"-92.61\" font-family=\"Times,serif\" font-size=\"14.00\">y_cat_extra</text>\n",
       "<text text-anchor=\"middle\" x=\"206\" y=\"-76.11\" font-family=\"Times,serif\" font-size=\"14.00\">~</text>\n",
       "<text text-anchor=\"middle\" x=\"206\" y=\"-59.61\" font-family=\"Times,serif\" font-size=\"14.00\">Categorical</text>\n",
       "</g>\n",
       "<!-- q&#45;&gt;y_cat_extra -->\n",
       "<g id=\"edge6\" class=\"edge\">\n",
       "<title>q&#45;&gt;y_cat_extra</title>\n",
       "<path fill=\"none\" stroke=\"black\" d=\"M197.66,-170.01C198.71,-158.93 199.96,-145.84 201.16,-133.2\"/>\n",
       "<polygon fill=\"black\" stroke=\"black\" points=\"204.64,-133.58 202.1,-123.29 197.67,-132.92 204.64,-133.58\"/>\n",
       "</g>\n",
       "</g>\n",
       "</svg>\n"
      ],
      "text/plain": [
       "<graphviz.graphs.Digraph at 0x399cfe9c0>"
      ]
     },
     "execution_count": 27,
     "metadata": {},
     "output_type": "execute_result"
    }
   ],
   "source": [
    "with pm.Model(coords=coords_3) as model_3:\n",
    "\n",
    "    # mu_α_p = pm.Normal(\"mu_α_p\", 0, 1)\n",
    "    # sigma_α_p = pm.Exponential(\"sigma_α_p\", 1)\n",
    "\n",
    "    alpha_p = pm.Normal(\"alpha_j\", 0, 5, dims=[\"products\"])\n",
    "    alpha_p = pt.set_subtensor(alpha_p[-1], 0) #outside good\n",
    "\n",
    "    # mu_β_p = pm.Normal(\"mu_β_p\", 0, 1)\n",
    "    # sigma_β_p = pm.Exponential(\"sigma_β_p\", 1)\n",
    "    \n",
    "    beta_p = pm.Normal(\"beta_k\", 0, 5, dims=[\"p_factors\"])\n",
    "\n",
    "    ## Construct Utility matrix\n",
    "\n",
    "    s = pm.math.ones((N, 1)) @ alpha_p.reshape((1, -1)) + data[\"product_features\"] @ beta_p\n",
    "\n",
    "    ## Construct Probabilities\n",
    "    extra_info_indices = observed_good == J\n",
    "    p_ = pm.Deterministic(\"p\", pm.math.softmax(s, axis=1)) #all goods\n",
    "    q_ = pm.Deterministic(\"q\", pm.math.softmax(s[extra_info_indices, :-1], axis=1)) #inside goods\n",
    "    \n",
    "    \n",
    "    ## Likelihood\n",
    "    choice_obs = pm.Categorical(\"y_cat\", p=p_, observed=observed_good, dims=\"obs\")\n",
    "    choice_obs_extra = pm.Categorical(\"y_cat_extra\", p=q_, observed=observed_inside[extra_info_indices])\n",
    "    \n",
    "\n",
    "pm.model_to_graphviz(model_3)"
   ]
  },
  {
   "cell_type": "markdown",
   "metadata": {},
   "source": [
    "### Estimate the Model"
   ]
  },
  {
   "cell_type": "code",
   "execution_count": 28,
   "metadata": {},
   "outputs": [
    {
     "data": {
      "application/vnd.jupyter.widget-view+json": {
       "model_id": "671d88da47264a0e891f8d61a4784a8a",
       "version_major": 2,
       "version_minor": 0
      },
      "text/plain": [
       "  0%|          | 0/6000 [00:00<?, ?it/s]"
      ]
     },
     "metadata": {},
     "output_type": "display_data"
    },
    {
     "data": {
      "application/vnd.jupyter.widget-view+json": {
       "model_id": "68663c13d2194a93be4ced69c1ed064e",
       "version_major": 2,
       "version_minor": 0
      },
      "text/plain": [
       "  0%|          | 0/6000 [00:00<?, ?it/s]"
      ]
     },
     "metadata": {},
     "output_type": "display_data"
    },
    {
     "data": {
      "application/vnd.jupyter.widget-view+json": {
       "model_id": "6ee2d5dea4274e4b81e5a31d0cbccd4b",
       "version_major": 2,
       "version_minor": 0
      },
      "text/plain": [
       "  0%|          | 0/6000 [00:00<?, ?it/s]"
      ]
     },
     "metadata": {},
     "output_type": "display_data"
    },
    {
     "data": {
      "application/vnd.jupyter.widget-view+json": {
       "model_id": "505f6937d6e24f028b39e8abe8abb58b",
       "version_major": 2,
       "version_minor": 0
      },
      "text/plain": [
       "  0%|          | 0/6000 [00:00<?, ?it/s]"
      ]
     },
     "metadata": {},
     "output_type": "display_data"
    }
   ],
   "source": [
    "with model_3:\n",
    "    idata_m3 = pm.sample(\n",
    "        5000,\n",
    "        nuts_sampler=\"numpyro\",\n",
    "        idata_kwargs={\"log_likelihood\": True},\n",
    "        random_seed=100,\n",
    "    )"
   ]
  },
  {
   "cell_type": "markdown",
   "metadata": {},
   "source": [
    "### Visualize the Estimates"
   ]
  },
  {
   "cell_type": "code",
   "execution_count": null,
   "metadata": {},
   "outputs": [],
   "source": [
    "az.summary(idata_m3, var_names=[\"~p\", \"~q\"])"
   ]
  },
  {
   "cell_type": "code",
   "execution_count": 70,
   "metadata": {},
   "outputs": [],
   "source": [
    "post3 = az.extract(idata_m3)"
   ]
  },
  {
   "cell_type": "code",
   "execution_count": null,
   "metadata": {},
   "outputs": [],
   "source": [
    "fig, axs = plt.subplots( J // 2 + J % 2, 2)\n",
    "\n",
    "for i in range((J // 2 + J % 2)*2):\n",
    "    plt.sca(axs.flatten()[i])\n",
    "    if i >= J:\n",
    "        plt.gca().axis(\"off\")\n",
    "        continue\n",
    "    sns.histplot(\n",
    "        post3[\"alpha_j\"][i, :],\n",
    "        bins=30,\n",
    "        ec=\"black\",\n",
    "    )\n",
    "    plt.axvline(dgps[\"homogeneous\"][\"α_j\"][i], linestyle=\"dashed\", color=\"black\")\n",
    "    plt.title(rf\"$\\alpha_{i+1}$\")\n",
    "    plt.ylabel(None)\n",
    "    plt.yticks([])\n",
    "\n",
    "plt.tight_layout()\n",
    "plt.show()"
   ]
  },
  {
   "cell_type": "code",
   "execution_count": null,
   "metadata": {},
   "outputs": [],
   "source": [
    "fig, axs = plt.subplots(K // 2 + K % 2, 2)\n",
    "\n",
    "for i in range((K // 2 + K % 2) * 2):\n",
    "    plt.sca(axs.flatten()[i])\n",
    "    if i >= K:\n",
    "        plt.gca().axis(\"off\")\n",
    "        continue\n",
    "    sns.histplot(\n",
    "        post3[\"beta_k\"][i, :],\n",
    "        bins=30,\n",
    "        ec=\"black\",\n",
    "    )\n",
    "    plt.axvline(dgps[\"homogeneous\"][\"β_k\"][i], linestyle=\"dashed\", color=\"black\")\n",
    "    plt.title(rf\"$\\beta_{i+1}$\")\n",
    "    plt.ylabel(None)\n",
    "    plt.yticks([])\n",
    "\n",
    "plt.tight_layout()\n",
    "plt.show()"
   ]
  },
  {
   "cell_type": "markdown",
   "metadata": {},
   "source": [
    "### Stata Code\n",
    "\n",
    "```stata\n",
    "import delimited \"~/Desktop/data.csv\", clear\n",
    "egen case_id = group(consumer_id task_id)\n",
    "\n",
    "cmset case_id choice_id\n",
    "\n",
    "estimates clear\n",
    "eststo: cmclogit purchase f* if task_id == 0\n",
    "eststo: cmclogit purchase f*\n",
    "esttab *\n",
    "```"
   ]
  },
  {
   "cell_type": "markdown",
   "metadata": {},
   "source": [
    "# Heterogeneous Consumer Preferences\n",
    "\n",
    "Note: Without repeat observations of the same consumer, it is a hopeless estimation exercise.\n",
    "\n",
    "## Visualize the Data"
   ]
  },
  {
   "cell_type": "code",
   "execution_count": null,
   "metadata": {},
   "outputs": [],
   "source": [
    "sns.countplot(x=data[\"dgp1\"][\"jstar\"])\n",
    "sns.countplot(x=data[\"dgp1\"][\"kstar\"])\n",
    "plt.legend(title=\"Survey Response\", labels=[\"Preferred Inside Good\", \"Preferred Overall Good\"])\n",
    "plt.show()"
   ]
  },
  {
   "cell_type": "code",
   "execution_count": null,
   "metadata": {},
   "outputs": [],
   "source": [
    "fig, axs = plt.subplots(1, 2)\n",
    "sns.countplot(x=data[\"dgp1\"][\"jstar\"], ax=axs[0]).set(title=\"Preferred Good\")\n",
    "sns.countplot(x=data[\"dgp1\"][\"jstar\"]==data[\"dgp1\"][\"kstar\"], ax=axs[1]).set(title=\"Would Buy\")\n",
    "# plt.legend(title=\"Survey Response\", labels=[\"Preferred Inside Good\", \"Would Buy\"])\n",
    "plt.tight_layout()\n",
    "plt.show()"
   ]
  },
  {
   "cell_type": "markdown",
   "metadata": {},
   "source": [
    "## Classic Multinomial Logit\n",
    "\n",
    "### Construct the Model"
   ]
  },
  {
   "cell_type": "code",
   "execution_count": 9,
   "metadata": {},
   "outputs": [],
   "source": [
    "N = params[\"N\"]\n",
    "M = params[\"M\"]\n",
    "J = params[\"J\"]\n",
    "K = params[\"K\"]\n",
    "W = params[\"W\"]\n",
    "\n",
    "\n",
    "coords_1 = {\n",
    "    \"products\": [f\"product_{i}\" for i in range(J + 1)],\n",
    "    \"i_factors\": [f\"if_{i}\" for i in range(M)],\n",
    "    \"p_factors\": [f\"pf_{i}\" for i in range(K)],\n",
    "    \"obs\": range(N),\n",
    "}"
   ]
  },
  {
   "cell_type": "code",
   "execution_count": null,
   "metadata": {},
   "outputs": [],
   "source": [
    "observed_good = data[\"dgp1\"][\"kstar\"]\n",
    "\n",
    "with pm.Model(coords=coords_1) as model_4:\n",
    "\n",
    "    mu_α_p = pm.Normal(\"mu_α_p\", 0, 1)\n",
    "    sigma_α_p = pm.Exponential(\"sigma_α_p\", 1)\n",
    "\n",
    "    alpha_p = pm.Normal(\"alpha_j\", mu_α_p, sigma_α_p, dims=[\"obs\", \"products\"])\n",
    "    alpha_p = pt.set_subtensor(alpha_p[:, -1], 0) #outside good\n",
    "\n",
    "    mu_β_p = pm.Normal(\"mu_β_p\", 0, 1)\n",
    "    sigma_β_p = pm.Exponential(\"sigma_β_p\", 1)\n",
    "    \n",
    "    beta_p = pm.Normal(\"beta_k\", mu_β_p, sigma_β_p, dims=[\"obs\", \"p_factors\"])\n",
    "\n",
    "    ## Construct Utility matrix\n",
    "\n",
    "    s = alpha_p + pm.math.sum(data[\"product_features\"] * beta_p.reshape((N, 1, K)), axis=2)\n",
    "\n",
    "    ## Construct Probabilities\n",
    "    p_ = pm.Deterministic(\"p\", pm.math.softmax(s, axis=1)) #all goods\n",
    "    \n",
    "    \n",
    "    ## Likelihood\n",
    "    choice_obs = pm.Categorical(\"y_cat\", p=p_, observed=observed_good, dims=\"obs\")\n",
    "    \n",
    "\n",
    "pm.model_to_graphviz(model_4)"
   ]
  },
  {
   "cell_type": "markdown",
   "metadata": {},
   "source": [
    "### Estimate the Model"
   ]
  },
  {
   "cell_type": "code",
   "execution_count": null,
   "metadata": {},
   "outputs": [],
   "source": [
    "with model_4:\n",
    "    idata_m4 = pm.sample(\n",
    "        5000,\n",
    "        nuts_sampler=\"numpyro\",\n",
    "        idata_kwargs={\"log_likelihood\": True},\n",
    "        random_seed=100,\n",
    "    )\n",
    "\n",
    "az.summary(idata_m4, var_names=[\"~p\"])\n",
    "post4 = az.extract(idata_m4)"
   ]
  },
  {
   "cell_type": "markdown",
   "metadata": {},
   "source": [
    "### Visualize the Estimates"
   ]
  },
  {
   "cell_type": "code",
   "execution_count": null,
   "metadata": {},
   "outputs": [],
   "source": [
    "# fig, axs = plt.subplots( J // 2 + J % 2, 2)\n",
    "\n",
    "# for i in range((J // 2 + J % 2)*2):\n",
    "#     plt.sca(axs.flatten()[i])\n",
    "#     if i >= J:\n",
    "#         plt.gca().axis(\"off\")\n",
    "#         continue\n",
    "#     sns.histplot(\n",
    "#         post3[\"alpha_j\"][i, :],\n",
    "#         bins=30,\n",
    "#         ec=\"black\",\n",
    "#     )\n",
    "#     plt.axvline(data[\"dgp0\"][\"latent_α_j\"][i], linestyle=\"dashed\", color=\"black\")\n",
    "#     plt.title(rf\"$\\alpha_{i+1}$\")\n",
    "#     plt.ylabel(None)\n",
    "#     plt.yticks([])\n",
    "\n",
    "# plt.tight_layout()\n",
    "# plt.show()"
   ]
  },
  {
   "cell_type": "code",
   "execution_count": null,
   "metadata": {},
   "outputs": [],
   "source": [
    "# fig, axs = plt.subplots(K // 2 + K % 2, 2)\n",
    "\n",
    "# for i in range((K // 2 + K % 2) * 2):\n",
    "#     plt.sca(axs.flatten()[i])\n",
    "#     if i >= K:\n",
    "#         plt.gca().axis(\"off\")\n",
    "#         continue\n",
    "#     sns.histplot(\n",
    "#         post3[\"beta_k\"][i, :],\n",
    "#         bins=30,\n",
    "#         ec=\"black\",\n",
    "#     )\n",
    "#     plt.axvline(data[\"dgp0\"][\"latent_β_k\"][i], linestyle=\"dashed\", color=\"black\")\n",
    "#     plt.title(rf\"$\\beta_{i+1}$\")\n",
    "#     plt.ylabel(None)\n",
    "#     plt.yticks([])\n",
    "\n",
    "# plt.tight_layout()\n",
    "# plt.show()"
   ]
  },
  {
   "cell_type": "markdown",
   "metadata": {},
   "source": [
    "## Likert Multinomial Logit (ALL BELOW IS OLD)"
   ]
  },
  {
   "cell_type": "markdown",
   "metadata": {},
   "source": [
    "### Simulate Data"
   ]
  },
  {
   "cell_type": "code",
   "execution_count": 14,
   "metadata": {},
   "outputs": [],
   "source": [
    "def make_data(params):\n",
    "\n",
    "    ## load parameters\n",
    "    W = params[\"W\"]\n",
    "    J = params[\"J\"]\n",
    "    K = params[\"K\"]\n",
    "    N = params[\"N\"]\n",
    "\n",
    "    np.random.seed(42)\n",
    "\n",
    "    ## generate latent parameters\n",
    "    product_features = np.random.normal(-1, 0.2, (J, K))\n",
    "    π = np.random.dirichlet([1] * W, 1).flatten().cumsum()\n",
    "    η = np.random.gumbel(0, 1, (N, J))\n",
    "    # ɛ = np.random.normal(0, 1, (N, J))\n",
    "\n",
    "    β_prod = np.ones((N, 1)) @ np.random.normal(0, 1, (1, K))\n",
    "    ## generate data\n",
    "    # y = np.zeros((N, J))\n",
    "\n",
    "    u = β_prod @ product_features.T + η\n",
    "\n",
    "    t = np.argmax(u, axis=1)\n",
    "    v = u[np.arange(N), t]\n",
    "    w = np.digitize(gumbel_r.cdf(v), π)\n",
    "\n",
    "    d = {\n",
    "        \"product_features\": product_features,\n",
    "        \"t\": t,\n",
    "        \"w\": w,\n",
    "        \"latent_cutpoints\": π,\n",
    "        \"latent_utilities\": u,\n",
    "        \"latent_β_feature\": β_prod,\n",
    "    }\n",
    "    \n",
    "    return d\n",
    "\n",
    "\n",
    "params = {\"N\": 1000, \"J\": 3, \"K\": 5, \"M\": 2, \"W\": 4}\n",
    "\n",
    "df = make_data(params)"
   ]
  },
  {
   "cell_type": "code",
   "execution_count": 15,
   "metadata": {},
   "outputs": [],
   "source": [
    "observed_good = df[\"t\"]\n",
    "observed_bin = df[\"w\"]\n",
    "\n",
    "N = params[\"N\"]\n",
    "J = params[\"J\"]\n",
    "K = params[\"K\"]\n",
    "W = params[\"W\"]\n",
    "\n",
    "\n",
    "coords = {\n",
    "    \"products\": [f\"product_{i}\" for i in range(J)],\n",
    "    \"p_factors\": [f\"pf_{i}\" for i in range(K)],\n",
    "    \"obs\": range(N),\n",
    "    \"bins\": range(W)\n",
    "}"
   ]
  },
  {
   "cell_type": "code",
   "execution_count": null,
   "metadata": {},
   "outputs": [],
   "source": [
    "with pm.Model(coords=coords) as model_1:\n",
    "\n",
    "    mu_β_p = pm.Normal(\"mu_β_p\", 0, 1)\n",
    "    sigma_β_p = pm.Exponential(\"sigma_β_p\", 1)\n",
    "    beta_p = (\n",
    "        pm.math.ones((N, 1))\n",
    "        * pm.Normal(\"beta_pf\", mu_β_p, sigma_β_p, dims=[\"p_factors\"]).T\n",
    "    )  # want there to be N*K beta's\n",
    "\n",
    "    ## Construct Utility matrix\n",
    "\n",
    "    s = beta_p @ df[\"product_features\"].T\n",
    "    u = pm.math.log(pm.math.sum(pm.math.exp(s), axis=1))\n",
    "    # s = pm.math.concatenate([s_good, np.zeros((N, 1))], axis=1)\n",
    "\n",
    "    ## Apply Softmax Transform\n",
    "    p_ = pm.Deterministic(\"p\", pm.math.softmax(s, axis=1), dims=(\"obs\", \"products\"))\n",
    "\n",
    "    π = pm.Dirichlet(\"latent_binwidths\", a=pm.math.ones(W))  # W x 1\n",
    "    π = pm.Deterministic(\n",
    "        \"latent_cutpoints\", pm.math.cumsum(π)\n",
    "    )\n",
    "    cutpoints = -pm.math.log(-pm.math.log(π[:-1]))\n",
    "\n",
    "    ## Likelihood\n",
    "    choice_obs = pm.Categorical(\"preferred_good\", p=p_, observed=observed_good, dims=\"obs\")\n",
    "    bin_obs = pm.OrderedLogistic(\"buy_probability\", eta=u, cutpoints=cutpoints, observed=observed_bin)\n",
    "\n",
    "pm.model_to_graphviz(model_1)"
   ]
  },
  {
   "cell_type": "code",
   "execution_count": null,
   "metadata": {},
   "outputs": [],
   "source": [
    "with model_1:\n",
    "    idata_m1 = (\n",
    "        pm.sample(\n",
    "            5000,\n",
    "            nuts_sampler=\"numpyro\",\n",
    "            idata_kwargs={\"log_likelihood\": True},\n",
    "            random_seed=100,\n",
    "        )\n",
    "    )"
   ]
  },
  {
   "cell_type": "code",
   "execution_count": null,
   "metadata": {},
   "outputs": [],
   "source": [
    "az.summary(idata_m1, var_names=[\"beta_pf\"])"
   ]
  },
  {
   "cell_type": "code",
   "execution_count": null,
   "metadata": {},
   "outputs": [],
   "source": [
    "post = az.extract(idata_m1)\n",
    "fig, axs = plt.subplots(3, 2)\n",
    "\n",
    "for i in range(6):\n",
    "    plt.sca(axs.flatten()[i])\n",
    "    if i >= K:\n",
    "        plt.gca().axis(\"off\")\n",
    "        continue\n",
    "    sns.histplot(\n",
    "        post[\"beta_pf\"][i, :],\n",
    "        bins=30,\n",
    "        ec=\"black\",\n",
    "    )\n",
    "    plt.axvline(df[\"latent_β_feature\"][0, i], linestyle=\"dashed\", color=\"black\")\n",
    "    plt.title(rf\"$\\beta_{i+1}$\")\n",
    "    plt.ylabel(None)\n",
    "    plt.yticks([])\n",
    "\n",
    "plt.tight_layout()\n",
    "plt.show()"
   ]
  },
  {
   "cell_type": "markdown",
   "metadata": {},
   "source": [
    "### Individual-specific $\\beta$ (To Do...)"
   ]
  },
  {
   "cell_type": "code",
   "execution_count": 20,
   "metadata": {},
   "outputs": [],
   "source": [
    "def make_data(params):\n",
    "\n",
    "    ## load parameters\n",
    "    M = params[\"M\"]\n",
    "    W = params[\"W\"]\n",
    "    J = params[\"J\"]\n",
    "    K = params[\"K\"]\n",
    "    N = params[\"N\"]\n",
    "\n",
    "    np.random.seed(42)\n",
    "\n",
    "    ## generate latent parameters\n",
    "\n",
    "    π = np.random.dirichlet([1] * W, 1).flatten().cumsum()\n",
    "    η = np.random.gumbel(0, 1, (N, J))\n",
    "    β_prod = np.ones((N, 1)) @ np.random.normal(0, 1, (1, K))\n",
    "\n",
    "    ## generate observable product features\n",
    "\n",
    "    product_features = np.random.normal(-1, 0.2, (J, K))\n",
    "\n",
    "    ## generate data\n",
    "    u = β_prod @ product_features.T + η\n",
    "\n",
    "    t = np.argmax(u, axis=1)\n",
    "    v = u[np.arange(N), t]\n",
    "    w = np.digitize(gumbel_r.cdf(v), π)\n",
    "\n",
    "    d = {\n",
    "        \"product_features\": product_features,\n",
    "        \"t\": t,\n",
    "        \"w\": w,\n",
    "        \"latent_cutpoints\": π,\n",
    "        \"latent_utilities\": u,\n",
    "        \"latent_β_feature\": β_prod,\n",
    "    }\n",
    "\n",
    "    return d\n",
    "\n",
    "\n",
    "params = {\"N\": 1000, \"J\": 3, \"K\": 5, \"M\": 2, \"W\": 4}\n",
    "\n",
    "df = make_data(params)"
   ]
  },
  {
   "cell_type": "code",
   "execution_count": null,
   "metadata": {},
   "outputs": [],
   "source": [
    "sns.barplot(**dict(zip([\"x\", \"y\"], np.unique(df[\"w\"], return_counts=True))))\n",
    "plt.show()"
   ]
  },
  {
   "cell_type": "code",
   "execution_count": null,
   "metadata": {},
   "outputs": [],
   "source": [
    "fig, axs = plt.subplots(2,2)\n",
    "\n",
    "for i, ax in enumerate(axs.flatten()):\n",
    "    plt.sca(ax)\n",
    "    if i >= J:\n",
    "        plt.gca().axis(\"off\")\n",
    "        continue\n",
    "    # sns.barplot(**dict(zip([\"x\", \"y\"], np.unique(df[\"w\"][df[\"t\"] == i], return_counts=True))))\n",
    "    sns.histplot(df[\"w\"][df[\"t\"] == i], stat=\"density\", discrete=True)\n",
    "    plt.title(rf\"$K={i}$\")\n",
    "    \n",
    "plt.suptitle(r\"$\\mathbb{P}\\left(\\text{Buy}\\,\\middle\\vert\\,K\\right)$\")\n",
    "# plt.suptitle(\"abc\")\n",
    "plt.tight_layout()\n",
    "plt.show()"
   ]
  },
  {
   "cell_type": "code",
   "execution_count": 23,
   "metadata": {},
   "outputs": [],
   "source": [
    "observed_good = df[\"t\"]\n",
    "observed_bin = df[\"w\"]\n",
    "\n",
    "N = params[\"N\"]\n",
    "M = params[\"M\"]\n",
    "J = params[\"J\"]\n",
    "K = params[\"K\"]\n",
    "W = params[\"W\"]\n",
    "# J, K = df[\"product_features\"].shape\n",
    "# W = len(np.unique(observed_bin))\n",
    "\n",
    "\n",
    "coords = {\n",
    "    \"products\": [f\"product_{i}\" for i in range(J)],\n",
    "    \"i_factors\": [f\"if_{i}\" for i in range(N)],\n",
    "    \"p_factors\": [f\"pf_{i}\" for i in range(K)],\n",
    "    \"obs\": range(N),\n",
    "}"
   ]
  },
  {
   "cell_type": "code",
   "execution_count": null,
   "metadata": {},
   "outputs": [],
   "source": [
    "with pm.Model(coords=coords) as model_1:\n",
    "\n",
    "    mu_β_p = pm.Normal(\"mu_β_p\", 0, 1)\n",
    "    sigma_β_p = pm.Exponential(\"sigma_β_p\", 5)\n",
    "\n",
    "    beta_p = (\n",
    "        pm.math.ones((N, 1))\n",
    "        * pm.Normal(\"beta_pf\", mu_β_p, sigma_β_p, dims=[\"p_factors\"]).T\n",
    "    )  # want there to be N*K beta's\n",
    "\n",
    "    π = pm.Dirichlet(\"latent_binwidths\", a=pm.math.ones(W))  # W x 1\n",
    "    α = pm.Deterministic(\n",
    "        \"latent_cutpoints\", pm.math.concatenate([np.ones(1) * 0, pm.math.cumsum(π)])\n",
    "    )  # (W+1) x 1\n",
    "\n",
    "    ## Construct Utility matrix\n",
    "\n",
    "    s_good = beta_p @ df[\"product_features\"].T\n",
    "\n",
    "    # s = pm.math.concatenate([s_good, np.zeros((N, 1))], axis=1)\n",
    "    \n",
    "    s = s_good\n",
    "\n",
    "    ## Calculate good conditional likelihoods\n",
    "    \n",
    "    p_goods = pm.math.softmax(s, axis=1)  # probability that good i is best of J\n",
    "    \n",
    "    ## Apply Softmax Transform\n",
    "    \n",
    "    p_ = pm.Deterministic(\"p\", pm.math.softmax(s, axis=1), dims=(\"obs\", \"products\"))\n",
    "   \n",
    "    ## Apply Gumbel-Max Adjustment\n",
    "    \n",
    "    μbar = pm.math.log(pm.math.sum(pm.math.exp(s), axis=1))  # should be N x 1    \n",
    "\n",
    "    ## Likelihood\n",
    "    \n",
    "    choice_obs = pm.Categorical(\"y_cat\", p=p_, observed=observed_good, dims=\"obs\")\n",
    "    bin_obs = pm.OrderedLogistic(\"bin\", eta=μbar, cutpoints=α, observed=observed_bin, dims=\"obs\")\n",
    " \n",
    "pm.model_to_graphviz(model_1)"
   ]
  },
  {
   "cell_type": "code",
   "execution_count": null,
   "metadata": {},
   "outputs": [],
   "source": [
    "with model_1:\n",
    "    idata_m1 = pm.sample_prior_predictive()\n",
    "    idata_m1.extend(\n",
    "        pm.sample(\n",
    "            5000,\n",
    "            nuts_sampler=\"numpyro\",\n",
    "            idata_kwargs={\"log_likelihood\": True},\n",
    "            random_seed=100,\n",
    "        )\n",
    "    )\n",
    "    idata_m1.extend(pm.sample_posterior_predictive(idata_m1))"
   ]
  },
  {
   "cell_type": "code",
   "execution_count": null,
   "metadata": {},
   "outputs": [],
   "source": [
    "post = az.extract(idata_m1)\n",
    "fig, axs = plt.subplots(3, 2)\n",
    "\n",
    "for i in range(6):\n",
    "    plt.sca(axs.flatten()[i])\n",
    "    if i >= K:\n",
    "        plt.gca().axis(\"off\")\n",
    "        continue\n",
    "    sns.histplot(\n",
    "        post[\"beta_pf\"][i, :],\n",
    "        bins=30,\n",
    "        ec=\"black\",\n",
    "    )\n",
    "    plt.axvline(df[\"latent_β_feature\"][0, i], linestyle=\"dashed\", color=\"black\")\n",
    "    plt.title(rf\"$\\beta_{i+1}$\")\n",
    "    plt.ylabel(None)\n",
    "    plt.yticks([])\n",
    "\n",
    "plt.tight_layout()\n",
    "plt.show()"
   ]
  },
  {
   "cell_type": "markdown",
   "metadata": {},
   "source": [
    "### Archive"
   ]
  },
  {
   "cell_type": "code",
   "execution_count": 27,
   "metadata": {},
   "outputs": [],
   "source": [
    "# def make_data(params):\n",
    "\n",
    "#     ## load parameters\n",
    "#     M = params[\"M\"]\n",
    "#     W = params[\"W\"]\n",
    "#     J = params[\"J\"]\n",
    "#     K = params[\"K\"]\n",
    "#     N = params[\"N\"]\n",
    "\n",
    "#     np.random.seed(42)\n",
    "\n",
    "#     ## generate latent parameters\n",
    "#     # individual_features = np.random.normal(0, 0.1, (N, M))\n",
    "#     # individual_features = np.zeros((N, M))\n",
    "#     individual_features = ...\n",
    "#     product_features = np.random.normal(-1, 0.2, (J, K))\n",
    "#     π = np.random.dirichlet([1] * W, 1).flatten().cumsum()\n",
    "#     β_ind = ...\n",
    "#     # β_ind = np.random.normal(0, 1, M)\n",
    "#     # β_prod = np.random.normal(0, 0.2, (K, N))\n",
    "#     # ν = np.random.normal(0, 1, (N, J))\n",
    "#     η = np.random.gumbel(0, 1, (N, J+1))\n",
    "#     # ɛ = np.random.normal(0, 1, (N, J))\n",
    "\n",
    "#     if heterogeneous:\n",
    "#         β_prod = np.random.normal(0, 1, (K, N))\n",
    "#     else:\n",
    "#         β_prod = np.ones((N, 1)) @ np.random.normal(0, 1, (1, K))\n",
    "#     ## generate data\n",
    "#     # y = np.zeros((N, J))\n",
    "\n",
    "#     # u_individual = np.outer(\n",
    "#     #     individual_features @ β_ind,\n",
    "#     #     np.ones(J),\n",
    "#     # )\n",
    "#     u = β_prod @ product_features.T + η\n",
    "\n",
    "#     if heterogeneous:\n",
    "#         u_individual = ...\n",
    "#         u += u_individual\n",
    "\n",
    "#     t = np.argmax(u, axis=1)\n",
    "#     v = u[:, t]\n",
    "#     w = np.digitize(gumbel_r.cdf(v), π)\n",
    "\n",
    "#     d = {\n",
    "#         \"product_features\": product_features,\n",
    "#         \"t\": t,\n",
    "#         \"w\": w,\n",
    "#         \"latent_cutpoints\": π,\n",
    "#         \"latent_utilities\": u,\n",
    "#         \"latent_β_feature\": β_prod\n",
    "#     }\n",
    "\n",
    "#     if heterogeneous:\n",
    "#         d[\"individual_features\"] = individual_features\n",
    "\n",
    "#     if heterogeneous:\n",
    "#         d[\"individual_features\"] = individual_features\n",
    "#         d[\"latent_β_ind\"] = β_ind\n",
    "\n",
    "#     return d\n",
    "\n",
    "# params = {\"N\": 1000, \"J\": 3, \"K\": 5, \"M\": 2, \"W\": 4}\n",
    "\n",
    "# df = make_data(params)"
   ]
  },
  {
   "cell_type": "code",
   "execution_count": 28,
   "metadata": {},
   "outputs": [],
   "source": [
    "# with pm.Model(coords=coords) as model_1:\n",
    "\n",
    "#     mu_β_p = pm.Normal(\"mu_β_p\", 0, 1)\n",
    "#     sigma_β_p = pm.Exponential(\"sigma_β_p\", 5)\n",
    "#     # beta_p = pm.Normal(\n",
    "#     #     \"beta_pf\", mu_β_p, sigma_β_p, dims=[\"obs\", \"p_factors\"]\n",
    "#     # )  # want there to be N*K beta's\n",
    "\n",
    "#     beta_p = (\n",
    "#         pm.math.ones((N, 1))\n",
    "#         * pm.Normal(\"beta_pf\", mu_β_p, sigma_β_p, dims=[\"p_factors\"]).T\n",
    "#     )  # want there to be N*K beta's\n",
    "\n",
    "#     # beta_p_print = Print(\"beta_p\")(beta_p)\n",
    "\n",
    "#     # π = pm.Dirichlet(\"latent_binwidths\", a=pm.math.ones(W))  # W x 1\n",
    "#     # α = pm.Deterministic(\n",
    "#     #     \"latent_cutpoints\", pt.concatenate([np.ones(1) * 0, pt.extra_ops.cumsum(π)])\n",
    "#     # )  # (W+1) x 1\n",
    "\n",
    "#     ## Construct Utility matrix\n",
    "\n",
    "#     # s_good = pm.math.dot(beta_p, df[\"product_features\"].T)  # N x J\n",
    "\n",
    "#     s_good = beta_p @ df[\"product_features\"].T\n",
    "\n",
    "#     # individual_effects = pm.math.sum(pm.math.dot(beta_i, df[\"individual_features\"]), axis=1)\n",
    "#     # s_person = individual_effects[:, None] * pm.math.ones_like(df[\"individual_features\"])\n",
    "#     # s = s_good + 0\n",
    "\n",
    "#     # s_good_print = Print(\"s_good\")(s_good)\n",
    "\n",
    "#     s = pm.math.concatenate([s_good, np.zeros((N, 1))], axis=1)\n",
    "#     ## Calculate good conditional likelihoods\n",
    "#     # p_goods = pm.math.softmax(s, axis=1)  # probability that good i is best of J\n",
    "\n",
    "#     ## Apply Gumbel-Max Adjustment\n",
    "#     # μbar = pm.math.log(pm.math.sum(pm.math.exp(s), axis=1))  # should be N x 1\n",
    "\n",
    "#     ## Apply Softmax Transform\n",
    "#     p_ = pm.Deterministic(\"p\", pm.math.softmax(s, axis=1), dims=(\"obs\", \"products\"))\n",
    "\n",
    "#     ## Likelihood\n",
    "#     choice_obs = pm.Categorical(\"y_cat\", p=p_, observed=observed_good, dims=\"obs\")\n",
    "\n",
    "#     # sandwich_meat = [\n",
    "#     #     (\n",
    "#     #         pm.math.exp(pm.math.exp(μbar) * pm.math.log(α[w]))\n",
    "#     #         - pm.math.exp(pm.math.exp(μbar) * pm.math.log(α[w - 1]))\n",
    "#     #     )\n",
    "#     #     for w in range(2, W)\n",
    "#     # ]\n",
    "\n",
    "#     # ## Calculate bin conditional likelihoods\n",
    "#     # p_bins = pt.stack(\n",
    "#     #     [\n",
    "#     #         pm.math.exp(pm.math.exp(μbar) * pm.math.log(α[1])),  # should be N x 1\n",
    "#     #         *sandwich_meat,  # should be N x W-2\n",
    "#     #         1 - pm.math.exp(pm.math.exp(μbar) * pm.math.log(α[-1])),  # should be N x 1\n",
    "#     #     ],\n",
    "#     #     axis=0,\n",
    "#     # ).T  # should be N x W\n",
    "\n",
    "#     ## Map to observables\n",
    "#     # good_obs = pm.Categorical(\"product\", p=p_goods, observed=observed_good, dims=\"obs\")\n",
    "#     # outside_obs =\n",
    "#     # prob_obs = pm.Categorical(\"bin\", p=probs, observed=observed_prob, dims=\"obs\")\n",
    "#     # bin_obs = pm.Categorical(\"bin\", p=p_bins, observed=observed_bin, dims=\"obs\")\n",
    "\n",
    "# pm.model_to_graphviz(model_1)"
   ]
  },
  {
   "cell_type": "code",
   "execution_count": 29,
   "metadata": {
    "ExecuteTime": {
     "end_time": "2024-06-26T21:36:42.904161Z",
     "start_time": "2024-06-26T21:36:42.899561Z"
    }
   },
   "outputs": [],
   "source": [
    "# az.summary(idata_m1, var_names=[\"mu_β_p\", \"sigma_β_p\", \"latent_cutpoints\"])"
   ]
  }
 ],
 "metadata": {
  "kernelspec": {
   "display_name": ".venv",
   "language": "python",
   "name": "python3"
  },
  "language_info": {
   "codemirror_mode": {
    "name": "ipython",
    "version": 3
   },
   "file_extension": ".py",
   "mimetype": "text/x-python",
   "name": "python",
   "nbconvert_exporter": "python",
   "pygments_lexer": "ipython3",
   "version": "3.12.6"
  }
 },
 "nbformat": 4,
 "nbformat_minor": 2
}
