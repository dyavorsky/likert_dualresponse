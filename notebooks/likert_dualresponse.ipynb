{
 "cells": [
  {
   "cell_type": "code",
   "execution_count": 2,
   "metadata": {
    "ExecuteTime": {
     "end_time": "2024-06-26T21:27:22.690582Z",
     "start_time": "2024-06-26T21:27:20.728808Z"
    }
   },
   "outputs": [
    {
     "name": "stderr",
     "output_type": "stream",
     "text": [
      "WARNING (pytensor.tensor.blas): Using NumPy C-API based implementation for BLAS functions.\n"
     ]
    }
   ],
   "source": [
    "import arviz as az\n",
    "import numpy as np  # For vectorized math operations\n",
    "\n",
    "import pandas as pd  # For file input/output\n",
    "import pymc as pm\n",
    "import pytensor.tensor as pt\n",
    "from scipy.stats import gumbel_r\n",
    "import seaborn as sns\n",
    "from matplotlib import pyplot as plt"
   ]
  },
  {
   "cell_type": "code",
   "execution_count": 3,
   "metadata": {},
   "outputs": [],
   "source": [
    "%config InlineBackend.figure_format='retina'\n",
    "\n",
    "sns.set_theme(\n",
    "    context=\"notebook\",\n",
    "    style=\"white\",\n",
    "    font=\"Latin Modern Roman\",\n",
    "    rc={\n",
    "        \"axes.spines.right\": False,\n",
    "        \"axes.spines.top\": False,\n",
    "        \"text.usetex\": True,\n",
    "    },\n",
    ")\n",
    "\n",
    "extra_params = {\n",
    "    \"text.latex.preamble\": \" \".join([r\"\\usepackage{mathtools}\", r\"\\usepackage{amssymb}\"])\n",
    "}\n",
    "\n",
    "plt.rcParams.update(extra_params)"
   ]
  },
  {
   "cell_type": "markdown",
   "metadata": {},
   "source": [
    "# Introduction\n",
    "\n",
    "Data generating process is:\n",
    "$$\n",
    "u_{ij} = {\\alpha_{ij}} + {x_j}'\\beta^{\\text{feature}}_{i} + \\eta_{ij} - \\eta_{i0}\n",
    "$$\n",
    "where\n",
    "- the consumer knows $\\left(\\alpha_{ij}, x_j, \\beta^{\\text{feature}}_{i}, \\eta_{ij}\\right)$, which implies outcome variables $\\left(j^{(1)}_i,\\, \\ldots\\right)$\n",
    "- the econometrician knows $\\left(x_j, j^{(1)},\\,\\ldots \\right)$ and has priors over $\\left(\\alpha, \\beta^{\\text{feature}}\\right)$\n",
    "- neither the consumer nor the econometrician knows $\\eta_{i0}$, but they have common priors\n",
    "\n",
    "Consumer reports\n",
    "- their preferred \"inside\" good $j^{(1)}$\n",
    "\n",
    "Depending on the setup, the consumer either reports\n",
    "- their preferred \"overall\" good $k^{(1)}$\n",
    "- the probability they purchase the good on a Likert scale with $W$ categories"
   ]
  },
  {
   "cell_type": "markdown",
   "metadata": {},
   "source": [
    "## Notation\n",
    "\n",
    "- $N$ is the number of individuals\n",
    "- $J$ is the number of products\n",
    "- $K$ is the number of product attributes\n",
    "- $M$ is the number of individual attributes\n",
    "- $W$ is the number of categories on the Likert scale"
   ]
  },
  {
   "cell_type": "markdown",
   "metadata": {},
   "source": [
    "### Simulate Data"
   ]
  },
  {
   "cell_type": "code",
   "execution_count": 4,
   "metadata": {
    "ExecuteTime": {
     "end_time": "2024-06-26T21:27:22.697684Z",
     "start_time": "2024-06-26T21:27:22.691863Z"
    }
   },
   "outputs": [],
   "source": [
    "def basic_model(params, draws):\n",
    "    J = params[\"J\"]\n",
    "    K = params[\"K\"]\n",
    "    N = params[\"N\"]\n",
    "\n",
    "    u = np.ones((N, 1)) @ draws[\"α_j\"].reshape((1, -1)) + draws[\"product_features\"] @ draws[\"β_k\"] + draws[\"η\"]\n",
    "\n",
    "    # jstar = np.argmax(u[:, :-1], axis=1)\n",
    "    # kstar = np.argmax(u, axis=1)\n",
    "\n",
    "    return draws | {\n",
    "        \"utilities\": u,\n",
    "        \"α_j\": draws[\"α_j\"],\n",
    "        \"β_k\": draws[\"β_k\"],\n",
    "    }\n",
    "\n",
    "\n",
    "def random_coefficient_model(params, draws):\n",
    "    J = params[\"J\"]\n",
    "    K = params[\"K\"]\n",
    "    N = params[\"N\"]\n",
    "\n",
    "    α_ij = np.ones((N, 1)) @ draws[\"α_j\"].reshape((1, -1)) + np.random.normal(0, 1, (N, J+1))\n",
    "    α_ij[:, -1] = 0\n",
    "    β_ik = np.ones((N, 1)) @ draws[\"β_k\"].reshape((1, -1)) + np.random.normal(0, 1, (N, K))\n",
    "\n",
    "    u = α_ij + np.sum(draws[\"product_features\"] * β_ik.reshape(N, 1, K), axis=2) + draws[\"η\"]\n",
    "\n",
    "    # jstar = np.argmax(u[:, :-1], axis=1)\n",
    "    # kstar = np.argmax(u, axis=1)\n",
    "\n",
    "    return draws | {\n",
    "        \"utilities\": u,\n",
    "        \"α_j\": draws[\"α_j\"],\n",
    "        \"β_k\": draws[\"β_k\"],\n",
    "        \"α_ij\": α_ij,\n",
    "        \"β_ik\": β_ik,\n",
    "    }\n",
    "\n",
    "dgp = {\n",
    "    \"homogeneous\": basic_model,\n",
    "    \"heterogeneous\": random_coefficient_model, # add more DGPs here\n",
    "}\n",
    "\n",
    "def simulate_dgps(params):\n",
    "\n",
    "    ## load parameters\n",
    "    # M = params[\"M\"]\n",
    "    W = params[\"W\"]\n",
    "    J = params[\"J\"]\n",
    "    K = params[\"K\"]\n",
    "    N = params[\"N\"]\n",
    "\n",
    "    np.random.seed(42)\n",
    "    \n",
    "    # draw product features to be same across all DGPs\n",
    "    \n",
    "    product_features = np.random.normal(0, 0.2, (N, J, K))\n",
    "    product_features = np.concatenate(\n",
    "        [product_features, np.zeros((N, 1, K))], axis=1\n",
    "    )  # outside good\n",
    "\n",
    "    # draw latent preference parameters to be comparable across all DGPs\n",
    "\n",
    "    α_j = np.random.normal(-2, 1, J+1)\n",
    "    β_k = np.random.normal(0, 1, K)\n",
    "    α_j[-1] = 0 # outside good\n",
    "    \n",
    "    π = np.random.dirichlet([1] * W, 1).flatten().cumsum()\n",
    "    η = np.random.gumbel(0, 1, (N, J + 1))\n",
    "    \n",
    "    draws = {\n",
    "        \"α_j\": α_j,\n",
    "        \"β_k\": β_k,\n",
    "        \"π\": π,\n",
    "        \"η\": η,\n",
    "        \"product_features\": product_features\n",
    "    }\n",
    "\n",
    "    # d = {\n",
    "    #     \"product_features\": product_features,\n",
    "    # }\n",
    "\n",
    "    d = {k: dgp[k](params, draws) for k in dgp}\n",
    "    # for k in dgp:\n",
    "    #     d[f\"dgp{k}\"] = dgp[k](params, draws)\n",
    "        \n",
    "    return d\n",
    "\n",
    "def basic_conjoint(dgp):\n",
    "    u = dgp[\"utilities\"]\n",
    "    \n",
    "    # jstar = np.argmax(u[:, :-1], axis=1)\n",
    "    kstar = np.argmax(u, axis=1)\n",
    "    \n",
    "    return {\n",
    "        \"product_features\": dgp[\"product_features\"],\n",
    "        \"kstar\": kstar, #preferred overall good\n",
    "    }\n",
    "\n",
    "def dual_response_conjoint(dgp):\n",
    "    u = dgp[\"utilities\"]\n",
    "    \n",
    "    jstar = np.argmax(u[:, :-1], axis=1)\n",
    "    kstar = np.argmax(u, axis=1)\n",
    "    \n",
    "    return {\n",
    "        \"product_features\": dgp[\"product_features\"],\n",
    "        \"jstar\": jstar, #preferred inside good\n",
    "        \"kstar\": kstar, #preferred overall good\n",
    "    }\n",
    "\n",
    "def likert_dual_conjoint(dgp):\n",
    "    u = dgp[\"utilities\"]\n",
    "    jstar = np.argmax(u[:, :-1], axis=1)\n",
    "    v = np.max(u[:, :-1], axis=1)\n",
    "    w = np.digitize(gumbel_r.cdf(v), dgp[\"π\"])\n",
    "\n",
    "    return {\n",
    "        \"product_features\": dgp[\"product_features\"],\n",
    "        \"jstar\": jstar,  # preferred inside good\n",
    "        \"w\": w,  # likert bucket\n",
    "    }\n",
    "\n",
    "\n",
    "generate_observables = {\n",
    "    \"basic_conjoint\": basic_conjoint,\n",
    "    \"dual_response_conjoint\": dual_response_conjoint,\n",
    "    \"likert_dual_conjoint\": likert_dual_conjoint,\n",
    "}\n",
    "\n",
    "params = {\"N\": 1000, \"J\": 3, \"K\": 5, \"M\": 2, \"W\": 4}\n",
    "\n",
    "dgps = simulate_dgps(params)"
   ]
  },
  {
   "cell_type": "markdown",
   "metadata": {},
   "source": [
    "### Export Data"
   ]
  },
  {
   "cell_type": "code",
   "execution_count": 7,
   "metadata": {},
   "outputs": [],
   "source": [
    "# out_data1 = np.array(\n",
    "#     [\n",
    "#         [n, j, 0, data[\"t\"][n] == j, *data[\"product_features\"][n, j, :]]\n",
    "#         for n in range(params[\"N\"])\n",
    "#         for j in range(params[\"J\"] + 1)\n",
    "#     ]\n",
    "# )\n",
    "\n",
    "# out_data2 = np.array(\n",
    "#     [\n",
    "#         [\n",
    "#             n,\n",
    "#             j,\n",
    "#             1, \n",
    "#             data[\"jstar\"][n] == j,\n",
    "#             *data[\"product_features\"][n, j, :],\n",
    "#             data[\"jstar\"][n] == data[\"t\"][n],\n",
    "#         ]\n",
    "#         for n in range(params[\"N\"])\n",
    "#         for j in range(params[\"J\"])\n",
    "#     ]\n",
    "# )\n",
    "# out_data = np.concatenate([out_data1, out_data2[out_data2[:, -1] == 0, :-1]], axis=0)\n",
    "# pd.DataFrame(\n",
    "#     out_data,\n",
    "#     columns=[\n",
    "#         \"consumer_id\",\n",
    "#         \"choice_id\",\n",
    "#         \"task_id\",\n",
    "#         \"purchase\",\n",
    "#         *[f\"f_{k}\" for k in range(params[\"K\"])],\n",
    "#     ],\n",
    "# ).to_csv(\"/Users/gzheng/Desktop/data.csv\", index=False)"
   ]
  },
  {
   "cell_type": "markdown",
   "metadata": {},
   "source": [
    "# Representative Consumer Preferences"
   ]
  },
  {
   "cell_type": "code",
   "execution_count": 8,
   "metadata": {},
   "outputs": [],
   "source": [
    "data = generate_observables[\"basic_conjoint\"](dgps[\"homogeneous\"])"
   ]
  },
  {
   "cell_type": "markdown",
   "metadata": {},
   "source": [
    "### Visualize the Data"
   ]
  },
  {
   "cell_type": "code",
   "execution_count": null,
   "metadata": {},
   "outputs": [],
   "source": [
    "# sns.countplot(x=data[\"jstar\"])\n",
    "sns.countplot(x=data[\"kstar\"])\n",
    "# plt.legend(title=\"Survey Response\", labels=[\"Preferred Inside Good\", \"Preferred Overall Good\"])\n",
    "plt.show()"
   ]
  },
  {
   "cell_type": "markdown",
   "metadata": {},
   "source": [
    "## Classic Multinomial Logit"
   ]
  },
  {
   "cell_type": "markdown",
   "metadata": {},
   "source": [
    "First, try \"classical\" conjoint, in which $\\eta_0$ is observed by the consumer."
   ]
  },
  {
   "cell_type": "markdown",
   "metadata": {},
   "source": [
    "### Construct the Model"
   ]
  },
  {
   "cell_type": "code",
   "execution_count": 10,
   "metadata": {
    "ExecuteTime": {
     "end_time": "2024-06-26T21:27:26.956688Z",
     "start_time": "2024-06-26T21:27:26.952887Z"
    }
   },
   "outputs": [],
   "source": [
    "observed_good = data[\"kstar\"]\n",
    "\n",
    "N = params[\"N\"]\n",
    "M = params[\"M\"]\n",
    "J = params[\"J\"]\n",
    "K = params[\"K\"]\n",
    "W = params[\"W\"]\n",
    "# J, K = data[\"product_features\"].shape\n",
    "# W = len(np.unique(observed_bin))\n",
    "\n",
    "\n",
    "coords_1 = {\n",
    "    \"products\": [f\"product_{i}\" for i in range(J + 1)],\n",
    "    \"i_factors\": [f\"if_{i}\" for i in range(M)],\n",
    "    \"p_factors\": [f\"pf_{i}\" for i in range(K)],\n",
    "    \"obs\": range(N),\n",
    "}"
   ]
  },
  {
   "cell_type": "code",
   "execution_count": null,
   "metadata": {},
   "outputs": [],
   "source": [
    "with pm.Model(coords=coords_1) as model_1:\n",
    "\n",
    "    # mu_α_p = pm.Normal(\"mu_α_p\", 0, 1)\n",
    "    # sigma_α_p = pm.HalfCauchy(\"sigma_α_p\", 1)\n",
    "\n",
    "    # alpha_p = pm.Normal(\"alpha_j\", mu_α_p, sigma_α_p, dims=[\"products\"])\n",
    "    # alpha_p = pt.set_subtensor(alpha_p[-1], 0) #outside good\n",
    "\n",
    "    # mu_β_p = pm.Normal(\"mu_β_p\", 0, 1)\n",
    "    # sigma_β_p = pm.HalfCauchy(\"sigma_β_p\", 1)\n",
    "\n",
    "    alpha_p = pm.Normal(\"alpha_j\", 0, 5, dims=[\"products\"])\n",
    "    alpha_p = pt.set_subtensor(alpha_p[-1], 0) #outside good\n",
    "\n",
    "    # beta_p = (\n",
    "    #     pm.math.ones((N, 1))\n",
    "    #     * pm.Normal(\"beta_pf\", mu_β_p, sigma_β_p, dims=[\"p_factors\"]).T\n",
    "    # )  # want there to be N*K beta's\n",
    "\n",
    "    beta_p = pm.Normal(\"beta_k\", 0, 5, dims=[\"p_factors\"])\n",
    "\n",
    "    ## Construct Utility matrix\n",
    "\n",
    "    # beta_p_print = Print(\"beta_p\")(beta_p)\n",
    "\n",
    "    s = pm.math.ones((N, 1)) @ alpha_p.reshape((1, -1)) + data[\"product_features\"] @ beta_p\n",
    "\n",
    "    # s_print = Print(\"s\")(s)\n",
    "    # s = beta_p @ data[\"product_features\"].T\n",
    "    # s = pm.math.concatenate([s_good, np.zeros((N, 1))], axis=1)\n",
    "\n",
    "    ## Apply Softmax Transform\n",
    "    p_ = pm.Deterministic(\"p\", pm.math.softmax(s, axis=1), dims=(\"obs\", \"products\"))\n",
    "\n",
    "    ## Likelihood\n",
    "    choice_obs = pm.Categorical(\"y_cat\", p=p_, observed=observed_good, dims=\"obs\")\n",
    "\n",
    "pm.model_to_graphviz(model_1)"
   ]
  },
  {
   "cell_type": "markdown",
   "metadata": {},
   "source": [
    "### Estimate the Model"
   ]
  },
  {
   "cell_type": "code",
   "execution_count": null,
   "metadata": {
    "ExecuteTime": {
     "end_time": "2024-06-26T21:48:46.443641Z",
     "start_time": "2024-06-26T21:48:45.153910Z"
    }
   },
   "outputs": [],
   "source": [
    "with model_1:\n",
    "    # idata_m1 = pm.sample_prior_predictive()\n",
    "    # idata_m1.extend(\n",
    "    #     pm.sample(\n",
    "    #         5000,\n",
    "    #         nuts_sampler=\"numpyro\",\n",
    "    #         idata_kwargs={\"log_likelihood\": True},\n",
    "    #         random_seed=100,\n",
    "    #     )\n",
    "    # )\n",
    "    # idata_m1.extend(pm.sample_posterior_predictive(idata_m1))\n",
    "    idata_m1 = pm.sample(\n",
    "        5000,\n",
    "        nuts_sampler=\"numpyro\",\n",
    "        idata_kwargs={\"log_likelihood\": True},\n",
    "        random_seed=100,\n",
    "    )"
   ]
  },
  {
   "cell_type": "code",
   "execution_count": 13,
   "metadata": {},
   "outputs": [],
   "source": [
    "# from IPython.display import display\n",
    "\n",
    "# with pd.option_context('display.max_rows', 100, 'display.max_columns', 10):\n",
    "#     display(az.summary(idata_m1, var_names=[\"~p\"]).loc[lambda _df: _df['ess_tail'] < 1_000])"
   ]
  },
  {
   "cell_type": "code",
   "execution_count": null,
   "metadata": {
    "ExecuteTime": {
     "end_time": "2024-06-26T21:36:42.904161Z",
     "start_time": "2024-06-26T21:36:42.899561Z"
    }
   },
   "outputs": [],
   "source": [
    "az.summary(idata_m1, var_names=[\"~p\"])"
   ]
  },
  {
   "cell_type": "code",
   "execution_count": 15,
   "metadata": {},
   "outputs": [],
   "source": [
    "post1 = az.extract(idata_m1)"
   ]
  },
  {
   "cell_type": "code",
   "execution_count": null,
   "metadata": {},
   "outputs": [],
   "source": [
    "fig, axs = plt.subplots(J // 2 + J % 2, 2)\n",
    "\n",
    "for i in range((J // 2 + J % 2)*2):\n",
    "    plt.sca(axs.flatten()[i])\n",
    "    if i >= J:\n",
    "        plt.gca().axis(\"off\")\n",
    "        continue\n",
    "    sns.histplot(\n",
    "        post1[\"alpha_j\"][i, :],\n",
    "        bins=30,\n",
    "        ec=\"black\",\n",
    "    )\n",
    "    plt.axvline(dgps[\"homogeneous\"][\"α_j\"][i], linestyle=\"dashed\", color=\"black\")\n",
    "    plt.title(rf\"$\\alpha_{i+1}$\")\n",
    "    plt.ylabel(None)\n",
    "    plt.yticks([])\n",
    "\n",
    "plt.tight_layout()\n",
    "plt.show()"
   ]
  },
  {
   "cell_type": "code",
   "execution_count": null,
   "metadata": {},
   "outputs": [],
   "source": [
    "fig, axs = plt.subplots(K // 2 + K % 2, 2)\n",
    "\n",
    "for i in range((K // 2 + K % 2)*2):\n",
    "    plt.sca(axs.flatten()[i])\n",
    "    if i >= K:\n",
    "        plt.gca().axis(\"off\")\n",
    "        continue\n",
    "    sns.histplot(\n",
    "        post1[\"beta_k\"][i, :],\n",
    "        bins=30,\n",
    "        ec=\"black\",\n",
    "    )\n",
    "    plt.axvline(dgps[\"homogeneous\"][\"β_k\"][i], linestyle=\"dashed\", color=\"black\")\n",
    "    plt.title(rf\"$\\beta_{i+1}$\")\n",
    "    plt.ylabel(None)\n",
    "    plt.yticks([])\n",
    "\n",
    "plt.tight_layout()\n",
    "plt.show()"
   ]
  },
  {
   "cell_type": "markdown",
   "metadata": {},
   "source": [
    "## Dual Response (Logit)"
   ]
  },
  {
   "cell_type": "code",
   "execution_count": 18,
   "metadata": {},
   "outputs": [],
   "source": [
    "data = generate_observables[\"dual_response_conjoint\"](dgps[\"homogeneous\"])"
   ]
  },
  {
   "cell_type": "code",
   "execution_count": null,
   "metadata": {},
   "outputs": [],
   "source": [
    "sns.countplot(x=data[\"jstar\"])\n",
    "sns.countplot(x=data[\"kstar\"])\n",
    "plt.legend(title=\"Survey Response\", labels=[\"Preferred Inside Good\", \"Preferred Overall Good\"])\n",
    "plt.show()"
   ]
  },
  {
   "cell_type": "code",
   "execution_count": null,
   "metadata": {},
   "outputs": [],
   "source": [
    "fig, axs = plt.subplots(1, 2)\n",
    "sns.countplot(x=data[\"jstar\"], ax=axs[0]).set(title=\"Preferred Good\")\n",
    "sns.countplot(x=data[\"jstar\"]==data[\"kstar\"], ax=axs[1]).set(title=\"Would Buy\")\n",
    "# plt.legend(title=\"Survey Response\", labels=[\"Preferred Inside Good\", \"Would Buy\"])\n",
    "plt.tight_layout()\n",
    "plt.show()"
   ]
  },
  {
   "cell_type": "markdown",
   "metadata": {},
   "source": [
    "### Construct the Model"
   ]
  },
  {
   "cell_type": "code",
   "execution_count": 21,
   "metadata": {},
   "outputs": [],
   "source": [
    "observed_inside = data[\"jstar\"]\n",
    "observed_buy = data[\"kstar\"] == data[\"jstar\"]\n",
    "\n",
    "N = params[\"N\"]\n",
    "J = params[\"J\"]\n",
    "K = params[\"K\"]\n",
    "\n",
    "coords_2 = {\n",
    "    \"products\": [f\"product_{j}\" for j in range(J)],\n",
    "    \"p_factors\": [f\"feature_{k}\" for k in range(K)],\n",
    "    \"obs\": range(N),\n",
    "}"
   ]
  },
  {
   "cell_type": "code",
   "execution_count": null,
   "metadata": {},
   "outputs": [],
   "source": [
    "with pm.Model(coords=coords_2) as model_2:\n",
    "\n",
    "    # mu_α_p = pm.Normal(\"mu_α_p\", 0, 1)\n",
    "    # sigma_α_p = pm.Exponential(\"sigma_α_p\", 1)\n",
    "\n",
    "    alpha_p = pm.Normal(\"alpha_j\", 0, 5, dims=[\"products\"])\n",
    "    \n",
    "    # mu_β_p = pm.Normal(\"mu_β_p\", 0, 1)\n",
    "    # sigma_β_p = pm.Exponential(\"sigma_β_p\", 1)\n",
    "    \n",
    "    beta_p = pm.Normal(\"beta_k\", 0, 5, dims=[\"p_factors\"])\n",
    "\n",
    "    ## Construct Utility matrix\n",
    "\n",
    "    s = pm.math.ones((N, 1)) @ alpha_p.reshape((1, -1)) + data[\"product_features\"][:, :-1, :] @ beta_p\n",
    "\n",
    "    ## Construct Probabilities\n",
    "    p_ = pm.Deterministic(\"p\", pm.math.softmax(s, axis=1), dims=(\"obs\", \"products\"))\n",
    "    q_ = pm.Deterministic(\"q\", pm.math.log(pm.math.sum(pm.math.exp(s), axis=1)), dims=\"obs\")\n",
    "    \n",
    "    ## Likelihood\n",
    "    choice_obs = pm.Categorical(\"jstar\", p=p_, observed=observed_inside, dims=\"obs\")\n",
    "    bin_obs = pm.Bernoulli(\"buy\", logit_p = q_, observed=observed_buy, dims=\"obs\")\n",
    "\n",
    "pm.model_to_graphviz(model_2)"
   ]
  },
  {
   "cell_type": "markdown",
   "metadata": {},
   "source": [
    "### Estimate the Model"
   ]
  },
  {
   "cell_type": "code",
   "execution_count": null,
   "metadata": {},
   "outputs": [],
   "source": [
    "with model_2:\n",
    "    idata_m2 = pm.sample(\n",
    "        5000,\n",
    "        nuts_sampler=\"numpyro\",\n",
    "        idata_kwargs={\"log_likelihood\": True},\n",
    "        random_seed=100,\n",
    "    )"
   ]
  },
  {
   "cell_type": "markdown",
   "metadata": {},
   "source": [
    "### Visualize the Estimates"
   ]
  },
  {
   "cell_type": "code",
   "execution_count": null,
   "metadata": {},
   "outputs": [],
   "source": [
    "az.summary(idata_m2, var_names=[\"~p\", \"~q\"])"
   ]
  },
  {
   "cell_type": "code",
   "execution_count": 25,
   "metadata": {},
   "outputs": [],
   "source": [
    "post2 = az.extract(idata_m2)"
   ]
  },
  {
   "cell_type": "code",
   "execution_count": null,
   "metadata": {},
   "outputs": [],
   "source": [
    "fig, axs = plt.subplots( J // 2 + J % 2, 2)\n",
    "\n",
    "for i in range((J // 2 + J % 2)*2):\n",
    "    plt.sca(axs.flatten()[i])\n",
    "    if i >= J:\n",
    "        plt.gca().axis(\"off\")\n",
    "        continue\n",
    "    sns.histplot(\n",
    "        post2[\"alpha_j\"][i, :],\n",
    "        bins=30,\n",
    "        ec=\"black\",\n",
    "    )\n",
    "    plt.axvline(dgps[\"homogeneous\"][\"α_j\"][i], linestyle=\"dashed\", color=\"black\")\n",
    "    plt.title(rf\"$\\alpha_{i+1}$\")\n",
    "    plt.ylabel(None)\n",
    "    plt.yticks([])\n",
    "\n",
    "plt.tight_layout()\n",
    "plt.show()"
   ]
  },
  {
   "cell_type": "code",
   "execution_count": null,
   "metadata": {},
   "outputs": [],
   "source": [
    "fig, axs = plt.subplots(K // 2 + K % 2, 2)\n",
    "\n",
    "for i in range((K // 2 + K % 2) * 2):\n",
    "    plt.sca(axs.flatten()[i])\n",
    "    if i >= K:\n",
    "        plt.gca().axis(\"off\")\n",
    "        continue\n",
    "    sns.histplot(\n",
    "        post2[\"beta_k\"][i, :],\n",
    "        bins=30,\n",
    "        ec=\"black\",\n",
    "    )\n",
    "    plt.axvline(dgps[\"homogeneous\"][\"β_k\"][i], linestyle=\"dashed\", color=\"black\")\n",
    "    plt.title(rf\"$\\beta_{i+1}$\")\n",
    "    plt.ylabel(None)\n",
    "    plt.yticks([])\n",
    "\n",
    "plt.tight_layout()\n",
    "plt.show()"
   ]
  },
  {
   "cell_type": "markdown",
   "metadata": {},
   "source": [
    "## Dual Response (Synthetic Data)"
   ]
  },
  {
   "cell_type": "code",
   "execution_count": 28,
   "metadata": {},
   "outputs": [],
   "source": [
    "data = generate_observables[\"dual_response_conjoint\"](dgps[\"homogeneous\"])"
   ]
  },
  {
   "cell_type": "markdown",
   "metadata": {},
   "source": [
    "### Construct the \"Synthetic Data\" Model"
   ]
  },
  {
   "cell_type": "code",
   "execution_count": 29,
   "metadata": {},
   "outputs": [],
   "source": [
    "observed_inside = data[\"jstar\"]\n",
    "observed_good = data[\"kstar\"]\n",
    "\n",
    "N = params[\"N\"]\n",
    "J = params[\"J\"]\n",
    "K = params[\"K\"]\n",
    "\n",
    "coords_3 = {\n",
    "    \"products\": [f\"product_{j}\" for j in range(J+1)],\n",
    "    \"p_factors\": [f\"feature_{k}\" for k in range(K)],\n",
    "    \"obs\": range(N),\n",
    "}"
   ]
  },
  {
   "cell_type": "code",
   "execution_count": null,
   "metadata": {},
   "outputs": [],
   "source": [
    "with pm.Model(coords=coords_3) as model_3:\n",
    "\n",
    "    # mu_α_p = pm.Normal(\"mu_α_p\", 0, 1)\n",
    "    # sigma_α_p = pm.Exponential(\"sigma_α_p\", 1)\n",
    "\n",
    "    alpha_p = pm.Normal(\"alpha_j\", 0, 5, dims=[\"products\"])\n",
    "    alpha_p = pt.set_subtensor(alpha_p[-1], 0) #outside good\n",
    "\n",
    "    # mu_β_p = pm.Normal(\"mu_β_p\", 0, 1)\n",
    "    # sigma_β_p = pm.Exponential(\"sigma_β_p\", 1)\n",
    "    \n",
    "    beta_p = pm.Normal(\"beta_k\", 0, 5, dims=[\"p_factors\"])\n",
    "\n",
    "    ## Construct Utility matrix\n",
    "\n",
    "    s = pm.math.ones((N, 1)) @ alpha_p.reshape((1, -1)) + data[\"product_features\"] @ beta_p\n",
    "\n",
    "    ## Construct Probabilities\n",
    "    extra_info_indices = observed_good == J\n",
    "    p_ = pm.Deterministic(\"p\", pm.math.softmax(s, axis=1)) #all goods\n",
    "    q_ = pm.Deterministic(\"q\", pm.math.softmax(s[extra_info_indices, :-1], axis=1)) #inside goods\n",
    "    \n",
    "    \n",
    "    ## Likelihood\n",
    "    choice_obs = pm.Categorical(\"y_cat\", p=p_, observed=observed_good, dims=\"obs\")\n",
    "    choice_obs_extra = pm.Categorical(\"y_cat_extra\", p=q_, observed=observed_inside[extra_info_indices])\n",
    "    \n",
    "\n",
    "pm.model_to_graphviz(model_3)"
   ]
  },
  {
   "cell_type": "markdown",
   "metadata": {},
   "source": [
    "### Estimate the Model"
   ]
  },
  {
   "cell_type": "code",
   "execution_count": null,
   "metadata": {},
   "outputs": [],
   "source": [
    "with model_3:\n",
    "    idata_m3 = pm.sample(\n",
    "        5000,\n",
    "        nuts_sampler=\"numpyro\",\n",
    "        idata_kwargs={\"log_likelihood\": True},\n",
    "        random_seed=100,\n",
    "    )"
   ]
  },
  {
   "cell_type": "markdown",
   "metadata": {},
   "source": [
    "### Visualize the Estimates"
   ]
  },
  {
   "cell_type": "code",
   "execution_count": null,
   "metadata": {},
   "outputs": [],
   "source": [
    "az.summary(idata_m3, var_names=[\"~p\", \"~q\"])"
   ]
  },
  {
   "cell_type": "code",
   "execution_count": 33,
   "metadata": {},
   "outputs": [],
   "source": [
    "post3 = az.extract(idata_m3)"
   ]
  },
  {
   "cell_type": "code",
   "execution_count": null,
   "metadata": {},
   "outputs": [],
   "source": [
    "fig, axs = plt.subplots( J // 2 + J % 2, 2)\n",
    "\n",
    "for i in range((J // 2 + J % 2)*2):\n",
    "    plt.sca(axs.flatten()[i])\n",
    "    if i >= J:\n",
    "        plt.gca().axis(\"off\")\n",
    "        continue\n",
    "    sns.histplot(\n",
    "        post3[\"alpha_j\"][i, :],\n",
    "        bins=30,\n",
    "        ec=\"black\",\n",
    "    )\n",
    "    plt.axvline(dgps[\"homogeneous\"][\"α_j\"][i], linestyle=\"dashed\", color=\"black\")\n",
    "    plt.title(rf\"$\\alpha_{i+1}$\")\n",
    "    plt.ylabel(None)\n",
    "    plt.yticks([])\n",
    "\n",
    "plt.tight_layout()\n",
    "plt.show()"
   ]
  },
  {
   "cell_type": "code",
   "execution_count": null,
   "metadata": {},
   "outputs": [],
   "source": [
    "fig, axs = plt.subplots(K // 2 + K % 2, 2)\n",
    "\n",
    "for i in range((K // 2 + K % 2) * 2):\n",
    "    plt.sca(axs.flatten()[i])\n",
    "    if i >= K:\n",
    "        plt.gca().axis(\"off\")\n",
    "        continue\n",
    "    sns.histplot(\n",
    "        post3[\"beta_k\"][i, :],\n",
    "        bins=30,\n",
    "        ec=\"black\",\n",
    "    )\n",
    "    plt.axvline(dgps[\"homogeneous\"][\"β_k\"][i], linestyle=\"dashed\", color=\"black\")\n",
    "    plt.title(rf\"$\\beta_{i+1}$\")\n",
    "    plt.ylabel(None)\n",
    "    plt.yticks([])\n",
    "\n",
    "plt.tight_layout()\n",
    "plt.show()"
   ]
  },
  {
   "cell_type": "markdown",
   "metadata": {},
   "source": [
    "### Stata Code\n",
    "\n",
    "```stata\n",
    "import delimited \"~/Desktop/data.csv\", clear\n",
    "egen case_id = group(consumer_id task_id)\n",
    "\n",
    "cmset case_id choice_id\n",
    "\n",
    "estimates clear\n",
    "eststo: cmclogit purchase f* if task_id == 0\n",
    "eststo: cmclogit purchase f*\n",
    "esttab *\n",
    "```"
   ]
  },
  {
   "cell_type": "markdown",
   "metadata": {},
   "source": [
    "## Likert Dual Response"
   ]
  },
  {
   "cell_type": "code",
   "execution_count": 5,
   "metadata": {},
   "outputs": [],
   "source": [
    "data = generate_observables[\"likert_dual_conjoint\"](dgps[\"homogeneous\"])"
   ]
  },
  {
   "cell_type": "code",
   "execution_count": 17,
   "metadata": {},
   "outputs": [
    {
     "data": {
      "image/png": "[encoded data removed]",
      "text/plain": [
       "<Figure size 640x480 with 2 Axes>"
      ]
     },
     "metadata": {
      "image/png": {
       "height": 463,
       "width": 623
      }
     },
     "output_type": "display_data"
    }
   ],
   "source": [
    "fig, axs = plt.subplots(1, 2)\n",
    "sns.countplot(x=data[\"jstar\"], ax=axs[0]).set(title=\"Preferred Good\")\n",
    "sns.countplot(x=data[\"w\"], ax=axs[1]).set(title=\"Willingness to Purchase\")\n",
    "# plt.legend(title=\"Survey Response\", labels=[\"Preferred Inside Good\", \"Would Buy\"])\n",
    "plt.tight_layout()\n",
    "plt.show()"
   ]
  },
  {
   "cell_type": "code",
   "execution_count": 18,
   "metadata": {},
   "outputs": [
    {
     "data": {
      "text/plain": [
       "array([0.03102741, 0.0692721 , 0.72830381, 1.        ])"
      ]
     },
     "execution_count": 18,
     "metadata": {},
     "output_type": "execute_result"
    }
   ],
   "source": [
    "dgps[\"homogeneous\"][\"π\"]"
   ]
  },
  {
   "cell_type": "markdown",
   "metadata": {},
   "source": [
    "### Construct the Model"
   ]
  },
  {
   "cell_type": "code",
   "execution_count": 8,
   "metadata": {},
   "outputs": [],
   "source": [
    "observed_inside = data[\"jstar\"]\n",
    "observed_bin = data[\"w\"]\n",
    "\n",
    "N = params[\"N\"]\n",
    "J = params[\"J\"]\n",
    "K = params[\"K\"]\n",
    "W = params[\"W\"]\n",
    "\n",
    "coords_4 = {\n",
    "    \"products\": [f\"product_{j}\" for j in range(J)],\n",
    "    \"p_factors\": [f\"feature_{k}\" for k in range(K)],\n",
    "    \"obs\": range(N),\n",
    "}"
   ]
  },
  {
   "cell_type": "code",
   "execution_count": 36,
   "metadata": {},
   "outputs": [
    {
     "data": {
      "image/svg+xml": [
       "<?xml version=\"1.0\" encoding=\"UTF-8\" standalone=\"no\"?>\n",
       "<!DOCTYPE svg PUBLIC \"-//W3C//DTD SVG 1.1//EN\"\n",
       " \"http://www.w3.org/Graphics/SVG/1.1/DTD/svg11.dtd\">\n",
       "<!-- Generated by graphviz version 12.1.2 (20240928.0832)\n",
       " -->\n",
       "<!-- Pages: 1 -->\n",
       "<svg width=\"419pt\" height=\"511pt\"\n",
       " viewBox=\"0.00 0.00 419.00 511.45\" xmlns=\"http://www.w3.org/2000/svg\" xmlns:xlink=\"http://www.w3.org/1999/xlink\">\n",
       "<g id=\"graph0\" class=\"graph\" transform=\"scale(1 1) rotate(0) translate(4 507.45)\">\n",
       "<polygon fill=\"white\" stroke=\"none\" points=\"-4,4 -4,-507.45 415,-507.45 415,4 -4,4\"/>\n",
       "<g id=\"clust1\" class=\"cluster\">\n",
       "<title>clusterproducts (3)</title>\n",
       "<path fill=\"none\" stroke=\"black\" d=\"M167,-243.82C167,-243.82 241,-243.82 241,-243.82 247,-243.82 253,-249.82 253,-255.82 253,-255.82 253,-353.63 253,-353.63 253,-359.63 247,-365.63 241,-365.63 241,-365.63 167,-365.63 167,-365.63 161,-365.63 155,-359.63 155,-353.63 155,-353.63 155,-255.82 155,-255.82 155,-249.82 161,-243.82 167,-243.82\"/>\n",
       "<text text-anchor=\"middle\" x=\"212\" y=\"-251.02\" font-family=\"Times,serif\" font-size=\"14.00\">products (3)</text>\n",
       "</g>\n",
       "<g id=\"clust2\" class=\"cluster\">\n",
       "<title>clusterp_factors (5)</title>\n",
       "<path fill=\"none\" stroke=\"black\" d=\"M61,-243.82C61,-243.82 135,-243.82 135,-243.82 141,-243.82 147,-249.82 147,-255.82 147,-255.82 147,-353.63 147,-353.63 147,-359.63 141,-365.63 135,-365.63 135,-365.63 61,-365.63 61,-365.63 55,-365.63 49,-359.63 49,-353.63 49,-353.63 49,-255.82 49,-255.82 49,-249.82 55,-243.82 61,-243.82\"/>\n",
       "<text text-anchor=\"middle\" x=\"104.12\" y=\"-251.02\" font-family=\"Times,serif\" font-size=\"14.00\">p_factors (5)</text>\n",
       "</g>\n",
       "<g id=\"clust3\" class=\"cluster\">\n",
       "<title>clusterobs (1000) x products (3)</title>\n",
       "<path fill=\"none\" stroke=\"black\" d=\"M21,-137.82C21,-137.82 151,-137.82 151,-137.82 157,-137.82 163,-143.82 163,-149.82 163,-149.82 163,-223.82 163,-223.82 163,-229.82 157,-235.82 151,-235.82 151,-235.82 21,-235.82 21,-235.82 15,-235.82 9,-229.82 9,-223.82 9,-223.82 9,-149.82 9,-149.82 9,-143.82 15,-137.82 21,-137.82\"/>\n",
       "<text text-anchor=\"middle\" x=\"85.62\" y=\"-145.02\" font-family=\"Times,serif\" font-size=\"14.00\">obs (1000) x products (3)</text>\n",
       "</g>\n",
       "<g id=\"clust4\" class=\"cluster\">\n",
       "<title>cluster4</title>\n",
       "<path fill=\"none\" stroke=\"black\" d=\"M249,-373.63C249,-373.63 391,-373.63 391,-373.63 397,-373.63 403,-379.63 403,-385.63 403,-385.63 403,-483.45 403,-483.45 403,-489.45 397,-495.45 391,-495.45 391,-495.45 249,-495.45 249,-495.45 243,-495.45 237,-489.45 237,-483.45 237,-483.45 237,-385.63 237,-385.63 237,-379.63 243,-373.63 249,-373.63\"/>\n",
       "<text text-anchor=\"middle\" x=\"391.62\" y=\"-380.83\" font-family=\"Times,serif\" font-size=\"14.00\">4</text>\n",
       "</g>\n",
       "<g id=\"clust5\" class=\"cluster\">\n",
       "<title>cluster3</title>\n",
       "<path fill=\"none\" stroke=\"black\" d=\"M273,-255.73C273,-255.73 367,-255.73 367,-255.73 373,-255.73 379,-261.73 379,-267.73 379,-267.73 379,-341.73 379,-341.73 379,-347.73 373,-353.73 367,-353.73 367,-353.73 273,-353.73 273,-353.73 267,-353.73 261,-347.73 261,-341.73 261,-341.73 261,-267.73 261,-267.73 261,-261.73 267,-255.73 273,-255.73\"/>\n",
       "<text text-anchor=\"middle\" x=\"367.62\" y=\"-262.93\" font-family=\"Times,serif\" font-size=\"14.00\">3</text>\n",
       "</g>\n",
       "<g id=\"clust6\" class=\"cluster\">\n",
       "<title>clusterobs (1000)</title>\n",
       "<path fill=\"none\" stroke=\"black\" d=\"M20,-8C20,-8 152,-8 152,-8 158,-8 164,-14 164,-20 164,-20 164,-117.82 164,-117.82 164,-123.82 158,-129.82 152,-129.82 152,-129.82 20,-129.82 20,-129.82 14,-129.82 8,-123.82 8,-117.82 8,-117.82 8,-20 8,-20 8,-14 14,-8 20,-8\"/>\n",
       "<text text-anchor=\"middle\" x=\"126.75\" y=\"-15.2\" font-family=\"Times,serif\" font-size=\"14.00\">obs (1000)</text>\n",
       "</g>\n",
       "<g id=\"clust7\" class=\"cluster\">\n",
       "<title>cluster1000 x 4</title>\n",
       "<path fill=\"none\" stroke=\"black\" d=\"M184,-137.82C184,-137.82 316,-137.82 316,-137.82 322,-137.82 328,-143.82 328,-149.82 328,-149.82 328,-223.82 328,-223.82 328,-229.82 322,-235.82 316,-235.82 316,-235.82 184,-235.82 184,-235.82 178,-235.82 172,-229.82 172,-223.82 172,-223.82 172,-149.82 172,-149.82 172,-143.82 178,-137.82 184,-137.82\"/>\n",
       "<text text-anchor=\"middle\" x=\"296\" y=\"-145.02\" font-family=\"Times,serif\" font-size=\"14.00\">1000 x 4</text>\n",
       "</g>\n",
       "<g id=\"clust8\" class=\"cluster\">\n",
       "<title>cluster1000</title>\n",
       "<path fill=\"none\" stroke=\"black\" d=\"M184,-8C184,-8 320,-8 320,-8 326,-8 332,-14 332,-20 332,-20 332,-117.82 332,-117.82 332,-123.82 326,-129.82 320,-129.82 320,-129.82 184,-129.82 184,-129.82 178,-129.82 172,-123.82 172,-117.82 172,-117.82 172,-20 172,-20 172,-14 178,-8 184,-8\"/>\n",
       "<text text-anchor=\"middle\" x=\"310.5\" y=\"-15.2\" font-family=\"Times,serif\" font-size=\"14.00\">1000</text>\n",
       "</g>\n",
       "<!-- alpha_j -->\n",
       "<g id=\"node1\" class=\"node\">\n",
       "<title>alpha_j</title>\n",
       "<ellipse fill=\"none\" stroke=\"black\" cx=\"204\" cy=\"-316.98\" rx=\"41.01\" ry=\"40.66\"/>\n",
       "<text text-anchor=\"middle\" x=\"204\" y=\"-328.43\" font-family=\"Times,serif\" font-size=\"14.00\">alpha_j</text>\n",
       "<text text-anchor=\"middle\" x=\"204\" y=\"-311.93\" font-family=\"Times,serif\" font-size=\"14.00\">~</text>\n",
       "<text text-anchor=\"middle\" x=\"204\" y=\"-295.43\" font-family=\"Times,serif\" font-size=\"14.00\">Normal</text>\n",
       "</g>\n",
       "<!-- p -->\n",
       "<g id=\"node3\" class=\"node\">\n",
       "<title>p</title>\n",
       "<polygon fill=\"none\" stroke=\"black\" points=\"143.12,-227.82 52.88,-227.82 52.88,-170.32 143.12,-170.32 143.12,-227.82\"/>\n",
       "<text text-anchor=\"middle\" x=\"98\" y=\"-210.52\" font-family=\"Times,serif\" font-size=\"14.00\">p</text>\n",
       "<text text-anchor=\"middle\" x=\"98\" y=\"-194.02\" font-family=\"Times,serif\" font-size=\"14.00\">~</text>\n",
       "<text text-anchor=\"middle\" x=\"98\" y=\"-177.52\" font-family=\"Times,serif\" font-size=\"14.00\">Deterministic</text>\n",
       "</g>\n",
       "<!-- alpha_j&#45;&gt;p -->\n",
       "<g id=\"edge1\" class=\"edge\">\n",
       "<title>alpha_j&#45;&gt;p</title>\n",
       "<path fill=\"none\" stroke=\"black\" d=\"M181.88,-282.29C172.93,-269.68 162.1,-255.57 151,-243.82 148.38,-241.04 145.59,-238.28 142.71,-235.57\"/>\n",
       "<polygon fill=\"black\" stroke=\"black\" points=\"145.32,-233.21 135.55,-229.11 140.63,-238.41 145.32,-233.21\"/>\n",
       "</g>\n",
       "<!-- buy_probability_probs -->\n",
       "<g id=\"node7\" class=\"node\">\n",
       "<title>buy_probability_probs</title>\n",
       "<polygon fill=\"none\" stroke=\"black\" points=\"319.5,-227.82 180.5,-227.82 180.5,-170.32 319.5,-170.32 319.5,-227.82\"/>\n",
       "<text text-anchor=\"middle\" x=\"250\" y=\"-210.52\" font-family=\"Times,serif\" font-size=\"14.00\">buy_probability_probs</text>\n",
       "<text text-anchor=\"middle\" x=\"250\" y=\"-194.02\" font-family=\"Times,serif\" font-size=\"14.00\">~</text>\n",
       "<text text-anchor=\"middle\" x=\"250\" y=\"-177.52\" font-family=\"Times,serif\" font-size=\"14.00\">Deterministic</text>\n",
       "</g>\n",
       "<!-- alpha_j&#45;&gt;buy_probability_probs -->\n",
       "<g id=\"edge5\" class=\"edge\">\n",
       "<title>alpha_j&#45;&gt;buy_probability_probs</title>\n",
       "<path fill=\"none\" stroke=\"black\" d=\"M218.81,-278.66C223.9,-265.84 229.6,-251.47 234.73,-238.55\"/>\n",
       "<polygon fill=\"black\" stroke=\"black\" points=\"237.87,-240.11 238.31,-229.52 231.37,-237.53 237.87,-240.11\"/>\n",
       "</g>\n",
       "<!-- beta_k -->\n",
       "<g id=\"node2\" class=\"node\">\n",
       "<title>beta_k</title>\n",
       "<ellipse fill=\"none\" stroke=\"black\" cx=\"98\" cy=\"-316.98\" rx=\"41.01\" ry=\"40.66\"/>\n",
       "<text text-anchor=\"middle\" x=\"98\" y=\"-328.43\" font-family=\"Times,serif\" font-size=\"14.00\">beta_k</text>\n",
       "<text text-anchor=\"middle\" x=\"98\" y=\"-311.93\" font-family=\"Times,serif\" font-size=\"14.00\">~</text>\n",
       "<text text-anchor=\"middle\" x=\"98\" y=\"-295.43\" font-family=\"Times,serif\" font-size=\"14.00\">Normal</text>\n",
       "</g>\n",
       "<!-- beta_k&#45;&gt;p -->\n",
       "<g id=\"edge2\" class=\"edge\">\n",
       "<title>beta_k&#45;&gt;p</title>\n",
       "<path fill=\"none\" stroke=\"black\" d=\"M98,-276.09C98,-264.2 98,-251.19 98,-239.34\"/>\n",
       "<polygon fill=\"black\" stroke=\"black\" points=\"101.5,-239.48 98,-229.48 94.5,-239.48 101.5,-239.48\"/>\n",
       "</g>\n",
       "<!-- beta_k&#45;&gt;buy_probability_probs -->\n",
       "<g id=\"edge6\" class=\"edge\">\n",
       "<title>beta_k&#45;&gt;buy_probability_probs</title>\n",
       "<path fill=\"none\" stroke=\"black\" d=\"M118.03,-281.31C126.86,-268.28 138.15,-254.14 151,-243.82 152.39,-242.7 161.72,-238.37 174.13,-232.85\"/>\n",
       "<polygon fill=\"black\" stroke=\"black\" points=\"175.54,-236.05 183.27,-228.81 172.71,-229.65 175.54,-236.05\"/>\n",
       "</g>\n",
       "<!-- preferred_good -->\n",
       "<g id=\"node6\" class=\"node\">\n",
       "<title>preferred_good</title>\n",
       "<ellipse fill=\"lightgrey\" stroke=\"black\" cx=\"86\" cy=\"-81.16\" rx=\"70.18\" ry=\"40.66\"/>\n",
       "<text text-anchor=\"middle\" x=\"86\" y=\"-92.61\" font-family=\"Times,serif\" font-size=\"14.00\">preferred_good</text>\n",
       "<text text-anchor=\"middle\" x=\"86\" y=\"-76.11\" font-family=\"Times,serif\" font-size=\"14.00\">~</text>\n",
       "<text text-anchor=\"middle\" x=\"86\" y=\"-59.61\" font-family=\"Times,serif\" font-size=\"14.00\">Categorical</text>\n",
       "</g>\n",
       "<!-- p&#45;&gt;preferred_good -->\n",
       "<g id=\"edge4\" class=\"edge\">\n",
       "<title>p&#45;&gt;preferred_good</title>\n",
       "<path fill=\"none\" stroke=\"black\" d=\"M95.1,-170.01C93.96,-159.03 92.62,-146.08 91.32,-133.55\"/>\n",
       "<polygon fill=\"black\" stroke=\"black\" points=\"94.82,-133.32 90.3,-123.73 87.85,-134.04 94.82,-133.32\"/>\n",
       "</g>\n",
       "<!-- latent_binwidths -->\n",
       "<g id=\"node4\" class=\"node\">\n",
       "<title>latent_binwidths</title>\n",
       "<ellipse fill=\"none\" stroke=\"black\" cx=\"320\" cy=\"-446.79\" rx=\"74.95\" ry=\"40.66\"/>\n",
       "<text text-anchor=\"middle\" x=\"320\" y=\"-458.24\" font-family=\"Times,serif\" font-size=\"14.00\">latent_binwidths</text>\n",
       "<text text-anchor=\"middle\" x=\"320\" y=\"-441.74\" font-family=\"Times,serif\" font-size=\"14.00\">~</text>\n",
       "<text text-anchor=\"middle\" x=\"320\" y=\"-425.24\" font-family=\"Times,serif\" font-size=\"14.00\">Dirichlet</text>\n",
       "</g>\n",
       "<!-- latent_cutpoints -->\n",
       "<g id=\"node5\" class=\"node\">\n",
       "<title>latent_cutpoints</title>\n",
       "<polygon fill=\"none\" stroke=\"black\" points=\"371.12,-345.73 268.88,-345.73 268.88,-288.23 371.12,-288.23 371.12,-345.73\"/>\n",
       "<text text-anchor=\"middle\" x=\"320\" y=\"-328.43\" font-family=\"Times,serif\" font-size=\"14.00\">latent_cutpoints</text>\n",
       "<text text-anchor=\"middle\" x=\"320\" y=\"-311.93\" font-family=\"Times,serif\" font-size=\"14.00\">~</text>\n",
       "<text text-anchor=\"middle\" x=\"320\" y=\"-295.43\" font-family=\"Times,serif\" font-size=\"14.00\">Deterministic</text>\n",
       "</g>\n",
       "<!-- latent_binwidths&#45;&gt;latent_cutpoints -->\n",
       "<g id=\"edge3\" class=\"edge\">\n",
       "<title>latent_binwidths&#45;&gt;latent_cutpoints</title>\n",
       "<path fill=\"none\" stroke=\"black\" d=\"M320,-405.7C320,-390.3 320,-372.74 320,-357.4\"/>\n",
       "<polygon fill=\"black\" stroke=\"black\" points=\"323.5,-357.69 320,-347.69 316.5,-357.69 323.5,-357.69\"/>\n",
       "</g>\n",
       "<!-- latent_cutpoints&#45;&gt;buy_probability_probs -->\n",
       "<g id=\"edge7\" class=\"edge\">\n",
       "<title>latent_cutpoints&#45;&gt;buy_probability_probs</title>\n",
       "<path fill=\"none\" stroke=\"black\" d=\"M303.05,-287.92C294.01,-272.94 282.74,-254.29 272.93,-238.03\"/>\n",
       "<polygon fill=\"black\" stroke=\"black\" points=\"275.98,-236.32 267.81,-229.56 269.99,-239.93 275.98,-236.32\"/>\n",
       "</g>\n",
       "<!-- buy_probability -->\n",
       "<g id=\"node8\" class=\"node\">\n",
       "<title>buy_probability</title>\n",
       "<ellipse fill=\"lightgrey\" stroke=\"black\" cx=\"252\" cy=\"-81.16\" rx=\"72.3\" ry=\"40.66\"/>\n",
       "<text text-anchor=\"middle\" x=\"252\" y=\"-92.61\" font-family=\"Times,serif\" font-size=\"14.00\">buy_probability</text>\n",
       "<text text-anchor=\"middle\" x=\"252\" y=\"-76.11\" font-family=\"Times,serif\" font-size=\"14.00\">~</text>\n",
       "<text text-anchor=\"middle\" x=\"252\" y=\"-59.61\" font-family=\"Times,serif\" font-size=\"14.00\">Categorical</text>\n",
       "</g>\n",
       "<!-- buy_probability_probs&#45;&gt;buy_probability -->\n",
       "<g id=\"edge8\" class=\"edge\">\n",
       "<title>buy_probability_probs&#45;&gt;buy_probability</title>\n",
       "<path fill=\"none\" stroke=\"black\" d=\"M250.48,-170.01C250.67,-159.03 250.9,-146.08 251.11,-133.55\"/>\n",
       "<polygon fill=\"black\" stroke=\"black\" points=\"254.61,-133.8 251.28,-123.74 247.61,-133.68 254.61,-133.8\"/>\n",
       "</g>\n",
       "</g>\n",
       "</svg>\n"
      ],
      "text/plain": [
       "<graphviz.graphs.Digraph at 0x31c493680>"
      ]
     },
     "execution_count": 36,
     "metadata": {},
     "output_type": "execute_result"
    }
   ],
   "source": [
    "with pm.Model(coords=coords_4) as model:\n",
    "\n",
    "    alpha_p = pm.Normal(\"alpha_j\", 0, 5, dims=[\"products\"])    \n",
    "    beta_p = pm.Normal(\"beta_k\", 0, 5, dims=[\"p_factors\"])\n",
    "\n",
    "    ## Construct Utility matrix\n",
    "\n",
    "    u = pm.math.ones((N, 1)) @ alpha_p.reshape((1, -1)) + data[\"product_features\"][:, :-1, :] @ beta_p\n",
    "\n",
    "    ubar = pm.math.log(pm.math.sum(pm.math.exp(u), axis=1))\n",
    "\n",
    "    ## Apply Softmax Transform\n",
    "    p_ = pm.Deterministic(\"p\", pm.math.softmax(u, axis=1), dims=(\"obs\", \"products\"))\n",
    "\n",
    "    π = pm.Dirichlet(\"latent_binwidths\", a=pm.math.ones(W))  # W x 1\n",
    "    κ = pm.Deterministic(\"latent_cutpoints\", pm.math.cumsum(π)[:-1])\n",
    "    cutpoints = -pm.math.log(-pm.math.log(κ))\n",
    "\n",
    "    ## Likelihood\n",
    "    choice_obs = pm.Categorical(\"preferred_good\", p=p_, observed=observed_inside, dims=\"obs\")\n",
    "    bin_obs = pm.OrderedLogistic(\"buy_probability\", eta=ubar, cutpoints=cutpoints, observed=observed_bin)\n",
    "\n",
    "pm.model_to_graphviz(model)"
   ]
  },
  {
   "cell_type": "markdown",
   "metadata": {},
   "source": [
    "### Estimate the Model"
   ]
  },
  {
   "cell_type": "code",
   "execution_count": 37,
   "metadata": {},
   "outputs": [
    {
     "data": {
      "application/vnd.jupyter.widget-view+json": {
       "model_id": "4281fde7d2c245899156087ce98876f5",
       "version_major": 2,
       "version_minor": 0
      },
      "text/plain": [
       "  0%|          | 0/6000 [00:00<?, ?it/s]"
      ]
     },
     "metadata": {},
     "output_type": "display_data"
    },
    {
     "data": {
      "application/vnd.jupyter.widget-view+json": {
       "model_id": "20230512958043dcbcf9d441a8e5af0f",
       "version_major": 2,
       "version_minor": 0
      },
      "text/plain": [
       "  0%|          | 0/6000 [00:00<?, ?it/s]"
      ]
     },
     "metadata": {},
     "output_type": "display_data"
    },
    {
     "data": {
      "application/vnd.jupyter.widget-view+json": {
       "model_id": "8cb61715127c4a35a13b807ea904fb99",
       "version_major": 2,
       "version_minor": 0
      },
      "text/plain": [
       "  0%|          | 0/6000 [00:00<?, ?it/s]"
      ]
     },
     "metadata": {},
     "output_type": "display_data"
    },
    {
     "data": {
      "application/vnd.jupyter.widget-view+json": {
       "model_id": "29b4ef6acdaa4d9e92fa6a7efa797685",
       "version_major": 2,
       "version_minor": 0
      },
      "text/plain": [
       "  0%|          | 0/6000 [00:00<?, ?it/s]"
      ]
     },
     "metadata": {},
     "output_type": "display_data"
    }
   ],
   "source": [
    "with model:\n",
    "    idata = pm.sample(\n",
    "        5000,\n",
    "        nuts_sampler=\"numpyro\",\n",
    "        idata_kwargs={\"log_likelihood\": True},\n",
    "        random_seed=100,\n",
    "    )"
   ]
  },
  {
   "cell_type": "markdown",
   "metadata": {},
   "source": [
    "### Visualize the Estimates"
   ]
  },
  {
   "cell_type": "code",
   "execution_count": 38,
   "metadata": {},
   "outputs": [
    {
     "data": {
      "text/html": [
       "<div>\n",
       "<style scoped>\n",
       "    .dataframe tbody tr th:only-of-type {\n",
       "        vertical-align: middle;\n",
       "    }\n",
       "\n",
       "    .dataframe tbody tr th {\n",
       "        vertical-align: top;\n",
       "    }\n",
       "\n",
       "    .dataframe thead th {\n",
       "        text-align: right;\n",
       "    }\n",
       "</style>\n",
       "<table border=\"1\" class=\"dataframe\">\n",
       "  <thead>\n",
       "    <tr style=\"text-align: right;\">\n",
       "      <th></th>\n",
       "      <th>mean</th>\n",
       "      <th>sd</th>\n",
       "      <th>hdi_3%</th>\n",
       "      <th>hdi_97%</th>\n",
       "      <th>mcse_mean</th>\n",
       "      <th>mcse_sd</th>\n",
       "      <th>ess_bulk</th>\n",
       "      <th>ess_tail</th>\n",
       "      <th>r_hat</th>\n",
       "    </tr>\n",
       "  </thead>\n",
       "  <tbody>\n",
       "    <tr>\n",
       "      <th>alpha_j[product_0]</th>\n",
       "      <td>-0.767</td>\n",
       "      <td>0.619</td>\n",
       "      <td>-1.880</td>\n",
       "      <td>0.401</td>\n",
       "      <td>0.010</td>\n",
       "      <td>0.007</td>\n",
       "      <td>4152.0</td>\n",
       "      <td>5629.0</td>\n",
       "      <td>1.0</td>\n",
       "    </tr>\n",
       "    <tr>\n",
       "      <th>alpha_j[product_1]</th>\n",
       "      <td>-0.377</td>\n",
       "      <td>0.617</td>\n",
       "      <td>-1.500</td>\n",
       "      <td>0.782</td>\n",
       "      <td>0.010</td>\n",
       "      <td>0.007</td>\n",
       "      <td>4143.0</td>\n",
       "      <td>5399.0</td>\n",
       "      <td>1.0</td>\n",
       "    </tr>\n",
       "    <tr>\n",
       "      <th>alpha_j[product_2]</th>\n",
       "      <td>-0.357</td>\n",
       "      <td>0.618</td>\n",
       "      <td>-1.480</td>\n",
       "      <td>0.801</td>\n",
       "      <td>0.010</td>\n",
       "      <td>0.007</td>\n",
       "      <td>4126.0</td>\n",
       "      <td>5607.0</td>\n",
       "      <td>1.0</td>\n",
       "    </tr>\n",
       "    <tr>\n",
       "      <th>beta_k[feature_0]</th>\n",
       "      <td>-0.823</td>\n",
       "      <td>0.186</td>\n",
       "      <td>-1.174</td>\n",
       "      <td>-0.474</td>\n",
       "      <td>0.001</td>\n",
       "      <td>0.001</td>\n",
       "      <td>20711.0</td>\n",
       "      <td>14037.0</td>\n",
       "      <td>1.0</td>\n",
       "    </tr>\n",
       "    <tr>\n",
       "      <th>beta_k[feature_1]</th>\n",
       "      <td>-0.596</td>\n",
       "      <td>0.184</td>\n",
       "      <td>-0.935</td>\n",
       "      <td>-0.246</td>\n",
       "      <td>0.001</td>\n",
       "      <td>0.001</td>\n",
       "      <td>19412.0</td>\n",
       "      <td>13332.0</td>\n",
       "      <td>1.0</td>\n",
       "    </tr>\n",
       "    <tr>\n",
       "      <th>beta_k[feature_2]</th>\n",
       "      <td>1.379</td>\n",
       "      <td>0.187</td>\n",
       "      <td>1.020</td>\n",
       "      <td>1.723</td>\n",
       "      <td>0.001</td>\n",
       "      <td>0.001</td>\n",
       "      <td>22072.0</td>\n",
       "      <td>13721.0</td>\n",
       "      <td>1.0</td>\n",
       "    </tr>\n",
       "    <tr>\n",
       "      <th>beta_k[feature_3]</th>\n",
       "      <td>-0.633</td>\n",
       "      <td>0.190</td>\n",
       "      <td>-0.999</td>\n",
       "      <td>-0.286</td>\n",
       "      <td>0.001</td>\n",
       "      <td>0.001</td>\n",
       "      <td>20548.0</td>\n",
       "      <td>13538.0</td>\n",
       "      <td>1.0</td>\n",
       "    </tr>\n",
       "    <tr>\n",
       "      <th>beta_k[feature_4]</th>\n",
       "      <td>-1.301</td>\n",
       "      <td>0.195</td>\n",
       "      <td>-1.662</td>\n",
       "      <td>-0.935</td>\n",
       "      <td>0.001</td>\n",
       "      <td>0.001</td>\n",
       "      <td>18398.0</td>\n",
       "      <td>12846.0</td>\n",
       "      <td>1.0</td>\n",
       "    </tr>\n",
       "    <tr>\n",
       "      <th>latent_binwidths[0]</th>\n",
       "      <td>0.246</td>\n",
       "      <td>0.181</td>\n",
       "      <td>0.000</td>\n",
       "      <td>0.579</td>\n",
       "      <td>0.003</td>\n",
       "      <td>0.002</td>\n",
       "      <td>4134.0</td>\n",
       "      <td>5533.0</td>\n",
       "      <td>1.0</td>\n",
       "    </tr>\n",
       "    <tr>\n",
       "      <th>latent_binwidths[1]</th>\n",
       "      <td>0.144</td>\n",
       "      <td>0.036</td>\n",
       "      <td>0.070</td>\n",
       "      <td>0.203</td>\n",
       "      <td>0.000</td>\n",
       "      <td>0.000</td>\n",
       "      <td>6750.0</td>\n",
       "      <td>5610.0</td>\n",
       "      <td>1.0</td>\n",
       "    </tr>\n",
       "    <tr>\n",
       "      <th>latent_binwidths[2]</th>\n",
       "      <td>0.537</td>\n",
       "      <td>0.156</td>\n",
       "      <td>0.258</td>\n",
       "      <td>0.781</td>\n",
       "      <td>0.002</td>\n",
       "      <td>0.002</td>\n",
       "      <td>4213.0</td>\n",
       "      <td>6687.0</td>\n",
       "      <td>1.0</td>\n",
       "    </tr>\n",
       "    <tr>\n",
       "      <th>latent_binwidths[3]</th>\n",
       "      <td>0.074</td>\n",
       "      <td>0.041</td>\n",
       "      <td>0.010</td>\n",
       "      <td>0.149</td>\n",
       "      <td>0.001</td>\n",
       "      <td>0.000</td>\n",
       "      <td>4211.0</td>\n",
       "      <td>5548.0</td>\n",
       "      <td>1.0</td>\n",
       "    </tr>\n",
       "    <tr>\n",
       "      <th>latent_cutpoints[0]</th>\n",
       "      <td>0.246</td>\n",
       "      <td>0.181</td>\n",
       "      <td>0.000</td>\n",
       "      <td>0.579</td>\n",
       "      <td>0.003</td>\n",
       "      <td>0.002</td>\n",
       "      <td>4134.0</td>\n",
       "      <td>5533.0</td>\n",
       "      <td>1.0</td>\n",
       "    </tr>\n",
       "    <tr>\n",
       "      <th>latent_cutpoints[1]</th>\n",
       "      <td>0.390</td>\n",
       "      <td>0.193</td>\n",
       "      <td>0.047</td>\n",
       "      <td>0.732</td>\n",
       "      <td>0.003</td>\n",
       "      <td>0.002</td>\n",
       "      <td>4104.0</td>\n",
       "      <td>5394.0</td>\n",
       "      <td>1.0</td>\n",
       "    </tr>\n",
       "    <tr>\n",
       "      <th>latent_cutpoints[2]</th>\n",
       "      <td>0.926</td>\n",
       "      <td>0.041</td>\n",
       "      <td>0.851</td>\n",
       "      <td>0.990</td>\n",
       "      <td>0.001</td>\n",
       "      <td>0.000</td>\n",
       "      <td>4211.0</td>\n",
       "      <td>5548.0</td>\n",
       "      <td>1.0</td>\n",
       "    </tr>\n",
       "  </tbody>\n",
       "</table>\n",
       "</div>"
      ],
      "text/plain": [
       "                      mean     sd  hdi_3%  hdi_97%  mcse_mean  mcse_sd  \\\n",
       "alpha_j[product_0]  -0.767  0.619  -1.880    0.401      0.010    0.007   \n",
       "alpha_j[product_1]  -0.377  0.617  -1.500    0.782      0.010    0.007   \n",
       "alpha_j[product_2]  -0.357  0.618  -1.480    0.801      0.010    0.007   \n",
       "beta_k[feature_0]   -0.823  0.186  -1.174   -0.474      0.001    0.001   \n",
       "beta_k[feature_1]   -0.596  0.184  -0.935   -0.246      0.001    0.001   \n",
       "beta_k[feature_2]    1.379  0.187   1.020    1.723      0.001    0.001   \n",
       "beta_k[feature_3]   -0.633  0.190  -0.999   -0.286      0.001    0.001   \n",
       "beta_k[feature_4]   -1.301  0.195  -1.662   -0.935      0.001    0.001   \n",
       "latent_binwidths[0]  0.246  0.181   0.000    0.579      0.003    0.002   \n",
       "latent_binwidths[1]  0.144  0.036   0.070    0.203      0.000    0.000   \n",
       "latent_binwidths[2]  0.537  0.156   0.258    0.781      0.002    0.002   \n",
       "latent_binwidths[3]  0.074  0.041   0.010    0.149      0.001    0.000   \n",
       "latent_cutpoints[0]  0.246  0.181   0.000    0.579      0.003    0.002   \n",
       "latent_cutpoints[1]  0.390  0.193   0.047    0.732      0.003    0.002   \n",
       "latent_cutpoints[2]  0.926  0.041   0.851    0.990      0.001    0.000   \n",
       "\n",
       "                     ess_bulk  ess_tail  r_hat  \n",
       "alpha_j[product_0]     4152.0    5629.0    1.0  \n",
       "alpha_j[product_1]     4143.0    5399.0    1.0  \n",
       "alpha_j[product_2]     4126.0    5607.0    1.0  \n",
       "beta_k[feature_0]     20711.0   14037.0    1.0  \n",
       "beta_k[feature_1]     19412.0   13332.0    1.0  \n",
       "beta_k[feature_2]     22072.0   13721.0    1.0  \n",
       "beta_k[feature_3]     20548.0   13538.0    1.0  \n",
       "beta_k[feature_4]     18398.0   12846.0    1.0  \n",
       "latent_binwidths[0]    4134.0    5533.0    1.0  \n",
       "latent_binwidths[1]    6750.0    5610.0    1.0  \n",
       "latent_binwidths[2]    4213.0    6687.0    1.0  \n",
       "latent_binwidths[3]    4211.0    5548.0    1.0  \n",
       "latent_cutpoints[0]    4134.0    5533.0    1.0  \n",
       "latent_cutpoints[1]    4104.0    5394.0    1.0  \n",
       "latent_cutpoints[2]    4211.0    5548.0    1.0  "
      ]
     },
     "execution_count": 38,
     "metadata": {},
     "output_type": "execute_result"
    }
   ],
   "source": [
    "az.summary(idata, var_names=[\"~p\", \"~buy_probability_probs\"])"
   ]
  },
  {
   "cell_type": "code",
   "execution_count": 39,
   "metadata": {},
   "outputs": [],
   "source": [
    "post = az.extract(idata)"
   ]
  },
  {
   "cell_type": "code",
   "execution_count": 40,
   "metadata": {},
   "outputs": [
    {
     "data": {
      "image/png": "[encoded data removed]",
      "text/plain": [
       "<Figure size 640x480 with 6 Axes>"
      ]
     },
     "metadata": {
      "image/png": {
       "height": 464,
       "width": 623
      }
     },
     "output_type": "display_data"
    }
   ],
   "source": [
    "fig, axs = plt.subplots(K // 2 + K % 2, 2)\n",
    "\n",
    "for i in range((K // 2 + K % 2) * 2):\n",
    "    plt.sca(axs.flatten()[i])\n",
    "    if i >= K:\n",
    "        plt.gca().axis(\"off\")\n",
    "        continue\n",
    "    sns.histplot(\n",
    "        post[\"beta_k\"][i, :],\n",
    "        bins=30,\n",
    "        ec=\"black\",\n",
    "    )\n",
    "    plt.axvline(dgps[\"homogeneous\"][\"β_k\"][i], linestyle=\"dashed\", color=\"black\")\n",
    "    plt.title(rf\"$\\beta_{i+1}$\")\n",
    "    plt.ylabel(None)\n",
    "    plt.yticks([])\n",
    "\n",
    "plt.tight_layout()\n",
    "plt.show()"
   ]
  },
  {
   "cell_type": "code",
   "execution_count": 41,
   "metadata": {},
   "outputs": [
    {
     "data": {
      "image/png": "[encoded data removed]",
      "text/plain": [
       "<Figure size 640x480 with 4 Axes>"
      ]
     },
     "metadata": {
      "image/png": {
       "height": 463,
       "width": 622
      }
     },
     "output_type": "display_data"
    }
   ],
   "source": [
    "fig, axs = plt.subplots(W // 2 + W % 2, 2)\n",
    "\n",
    "for i in range((W // 2 + W % 2) * 2):\n",
    "    plt.sca(axs.flatten()[i])\n",
    "    if i >= W-1:\n",
    "        plt.gca().axis(\"off\")\n",
    "        continue\n",
    "    sns.histplot(\n",
    "        post[\"latent_cutpoints\"][i, :],\n",
    "        bins=30,\n",
    "        ec=\"black\",\n",
    "    )\n",
    "    plt.axvline(dgps[\"homogeneous\"][\"π\"][i], linestyle=\"dashed\", color=\"black\")\n",
    "    plt.title(rf\"$\\pi_{i+1}$\")\n",
    "    plt.ylabel(None)\n",
    "    plt.yticks([])\n",
    "\n",
    "plt.tight_layout()\n",
    "plt.show()"
   ]
  },
  {
   "cell_type": "markdown",
   "metadata": {},
   "source": [
    "# Heterogeneous Consumer Preferences\n",
    "\n",
    "Note: Without repeat observations of the same consumer, it is a hopeless estimation exercise.\n",
    "\n",
    "## Visualize the Data"
   ]
  },
  {
   "cell_type": "code",
   "execution_count": null,
   "metadata": {},
   "outputs": [],
   "source": [
    "sns.countplot(x=data[\"dgp1\"][\"jstar\"])\n",
    "sns.countplot(x=data[\"dgp1\"][\"kstar\"])\n",
    "plt.legend(title=\"Survey Response\", labels=[\"Preferred Inside Good\", \"Preferred Overall Good\"])\n",
    "plt.show()"
   ]
  },
  {
   "cell_type": "code",
   "execution_count": null,
   "metadata": {},
   "outputs": [],
   "source": [
    "fig, axs = plt.subplots(1, 2)\n",
    "sns.countplot(x=data[\"dgp1\"][\"jstar\"], ax=axs[0]).set(title=\"Preferred Good\")\n",
    "sns.countplot(x=data[\"dgp1\"][\"jstar\"]==data[\"dgp1\"][\"kstar\"], ax=axs[1]).set(title=\"Would Buy\")\n",
    "# plt.legend(title=\"Survey Response\", labels=[\"Preferred Inside Good\", \"Would Buy\"])\n",
    "plt.tight_layout()\n",
    "plt.show()"
   ]
  },
  {
   "cell_type": "markdown",
   "metadata": {},
   "source": [
    "## Classic Multinomial Logit\n",
    "\n",
    "### Construct the Model"
   ]
  },
  {
   "cell_type": "code",
   "execution_count": 9,
   "metadata": {},
   "outputs": [],
   "source": [
    "N = params[\"N\"]\n",
    "M = params[\"M\"]\n",
    "J = params[\"J\"]\n",
    "K = params[\"K\"]\n",
    "W = params[\"W\"]\n",
    "\n",
    "\n",
    "coords_1 = {\n",
    "    \"products\": [f\"product_{i}\" for i in range(J + 1)],\n",
    "    \"i_factors\": [f\"if_{i}\" for i in range(M)],\n",
    "    \"p_factors\": [f\"pf_{i}\" for i in range(K)],\n",
    "    \"obs\": range(N),\n",
    "}"
   ]
  },
  {
   "cell_type": "code",
   "execution_count": null,
   "metadata": {},
   "outputs": [],
   "source": [
    "observed_good = data[\"dgp1\"][\"kstar\"]\n",
    "\n",
    "with pm.Model(coords=coords_1) as model_4:\n",
    "\n",
    "    mu_α_p = pm.Normal(\"mu_α_p\", 0, 1)\n",
    "    sigma_α_p = pm.Exponential(\"sigma_α_p\", 1)\n",
    "\n",
    "    alpha_p = pm.Normal(\"alpha_j\", mu_α_p, sigma_α_p, dims=[\"obs\", \"products\"])\n",
    "    alpha_p = pt.set_subtensor(alpha_p[:, -1], 0) #outside good\n",
    "\n",
    "    mu_β_p = pm.Normal(\"mu_β_p\", 0, 1)\n",
    "    sigma_β_p = pm.Exponential(\"sigma_β_p\", 1)\n",
    "    \n",
    "    beta_p = pm.Normal(\"beta_k\", mu_β_p, sigma_β_p, dims=[\"obs\", \"p_factors\"])\n",
    "\n",
    "    ## Construct Utility matrix\n",
    "\n",
    "    s = alpha_p + pm.math.sum(data[\"product_features\"] * beta_p.reshape((N, 1, K)), axis=2)\n",
    "\n",
    "    ## Construct Probabilities\n",
    "    p_ = pm.Deterministic(\"p\", pm.math.softmax(s, axis=1)) #all goods\n",
    "    \n",
    "    \n",
    "    ## Likelihood\n",
    "    choice_obs = pm.Categorical(\"y_cat\", p=p_, observed=observed_good, dims=\"obs\")\n",
    "    \n",
    "\n",
    "pm.model_to_graphviz(model_4)"
   ]
  },
  {
   "cell_type": "markdown",
   "metadata": {},
   "source": [
    "### Estimate the Model"
   ]
  },
  {
   "cell_type": "code",
   "execution_count": null,
   "metadata": {},
   "outputs": [],
   "source": [
    "with model_4:\n",
    "    idata_m4 = pm.sample(\n",
    "        5000,\n",
    "        nuts_sampler=\"numpyro\",\n",
    "        idata_kwargs={\"log_likelihood\": True},\n",
    "        random_seed=100,\n",
    "    )\n",
    "\n",
    "az.summary(idata_m4, var_names=[\"~p\"])\n",
    "post4 = az.extract(idata_m4)"
   ]
  },
  {
   "cell_type": "markdown",
   "metadata": {},
   "source": [
    "### Visualize the Estimates"
   ]
  },
  {
   "cell_type": "code",
   "execution_count": null,
   "metadata": {},
   "outputs": [],
   "source": [
    "# fig, axs = plt.subplots( J // 2 + J % 2, 2)\n",
    "\n",
    "# for i in range((J // 2 + J % 2)*2):\n",
    "#     plt.sca(axs.flatten()[i])\n",
    "#     if i >= J:\n",
    "#         plt.gca().axis(\"off\")\n",
    "#         continue\n",
    "#     sns.histplot(\n",
    "#         post3[\"alpha_j\"][i, :],\n",
    "#         bins=30,\n",
    "#         ec=\"black\",\n",
    "#     )\n",
    "#     plt.axvline(data[\"dgp0\"][\"latent_α_j\"][i], linestyle=\"dashed\", color=\"black\")\n",
    "#     plt.title(rf\"$\\alpha_{i+1}$\")\n",
    "#     plt.ylabel(None)\n",
    "#     plt.yticks([])\n",
    "\n",
    "# plt.tight_layout()\n",
    "# plt.show()"
   ]
  },
  {
   "cell_type": "code",
   "execution_count": null,
   "metadata": {},
   "outputs": [],
   "source": [
    "# fig, axs = plt.subplots(K // 2 + K % 2, 2)\n",
    "\n",
    "# for i in range((K // 2 + K % 2) * 2):\n",
    "#     plt.sca(axs.flatten()[i])\n",
    "#     if i >= K:\n",
    "#         plt.gca().axis(\"off\")\n",
    "#         continue\n",
    "#     sns.histplot(\n",
    "#         post3[\"beta_k\"][i, :],\n",
    "#         bins=30,\n",
    "#         ec=\"black\",\n",
    "#     )\n",
    "#     plt.axvline(data[\"dgp0\"][\"latent_β_k\"][i], linestyle=\"dashed\", color=\"black\")\n",
    "#     plt.title(rf\"$\\beta_{i+1}$\")\n",
    "#     plt.ylabel(None)\n",
    "#     plt.yticks([])\n",
    "\n",
    "# plt.tight_layout()\n",
    "# plt.show()"
   ]
  },
  {
   "cell_type": "markdown",
   "metadata": {},
   "source": [
    "## Likert Multinomial Logit (ALL BELOW IS OLD)"
   ]
  },
  {
   "cell_type": "markdown",
   "metadata": {},
   "source": [
    "### Simulate Data"
   ]
  },
  {
   "cell_type": "code",
   "execution_count": 14,
   "metadata": {},
   "outputs": [],
   "source": [
    "def make_data(params):\n",
    "\n",
    "    ## load parameters\n",
    "    W = params[\"W\"]\n",
    "    J = params[\"J\"]\n",
    "    K = params[\"K\"]\n",
    "    N = params[\"N\"]\n",
    "\n",
    "    np.random.seed(42)\n",
    "\n",
    "    ## generate latent parameters\n",
    "    product_features = np.random.normal(-1, 0.2, (J, K))\n",
    "    π = np.random.dirichlet([1] * W, 1).flatten().cumsum()\n",
    "    η = np.random.gumbel(0, 1, (N, J))\n",
    "    # ɛ = np.random.normal(0, 1, (N, J))\n",
    "\n",
    "    β_prod = np.ones((N, 1)) @ np.random.normal(0, 1, (1, K))\n",
    "    ## generate data\n",
    "    # y = np.zeros((N, J))\n",
    "\n",
    "    u = β_prod @ product_features.T + η\n",
    "\n",
    "    t = np.argmax(u, axis=1)\n",
    "    v = u[np.arange(N), t]\n",
    "    w = np.digitize(gumbel_r.cdf(v), π)\n",
    "\n",
    "    d = {\n",
    "        \"product_features\": product_features,\n",
    "        \"t\": t,\n",
    "        \"w\": w,\n",
    "        \"latent_cutpoints\": π,\n",
    "        \"latent_utilities\": u,\n",
    "        \"latent_β_feature\": β_prod,\n",
    "    }\n",
    "    \n",
    "    return d\n",
    "\n",
    "\n",
    "params = {\"N\": 1000, \"J\": 3, \"K\": 5, \"M\": 2, \"W\": 4}\n",
    "\n",
    "df = make_data(params)"
   ]
  },
  {
   "cell_type": "code",
   "execution_count": 15,
   "metadata": {},
   "outputs": [],
   "source": [
    "observed_good = df[\"t\"]\n",
    "observed_bin = df[\"w\"]\n",
    "\n",
    "N = params[\"N\"]\n",
    "J = params[\"J\"]\n",
    "K = params[\"K\"]\n",
    "W = params[\"W\"]\n",
    "\n",
    "\n",
    "coords = {\n",
    "    \"products\": [f\"product_{i}\" for i in range(J)],\n",
    "    \"p_factors\": [f\"pf_{i}\" for i in range(K)],\n",
    "    \"obs\": range(N),\n",
    "    \"bins\": range(W)\n",
    "}"
   ]
  },
  {
   "cell_type": "code",
   "execution_count": null,
   "metadata": {},
   "outputs": [],
   "source": [
    "with pm.Model(coords=coords) as model_1:\n",
    "\n",
    "    mu_β_p = pm.Normal(\"mu_β_p\", 0, 1)\n",
    "    sigma_β_p = pm.Exponential(\"sigma_β_p\", 1)\n",
    "    beta_p = (\n",
    "        pm.math.ones((N, 1))\n",
    "        * pm.Normal(\"beta_pf\", mu_β_p, sigma_β_p, dims=[\"p_factors\"]).T\n",
    "    )  # want there to be N*K beta's\n",
    "\n",
    "    ## Construct Utility matrix\n",
    "\n",
    "    s = beta_p @ df[\"product_features\"].T\n",
    "    u = pm.math.log(pm.math.sum(pm.math.exp(s), axis=1))\n",
    "    # s = pm.math.concatenate([s_good, np.zeros((N, 1))], axis=1)\n",
    "\n",
    "    ## Apply Softmax Transform\n",
    "    p_ = pm.Deterministic(\"p\", pm.math.softmax(s, axis=1), dims=(\"obs\", \"products\"))\n",
    "\n",
    "    π = pm.Dirichlet(\"latent_binwidths\", a=pm.math.ones(W))  # W x 1\n",
    "    π = pm.Deterministic(\n",
    "        \"latent_cutpoints\", pm.math.cumsum(π)\n",
    "    )\n",
    "    cutpoints = -pm.math.log(-pm.math.log(π[:-1]))\n",
    "\n",
    "    ## Likelihood\n",
    "    choice_obs = pm.Categorical(\"preferred_good\", p=p_, observed=observed_good, dims=\"obs\")\n",
    "    bin_obs = pm.OrderedLogistic(\"buy_probability\", eta=u, cutpoints=cutpoints, observed=observed_bin)\n",
    "\n",
    "pm.model_to_graphviz(model_1)"
   ]
  },
  {
   "cell_type": "code",
   "execution_count": null,
   "metadata": {},
   "outputs": [],
   "source": [
    "with model_1:\n",
    "    idata_m1 = (\n",
    "        pm.sample(\n",
    "            5000,\n",
    "            nuts_sampler=\"numpyro\",\n",
    "            idata_kwargs={\"log_likelihood\": True},\n",
    "            random_seed=100,\n",
    "        )\n",
    "    )"
   ]
  },
  {
   "cell_type": "code",
   "execution_count": null,
   "metadata": {},
   "outputs": [],
   "source": [
    "az.summary(idata_m1, var_names=[\"beta_pf\"])"
   ]
  },
  {
   "cell_type": "code",
   "execution_count": null,
   "metadata": {},
   "outputs": [],
   "source": [
    "post = az.extract(idata_m1)\n",
    "fig, axs = plt.subplots(3, 2)\n",
    "\n",
    "for i in range(6):\n",
    "    plt.sca(axs.flatten()[i])\n",
    "    if i >= K:\n",
    "        plt.gca().axis(\"off\")\n",
    "        continue\n",
    "    sns.histplot(\n",
    "        post[\"beta_pf\"][i, :],\n",
    "        bins=30,\n",
    "        ec=\"black\",\n",
    "    )\n",
    "    plt.axvline(df[\"latent_β_feature\"][0, i], linestyle=\"dashed\", color=\"black\")\n",
    "    plt.title(rf\"$\\beta_{i+1}$\")\n",
    "    plt.ylabel(None)\n",
    "    plt.yticks([])\n",
    "\n",
    "plt.tight_layout()\n",
    "plt.show()"
   ]
  },
  {
   "cell_type": "markdown",
   "metadata": {},
   "source": [
    "### Individual-specific $\\beta$ (To Do...)"
   ]
  },
  {
   "cell_type": "code",
   "execution_count": 20,
   "metadata": {},
   "outputs": [],
   "source": [
    "def make_data(params):\n",
    "\n",
    "    ## load parameters\n",
    "    M = params[\"M\"]\n",
    "    W = params[\"W\"]\n",
    "    J = params[\"J\"]\n",
    "    K = params[\"K\"]\n",
    "    N = params[\"N\"]\n",
    "\n",
    "    np.random.seed(42)\n",
    "\n",
    "    ## generate latent parameters\n",
    "\n",
    "    π = np.random.dirichlet([1] * W, 1).flatten().cumsum()\n",
    "    η = np.random.gumbel(0, 1, (N, J))\n",
    "    β_prod = np.ones((N, 1)) @ np.random.normal(0, 1, (1, K))\n",
    "\n",
    "    ## generate observable product features\n",
    "\n",
    "    product_features = np.random.normal(-1, 0.2, (J, K))\n",
    "\n",
    "    ## generate data\n",
    "    u = β_prod @ product_features.T + η\n",
    "\n",
    "    t = np.argmax(u, axis=1)\n",
    "    v = u[np.arange(N), t]\n",
    "    w = np.digitize(gumbel_r.cdf(v), π)\n",
    "\n",
    "    d = {\n",
    "        \"product_features\": product_features,\n",
    "        \"t\": t,\n",
    "        \"w\": w,\n",
    "        \"latent_cutpoints\": π,\n",
    "        \"latent_utilities\": u,\n",
    "        \"latent_β_feature\": β_prod,\n",
    "    }\n",
    "\n",
    "    return d\n",
    "\n",
    "\n",
    "params = {\"N\": 1000, \"J\": 3, \"K\": 5, \"M\": 2, \"W\": 4}\n",
    "\n",
    "df = make_data(params)"
   ]
  },
  {
   "cell_type": "code",
   "execution_count": null,
   "metadata": {},
   "outputs": [],
   "source": [
    "sns.barplot(**dict(zip([\"x\", \"y\"], np.unique(df[\"w\"], return_counts=True))))\n",
    "plt.show()"
   ]
  },
  {
   "cell_type": "code",
   "execution_count": null,
   "metadata": {},
   "outputs": [],
   "source": [
    "fig, axs = plt.subplots(2,2)\n",
    "\n",
    "for i, ax in enumerate(axs.flatten()):\n",
    "    plt.sca(ax)\n",
    "    if i >= J:\n",
    "        plt.gca().axis(\"off\")\n",
    "        continue\n",
    "    # sns.barplot(**dict(zip([\"x\", \"y\"], np.unique(df[\"w\"][df[\"t\"] == i], return_counts=True))))\n",
    "    sns.histplot(df[\"w\"][df[\"t\"] == i], stat=\"density\", discrete=True)\n",
    "    plt.title(rf\"$K={i}$\")\n",
    "    \n",
    "plt.suptitle(r\"$\\mathbb{P}\\left(\\text{Buy}\\,\\middle\\vert\\,K\\right)$\")\n",
    "# plt.suptitle(\"abc\")\n",
    "plt.tight_layout()\n",
    "plt.show()"
   ]
  },
  {
   "cell_type": "code",
   "execution_count": 23,
   "metadata": {},
   "outputs": [],
   "source": [
    "observed_good = df[\"t\"]\n",
    "observed_bin = df[\"w\"]\n",
    "\n",
    "N = params[\"N\"]\n",
    "M = params[\"M\"]\n",
    "J = params[\"J\"]\n",
    "K = params[\"K\"]\n",
    "W = params[\"W\"]\n",
    "# J, K = df[\"product_features\"].shape\n",
    "# W = len(np.unique(observed_bin))\n",
    "\n",
    "\n",
    "coords = {\n",
    "    \"products\": [f\"product_{i}\" for i in range(J)],\n",
    "    \"i_factors\": [f\"if_{i}\" for i in range(N)],\n",
    "    \"p_factors\": [f\"pf_{i}\" for i in range(K)],\n",
    "    \"obs\": range(N),\n",
    "}"
   ]
  },
  {
   "cell_type": "code",
   "execution_count": null,
   "metadata": {},
   "outputs": [],
   "source": [
    "with pm.Model(coords=coords) as model_1:\n",
    "\n",
    "    mu_β_p = pm.Normal(\"mu_β_p\", 0, 1)\n",
    "    sigma_β_p = pm.Exponential(\"sigma_β_p\", 5)\n",
    "\n",
    "    beta_p = (\n",
    "        pm.math.ones((N, 1))\n",
    "        * pm.Normal(\"beta_pf\", mu_β_p, sigma_β_p, dims=[\"p_factors\"]).T\n",
    "    )  # want there to be N*K beta's\n",
    "\n",
    "    π = pm.Dirichlet(\"latent_binwidths\", a=pm.math.ones(W))  # W x 1\n",
    "    α = pm.Deterministic(\n",
    "        \"latent_cutpoints\", pm.math.concatenate([np.ones(1) * 0, pm.math.cumsum(π)])\n",
    "    )  # (W+1) x 1\n",
    "\n",
    "    ## Construct Utility matrix\n",
    "\n",
    "    s_good = beta_p @ df[\"product_features\"].T\n",
    "\n",
    "    # s = pm.math.concatenate([s_good, np.zeros((N, 1))], axis=1)\n",
    "    \n",
    "    s = s_good\n",
    "\n",
    "    ## Calculate good conditional likelihoods\n",
    "    \n",
    "    p_goods = pm.math.softmax(s, axis=1)  # probability that good i is best of J\n",
    "    \n",
    "    ## Apply Softmax Transform\n",
    "    \n",
    "    p_ = pm.Deterministic(\"p\", pm.math.softmax(s, axis=1), dims=(\"obs\", \"products\"))\n",
    "   \n",
    "    ## Apply Gumbel-Max Adjustment\n",
    "    \n",
    "    μbar = pm.math.log(pm.math.sum(pm.math.exp(s), axis=1))  # should be N x 1    \n",
    "\n",
    "    ## Likelihood\n",
    "    \n",
    "    choice_obs = pm.Categorical(\"y_cat\", p=p_, observed=observed_good, dims=\"obs\")\n",
    "    bin_obs = pm.OrderedLogistic(\"bin\", eta=μbar, cutpoints=α, observed=observed_bin, dims=\"obs\")\n",
    " \n",
    "pm.model_to_graphviz(model_1)"
   ]
  },
  {
   "cell_type": "code",
   "execution_count": null,
   "metadata": {},
   "outputs": [],
   "source": [
    "with model_1:\n",
    "    idata_m1 = pm.sample_prior_predictive()\n",
    "    idata_m1.extend(\n",
    "        pm.sample(\n",
    "            5000,\n",
    "            nuts_sampler=\"numpyro\",\n",
    "            idata_kwargs={\"log_likelihood\": True},\n",
    "            random_seed=100,\n",
    "        )\n",
    "    )\n",
    "    idata_m1.extend(pm.sample_posterior_predictive(idata_m1))"
   ]
  },
  {
   "cell_type": "code",
   "execution_count": null,
   "metadata": {},
   "outputs": [],
   "source": [
    "post = az.extract(idata_m1)\n",
    "fig, axs = plt.subplots(3, 2)\n",
    "\n",
    "for i in range(6):\n",
    "    plt.sca(axs.flatten()[i])\n",
    "    if i >= K:\n",
    "        plt.gca().axis(\"off\")\n",
    "        continue\n",
    "    sns.histplot(\n",
    "        post[\"beta_pf\"][i, :],\n",
    "        bins=30,\n",
    "        ec=\"black\",\n",
    "    )\n",
    "    plt.axvline(df[\"latent_β_feature\"][0, i], linestyle=\"dashed\", color=\"black\")\n",
    "    plt.title(rf\"$\\beta_{i+1}$\")\n",
    "    plt.ylabel(None)\n",
    "    plt.yticks([])\n",
    "\n",
    "plt.tight_layout()\n",
    "plt.show()"
   ]
  },
  {
   "cell_type": "markdown",
   "metadata": {},
   "source": [
    "### Archive"
   ]
  },
  {
   "cell_type": "code",
   "execution_count": 27,
   "metadata": {},
   "outputs": [],
   "source": [
    "# def make_data(params):\n",
    "\n",
    "#     ## load parameters\n",
    "#     M = params[\"M\"]\n",
    "#     W = params[\"W\"]\n",
    "#     J = params[\"J\"]\n",
    "#     K = params[\"K\"]\n",
    "#     N = params[\"N\"]\n",
    "\n",
    "#     np.random.seed(42)\n",
    "\n",
    "#     ## generate latent parameters\n",
    "#     # individual_features = np.random.normal(0, 0.1, (N, M))\n",
    "#     # individual_features = np.zeros((N, M))\n",
    "#     individual_features = ...\n",
    "#     product_features = np.random.normal(-1, 0.2, (J, K))\n",
    "#     π = np.random.dirichlet([1] * W, 1).flatten().cumsum()\n",
    "#     β_ind = ...\n",
    "#     # β_ind = np.random.normal(0, 1, M)\n",
    "#     # β_prod = np.random.normal(0, 0.2, (K, N))\n",
    "#     # ν = np.random.normal(0, 1, (N, J))\n",
    "#     η = np.random.gumbel(0, 1, (N, J+1))\n",
    "#     # ɛ = np.random.normal(0, 1, (N, J))\n",
    "\n",
    "#     if heterogeneous:\n",
    "#         β_prod = np.random.normal(0, 1, (K, N))\n",
    "#     else:\n",
    "#         β_prod = np.ones((N, 1)) @ np.random.normal(0, 1, (1, K))\n",
    "#     ## generate data\n",
    "#     # y = np.zeros((N, J))\n",
    "\n",
    "#     # u_individual = np.outer(\n",
    "#     #     individual_features @ β_ind,\n",
    "#     #     np.ones(J),\n",
    "#     # )\n",
    "#     u = β_prod @ product_features.T + η\n",
    "\n",
    "#     if heterogeneous:\n",
    "#         u_individual = ...\n",
    "#         u += u_individual\n",
    "\n",
    "#     t = np.argmax(u, axis=1)\n",
    "#     v = u[:, t]\n",
    "#     w = np.digitize(gumbel_r.cdf(v), π)\n",
    "\n",
    "#     d = {\n",
    "#         \"product_features\": product_features,\n",
    "#         \"t\": t,\n",
    "#         \"w\": w,\n",
    "#         \"latent_cutpoints\": π,\n",
    "#         \"latent_utilities\": u,\n",
    "#         \"latent_β_feature\": β_prod\n",
    "#     }\n",
    "\n",
    "#     if heterogeneous:\n",
    "#         d[\"individual_features\"] = individual_features\n",
    "\n",
    "#     if heterogeneous:\n",
    "#         d[\"individual_features\"] = individual_features\n",
    "#         d[\"latent_β_ind\"] = β_ind\n",
    "\n",
    "#     return d\n",
    "\n",
    "# params = {\"N\": 1000, \"J\": 3, \"K\": 5, \"M\": 2, \"W\": 4}\n",
    "\n",
    "# df = make_data(params)"
   ]
  },
  {
   "cell_type": "code",
   "execution_count": 28,
   "metadata": {},
   "outputs": [],
   "source": [
    "# with pm.Model(coords=coords) as model_1:\n",
    "\n",
    "#     mu_β_p = pm.Normal(\"mu_β_p\", 0, 1)\n",
    "#     sigma_β_p = pm.Exponential(\"sigma_β_p\", 5)\n",
    "#     # beta_p = pm.Normal(\n",
    "#     #     \"beta_pf\", mu_β_p, sigma_β_p, dims=[\"obs\", \"p_factors\"]\n",
    "#     # )  # want there to be N*K beta's\n",
    "\n",
    "#     beta_p = (\n",
    "#         pm.math.ones((N, 1))\n",
    "#         * pm.Normal(\"beta_pf\", mu_β_p, sigma_β_p, dims=[\"p_factors\"]).T\n",
    "#     )  # want there to be N*K beta's\n",
    "\n",
    "#     # beta_p_print = Print(\"beta_p\")(beta_p)\n",
    "\n",
    "#     # π = pm.Dirichlet(\"latent_binwidths\", a=pm.math.ones(W))  # W x 1\n",
    "#     # α = pm.Deterministic(\n",
    "#     #     \"latent_cutpoints\", pt.concatenate([np.ones(1) * 0, pt.extra_ops.cumsum(π)])\n",
    "#     # )  # (W+1) x 1\n",
    "\n",
    "#     ## Construct Utility matrix\n",
    "\n",
    "#     # s_good = pm.math.dot(beta_p, df[\"product_features\"].T)  # N x J\n",
    "\n",
    "#     s_good = beta_p @ df[\"product_features\"].T\n",
    "\n",
    "#     # individual_effects = pm.math.sum(pm.math.dot(beta_i, df[\"individual_features\"]), axis=1)\n",
    "#     # s_person = individual_effects[:, None] * pm.math.ones_like(df[\"individual_features\"])\n",
    "#     # s = s_good + 0\n",
    "\n",
    "#     # s_good_print = Print(\"s_good\")(s_good)\n",
    "\n",
    "#     s = pm.math.concatenate([s_good, np.zeros((N, 1))], axis=1)\n",
    "#     ## Calculate good conditional likelihoods\n",
    "#     # p_goods = pm.math.softmax(s, axis=1)  # probability that good i is best of J\n",
    "\n",
    "#     ## Apply Gumbel-Max Adjustment\n",
    "#     # μbar = pm.math.log(pm.math.sum(pm.math.exp(s), axis=1))  # should be N x 1\n",
    "\n",
    "#     ## Apply Softmax Transform\n",
    "#     p_ = pm.Deterministic(\"p\", pm.math.softmax(s, axis=1), dims=(\"obs\", \"products\"))\n",
    "\n",
    "#     ## Likelihood\n",
    "#     choice_obs = pm.Categorical(\"y_cat\", p=p_, observed=observed_good, dims=\"obs\")\n",
    "\n",
    "#     # sandwich_meat = [\n",
    "#     #     (\n",
    "#     #         pm.math.exp(pm.math.exp(μbar) * pm.math.log(α[w]))\n",
    "#     #         - pm.math.exp(pm.math.exp(μbar) * pm.math.log(α[w - 1]))\n",
    "#     #     )\n",
    "#     #     for w in range(2, W)\n",
    "#     # ]\n",
    "\n",
    "#     # ## Calculate bin conditional likelihoods\n",
    "#     # p_bins = pt.stack(\n",
    "#     #     [\n",
    "#     #         pm.math.exp(pm.math.exp(μbar) * pm.math.log(α[1])),  # should be N x 1\n",
    "#     #         *sandwich_meat,  # should be N x W-2\n",
    "#     #         1 - pm.math.exp(pm.math.exp(μbar) * pm.math.log(α[-1])),  # should be N x 1\n",
    "#     #     ],\n",
    "#     #     axis=0,\n",
    "#     # ).T  # should be N x W\n",
    "\n",
    "#     ## Map to observables\n",
    "#     # good_obs = pm.Categorical(\"product\", p=p_goods, observed=observed_good, dims=\"obs\")\n",
    "#     # outside_obs =\n",
    "#     # prob_obs = pm.Categorical(\"bin\", p=probs, observed=observed_prob, dims=\"obs\")\n",
    "#     # bin_obs = pm.Categorical(\"bin\", p=p_bins, observed=observed_bin, dims=\"obs\")\n",
    "\n",
    "# pm.model_to_graphviz(model_1)"
   ]
  },
  {
   "cell_type": "code",
   "execution_count": 29,
   "metadata": {
    "ExecuteTime": {
     "end_time": "2024-06-26T21:36:42.904161Z",
     "start_time": "2024-06-26T21:36:42.899561Z"
    }
   },
   "outputs": [],
   "source": [
    "# az.summary(idata_m1, var_names=[\"mu_β_p\", \"sigma_β_p\", \"latent_cutpoints\"])"
   ]
  }
 ],
 "metadata": {
  "kernelspec": {
   "display_name": ".venv",
   "language": "python",
   "name": "python3"
  },
  "language_info": {
   "codemirror_mode": {
    "name": "ipython",
    "version": 3
   },
   "file_extension": ".py",
   "mimetype": "text/x-python",
   "name": "python",
   "nbconvert_exporter": "python",
   "pygments_lexer": "ipython3",
   "version": "3.12.6"
  }
 },
 "nbformat": 4,
 "nbformat_minor": 2
}
