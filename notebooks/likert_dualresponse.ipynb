{
 "cells": [
  {
   "cell_type": "code",
   "execution_count": 1,
   "metadata": {
    "ExecuteTime": {
     "end_time": "2024-06-26T21:27:22.690582Z",
     "start_time": "2024-06-26T21:27:20.728808Z"
    }
   },
   "outputs": [
    {
     "name": "stderr",
     "output_type": "stream",
     "text": [
      "WARNING (pytensor.tensor.blas): Using NumPy C-API based implementation for BLAS functions.\n"
     ]
    }
   ],
   "source": [
    "import arviz as az\n",
    "import numpy as np  # For vectorized math operations\n",
    "\n",
    "import pandas as pd  # For file input/output\n",
    "import pymc as pm\n",
    "import pytensor.tensor as pt\n",
    "from scipy.stats import gumbel_r\n",
    "import seaborn as sns\n",
    "from matplotlib import pyplot as plt"
   ]
  },
  {
   "cell_type": "code",
   "execution_count": 2,
   "metadata": {},
   "outputs": [],
   "source": [
    "%config InlineBackend.figure_format='retina'\n",
    "\n",
    "sns.set_theme(\n",
    "    context=\"notebook\",\n",
    "    style=\"white\",\n",
    "    font=\"Latin Modern Roman\",\n",
    "    rc={\n",
    "        \"axes.spines.right\": False,\n",
    "        \"axes.spines.top\": False,\n",
    "        \"text.usetex\": True,\n",
    "    },\n",
    ")\n",
    "\n",
    "extra_params = {\n",
    "    \"text.latex.preamble\": \" \".join([r\"\\usepackage{mathtools}\", r\"\\usepackage{amssymb}\"])\n",
    "}\n",
    "\n",
    "plt.rcParams.update(extra_params)"
   ]
  },
  {
   "cell_type": "markdown",
   "metadata": {},
   "source": [
    "# Introduction\n",
    "\n",
    "Data generating process is:\n",
    "$$\n",
    "u_{ij} = {x_i}'\\beta^{\\text{individual}}_{i} + {c_j}'\\beta^{\\text{product}}_{i} + \\eta_{ij} - \\eta_{i0}\n",
    "$$\n",
    "where\n",
    "- the consumer knows $\\left(x_i, \\beta^{\\text{individual}}_i, c_j, \\beta^{\\text{product}}_{i}, \\eta_{ij}\\right)$, which implies outcome variables $\\left(t_i, w_i\\right)$\n",
    "- the econometrician knows $\\left(x_i, c_j, t_i, w_i\\right)$ and has priors over $\\left(\\beta^{\\text{individual}}, \\beta^{\\text{product}}\\right)$\n",
    "- neither the consumer nor the econometrician knows $\\eta_{i0}$, but they have common priors\n",
    "\n",
    "Consumer reports\n",
    "- their preferred good $j^{(1)}$\n",
    "- the probability they purchase the good on a Likert scale with $W$ categories"
   ]
  },
  {
   "cell_type": "markdown",
   "metadata": {},
   "source": [
    "## Notation\n",
    "\n",
    "- $N$ is the number of individuals\n",
    "- $J$ is the number of products\n",
    "- $K$ is the number of product attributes\n",
    "- $M$ is the number of individual attributes\n",
    "- $W$ is the number of categories on the Likert scale"
   ]
  },
  {
   "cell_type": "markdown",
   "metadata": {},
   "source": [
    "## Classic Multinomial Logit"
   ]
  },
  {
   "cell_type": "markdown",
   "metadata": {},
   "source": [
    "### Simulate Data"
   ]
  },
  {
   "cell_type": "code",
   "execution_count": 52,
   "metadata": {
    "ExecuteTime": {
     "end_time": "2024-06-26T21:27:22.697684Z",
     "start_time": "2024-06-26T21:27:22.691863Z"
    }
   },
   "outputs": [],
   "source": [
    "def make_data(params, heterogeneous=False):\n",
    "\n",
    "    ## load parameters\n",
    "    M = params[\"M\"]\n",
    "    W = params[\"W\"]\n",
    "    J = params[\"J\"]\n",
    "    K = params[\"K\"]\n",
    "    N = params[\"N\"]\n",
    "\n",
    "    np.random.seed(42)\n",
    "\n",
    "    ## generate latent parameters\n",
    "    # individual_features = np.random.normal(0, 0.1, (N, M))\n",
    "    # individual_features = np.zeros((N, M))\n",
    "    individual_features = ...\n",
    "    \n",
    "    # product_features = np.random.normal(0, 0.5, (J, K))\n",
    "    # product_features = np.concatenate(\n",
    "    #     [product_features, np.zeros((1, K))], axis=0\n",
    "    # )  # outside good\n",
    "    \n",
    "    product_features = np.random.normal(0, 0.2, (N, J, K))\n",
    "    product_features = np.concatenate(\n",
    "        [product_features, np.zeros((N, 1, K))], axis=1\n",
    "    )  # outside good\n",
    "\n",
    "    π = np.random.dirichlet([1] * W, 1).flatten().cumsum()\n",
    "    β_ind = ...\n",
    "    # β_ind = np.random.normal(0, 1, M)\n",
    "    # β_prod = np.random.normal(0, 0.2, (K, N))\n",
    "    # ν = np.random.normal(0, 1, (N, J))\n",
    "    η = np.random.gumbel(0, 1, (N, J + 1))\n",
    "    # ɛ = np.random.normal(0, 1, (N, J))\n",
    "\n",
    "    if heterogeneous:\n",
    "        α_prod = ...\n",
    "        β_prod = np.random.normal(0, 1, (K, N))\n",
    "    \n",
    "    else:\n",
    "        \n",
    "        α_prod = np.random.normal(-1.0, 0.2, J+1)\n",
    "        α_prod[-1] = 0 # outside good\n",
    "\n",
    "        # β_prod = np.ones((N, 1)) @ np.random.normal(0, 1, (1, K))\n",
    "        β_prod = np.random.normal(0, 1, K)\n",
    "    \n",
    "    ## generate data\n",
    "    # y = np.zeros((N, J))\n",
    "\n",
    "    # u_individual = np.outer(\n",
    "    #     individual_features @ β_ind,\n",
    "    #     np.ones(J),\n",
    "    # )\n",
    "    # u = β_prod @ product_features.T + η\n",
    "\n",
    "    u = np.ones((N, 1)) @ α_prod.reshape((1, -1)) + product_features @ β_prod + η\n",
    "    \n",
    "    if heterogeneous:\n",
    "        u_individual = ...\n",
    "        u += u_individual\n",
    "\n",
    "    t = np.argmax(u, axis=1)\n",
    "    jstar = np.argmax(u[:, :-1], axis=1)\n",
    "    v = u[:, t]\n",
    "    w = np.digitize(gumbel_r.cdf(v), π)\n",
    "\n",
    "    d = {\n",
    "        \"product_features\": product_features,\n",
    "        \"t\": t,\n",
    "        \"w\": w,\n",
    "        \"jstar\": jstar,\n",
    "        \"latent_cutpoints\": π,\n",
    "        \"latent_utilities\": u,\n",
    "        \"latent_α_prod\": α_prod,\n",
    "        \"latent_β_prod\": β_prod,\n",
    "    }\n",
    "\n",
    "    if heterogeneous:\n",
    "        d[\"individual_features\"] = individual_features\n",
    "        d[\"latent_β_ind\"] = β_ind\n",
    "\n",
    "    return d\n",
    "\n",
    "\n",
    "params = {\"N\": 200, \"J\": 3, \"K\": 5, \"M\": 2, \"W\": 4}\n",
    "\n",
    "df = make_data(params)"
   ]
  },
  {
   "cell_type": "markdown",
   "metadata": {},
   "source": [
    "### Visualize the Data"
   ]
  },
  {
   "cell_type": "code",
   "execution_count": 44,
   "metadata": {},
   "outputs": [],
   "source": [
    "# df[\"t\"]\n",
    "# df[\"product_features\"]"
   ]
  },
  {
   "cell_type": "code",
   "execution_count": 54,
   "metadata": {},
   "outputs": [
    {
     "data": {
      "text/plain": [
       "array([-1.06782446, -0.92598778, -1.02474654,  0.        ])"
      ]
     },
     "execution_count": 54,
     "metadata": {},
     "output_type": "execute_result"
    }
   ],
   "source": [
    "df[\"latent_α_prod\"]"
   ]
  },
  {
   "cell_type": "code",
   "execution_count": 53,
   "metadata": {},
   "outputs": [
    {
     "data": {
      "text/plain": [
       "array([-0.49693203, -0.18256897, -0.98995779, -0.03500761, -0.81100086])"
      ]
     },
     "execution_count": 53,
     "metadata": {},
     "output_type": "execute_result"
    }
   ],
   "source": [
    "df[\"latent_β_prod\"]"
   ]
  },
  {
   "cell_type": "code",
   "execution_count": 55,
   "metadata": {},
   "outputs": [
    {
     "data": {
      "image/png": "[encoded data removed]",
      "text/plain": [
       "<Figure size 640x480 with 1 Axes>"
      ]
     },
     "metadata": {
      "image/png": {
       "height": 416,
       "width": 564
      }
     },
     "output_type": "display_data"
    }
   ],
   "source": [
    "sns.histplot(df[\"t\"], discrete=True)\n",
    "plt.show()"
   ]
  },
  {
   "cell_type": "markdown",
   "metadata": {},
   "source": [
    "### Export Data"
   ]
  },
  {
   "cell_type": "code",
   "execution_count": 57,
   "metadata": {},
   "outputs": [],
   "source": [
    "out_data2 = np.array(\n",
    "    [\n",
    "        [n, j, df[\"jstar\"][n] == j, *df[\"product_features\"][n, j, :], df[\"jstar\"][n] == df[\"t\"][n]]\n",
    "        for n in range(params[\"N\"])\n",
    "        for j in range(params[\"J\"])\n",
    "    ]\n",
    ")"
   ]
  },
  {
   "cell_type": "code",
   "execution_count": 58,
   "metadata": {},
   "outputs": [
    {
     "data": {
      "text/plain": [
       "(249, 8)"
      ]
     },
     "execution_count": 58,
     "metadata": {},
     "output_type": "execute_result"
    }
   ],
   "source": [
    "out_data2[out_data2[:, -1] == 0, :-1].shape"
   ]
  },
  {
   "cell_type": "code",
   "execution_count": 59,
   "metadata": {},
   "outputs": [],
   "source": [
    "out_data1 = np.array(\n",
    "    [\n",
    "        [n, j, 0, df[\"t\"][n] == j, *df[\"product_features\"][n, j, :]]\n",
    "        for n in range(params[\"N\"])\n",
    "        for j in range(params[\"J\"] + 1)\n",
    "    ]\n",
    ")\n",
    "\n",
    "out_data2 = np.array(\n",
    "    [\n",
    "        [\n",
    "            n,\n",
    "            j,\n",
    "            1, \n",
    "            df[\"jstar\"][n] == j,\n",
    "            *df[\"product_features\"][n, j, :],\n",
    "            df[\"jstar\"][n] == df[\"t\"][n],\n",
    "        ]\n",
    "        for n in range(params[\"N\"])\n",
    "        for j in range(params[\"J\"])\n",
    "    ]\n",
    ")\n",
    "out_data = np.concatenate([out_data1, out_data2[out_data2[:, -1] == 0, :-1]], axis=0)\n",
    "pd.DataFrame(\n",
    "    out_data,\n",
    "    columns=[\n",
    "        \"consumer_id\",\n",
    "        \"choice_id\",\n",
    "        \"task_id\",\n",
    "        \"purchase\",\n",
    "        *[f\"f_{k}\" for k in range(params[\"K\"])],\n",
    "    ],\n",
    ").to_csv(\"/Users/gzheng/Desktop/data.csv\", index=False)"
   ]
  },
  {
   "cell_type": "markdown",
   "metadata": {},
   "source": [
    "First, try \"classical\" conjoint, in which $\\eta_0$ is observed by the consumer."
   ]
  },
  {
   "cell_type": "code",
   "execution_count": 60,
   "metadata": {},
   "outputs": [],
   "source": [
    "# def gumbel_pdf(x, mu=0, beta=1):\n",
    "#     z = (x - mu) / beta\n",
    "#     return np.exp(-(z + np.exp(-z)))\n",
    "\n",
    "\n",
    "# def gumbel_cdf(x, mu=0, beta=1):\n",
    "#     z = (x - mu) / beta\n",
    "#     return np.exp(-np.exp(-z))\n",
    "\n",
    "# μbar = np.log(np.sum(np.exp(df[\"latent_β_prod\"][:] @ df[\"product_features\"].T)))\n",
    "# sns.histplot(np.max(df[\"latent_utilities\"], axis=1), stat=\"density\")\n",
    "# plot_args = dict(\n",
    "#     zip(\n",
    "#         [\"x\", \"y\"],\n",
    "#         zip(\n",
    "#             *(\n",
    "#                 (x, gumbel_r.pdf(x, μbar))\n",
    "#                 for x in np.linspace(\n",
    "#                     *np.percentile(np.max(df[\"latent_utilities\"], axis=1), [0.1, 99.9]),\n",
    "#                     100,\n",
    "#                 )\n",
    "#             )\n",
    "#         ),\n",
    "#     )\n",
    "# )\n",
    "# sns.lineplot(\n",
    "#     **plot_args,\n",
    "#     linestyle=\"dashed\",\n",
    "# )\n",
    "# plt.show()"
   ]
  },
  {
   "cell_type": "markdown",
   "metadata": {},
   "source": [
    "### Estimate the Model"
   ]
  },
  {
   "cell_type": "code",
   "execution_count": 61,
   "metadata": {
    "ExecuteTime": {
     "end_time": "2024-06-26T21:27:26.956688Z",
     "start_time": "2024-06-26T21:27:26.952887Z"
    }
   },
   "outputs": [],
   "source": [
    "observed_good = df[\"t\"]\n",
    "\n",
    "N = params[\"N\"]\n",
    "M = params[\"M\"]\n",
    "J = params[\"J\"]\n",
    "K = params[\"K\"]\n",
    "W = params[\"W\"]\n",
    "# J, K = df[\"product_features\"].shape\n",
    "# W = len(np.unique(observed_bin))\n",
    "\n",
    "\n",
    "coords_1 = {\n",
    "    \"products\": [f\"product_{i}\" for i in range(J + 1)],\n",
    "    \"i_factors\": [f\"if_{i}\" for i in range(M)],\n",
    "    \"p_factors\": [f\"pf_{i}\" for i in range(K)],\n",
    "    \"obs\": range(N),\n",
    "}"
   ]
  },
  {
   "cell_type": "code",
   "execution_count": 62,
   "metadata": {},
   "outputs": [
    {
     "data": {
      "image/svg+xml": [
       "<?xml version=\"1.0\" encoding=\"UTF-8\" standalone=\"no\"?>\n",
       "<!DOCTYPE svg PUBLIC \"-//W3C//DTD SVG 1.1//EN\"\n",
       " \"http://www.w3.org/Graphics/SVG/1.1/DTD/svg11.dtd\">\n",
       "<!-- Generated by graphviz version 12.1.2 (20240928.0832)\n",
       " -->\n",
       "<!-- Pages: 1 -->\n",
       "<svg width=\"466pt\" height=\"483pt\"\n",
       " viewBox=\"0.00 0.00 465.59 482.95\" xmlns=\"http://www.w3.org/2000/svg\" xmlns:xlink=\"http://www.w3.org/1999/xlink\">\n",
       "<g id=\"graph0\" class=\"graph\" transform=\"scale(1 1) rotate(0) translate(4 478.95)\">\n",
       "<polygon fill=\"white\" stroke=\"none\" points=\"-4,4 -4,-478.95 461.59,-478.95 461.59,4 -4,4\"/>\n",
       "<g id=\"clust1\" class=\"cluster\">\n",
       "<title>clusterproducts (4)</title>\n",
       "<path fill=\"none\" stroke=\"black\" d=\"M139.45,-243.82C139.45,-243.82 213.45,-243.82 213.45,-243.82 219.45,-243.82 225.45,-249.82 225.45,-255.82 225.45,-255.82 225.45,-353.63 225.45,-353.63 225.45,-359.63 219.45,-365.63 213.45,-365.63 213.45,-365.63 139.45,-365.63 139.45,-365.63 133.45,-365.63 127.45,-359.63 127.45,-353.63 127.45,-353.63 127.45,-255.82 127.45,-255.82 127.45,-249.82 133.45,-243.82 139.45,-243.82\"/>\n",
       "<text text-anchor=\"middle\" x=\"184.45\" y=\"-251.02\" font-family=\"Times,serif\" font-size=\"14.00\">products (4)</text>\n",
       "</g>\n",
       "<g id=\"clust2\" class=\"cluster\">\n",
       "<title>clusterp_factors (5)</title>\n",
       "<path fill=\"none\" stroke=\"black\" d=\"M258.45,-243.82C258.45,-243.82 332.45,-243.82 332.45,-243.82 338.45,-243.82 344.45,-249.82 344.45,-255.82 344.45,-255.82 344.45,-353.63 344.45,-353.63 344.45,-359.63 338.45,-365.63 332.45,-365.63 332.45,-365.63 258.45,-365.63 258.45,-365.63 252.45,-365.63 246.45,-359.63 246.45,-353.63 246.45,-353.63 246.45,-255.82 246.45,-255.82 246.45,-249.82 252.45,-243.82 258.45,-243.82\"/>\n",
       "<text text-anchor=\"middle\" x=\"301.58\" y=\"-251.02\" font-family=\"Times,serif\" font-size=\"14.00\">p_factors (5)</text>\n",
       "</g>\n",
       "<g id=\"clust3\" class=\"cluster\">\n",
       "<title>clusterobs (200) x products (4)</title>\n",
       "<path fill=\"none\" stroke=\"black\" d=\"M172.45,-137.82C172.45,-137.82 296.45,-137.82 296.45,-137.82 302.45,-137.82 308.45,-143.82 308.45,-149.82 308.45,-149.82 308.45,-223.82 308.45,-223.82 308.45,-229.82 302.45,-235.82 296.45,-235.82 296.45,-235.82 172.45,-235.82 172.45,-235.82 166.45,-235.82 160.45,-229.82 160.45,-223.82 160.45,-223.82 160.45,-149.82 160.45,-149.82 160.45,-143.82 166.45,-137.82 172.45,-137.82\"/>\n",
       "<text text-anchor=\"middle\" x=\"234.45\" y=\"-145.02\" font-family=\"Times,serif\" font-size=\"14.00\">obs (200) x products (4)</text>\n",
       "</g>\n",
       "<g id=\"clust4\" class=\"cluster\">\n",
       "<title>clusterobs (200)</title>\n",
       "<path fill=\"none\" stroke=\"black\" d=\"M167.45,-8C167.45,-8 269.45,-8 269.45,-8 275.45,-8 281.45,-14 281.45,-20 281.45,-20 281.45,-117.82 281.45,-117.82 281.45,-123.82 275.45,-129.82 269.45,-129.82 269.45,-129.82 167.45,-129.82 167.45,-129.82 161.45,-129.82 155.45,-123.82 155.45,-117.82 155.45,-117.82 155.45,-20 155.45,-20 155.45,-14 161.45,-8 167.45,-8\"/>\n",
       "<text text-anchor=\"middle\" x=\"247.58\" y=\"-15.2\" font-family=\"Times,serif\" font-size=\"14.00\">obs (200)</text>\n",
       "</g>\n",
       "<!-- sigma_α_p -->\n",
       "<g id=\"node1\" class=\"node\">\n",
       "<title>sigma_α_p</title>\n",
       "<ellipse fill=\"none\" stroke=\"black\" cx=\"57.45\" cy=\"-434.29\" rx=\"57.45\" ry=\"40.66\"/>\n",
       "<text text-anchor=\"middle\" x=\"57.45\" y=\"-445.74\" font-family=\"Times,serif\" font-size=\"14.00\">sigma_α_p</text>\n",
       "<text text-anchor=\"middle\" x=\"57.45\" y=\"-429.24\" font-family=\"Times,serif\" font-size=\"14.00\">~</text>\n",
       "<text text-anchor=\"middle\" x=\"57.45\" y=\"-412.74\" font-family=\"Times,serif\" font-size=\"14.00\">Exponential</text>\n",
       "</g>\n",
       "<!-- alpha_j -->\n",
       "<g id=\"node5\" class=\"node\">\n",
       "<title>alpha_j</title>\n",
       "<ellipse fill=\"none\" stroke=\"black\" cx=\"176.45\" cy=\"-316.98\" rx=\"41.01\" ry=\"40.66\"/>\n",
       "<text text-anchor=\"middle\" x=\"176.45\" y=\"-328.43\" font-family=\"Times,serif\" font-size=\"14.00\">alpha_j</text>\n",
       "<text text-anchor=\"middle\" x=\"176.45\" y=\"-311.93\" font-family=\"Times,serif\" font-size=\"14.00\">~</text>\n",
       "<text text-anchor=\"middle\" x=\"176.45\" y=\"-295.43\" font-family=\"Times,serif\" font-size=\"14.00\">Normal</text>\n",
       "</g>\n",
       "<!-- sigma_α_p&#45;&gt;alpha_j -->\n",
       "<g id=\"edge1\" class=\"edge\">\n",
       "<title>sigma_α_p&#45;&gt;alpha_j</title>\n",
       "<path fill=\"none\" stroke=\"black\" d=\"M90.92,-400.86C106.02,-386.23 123.91,-368.89 139.42,-353.86\"/>\n",
       "<polygon fill=\"black\" stroke=\"black\" points=\"141.45,-356.77 146.19,-347.3 136.58,-351.74 141.45,-356.77\"/>\n",
       "</g>\n",
       "<!-- sigma_β_p -->\n",
       "<g id=\"node2\" class=\"node\">\n",
       "<title>sigma_β_p</title>\n",
       "<ellipse fill=\"none\" stroke=\"black\" cx=\"295.45\" cy=\"-434.29\" rx=\"57.45\" ry=\"40.66\"/>\n",
       "<text text-anchor=\"middle\" x=\"295.45\" y=\"-445.74\" font-family=\"Times,serif\" font-size=\"14.00\">sigma_β_p</text>\n",
       "<text text-anchor=\"middle\" x=\"295.45\" y=\"-429.24\" font-family=\"Times,serif\" font-size=\"14.00\">~</text>\n",
       "<text text-anchor=\"middle\" x=\"295.45\" y=\"-412.74\" font-family=\"Times,serif\" font-size=\"14.00\">Exponential</text>\n",
       "</g>\n",
       "<!-- beta_pf -->\n",
       "<g id=\"node6\" class=\"node\">\n",
       "<title>beta_pf</title>\n",
       "<ellipse fill=\"none\" stroke=\"black\" cx=\"295.45\" cy=\"-316.98\" rx=\"41.01\" ry=\"40.66\"/>\n",
       "<text text-anchor=\"middle\" x=\"295.45\" y=\"-328.43\" font-family=\"Times,serif\" font-size=\"14.00\">beta_pf</text>\n",
       "<text text-anchor=\"middle\" x=\"295.45\" y=\"-311.93\" font-family=\"Times,serif\" font-size=\"14.00\">~</text>\n",
       "<text text-anchor=\"middle\" x=\"295.45\" y=\"-295.43\" font-family=\"Times,serif\" font-size=\"14.00\">Normal</text>\n",
       "</g>\n",
       "<!-- sigma_β_p&#45;&gt;beta_pf -->\n",
       "<g id=\"edge3\" class=\"edge\">\n",
       "<title>sigma_β_p&#45;&gt;beta_pf</title>\n",
       "<path fill=\"none\" stroke=\"black\" d=\"M295.45,-393.28C295.45,-385.5 295.45,-377.25 295.45,-369.16\"/>\n",
       "<polygon fill=\"black\" stroke=\"black\" points=\"298.95,-369.43 295.45,-359.43 291.95,-369.43 298.95,-369.43\"/>\n",
       "</g>\n",
       "<!-- mu_α_p -->\n",
       "<g id=\"node3\" class=\"node\">\n",
       "<title>mu_α_p</title>\n",
       "<ellipse fill=\"none\" stroke=\"black\" cx=\"176.45\" cy=\"-434.29\" rx=\"43.66\" ry=\"40.66\"/>\n",
       "<text text-anchor=\"middle\" x=\"176.45\" y=\"-445.74\" font-family=\"Times,serif\" font-size=\"14.00\">mu_α_p</text>\n",
       "<text text-anchor=\"middle\" x=\"176.45\" y=\"-429.24\" font-family=\"Times,serif\" font-size=\"14.00\">~</text>\n",
       "<text text-anchor=\"middle\" x=\"176.45\" y=\"-412.74\" font-family=\"Times,serif\" font-size=\"14.00\">Normal</text>\n",
       "</g>\n",
       "<!-- mu_α_p&#45;&gt;alpha_j -->\n",
       "<g id=\"edge2\" class=\"edge\">\n",
       "<title>mu_α_p&#45;&gt;alpha_j</title>\n",
       "<path fill=\"none\" stroke=\"black\" d=\"M176.45,-393.28C176.45,-385.5 176.45,-377.25 176.45,-369.16\"/>\n",
       "<polygon fill=\"black\" stroke=\"black\" points=\"179.95,-369.43 176.45,-359.43 172.95,-369.43 179.95,-369.43\"/>\n",
       "</g>\n",
       "<!-- mu_β_p -->\n",
       "<g id=\"node4\" class=\"node\">\n",
       "<title>mu_β_p</title>\n",
       "<ellipse fill=\"none\" stroke=\"black\" cx=\"414.45\" cy=\"-434.29\" rx=\"43.13\" ry=\"40.66\"/>\n",
       "<text text-anchor=\"middle\" x=\"414.45\" y=\"-445.74\" font-family=\"Times,serif\" font-size=\"14.00\">mu_β_p</text>\n",
       "<text text-anchor=\"middle\" x=\"414.45\" y=\"-429.24\" font-family=\"Times,serif\" font-size=\"14.00\">~</text>\n",
       "<text text-anchor=\"middle\" x=\"414.45\" y=\"-412.74\" font-family=\"Times,serif\" font-size=\"14.00\">Normal</text>\n",
       "</g>\n",
       "<!-- mu_β_p&#45;&gt;beta_pf -->\n",
       "<g id=\"edge4\" class=\"edge\">\n",
       "<title>mu_β_p&#45;&gt;beta_pf</title>\n",
       "<path fill=\"none\" stroke=\"black\" d=\"M384.73,-404.49C368.88,-389.13 349.22,-370.08 332.39,-353.77\"/>\n",
       "<polygon fill=\"black\" stroke=\"black\" points=\"335.09,-351.51 325.47,-347.07 330.22,-356.54 335.09,-351.51\"/>\n",
       "</g>\n",
       "<!-- p -->\n",
       "<g id=\"node7\" class=\"node\">\n",
       "<title>p</title>\n",
       "<polygon fill=\"none\" stroke=\"black\" points=\"263.58,-227.82 173.33,-227.82 173.33,-170.32 263.58,-170.32 263.58,-227.82\"/>\n",
       "<text text-anchor=\"middle\" x=\"218.45\" y=\"-210.52\" font-family=\"Times,serif\" font-size=\"14.00\">p</text>\n",
       "<text text-anchor=\"middle\" x=\"218.45\" y=\"-194.02\" font-family=\"Times,serif\" font-size=\"14.00\">~</text>\n",
       "<text text-anchor=\"middle\" x=\"218.45\" y=\"-177.52\" font-family=\"Times,serif\" font-size=\"14.00\">Deterministic</text>\n",
       "</g>\n",
       "<!-- alpha_j&#45;&gt;p -->\n",
       "<g id=\"edge5\" class=\"edge\">\n",
       "<title>alpha_j&#45;&gt;p</title>\n",
       "<path fill=\"none\" stroke=\"black\" d=\"M190.09,-278.34C194.68,-265.66 199.82,-251.5 204.44,-238.74\"/>\n",
       "<polygon fill=\"black\" stroke=\"black\" points=\"207.71,-239.98 207.83,-229.39 201.13,-237.6 207.71,-239.98\"/>\n",
       "</g>\n",
       "<!-- beta_pf&#45;&gt;p -->\n",
       "<g id=\"edge6\" class=\"edge\">\n",
       "<title>beta_pf&#45;&gt;p</title>\n",
       "<path fill=\"none\" stroke=\"black\" d=\"M273.18,-282.45C263.78,-268.3 252.8,-251.77 243.15,-237.25\"/>\n",
       "<polygon fill=\"black\" stroke=\"black\" points=\"246.32,-235.69 237.87,-229.3 240.49,-239.57 246.32,-235.69\"/>\n",
       "</g>\n",
       "<!-- y_cat -->\n",
       "<g id=\"node8\" class=\"node\">\n",
       "<title>y_cat</title>\n",
       "<ellipse fill=\"lightgrey\" stroke=\"black\" cx=\"218.45\" cy=\"-81.16\" rx=\"55.33\" ry=\"40.66\"/>\n",
       "<text text-anchor=\"middle\" x=\"218.45\" y=\"-92.61\" font-family=\"Times,serif\" font-size=\"14.00\">y_cat</text>\n",
       "<text text-anchor=\"middle\" x=\"218.45\" y=\"-76.11\" font-family=\"Times,serif\" font-size=\"14.00\">~</text>\n",
       "<text text-anchor=\"middle\" x=\"218.45\" y=\"-59.61\" font-family=\"Times,serif\" font-size=\"14.00\">Categorical</text>\n",
       "</g>\n",
       "<!-- p&#45;&gt;y_cat -->\n",
       "<g id=\"edge7\" class=\"edge\">\n",
       "<title>p&#45;&gt;y_cat</title>\n",
       "<path fill=\"none\" stroke=\"black\" d=\"M218.45,-170.01C218.45,-159.03 218.45,-146.08 218.45,-133.55\"/>\n",
       "<polygon fill=\"black\" stroke=\"black\" points=\"221.95,-133.74 218.45,-123.74 214.95,-133.74 221.95,-133.74\"/>\n",
       "</g>\n",
       "</g>\n",
       "</svg>\n"
      ],
      "text/plain": [
       "<graphviz.graphs.Digraph at 0x398297ec0>"
      ]
     },
     "execution_count": 62,
     "metadata": {},
     "output_type": "execute_result"
    }
   ],
   "source": [
    "with pm.Model(coords=coords_1) as model_1:\n",
    "\n",
    "    mu_α_p = pm.Normal(\"mu_α_p\", 0, 1)\n",
    "    sigma_α_p = pm.Exponential(\"sigma_α_p\", 1)\n",
    "\n",
    "    alpha_p = pm.Normal(\"alpha_j\", mu_α_p, sigma_α_p, dims=[\"products\"])\n",
    "    alpha_p = pt.set_subtensor(alpha_p[-1], 0) #outside good\n",
    "\n",
    "    mu_β_p = pm.Normal(\"mu_β_p\", 0, 1)\n",
    "    sigma_β_p = pm.Exponential(\"sigma_β_p\", 1)\n",
    "    # beta_p = (\n",
    "    #     pm.math.ones((N, 1))\n",
    "    #     * pm.Normal(\"beta_pf\", mu_β_p, sigma_β_p, dims=[\"p_factors\"]).T\n",
    "    # )  # want there to be N*K beta's\n",
    "\n",
    "    beta_p = pm.Normal(\"beta_pf\", mu_β_p, sigma_β_p, dims=[\"p_factors\"])\n",
    "\n",
    "    ## Construct Utility matrix\n",
    "\n",
    "    # beta_p_print = Print(\"beta_p\")(beta_p)\n",
    "\n",
    "    s = pm.math.ones((N, 1)) @ alpha_p.reshape((1, -1)) + df[\"product_features\"] @ beta_p\n",
    "\n",
    "    # s_print = Print(\"s\")(s)\n",
    "    # s = beta_p @ df[\"product_features\"].T\n",
    "    # s = pm.math.concatenate([s_good, np.zeros((N, 1))], axis=1)\n",
    "\n",
    "    ## Apply Softmax Transform\n",
    "    p_ = pm.Deterministic(\"p\", pm.math.softmax(s, axis=1), dims=(\"obs\", \"products\"))\n",
    "\n",
    "    ## Likelihood\n",
    "    choice_obs = pm.Categorical(\"y_cat\", p=p_, observed=observed_good, dims=\"obs\")\n",
    "\n",
    "pm.model_to_graphviz(model_1)"
   ]
  },
  {
   "cell_type": "code",
   "execution_count": 63,
   "metadata": {
    "ExecuteTime": {
     "end_time": "2024-06-26T21:48:46.443641Z",
     "start_time": "2024-06-26T21:48:45.153910Z"
    }
   },
   "outputs": [
    {
     "data": {
      "application/vnd.jupyter.widget-view+json": {
       "model_id": "133312ff773d430e838fe3f09fdcedfe",
       "version_major": 2,
       "version_minor": 0
      },
      "text/plain": [
       "  0%|          | 0/6000 [00:00<?, ?it/s]"
      ]
     },
     "metadata": {},
     "output_type": "display_data"
    },
    {
     "data": {
      "application/vnd.jupyter.widget-view+json": {
       "model_id": "b15cd2b0681549ca81b91baa14c228af",
       "version_major": 2,
       "version_minor": 0
      },
      "text/plain": [
       "  0%|          | 0/6000 [00:00<?, ?it/s]"
      ]
     },
     "metadata": {},
     "output_type": "display_data"
    },
    {
     "data": {
      "application/vnd.jupyter.widget-view+json": {
       "model_id": "df3df09199b14e6e87d8eede14d308df",
       "version_major": 2,
       "version_minor": 0
      },
      "text/plain": [
       "  0%|          | 0/6000 [00:00<?, ?it/s]"
      ]
     },
     "metadata": {},
     "output_type": "display_data"
    },
    {
     "data": {
      "application/vnd.jupyter.widget-view+json": {
       "model_id": "0069485a98784a3d983476f7f8ab3dba",
       "version_major": 2,
       "version_minor": 0
      },
      "text/plain": [
       "  0%|          | 0/6000 [00:00<?, ?it/s]"
      ]
     },
     "metadata": {},
     "output_type": "display_data"
    },
    {
     "name": "stderr",
     "output_type": "stream",
     "text": [
      "There were 2581 divergences after tuning. Increase `target_accept` or reparameterize.\n",
      "The rhat statistic is larger than 1.01 for some parameters. This indicates problems during sampling. See https://arxiv.org/abs/1903.08008 for details\n",
      "The effective sample size per chain is smaller than 100 for some parameters.  A higher number is needed for reliable rhat and ess computation. See https://arxiv.org/abs/1903.08008 for details\n"
     ]
    }
   ],
   "source": [
    "with model_1:\n",
    "    # idata_m1 = pm.sample_prior_predictive()\n",
    "    # idata_m1.extend(\n",
    "    #     pm.sample(\n",
    "    #         5000,\n",
    "    #         nuts_sampler=\"numpyro\",\n",
    "    #         idata_kwargs={\"log_likelihood\": True},\n",
    "    #         random_seed=100,\n",
    "    #     )\n",
    "    # )\n",
    "    # idata_m1.extend(pm.sample_posterior_predictive(idata_m1))\n",
    "    idata_m1 = pm.sample(\n",
    "        5000,\n",
    "        nuts_sampler=\"numpyro\",\n",
    "        idata_kwargs={\"log_likelihood\": True},\n",
    "        random_seed=100,\n",
    "    )"
   ]
  },
  {
   "cell_type": "code",
   "execution_count": 64,
   "metadata": {
    "ExecuteTime": {
     "end_time": "2024-06-26T21:36:42.904161Z",
     "start_time": "2024-06-26T21:36:42.899561Z"
    }
   },
   "outputs": [
    {
     "data": {
      "text/html": [
       "<div>\n",
       "<style scoped>\n",
       "    .dataframe tbody tr th:only-of-type {\n",
       "        vertical-align: middle;\n",
       "    }\n",
       "\n",
       "    .dataframe tbody tr th {\n",
       "        vertical-align: top;\n",
       "    }\n",
       "\n",
       "    .dataframe thead th {\n",
       "        text-align: right;\n",
       "    }\n",
       "</style>\n",
       "<table border=\"1\" class=\"dataframe\">\n",
       "  <thead>\n",
       "    <tr style=\"text-align: right;\">\n",
       "      <th></th>\n",
       "      <th>mean</th>\n",
       "      <th>sd</th>\n",
       "      <th>hdi_3%</th>\n",
       "      <th>hdi_97%</th>\n",
       "      <th>mcse_mean</th>\n",
       "      <th>mcse_sd</th>\n",
       "      <th>ess_bulk</th>\n",
       "      <th>ess_tail</th>\n",
       "      <th>r_hat</th>\n",
       "    </tr>\n",
       "  </thead>\n",
       "  <tbody>\n",
       "    <tr>\n",
       "      <th>beta_pf[pf_0]</th>\n",
       "      <td>-0.767</td>\n",
       "      <td>0.341</td>\n",
       "      <td>-1.418</td>\n",
       "      <td>-0.113</td>\n",
       "      <td>0.009</td>\n",
       "      <td>0.006</td>\n",
       "      <td>1304.0</td>\n",
       "      <td>649.0</td>\n",
       "      <td>1.00</td>\n",
       "    </tr>\n",
       "    <tr>\n",
       "      <th>beta_pf[pf_1]</th>\n",
       "      <td>-0.565</td>\n",
       "      <td>0.323</td>\n",
       "      <td>-1.130</td>\n",
       "      <td>0.105</td>\n",
       "      <td>0.009</td>\n",
       "      <td>0.007</td>\n",
       "      <td>1363.0</td>\n",
       "      <td>2377.0</td>\n",
       "      <td>1.01</td>\n",
       "    </tr>\n",
       "    <tr>\n",
       "      <th>beta_pf[pf_2]</th>\n",
       "      <td>-0.630</td>\n",
       "      <td>0.326</td>\n",
       "      <td>-1.245</td>\n",
       "      <td>0.010</td>\n",
       "      <td>0.008</td>\n",
       "      <td>0.005</td>\n",
       "      <td>1756.0</td>\n",
       "      <td>2448.0</td>\n",
       "      <td>1.01</td>\n",
       "    </tr>\n",
       "    <tr>\n",
       "      <th>beta_pf[pf_3]</th>\n",
       "      <td>-0.734</td>\n",
       "      <td>0.341</td>\n",
       "      <td>-1.377</td>\n",
       "      <td>-0.078</td>\n",
       "      <td>0.011</td>\n",
       "      <td>0.008</td>\n",
       "      <td>946.0</td>\n",
       "      <td>581.0</td>\n",
       "      <td>1.00</td>\n",
       "    </tr>\n",
       "    <tr>\n",
       "      <th>beta_pf[pf_4]</th>\n",
       "      <td>-0.626</td>\n",
       "      <td>0.332</td>\n",
       "      <td>-1.277</td>\n",
       "      <td>0.007</td>\n",
       "      <td>0.011</td>\n",
       "      <td>0.009</td>\n",
       "      <td>939.0</td>\n",
       "      <td>866.0</td>\n",
       "      <td>1.01</td>\n",
       "    </tr>\n",
       "  </tbody>\n",
       "</table>\n",
       "</div>"
      ],
      "text/plain": [
       "                mean     sd  hdi_3%  hdi_97%  mcse_mean  mcse_sd  ess_bulk  \\\n",
       "beta_pf[pf_0] -0.767  0.341  -1.418   -0.113      0.009    0.006    1304.0   \n",
       "beta_pf[pf_1] -0.565  0.323  -1.130    0.105      0.009    0.007    1363.0   \n",
       "beta_pf[pf_2] -0.630  0.326  -1.245    0.010      0.008    0.005    1756.0   \n",
       "beta_pf[pf_3] -0.734  0.341  -1.377   -0.078      0.011    0.008     946.0   \n",
       "beta_pf[pf_4] -0.626  0.332  -1.277    0.007      0.011    0.009     939.0   \n",
       "\n",
       "               ess_tail  r_hat  \n",
       "beta_pf[pf_0]     649.0   1.00  \n",
       "beta_pf[pf_1]    2377.0   1.01  \n",
       "beta_pf[pf_2]    2448.0   1.01  \n",
       "beta_pf[pf_3]     581.0   1.00  \n",
       "beta_pf[pf_4]     866.0   1.01  "
      ]
     },
     "execution_count": 64,
     "metadata": {},
     "output_type": "execute_result"
    }
   ],
   "source": [
    "az.summary(idata_m1, var_names=[\"beta_pf\"])"
   ]
  },
  {
   "cell_type": "code",
   "execution_count": 65,
   "metadata": {},
   "outputs": [],
   "source": [
    "post = az.extract(idata_m1)"
   ]
  },
  {
   "cell_type": "code",
   "execution_count": 66,
   "metadata": {},
   "outputs": [
    {
     "data": {
      "image/png": "[encoded data removed]",
      "text/plain": [
       "<Figure size 640x480 with 6 Axes>"
      ]
     },
     "metadata": {
      "image/png": {
       "height": 464,
       "width": 622
      }
     },
     "output_type": "display_data"
    }
   ],
   "source": [
    "fig, axs = plt.subplots(3, 2)\n",
    "\n",
    "for i in range(6):\n",
    "    plt.sca(axs.flatten()[i])\n",
    "    if i >= K:\n",
    "        plt.gca().axis(\"off\")\n",
    "        continue\n",
    "    sns.histplot(\n",
    "        post[\"beta_pf\"][i, :],\n",
    "        bins=30,\n",
    "        ec=\"black\",\n",
    "    )\n",
    "    plt.axvline(df[\"latent_β_prod\"][i], linestyle=\"dashed\", color=\"black\")\n",
    "    plt.title(rf\"$\\beta_{i+1}$\")\n",
    "    plt.ylabel(None)\n",
    "    plt.yticks([])\n",
    "\n",
    "plt.tight_layout()\n",
    "plt.show()"
   ]
  },
  {
   "cell_type": "markdown",
   "metadata": {},
   "source": [
    "## Likert Dual Response"
   ]
  },
  {
   "cell_type": "markdown",
   "metadata": {},
   "source": [
    "### Construct the Model"
   ]
  },
  {
   "cell_type": "code",
   "execution_count": 67,
   "metadata": {},
   "outputs": [],
   "source": [
    "observed_inside = df[\"jstar\"]\n",
    "observed_buy = df[\"t\"] == df[\"jstar\"]\n",
    "\n",
    "N = params[\"N\"]\n",
    "J = params[\"J\"]\n",
    "K = params[\"K\"]\n",
    "\n",
    "coords_2 = {\n",
    "    \"products\": [f\"product_{i}\" for i in range(J)],\n",
    "    \"p_factors\": [f\"pf_{i}\" for i in range(K)],\n",
    "    \"obs\": range(N),\n",
    "}"
   ]
  },
  {
   "cell_type": "code",
   "execution_count": 68,
   "metadata": {},
   "outputs": [
    {
     "data": {
      "image/svg+xml": [
       "<?xml version=\"1.0\" encoding=\"UTF-8\" standalone=\"no\"?>\n",
       "<!DOCTYPE svg PUBLIC \"-//W3C//DTD SVG 1.1//EN\"\n",
       " \"http://www.w3.org/Graphics/SVG/1.1/DTD/svg11.dtd\">\n",
       "<!-- Generated by graphviz version 12.1.2 (20240928.0832)\n",
       " -->\n",
       "<!-- Pages: 1 -->\n",
       "<svg width=\"474pt\" height=\"600pt\"\n",
       " viewBox=\"0.00 0.00 473.59 600.27\" xmlns=\"http://www.w3.org/2000/svg\" xmlns:xlink=\"http://www.w3.org/1999/xlink\">\n",
       "<g id=\"graph0\" class=\"graph\" transform=\"scale(1 1) rotate(0) translate(4 596.27)\">\n",
       "<polygon fill=\"white\" stroke=\"none\" points=\"-4,4 -4,-596.27 469.59,-596.27 469.59,4 -4,4\"/>\n",
       "<g id=\"clust1\" class=\"cluster\">\n",
       "<title>clusterproducts (3)</title>\n",
       "<path fill=\"none\" stroke=\"black\" d=\"M134.45,-361.13C134.45,-361.13 208.45,-361.13 208.45,-361.13 214.45,-361.13 220.45,-367.13 220.45,-373.13 220.45,-373.13 220.45,-470.95 220.45,-470.95 220.45,-476.95 214.45,-482.95 208.45,-482.95 208.45,-482.95 134.45,-482.95 134.45,-482.95 128.45,-482.95 122.45,-476.95 122.45,-470.95 122.45,-470.95 122.45,-373.13 122.45,-373.13 122.45,-367.13 128.45,-361.13 134.45,-361.13\"/>\n",
       "<text text-anchor=\"middle\" x=\"179.45\" y=\"-368.33\" font-family=\"Times,serif\" font-size=\"14.00\">products (3)</text>\n",
       "</g>\n",
       "<g id=\"clust2\" class=\"cluster\">\n",
       "<title>clusterp_factors (5)</title>\n",
       "<path fill=\"none\" stroke=\"black\" d=\"M270.45,-361.13C270.45,-361.13 344.45,-361.13 344.45,-361.13 350.45,-361.13 356.45,-367.13 356.45,-373.13 356.45,-373.13 356.45,-470.95 356.45,-470.95 356.45,-476.95 350.45,-482.95 344.45,-482.95 344.45,-482.95 270.45,-482.95 270.45,-482.95 264.45,-482.95 258.45,-476.95 258.45,-470.95 258.45,-470.95 258.45,-373.13 258.45,-373.13 258.45,-367.13 264.45,-361.13 270.45,-361.13\"/>\n",
       "<text text-anchor=\"middle\" x=\"313.58\" y=\"-368.33\" font-family=\"Times,serif\" font-size=\"14.00\">p_factors (5)</text>\n",
       "</g>\n",
       "<g id=\"clust3\" class=\"cluster\">\n",
       "<title>clusterobs (200) x products (3)</title>\n",
       "<path fill=\"none\" stroke=\"black\" d=\"M169.45,-255.13C169.45,-255.13 293.45,-255.13 293.45,-255.13 299.45,-255.13 305.45,-261.13 305.45,-267.13 305.45,-267.13 305.45,-341.13 305.45,-341.13 305.45,-347.13 299.45,-353.13 293.45,-353.13 293.45,-353.13 169.45,-353.13 169.45,-353.13 163.45,-353.13 157.45,-347.13 157.45,-341.13 157.45,-341.13 157.45,-267.13 157.45,-267.13 157.45,-261.13 163.45,-255.13 169.45,-255.13\"/>\n",
       "<text text-anchor=\"middle\" x=\"231.45\" y=\"-262.33\" font-family=\"Times,serif\" font-size=\"14.00\">obs (200) x products (3)</text>\n",
       "</g>\n",
       "<g id=\"clust4\" class=\"cluster\">\n",
       "<title>clusterobs (200)</title>\n",
       "<path fill=\"none\" stroke=\"black\" d=\"M98.45,-8C98.45,-8 308.45,-8 308.45,-8 314.45,-8 320.45,-14 320.45,-20 320.45,-20 320.45,-235.13 320.45,-235.13 320.45,-241.13 314.45,-247.13 308.45,-247.13 308.45,-247.13 98.45,-247.13 98.45,-247.13 92.45,-247.13 86.45,-241.13 86.45,-235.13 86.45,-235.13 86.45,-20 86.45,-20 86.45,-14 92.45,-8 98.45,-8\"/>\n",
       "<text text-anchor=\"middle\" x=\"286.58\" y=\"-15.2\" font-family=\"Times,serif\" font-size=\"14.00\">obs (200)</text>\n",
       "</g>\n",
       "<!-- sigma_α_p -->\n",
       "<g id=\"node1\" class=\"node\">\n",
       "<title>sigma_α_p</title>\n",
       "<ellipse fill=\"none\" stroke=\"black\" cx=\"57.45\" cy=\"-551.61\" rx=\"57.45\" ry=\"40.66\"/>\n",
       "<text text-anchor=\"middle\" x=\"57.45\" y=\"-563.06\" font-family=\"Times,serif\" font-size=\"14.00\">sigma_α_p</text>\n",
       "<text text-anchor=\"middle\" x=\"57.45\" y=\"-546.56\" font-family=\"Times,serif\" font-size=\"14.00\">~</text>\n",
       "<text text-anchor=\"middle\" x=\"57.45\" y=\"-530.06\" font-family=\"Times,serif\" font-size=\"14.00\">Exponential</text>\n",
       "</g>\n",
       "<!-- alpha_j -->\n",
       "<g id=\"node5\" class=\"node\">\n",
       "<title>alpha_j</title>\n",
       "<ellipse fill=\"none\" stroke=\"black\" cx=\"171.45\" cy=\"-434.29\" rx=\"41.01\" ry=\"40.66\"/>\n",
       "<text text-anchor=\"middle\" x=\"171.45\" y=\"-445.74\" font-family=\"Times,serif\" font-size=\"14.00\">alpha_j</text>\n",
       "<text text-anchor=\"middle\" x=\"171.45\" y=\"-429.24\" font-family=\"Times,serif\" font-size=\"14.00\">~</text>\n",
       "<text text-anchor=\"middle\" x=\"171.45\" y=\"-412.74\" font-family=\"Times,serif\" font-size=\"14.00\">Normal</text>\n",
       "</g>\n",
       "<!-- sigma_α_p&#45;&gt;alpha_j -->\n",
       "<g id=\"edge1\" class=\"edge\">\n",
       "<title>sigma_α_p&#45;&gt;alpha_j</title>\n",
       "<path fill=\"none\" stroke=\"black\" d=\"M89.82,-517.87C104.03,-503.49 120.79,-486.55 135.4,-471.76\"/>\n",
       "<polygon fill=\"black\" stroke=\"black\" points=\"137.67,-474.45 142.21,-464.87 132.69,-469.53 137.67,-474.45\"/>\n",
       "</g>\n",
       "<!-- sigma_β_p -->\n",
       "<g id=\"node2\" class=\"node\">\n",
       "<title>sigma_β_p</title>\n",
       "<ellipse fill=\"none\" stroke=\"black\" cx=\"303.45\" cy=\"-551.61\" rx=\"57.45\" ry=\"40.66\"/>\n",
       "<text text-anchor=\"middle\" x=\"303.45\" y=\"-563.06\" font-family=\"Times,serif\" font-size=\"14.00\">sigma_β_p</text>\n",
       "<text text-anchor=\"middle\" x=\"303.45\" y=\"-546.56\" font-family=\"Times,serif\" font-size=\"14.00\">~</text>\n",
       "<text text-anchor=\"middle\" x=\"303.45\" y=\"-530.06\" font-family=\"Times,serif\" font-size=\"14.00\">Exponential</text>\n",
       "</g>\n",
       "<!-- beta_pf -->\n",
       "<g id=\"node6\" class=\"node\">\n",
       "<title>beta_pf</title>\n",
       "<ellipse fill=\"none\" stroke=\"black\" cx=\"307.45\" cy=\"-434.29\" rx=\"41.01\" ry=\"40.66\"/>\n",
       "<text text-anchor=\"middle\" x=\"307.45\" y=\"-445.74\" font-family=\"Times,serif\" font-size=\"14.00\">beta_pf</text>\n",
       "<text text-anchor=\"middle\" x=\"307.45\" y=\"-429.24\" font-family=\"Times,serif\" font-size=\"14.00\">~</text>\n",
       "<text text-anchor=\"middle\" x=\"307.45\" y=\"-412.74\" font-family=\"Times,serif\" font-size=\"14.00\">Normal</text>\n",
       "</g>\n",
       "<!-- sigma_β_p&#45;&gt;beta_pf -->\n",
       "<g id=\"edge3\" class=\"edge\">\n",
       "<title>sigma_β_p&#45;&gt;beta_pf</title>\n",
       "<path fill=\"none\" stroke=\"black\" d=\"M304.84,-510.6C305.11,-502.82 305.4,-494.56 305.68,-486.48\"/>\n",
       "<polygon fill=\"black\" stroke=\"black\" points=\"309.17,-486.86 306.01,-476.74 302.17,-486.62 309.17,-486.86\"/>\n",
       "</g>\n",
       "<!-- mu_α_p -->\n",
       "<g id=\"node3\" class=\"node\">\n",
       "<title>mu_α_p</title>\n",
       "<ellipse fill=\"none\" stroke=\"black\" cx=\"176.45\" cy=\"-551.61\" rx=\"43.66\" ry=\"40.66\"/>\n",
       "<text text-anchor=\"middle\" x=\"176.45\" y=\"-563.06\" font-family=\"Times,serif\" font-size=\"14.00\">mu_α_p</text>\n",
       "<text text-anchor=\"middle\" x=\"176.45\" y=\"-546.56\" font-family=\"Times,serif\" font-size=\"14.00\">~</text>\n",
       "<text text-anchor=\"middle\" x=\"176.45\" y=\"-530.06\" font-family=\"Times,serif\" font-size=\"14.00\">Normal</text>\n",
       "</g>\n",
       "<!-- mu_α_p&#45;&gt;alpha_j -->\n",
       "<g id=\"edge2\" class=\"edge\">\n",
       "<title>mu_α_p&#45;&gt;alpha_j</title>\n",
       "<path fill=\"none\" stroke=\"black\" d=\"M174.72,-510.6C174.38,-502.82 174.02,-494.56 173.67,-486.48\"/>\n",
       "<polygon fill=\"black\" stroke=\"black\" points=\"177.18,-486.58 173.25,-476.74 170.19,-486.89 177.18,-486.58\"/>\n",
       "</g>\n",
       "<!-- mu_β_p -->\n",
       "<g id=\"node4\" class=\"node\">\n",
       "<title>mu_β_p</title>\n",
       "<ellipse fill=\"none\" stroke=\"black\" cx=\"422.45\" cy=\"-551.61\" rx=\"43.13\" ry=\"40.66\"/>\n",
       "<text text-anchor=\"middle\" x=\"422.45\" y=\"-563.06\" font-family=\"Times,serif\" font-size=\"14.00\">mu_β_p</text>\n",
       "<text text-anchor=\"middle\" x=\"422.45\" y=\"-546.56\" font-family=\"Times,serif\" font-size=\"14.00\">~</text>\n",
       "<text text-anchor=\"middle\" x=\"422.45\" y=\"-530.06\" font-family=\"Times,serif\" font-size=\"14.00\">Normal</text>\n",
       "</g>\n",
       "<!-- mu_β_p&#45;&gt;beta_pf -->\n",
       "<g id=\"edge4\" class=\"edge\">\n",
       "<title>mu_β_p&#45;&gt;beta_pf</title>\n",
       "<path fill=\"none\" stroke=\"black\" d=\"M393.14,-521.21C378.18,-506.21 359.83,-487.82 343.96,-471.9\"/>\n",
       "<polygon fill=\"black\" stroke=\"black\" points=\"346.53,-469.52 336.99,-464.91 341.57,-474.46 346.53,-469.52\"/>\n",
       "</g>\n",
       "<!-- p -->\n",
       "<g id=\"node7\" class=\"node\">\n",
       "<title>p</title>\n",
       "<polygon fill=\"none\" stroke=\"black\" points=\"295.58,-345.13 205.33,-345.13 205.33,-287.63 295.58,-287.63 295.58,-345.13\"/>\n",
       "<text text-anchor=\"middle\" x=\"250.45\" y=\"-327.83\" font-family=\"Times,serif\" font-size=\"14.00\">p</text>\n",
       "<text text-anchor=\"middle\" x=\"250.45\" y=\"-311.33\" font-family=\"Times,serif\" font-size=\"14.00\">~</text>\n",
       "<text text-anchor=\"middle\" x=\"250.45\" y=\"-294.83\" font-family=\"Times,serif\" font-size=\"14.00\">Deterministic</text>\n",
       "</g>\n",
       "<!-- alpha_j&#45;&gt;p -->\n",
       "<g id=\"edge5\" class=\"edge\">\n",
       "<title>alpha_j&#45;&gt;p</title>\n",
       "<path fill=\"none\" stroke=\"black\" d=\"M194.09,-400.08C203.74,-385.92 215.04,-369.34 224.98,-354.75\"/>\n",
       "<polygon fill=\"black\" stroke=\"black\" points=\"227.69,-356.99 230.43,-346.75 221.91,-353.05 227.69,-356.99\"/>\n",
       "</g>\n",
       "<!-- q -->\n",
       "<g id=\"node8\" class=\"node\">\n",
       "<title>q</title>\n",
       "<polygon fill=\"none\" stroke=\"black\" points=\"184.58,-227.23 94.33,-227.23 94.33,-169.73 184.58,-169.73 184.58,-227.23\"/>\n",
       "<text text-anchor=\"middle\" x=\"139.45\" y=\"-209.93\" font-family=\"Times,serif\" font-size=\"14.00\">q</text>\n",
       "<text text-anchor=\"middle\" x=\"139.45\" y=\"-193.43\" font-family=\"Times,serif\" font-size=\"14.00\">~</text>\n",
       "<text text-anchor=\"middle\" x=\"139.45\" y=\"-176.93\" font-family=\"Times,serif\" font-size=\"14.00\">Deterministic</text>\n",
       "</g>\n",
       "<!-- alpha_j&#45;&gt;q -->\n",
       "<g id=\"edge7\" class=\"edge\">\n",
       "<title>alpha_j&#45;&gt;q</title>\n",
       "<path fill=\"none\" stroke=\"black\" d=\"M161.64,-394.35C158.64,-381.31 155.58,-366.66 153.45,-353.13 147.39,-314.53 143.69,-270.04 141.63,-238.89\"/>\n",
       "<polygon fill=\"black\" stroke=\"black\" points=\"145.14,-238.92 141.01,-229.16 138.15,-239.36 145.14,-238.92\"/>\n",
       "</g>\n",
       "<!-- beta_pf&#45;&gt;p -->\n",
       "<g id=\"edge6\" class=\"edge\">\n",
       "<title>beta_pf&#45;&gt;p</title>\n",
       "<path fill=\"none\" stroke=\"black\" d=\"M289.73,-397.25C283.17,-383.91 275.71,-368.75 269.07,-355.24\"/>\n",
       "<polygon fill=\"black\" stroke=\"black\" points=\"272.4,-354.09 264.85,-346.66 266.12,-357.18 272.4,-354.09\"/>\n",
       "</g>\n",
       "<!-- beta_pf&#45;&gt;q -->\n",
       "<g id=\"edge8\" class=\"edge\">\n",
       "<title>beta_pf&#45;&gt;q</title>\n",
       "<path fill=\"none\" stroke=\"black\" d=\"M321.34,-395.54C333.45,-355.29 344.17,-292.33 309.45,-255.13 300.64,-245.69 205.37,-252.12 193.45,-247.13 186.32,-244.15 179.49,-239.83 173.22,-234.99\"/>\n",
       "<polygon fill=\"black\" stroke=\"black\" points=\"175.54,-232.37 165.63,-228.61 171.03,-237.72 175.54,-232.37\"/>\n",
       "</g>\n",
       "<!-- y_cat -->\n",
       "<g id=\"node10\" class=\"node\">\n",
       "<title>y_cat</title>\n",
       "<ellipse fill=\"lightgrey\" stroke=\"black\" cx=\"257.45\" cy=\"-198.48\" rx=\"55.33\" ry=\"40.66\"/>\n",
       "<text text-anchor=\"middle\" x=\"257.45\" y=\"-209.93\" font-family=\"Times,serif\" font-size=\"14.00\">y_cat</text>\n",
       "<text text-anchor=\"middle\" x=\"257.45\" y=\"-193.43\" font-family=\"Times,serif\" font-size=\"14.00\">~</text>\n",
       "<text text-anchor=\"middle\" x=\"257.45\" y=\"-176.93\" font-family=\"Times,serif\" font-size=\"14.00\">Categorical</text>\n",
       "</g>\n",
       "<!-- p&#45;&gt;y_cat -->\n",
       "<g id=\"edge9\" class=\"edge\">\n",
       "<title>p&#45;&gt;y_cat</title>\n",
       "<path fill=\"none\" stroke=\"black\" d=\"M252.15,-287.33C252.81,-276.35 253.59,-263.4 254.35,-250.87\"/>\n",
       "<polygon fill=\"black\" stroke=\"black\" points=\"257.83,-251.25 254.94,-241.05 250.84,-250.82 257.83,-251.25\"/>\n",
       "</g>\n",
       "<!-- y_bin -->\n",
       "<g id=\"node9\" class=\"node\">\n",
       "<title>y_bin</title>\n",
       "<ellipse fill=\"lightgrey\" stroke=\"black\" cx=\"141.45\" cy=\"-81.16\" rx=\"47.38\" ry=\"40.66\"/>\n",
       "<text text-anchor=\"middle\" x=\"141.45\" y=\"-92.61\" font-family=\"Times,serif\" font-size=\"14.00\">y_bin</text>\n",
       "<text text-anchor=\"middle\" x=\"141.45\" y=\"-76.11\" font-family=\"Times,serif\" font-size=\"14.00\">~</text>\n",
       "<text text-anchor=\"middle\" x=\"141.45\" y=\"-59.61\" font-family=\"Times,serif\" font-size=\"14.00\">Bernoulli</text>\n",
       "</g>\n",
       "<!-- q&#45;&gt;y_bin -->\n",
       "<g id=\"edge10\" class=\"edge\">\n",
       "<title>q&#45;&gt;y_bin</title>\n",
       "<path fill=\"none\" stroke=\"black\" d=\"M139.94,-169.27C140.13,-158.44 140.35,-145.73 140.56,-133.41\"/>\n",
       "<polygon fill=\"black\" stroke=\"black\" points=\"144.06,-133.84 140.73,-123.78 137.06,-133.72 144.06,-133.84\"/>\n",
       "</g>\n",
       "</g>\n",
       "</svg>\n"
      ],
      "text/plain": [
       "<graphviz.graphs.Digraph at 0x17153da30>"
      ]
     },
     "execution_count": 68,
     "metadata": {},
     "output_type": "execute_result"
    }
   ],
   "source": [
    "with pm.Model(coords=coords_2) as model_2:\n",
    "\n",
    "    mu_α_p = pm.Normal(\"mu_α_p\", 0, 1)\n",
    "    sigma_α_p = pm.Exponential(\"sigma_α_p\", 1)\n",
    "\n",
    "    alpha_p = pm.Normal(\"alpha_j\", mu_α_p, sigma_α_p, dims=[\"products\"])\n",
    "    \n",
    "    mu_β_p = pm.Normal(\"mu_β_p\", 0, 1)\n",
    "    sigma_β_p = pm.Exponential(\"sigma_β_p\", 1)\n",
    "    \n",
    "    beta_p = pm.Normal(\"beta_pf\", mu_β_p, sigma_β_p, dims=[\"p_factors\"])\n",
    "\n",
    "    ## Construct Utility matrix\n",
    "\n",
    "    s = pm.math.ones((N, 1)) @ alpha_p.reshape((1, -1)) + df[\"product_features\"][:, :-1, :] @ beta_p\n",
    "\n",
    "    ## Construct Probabilities\n",
    "    p_ = pm.Deterministic(\"p\", pm.math.softmax(s, axis=1), dims=(\"obs\", \"products\"))\n",
    "    q_ = pm.Deterministic(\"q\", pm.math.log(pm.math.sum(pm.math.exp(s), axis=1)), dims=\"obs\")\n",
    "    \n",
    "    ## Likelihood\n",
    "    choice_obs = pm.Categorical(\"y_cat\", p=p_, observed=observed_inside, dims=\"obs\")\n",
    "    bin_obs = pm.Bernoulli(\"y_bin\", logit_p = q_, observed=observed_buy, dims=\"obs\")\n",
    "\n",
    "pm.model_to_graphviz(model_2)"
   ]
  },
  {
   "cell_type": "markdown",
   "metadata": {},
   "source": [
    "### Estimate the Model"
   ]
  },
  {
   "cell_type": "code",
   "execution_count": 69,
   "metadata": {},
   "outputs": [
    {
     "data": {
      "application/vnd.jupyter.widget-view+json": {
       "model_id": "a04392ed25f544ba94f3290bc9544aa5",
       "version_major": 2,
       "version_minor": 0
      },
      "text/plain": [
       "  0%|          | 0/6000 [00:00<?, ?it/s]"
      ]
     },
     "metadata": {},
     "output_type": "display_data"
    },
    {
     "data": {
      "application/vnd.jupyter.widget-view+json": {
       "model_id": "ed3d092b35ec4e5d8fd7aee713d389eb",
       "version_major": 2,
       "version_minor": 0
      },
      "text/plain": [
       "  0%|          | 0/6000 [00:00<?, ?it/s]"
      ]
     },
     "metadata": {},
     "output_type": "display_data"
    },
    {
     "data": {
      "application/vnd.jupyter.widget-view+json": {
       "model_id": "1701dcf8cb264c0fa70dd76ffc342c32",
       "version_major": 2,
       "version_minor": 0
      },
      "text/plain": [
       "  0%|          | 0/6000 [00:00<?, ?it/s]"
      ]
     },
     "metadata": {},
     "output_type": "display_data"
    },
    {
     "data": {
      "application/vnd.jupyter.widget-view+json": {
       "model_id": "93e6995eb7324beb9f17a595c7aa1d38",
       "version_major": 2,
       "version_minor": 0
      },
      "text/plain": [
       "  0%|          | 0/6000 [00:00<?, ?it/s]"
      ]
     },
     "metadata": {},
     "output_type": "display_data"
    },
    {
     "name": "stderr",
     "output_type": "stream",
     "text": [
      "There were 2142 divergences after tuning. Increase `target_accept` or reparameterize.\n",
      "The effective sample size per chain is smaller than 100 for some parameters.  A higher number is needed for reliable rhat and ess computation. See https://arxiv.org/abs/1903.08008 for details\n"
     ]
    }
   ],
   "source": [
    "with model_2:\n",
    "    idata_m2 = pm.sample(\n",
    "        5000,\n",
    "        nuts_sampler=\"numpyro\",\n",
    "        idata_kwargs={\"log_likelihood\": True},\n",
    "        random_seed=100,\n",
    "    )"
   ]
  },
  {
   "cell_type": "markdown",
   "metadata": {},
   "source": [
    "### Visualize the Estimates"
   ]
  },
  {
   "cell_type": "code",
   "execution_count": 70,
   "metadata": {},
   "outputs": [
    {
     "data": {
      "text/html": [
       "<div>\n",
       "<style scoped>\n",
       "    .dataframe tbody tr th:only-of-type {\n",
       "        vertical-align: middle;\n",
       "    }\n",
       "\n",
       "    .dataframe tbody tr th {\n",
       "        vertical-align: top;\n",
       "    }\n",
       "\n",
       "    .dataframe thead th {\n",
       "        text-align: right;\n",
       "    }\n",
       "</style>\n",
       "<table border=\"1\" class=\"dataframe\">\n",
       "  <thead>\n",
       "    <tr style=\"text-align: right;\">\n",
       "      <th></th>\n",
       "      <th>mean</th>\n",
       "      <th>sd</th>\n",
       "      <th>hdi_3%</th>\n",
       "      <th>hdi_97%</th>\n",
       "      <th>mcse_mean</th>\n",
       "      <th>mcse_sd</th>\n",
       "      <th>ess_bulk</th>\n",
       "      <th>ess_tail</th>\n",
       "      <th>r_hat</th>\n",
       "    </tr>\n",
       "  </thead>\n",
       "  <tbody>\n",
       "    <tr>\n",
       "      <th>beta_pf[pf_0]</th>\n",
       "      <td>-0.959</td>\n",
       "      <td>0.295</td>\n",
       "      <td>-1.555</td>\n",
       "      <td>-0.429</td>\n",
       "      <td>0.005</td>\n",
       "      <td>0.004</td>\n",
       "      <td>3339.0</td>\n",
       "      <td>6046.0</td>\n",
       "      <td>1.00</td>\n",
       "    </tr>\n",
       "    <tr>\n",
       "      <th>beta_pf[pf_1]</th>\n",
       "      <td>-0.640</td>\n",
       "      <td>0.314</td>\n",
       "      <td>-1.181</td>\n",
       "      <td>-0.024</td>\n",
       "      <td>0.007</td>\n",
       "      <td>0.005</td>\n",
       "      <td>1695.0</td>\n",
       "      <td>2755.0</td>\n",
       "      <td>1.00</td>\n",
       "    </tr>\n",
       "    <tr>\n",
       "      <th>beta_pf[pf_2]</th>\n",
       "      <td>-0.855</td>\n",
       "      <td>0.294</td>\n",
       "      <td>-1.433</td>\n",
       "      <td>-0.296</td>\n",
       "      <td>0.005</td>\n",
       "      <td>0.004</td>\n",
       "      <td>2917.0</td>\n",
       "      <td>2282.0</td>\n",
       "      <td>1.00</td>\n",
       "    </tr>\n",
       "    <tr>\n",
       "      <th>beta_pf[pf_3]</th>\n",
       "      <td>-0.730</td>\n",
       "      <td>0.300</td>\n",
       "      <td>-1.247</td>\n",
       "      <td>-0.114</td>\n",
       "      <td>0.006</td>\n",
       "      <td>0.004</td>\n",
       "      <td>2473.0</td>\n",
       "      <td>3577.0</td>\n",
       "      <td>1.00</td>\n",
       "    </tr>\n",
       "    <tr>\n",
       "      <th>beta_pf[pf_4]</th>\n",
       "      <td>-0.947</td>\n",
       "      <td>0.295</td>\n",
       "      <td>-1.520</td>\n",
       "      <td>-0.400</td>\n",
       "      <td>0.006</td>\n",
       "      <td>0.005</td>\n",
       "      <td>2395.0</td>\n",
       "      <td>2459.0</td>\n",
       "      <td>1.01</td>\n",
       "    </tr>\n",
       "  </tbody>\n",
       "</table>\n",
       "</div>"
      ],
      "text/plain": [
       "                mean     sd  hdi_3%  hdi_97%  mcse_mean  mcse_sd  ess_bulk  \\\n",
       "beta_pf[pf_0] -0.959  0.295  -1.555   -0.429      0.005    0.004    3339.0   \n",
       "beta_pf[pf_1] -0.640  0.314  -1.181   -0.024      0.007    0.005    1695.0   \n",
       "beta_pf[pf_2] -0.855  0.294  -1.433   -0.296      0.005    0.004    2917.0   \n",
       "beta_pf[pf_3] -0.730  0.300  -1.247   -0.114      0.006    0.004    2473.0   \n",
       "beta_pf[pf_4] -0.947  0.295  -1.520   -0.400      0.006    0.005    2395.0   \n",
       "\n",
       "               ess_tail  r_hat  \n",
       "beta_pf[pf_0]    6046.0   1.00  \n",
       "beta_pf[pf_1]    2755.0   1.00  \n",
       "beta_pf[pf_2]    2282.0   1.00  \n",
       "beta_pf[pf_3]    3577.0   1.00  \n",
       "beta_pf[pf_4]    2459.0   1.01  "
      ]
     },
     "execution_count": 70,
     "metadata": {},
     "output_type": "execute_result"
    }
   ],
   "source": [
    "az.summary(idata_m2, var_names=[\"beta_pf\"])"
   ]
  },
  {
   "cell_type": "code",
   "execution_count": 71,
   "metadata": {},
   "outputs": [
    {
     "data": {
      "image/png": "[encoded data removed]",
      "text/plain": [
       "<Figure size 640x480 with 6 Axes>"
      ]
     },
     "metadata": {
      "image/png": {
       "height": 464,
       "width": 634
      }
     },
     "output_type": "display_data"
    }
   ],
   "source": [
    "post = az.extract(idata_m2)\n",
    "fig, axs = plt.subplots(3, 2)\n",
    "\n",
    "for i in range(6):\n",
    "    plt.sca(axs.flatten()[i])\n",
    "    if i >= K:\n",
    "        plt.gca().axis(\"off\")\n",
    "        continue\n",
    "    sns.histplot(\n",
    "        post[\"beta_pf\"][i, :],\n",
    "        bins=30,\n",
    "        ec=\"black\",\n",
    "    )\n",
    "    plt.axvline(df[\"latent_β_prod\"][i], linestyle=\"dashed\", color=\"black\")\n",
    "    plt.title(rf\"$\\beta_{i+1}$\")\n",
    "    plt.ylabel(None)\n",
    "    plt.yticks([])\n",
    "\n",
    "plt.tight_layout()\n",
    "plt.show()"
   ]
  },
  {
   "cell_type": "markdown",
   "metadata": {},
   "source": [
    "### Construct the \"Synthetic Data\" Model"
   ]
  },
  {
   "cell_type": "code",
   "execution_count": 72,
   "metadata": {},
   "outputs": [],
   "source": [
    "observed_inside = df[\"jstar\"]\n",
    "observed_good = df[\"t\"]\n",
    "\n",
    "N = params[\"N\"]\n",
    "J = params[\"J\"]\n",
    "K = params[\"K\"]\n",
    "\n",
    "coords_2p = {\n",
    "    \"products\": [f\"product_{i}\" for i in range(J+1)],\n",
    "    \"p_factors\": [f\"pf_{i}\" for i in range(K)],\n",
    "    \"obs\": range(N),\n",
    "}"
   ]
  },
  {
   "cell_type": "code",
   "execution_count": 73,
   "metadata": {},
   "outputs": [
    {
     "data": {
      "image/svg+xml": [
       "<?xml version=\"1.0\" encoding=\"UTF-8\" standalone=\"no\"?>\n",
       "<!DOCTYPE svg PUBLIC \"-//W3C//DTD SVG 1.1//EN\"\n",
       " \"http://www.w3.org/Graphics/SVG/1.1/DTD/svg11.dtd\">\n",
       "<!-- Generated by graphviz version 12.1.2 (20240928.0832)\n",
       " -->\n",
       "<!-- Pages: 1 -->\n",
       "<svg width=\"466pt\" height=\"483pt\"\n",
       " viewBox=\"0.00 0.00 465.59 482.95\" xmlns=\"http://www.w3.org/2000/svg\" xmlns:xlink=\"http://www.w3.org/1999/xlink\">\n",
       "<g id=\"graph0\" class=\"graph\" transform=\"scale(1 1) rotate(0) translate(4 478.95)\">\n",
       "<polygon fill=\"white\" stroke=\"none\" points=\"-4,4 -4,-478.95 461.59,-478.95 461.59,4 -4,4\"/>\n",
       "<g id=\"clust1\" class=\"cluster\">\n",
       "<title>clusterproducts (4)</title>\n",
       "<path fill=\"none\" stroke=\"black\" d=\"M139.45,-243.82C139.45,-243.82 213.45,-243.82 213.45,-243.82 219.45,-243.82 225.45,-249.82 225.45,-255.82 225.45,-255.82 225.45,-353.63 225.45,-353.63 225.45,-359.63 219.45,-365.63 213.45,-365.63 213.45,-365.63 139.45,-365.63 139.45,-365.63 133.45,-365.63 127.45,-359.63 127.45,-353.63 127.45,-353.63 127.45,-255.82 127.45,-255.82 127.45,-249.82 133.45,-243.82 139.45,-243.82\"/>\n",
       "<text text-anchor=\"middle\" x=\"184.45\" y=\"-251.02\" font-family=\"Times,serif\" font-size=\"14.00\">products (4)</text>\n",
       "</g>\n",
       "<g id=\"clust2\" class=\"cluster\">\n",
       "<title>clusterp_factors (5)</title>\n",
       "<path fill=\"none\" stroke=\"black\" d=\"M258.45,-243.82C258.45,-243.82 332.45,-243.82 332.45,-243.82 338.45,-243.82 344.45,-249.82 344.45,-255.82 344.45,-255.82 344.45,-353.63 344.45,-353.63 344.45,-359.63 338.45,-365.63 332.45,-365.63 332.45,-365.63 258.45,-365.63 258.45,-365.63 252.45,-365.63 246.45,-359.63 246.45,-353.63 246.45,-353.63 246.45,-255.82 246.45,-255.82 246.45,-249.82 252.45,-243.82 258.45,-243.82\"/>\n",
       "<text text-anchor=\"middle\" x=\"301.58\" y=\"-251.02\" font-family=\"Times,serif\" font-size=\"14.00\">p_factors (5)</text>\n",
       "</g>\n",
       "<g id=\"clust3\" class=\"cluster\">\n",
       "<title>cluster200 x 4</title>\n",
       "<path fill=\"none\" stroke=\"black\" d=\"M135.45,-137.82C135.45,-137.82 217.45,-137.82 217.45,-137.82 223.45,-137.82 229.45,-143.82 229.45,-149.82 229.45,-149.82 229.45,-223.82 229.45,-223.82 229.45,-229.82 223.45,-235.82 217.45,-235.82 217.45,-235.82 135.45,-235.82 135.45,-235.82 129.45,-235.82 123.45,-229.82 123.45,-223.82 123.45,-223.82 123.45,-149.82 123.45,-149.82 123.45,-143.82 129.45,-137.82 135.45,-137.82\"/>\n",
       "<text text-anchor=\"middle\" x=\"200.83\" y=\"-145.02\" font-family=\"Times,serif\" font-size=\"14.00\">200 x 4</text>\n",
       "</g>\n",
       "<g id=\"clust4\" class=\"cluster\">\n",
       "<title>cluster83 x 3</title>\n",
       "<path fill=\"none\" stroke=\"black\" d=\"M254.45,-137.82C254.45,-137.82 336.45,-137.82 336.45,-137.82 342.45,-137.82 348.45,-143.82 348.45,-149.82 348.45,-149.82 348.45,-223.82 348.45,-223.82 348.45,-229.82 342.45,-235.82 336.45,-235.82 336.45,-235.82 254.45,-235.82 254.45,-235.82 248.45,-235.82 242.45,-229.82 242.45,-223.82 242.45,-223.82 242.45,-149.82 242.45,-149.82 242.45,-143.82 248.45,-137.82 254.45,-137.82\"/>\n",
       "<text text-anchor=\"middle\" x=\"323.2\" y=\"-145.02\" font-family=\"Times,serif\" font-size=\"14.00\">83 x 3</text>\n",
       "</g>\n",
       "<g id=\"clust5\" class=\"cluster\">\n",
       "<title>clusterobs (200)</title>\n",
       "<path fill=\"none\" stroke=\"black\" d=\"M117.45,-8C117.45,-8 219.45,-8 219.45,-8 225.45,-8 231.45,-14 231.45,-20 231.45,-20 231.45,-117.82 231.45,-117.82 231.45,-123.82 225.45,-129.82 219.45,-129.82 219.45,-129.82 117.45,-129.82 117.45,-129.82 111.45,-129.82 105.45,-123.82 105.45,-117.82 105.45,-117.82 105.45,-20 105.45,-20 105.45,-14 111.45,-8 117.45,-8\"/>\n",
       "<text text-anchor=\"middle\" x=\"197.58\" y=\"-15.2\" font-family=\"Times,serif\" font-size=\"14.00\">obs (200)</text>\n",
       "</g>\n",
       "<g id=\"clust6\" class=\"cluster\">\n",
       "<title>cluster83</title>\n",
       "<path fill=\"none\" stroke=\"black\" d=\"M251.45,-8C251.45,-8 355.45,-8 355.45,-8 361.45,-8 367.45,-14 367.45,-20 367.45,-20 367.45,-117.82 367.45,-117.82 367.45,-123.82 361.45,-129.82 355.45,-129.82 355.45,-129.82 251.45,-129.82 251.45,-129.82 245.45,-129.82 239.45,-123.82 239.45,-117.82 239.45,-117.82 239.45,-20 239.45,-20 239.45,-14 245.45,-8 251.45,-8\"/>\n",
       "<text text-anchor=\"middle\" x=\"352.7\" y=\"-15.2\" font-family=\"Times,serif\" font-size=\"14.00\">83</text>\n",
       "</g>\n",
       "<!-- sigma_α_p -->\n",
       "<g id=\"node1\" class=\"node\">\n",
       "<title>sigma_α_p</title>\n",
       "<ellipse fill=\"none\" stroke=\"black\" cx=\"57.45\" cy=\"-434.29\" rx=\"57.45\" ry=\"40.66\"/>\n",
       "<text text-anchor=\"middle\" x=\"57.45\" y=\"-445.74\" font-family=\"Times,serif\" font-size=\"14.00\">sigma_α_p</text>\n",
       "<text text-anchor=\"middle\" x=\"57.45\" y=\"-429.24\" font-family=\"Times,serif\" font-size=\"14.00\">~</text>\n",
       "<text text-anchor=\"middle\" x=\"57.45\" y=\"-412.74\" font-family=\"Times,serif\" font-size=\"14.00\">Exponential</text>\n",
       "</g>\n",
       "<!-- alpha_j -->\n",
       "<g id=\"node5\" class=\"node\">\n",
       "<title>alpha_j</title>\n",
       "<ellipse fill=\"none\" stroke=\"black\" cx=\"176.45\" cy=\"-316.98\" rx=\"41.01\" ry=\"40.66\"/>\n",
       "<text text-anchor=\"middle\" x=\"176.45\" y=\"-328.43\" font-family=\"Times,serif\" font-size=\"14.00\">alpha_j</text>\n",
       "<text text-anchor=\"middle\" x=\"176.45\" y=\"-311.93\" font-family=\"Times,serif\" font-size=\"14.00\">~</text>\n",
       "<text text-anchor=\"middle\" x=\"176.45\" y=\"-295.43\" font-family=\"Times,serif\" font-size=\"14.00\">Normal</text>\n",
       "</g>\n",
       "<!-- sigma_α_p&#45;&gt;alpha_j -->\n",
       "<g id=\"edge1\" class=\"edge\">\n",
       "<title>sigma_α_p&#45;&gt;alpha_j</title>\n",
       "<path fill=\"none\" stroke=\"black\" d=\"M90.92,-400.86C106.02,-386.23 123.91,-368.89 139.42,-353.86\"/>\n",
       "<polygon fill=\"black\" stroke=\"black\" points=\"141.45,-356.77 146.19,-347.3 136.58,-351.74 141.45,-356.77\"/>\n",
       "</g>\n",
       "<!-- sigma_β_p -->\n",
       "<g id=\"node2\" class=\"node\">\n",
       "<title>sigma_β_p</title>\n",
       "<ellipse fill=\"none\" stroke=\"black\" cx=\"295.45\" cy=\"-434.29\" rx=\"57.45\" ry=\"40.66\"/>\n",
       "<text text-anchor=\"middle\" x=\"295.45\" y=\"-445.74\" font-family=\"Times,serif\" font-size=\"14.00\">sigma_β_p</text>\n",
       "<text text-anchor=\"middle\" x=\"295.45\" y=\"-429.24\" font-family=\"Times,serif\" font-size=\"14.00\">~</text>\n",
       "<text text-anchor=\"middle\" x=\"295.45\" y=\"-412.74\" font-family=\"Times,serif\" font-size=\"14.00\">Exponential</text>\n",
       "</g>\n",
       "<!-- beta_pf -->\n",
       "<g id=\"node6\" class=\"node\">\n",
       "<title>beta_pf</title>\n",
       "<ellipse fill=\"none\" stroke=\"black\" cx=\"295.45\" cy=\"-316.98\" rx=\"41.01\" ry=\"40.66\"/>\n",
       "<text text-anchor=\"middle\" x=\"295.45\" y=\"-328.43\" font-family=\"Times,serif\" font-size=\"14.00\">beta_pf</text>\n",
       "<text text-anchor=\"middle\" x=\"295.45\" y=\"-311.93\" font-family=\"Times,serif\" font-size=\"14.00\">~</text>\n",
       "<text text-anchor=\"middle\" x=\"295.45\" y=\"-295.43\" font-family=\"Times,serif\" font-size=\"14.00\">Normal</text>\n",
       "</g>\n",
       "<!-- sigma_β_p&#45;&gt;beta_pf -->\n",
       "<g id=\"edge3\" class=\"edge\">\n",
       "<title>sigma_β_p&#45;&gt;beta_pf</title>\n",
       "<path fill=\"none\" stroke=\"black\" d=\"M295.45,-393.28C295.45,-385.5 295.45,-377.25 295.45,-369.16\"/>\n",
       "<polygon fill=\"black\" stroke=\"black\" points=\"298.95,-369.43 295.45,-359.43 291.95,-369.43 298.95,-369.43\"/>\n",
       "</g>\n",
       "<!-- mu_α_p -->\n",
       "<g id=\"node3\" class=\"node\">\n",
       "<title>mu_α_p</title>\n",
       "<ellipse fill=\"none\" stroke=\"black\" cx=\"176.45\" cy=\"-434.29\" rx=\"43.66\" ry=\"40.66\"/>\n",
       "<text text-anchor=\"middle\" x=\"176.45\" y=\"-445.74\" font-family=\"Times,serif\" font-size=\"14.00\">mu_α_p</text>\n",
       "<text text-anchor=\"middle\" x=\"176.45\" y=\"-429.24\" font-family=\"Times,serif\" font-size=\"14.00\">~</text>\n",
       "<text text-anchor=\"middle\" x=\"176.45\" y=\"-412.74\" font-family=\"Times,serif\" font-size=\"14.00\">Normal</text>\n",
       "</g>\n",
       "<!-- mu_α_p&#45;&gt;alpha_j -->\n",
       "<g id=\"edge2\" class=\"edge\">\n",
       "<title>mu_α_p&#45;&gt;alpha_j</title>\n",
       "<path fill=\"none\" stroke=\"black\" d=\"M176.45,-393.28C176.45,-385.5 176.45,-377.25 176.45,-369.16\"/>\n",
       "<polygon fill=\"black\" stroke=\"black\" points=\"179.95,-369.43 176.45,-359.43 172.95,-369.43 179.95,-369.43\"/>\n",
       "</g>\n",
       "<!-- mu_β_p -->\n",
       "<g id=\"node4\" class=\"node\">\n",
       "<title>mu_β_p</title>\n",
       "<ellipse fill=\"none\" stroke=\"black\" cx=\"414.45\" cy=\"-434.29\" rx=\"43.13\" ry=\"40.66\"/>\n",
       "<text text-anchor=\"middle\" x=\"414.45\" y=\"-445.74\" font-family=\"Times,serif\" font-size=\"14.00\">mu_β_p</text>\n",
       "<text text-anchor=\"middle\" x=\"414.45\" y=\"-429.24\" font-family=\"Times,serif\" font-size=\"14.00\">~</text>\n",
       "<text text-anchor=\"middle\" x=\"414.45\" y=\"-412.74\" font-family=\"Times,serif\" font-size=\"14.00\">Normal</text>\n",
       "</g>\n",
       "<!-- mu_β_p&#45;&gt;beta_pf -->\n",
       "<g id=\"edge4\" class=\"edge\">\n",
       "<title>mu_β_p&#45;&gt;beta_pf</title>\n",
       "<path fill=\"none\" stroke=\"black\" d=\"M384.73,-404.49C368.88,-389.13 349.22,-370.08 332.39,-353.77\"/>\n",
       "<polygon fill=\"black\" stroke=\"black\" points=\"335.09,-351.51 325.47,-347.07 330.22,-356.54 335.09,-351.51\"/>\n",
       "</g>\n",
       "<!-- p -->\n",
       "<g id=\"node7\" class=\"node\">\n",
       "<title>p</title>\n",
       "<polygon fill=\"none\" stroke=\"black\" points=\"221.58,-227.82 131.33,-227.82 131.33,-170.32 221.58,-170.32 221.58,-227.82\"/>\n",
       "<text text-anchor=\"middle\" x=\"176.45\" y=\"-210.52\" font-family=\"Times,serif\" font-size=\"14.00\">p</text>\n",
       "<text text-anchor=\"middle\" x=\"176.45\" y=\"-194.02\" font-family=\"Times,serif\" font-size=\"14.00\">~</text>\n",
       "<text text-anchor=\"middle\" x=\"176.45\" y=\"-177.52\" font-family=\"Times,serif\" font-size=\"14.00\">Deterministic</text>\n",
       "</g>\n",
       "<!-- alpha_j&#45;&gt;p -->\n",
       "<g id=\"edge5\" class=\"edge\">\n",
       "<title>alpha_j&#45;&gt;p</title>\n",
       "<path fill=\"none\" stroke=\"black\" d=\"M176.45,-276.09C176.45,-264.2 176.45,-251.19 176.45,-239.34\"/>\n",
       "<polygon fill=\"black\" stroke=\"black\" points=\"179.95,-239.48 176.45,-229.48 172.95,-239.48 179.95,-239.48\"/>\n",
       "</g>\n",
       "<!-- q -->\n",
       "<g id=\"node8\" class=\"node\">\n",
       "<title>q</title>\n",
       "<polygon fill=\"none\" stroke=\"black\" points=\"340.58,-227.82 250.33,-227.82 250.33,-170.32 340.58,-170.32 340.58,-227.82\"/>\n",
       "<text text-anchor=\"middle\" x=\"295.45\" y=\"-210.52\" font-family=\"Times,serif\" font-size=\"14.00\">q</text>\n",
       "<text text-anchor=\"middle\" x=\"295.45\" y=\"-194.02\" font-family=\"Times,serif\" font-size=\"14.00\">~</text>\n",
       "<text text-anchor=\"middle\" x=\"295.45\" y=\"-177.52\" font-family=\"Times,serif\" font-size=\"14.00\">Deterministic</text>\n",
       "</g>\n",
       "<!-- alpha_j&#45;&gt;q -->\n",
       "<g id=\"edge7\" class=\"edge\">\n",
       "<title>alpha_j&#45;&gt;q</title>\n",
       "<path fill=\"none\" stroke=\"black\" d=\"M202.84,-285.25C214.57,-272.09 228.79,-256.8 242.45,-243.82 245.39,-241.02 248.49,-238.2 251.64,-235.4\"/>\n",
       "<polygon fill=\"black\" stroke=\"black\" points=\"253.66,-238.29 258.93,-229.09 249.08,-232.99 253.66,-238.29\"/>\n",
       "</g>\n",
       "<!-- beta_pf&#45;&gt;p -->\n",
       "<g id=\"edge6\" class=\"edge\">\n",
       "<title>beta_pf&#45;&gt;p</title>\n",
       "<path fill=\"none\" stroke=\"black\" d=\"M269.06,-285.25C257.33,-272.09 243.11,-256.8 229.45,-243.82 226.51,-241.02 223.42,-238.2 220.26,-235.4\"/>\n",
       "<polygon fill=\"black\" stroke=\"black\" points=\"222.83,-232.99 212.98,-229.09 218.25,-238.29 222.83,-232.99\"/>\n",
       "</g>\n",
       "<!-- beta_pf&#45;&gt;q -->\n",
       "<g id=\"edge8\" class=\"edge\">\n",
       "<title>beta_pf&#45;&gt;q</title>\n",
       "<path fill=\"none\" stroke=\"black\" d=\"M295.45,-276.09C295.45,-264.2 295.45,-251.19 295.45,-239.34\"/>\n",
       "<polygon fill=\"black\" stroke=\"black\" points=\"298.95,-239.48 295.45,-229.48 291.95,-239.48 298.95,-239.48\"/>\n",
       "</g>\n",
       "<!-- y_cat -->\n",
       "<g id=\"node9\" class=\"node\">\n",
       "<title>y_cat</title>\n",
       "<ellipse fill=\"lightgrey\" stroke=\"black\" cx=\"168.45\" cy=\"-81.16\" rx=\"55.33\" ry=\"40.66\"/>\n",
       "<text text-anchor=\"middle\" x=\"168.45\" y=\"-92.61\" font-family=\"Times,serif\" font-size=\"14.00\">y_cat</text>\n",
       "<text text-anchor=\"middle\" x=\"168.45\" y=\"-76.11\" font-family=\"Times,serif\" font-size=\"14.00\">~</text>\n",
       "<text text-anchor=\"middle\" x=\"168.45\" y=\"-59.61\" font-family=\"Times,serif\" font-size=\"14.00\">Categorical</text>\n",
       "</g>\n",
       "<!-- p&#45;&gt;y_cat -->\n",
       "<g id=\"edge9\" class=\"edge\">\n",
       "<title>p&#45;&gt;y_cat</title>\n",
       "<path fill=\"none\" stroke=\"black\" d=\"M174.52,-170.01C173.76,-159.03 172.86,-146.08 172,-133.55\"/>\n",
       "<polygon fill=\"black\" stroke=\"black\" points=\"175.5,-133.47 171.32,-123.74 168.52,-133.95 175.5,-133.47\"/>\n",
       "</g>\n",
       "<!-- y_cat_extra -->\n",
       "<g id=\"node10\" class=\"node\">\n",
       "<title>y_cat_extra</title>\n",
       "<ellipse fill=\"lightgrey\" stroke=\"black\" cx=\"303.45\" cy=\"-81.16\" rx=\"55.86\" ry=\"40.66\"/>\n",
       "<text text-anchor=\"middle\" x=\"303.45\" y=\"-92.61\" font-family=\"Times,serif\" font-size=\"14.00\">y_cat_extra</text>\n",
       "<text text-anchor=\"middle\" x=\"303.45\" y=\"-76.11\" font-family=\"Times,serif\" font-size=\"14.00\">~</text>\n",
       "<text text-anchor=\"middle\" x=\"303.45\" y=\"-59.61\" font-family=\"Times,serif\" font-size=\"14.00\">Categorical</text>\n",
       "</g>\n",
       "<!-- q&#45;&gt;y_cat_extra -->\n",
       "<g id=\"edge10\" class=\"edge\">\n",
       "<title>q&#45;&gt;y_cat_extra</title>\n",
       "<path fill=\"none\" stroke=\"black\" d=\"M297.39,-170.01C298.15,-159.03 299.04,-146.08 299.91,-133.55\"/>\n",
       "<polygon fill=\"black\" stroke=\"black\" points=\"303.39,-133.95 300.58,-123.74 296.4,-133.47 303.39,-133.95\"/>\n",
       "</g>\n",
       "</g>\n",
       "</svg>\n"
      ],
      "text/plain": [
       "<graphviz.graphs.Digraph at 0x397cfb3e0>"
      ]
     },
     "execution_count": 73,
     "metadata": {},
     "output_type": "execute_result"
    }
   ],
   "source": [
    "with pm.Model(coords=coords_2p) as model_2p:\n",
    "\n",
    "    mu_α_p = pm.Normal(\"mu_α_p\", 0, 1)\n",
    "    sigma_α_p = pm.Exponential(\"sigma_α_p\", 1)\n",
    "\n",
    "    alpha_p = pm.Normal(\"alpha_j\", mu_α_p, sigma_α_p, dims=[\"products\"])\n",
    "    alpha_p = pt.set_subtensor(alpha_p[-1], 0) #outside good\n",
    "\n",
    "    mu_β_p = pm.Normal(\"mu_β_p\", 0, 1)\n",
    "    sigma_β_p = pm.Exponential(\"sigma_β_p\", 1)\n",
    "    \n",
    "    beta_p = pm.Normal(\"beta_pf\", mu_β_p, sigma_β_p, dims=[\"p_factors\"])\n",
    "\n",
    "    ## Construct Utility matrix\n",
    "\n",
    "    s = pm.math.ones((N, 1)) @ alpha_p.reshape((1, -1)) + df[\"product_features\"] @ beta_p\n",
    "\n",
    "    ## Construct Probabilities\n",
    "    extra_info_indices = observed_good == J\n",
    "    p_ = pm.Deterministic(\"p\", pm.math.softmax(s, axis=1)) #all goods\n",
    "    q_ = pm.Deterministic(\"q\", pm.math.softmax(s[extra_info_indices, :-1], axis=1)) #inside goods\n",
    "    \n",
    "    \n",
    "    ## Likelihood\n",
    "    choice_obs = pm.Categorical(\"y_cat\", p=p_, observed=observed_good, dims=\"obs\")\n",
    "    choice_obs_extra = pm.Categorical(\"y_cat_extra\", p=q_, observed=observed_inside[extra_info_indices])\n",
    "    \n",
    "\n",
    "pm.model_to_graphviz(model_2p)"
   ]
  },
  {
   "cell_type": "markdown",
   "metadata": {},
   "source": [
    "### Estimate the Model"
   ]
  },
  {
   "cell_type": "code",
   "execution_count": 74,
   "metadata": {},
   "outputs": [
    {
     "data": {
      "application/vnd.jupyter.widget-view+json": {
       "model_id": "58372a149c5d48b688d1f8e817236afa",
       "version_major": 2,
       "version_minor": 0
      },
      "text/plain": [
       "  0%|          | 0/6000 [00:00<?, ?it/s]"
      ]
     },
     "metadata": {},
     "output_type": "display_data"
    },
    {
     "data": {
      "application/vnd.jupyter.widget-view+json": {
       "model_id": "ac88e35dada54c51a5b8f6a444271c07",
       "version_major": 2,
       "version_minor": 0
      },
      "text/plain": [
       "  0%|          | 0/6000 [00:00<?, ?it/s]"
      ]
     },
     "metadata": {},
     "output_type": "display_data"
    },
    {
     "data": {
      "application/vnd.jupyter.widget-view+json": {
       "model_id": "0148dd9180d6470d8d7b349b51007e16",
       "version_major": 2,
       "version_minor": 0
      },
      "text/plain": [
       "  0%|          | 0/6000 [00:00<?, ?it/s]"
      ]
     },
     "metadata": {},
     "output_type": "display_data"
    },
    {
     "data": {
      "application/vnd.jupyter.widget-view+json": {
       "model_id": "664718cf8b674d659784314505575704",
       "version_major": 2,
       "version_minor": 0
      },
      "text/plain": [
       "  0%|          | 0/6000 [00:00<?, ?it/s]"
      ]
     },
     "metadata": {},
     "output_type": "display_data"
    },
    {
     "name": "stderr",
     "output_type": "stream",
     "text": [
      "There were 1427 divergences after tuning. Increase `target_accept` or reparameterize.\n"
     ]
    }
   ],
   "source": [
    "with model_2p:\n",
    "    idata_m2p = pm.sample(\n",
    "        5000,\n",
    "        nuts_sampler=\"numpyro\",\n",
    "        idata_kwargs={\"log_likelihood\": True},\n",
    "        random_seed=100,\n",
    "    )"
   ]
  },
  {
   "cell_type": "markdown",
   "metadata": {},
   "source": [
    "### Visualize the Estimates"
   ]
  },
  {
   "cell_type": "code",
   "execution_count": 75,
   "metadata": {},
   "outputs": [
    {
     "data": {
      "text/html": [
       "<div>\n",
       "<style scoped>\n",
       "    .dataframe tbody tr th:only-of-type {\n",
       "        vertical-align: middle;\n",
       "    }\n",
       "\n",
       "    .dataframe tbody tr th {\n",
       "        vertical-align: top;\n",
       "    }\n",
       "\n",
       "    .dataframe thead th {\n",
       "        text-align: right;\n",
       "    }\n",
       "</style>\n",
       "<table border=\"1\" class=\"dataframe\">\n",
       "  <thead>\n",
       "    <tr style=\"text-align: right;\">\n",
       "      <th></th>\n",
       "      <th>mean</th>\n",
       "      <th>sd</th>\n",
       "      <th>hdi_3%</th>\n",
       "      <th>hdi_97%</th>\n",
       "      <th>mcse_mean</th>\n",
       "      <th>mcse_sd</th>\n",
       "      <th>ess_bulk</th>\n",
       "      <th>ess_tail</th>\n",
       "      <th>r_hat</th>\n",
       "    </tr>\n",
       "  </thead>\n",
       "  <tbody>\n",
       "    <tr>\n",
       "      <th>beta_pf[pf_0]</th>\n",
       "      <td>-0.957</td>\n",
       "      <td>0.308</td>\n",
       "      <td>-1.549</td>\n",
       "      <td>-0.397</td>\n",
       "      <td>0.006</td>\n",
       "      <td>0.005</td>\n",
       "      <td>2318.0</td>\n",
       "      <td>2683.0</td>\n",
       "      <td>1.0</td>\n",
       "    </tr>\n",
       "    <tr>\n",
       "      <th>beta_pf[pf_1]</th>\n",
       "      <td>-0.647</td>\n",
       "      <td>0.303</td>\n",
       "      <td>-1.166</td>\n",
       "      <td>-0.025</td>\n",
       "      <td>0.006</td>\n",
       "      <td>0.004</td>\n",
       "      <td>2965.0</td>\n",
       "      <td>3448.0</td>\n",
       "      <td>1.0</td>\n",
       "    </tr>\n",
       "    <tr>\n",
       "      <th>beta_pf[pf_2]</th>\n",
       "      <td>-0.841</td>\n",
       "      <td>0.291</td>\n",
       "      <td>-1.427</td>\n",
       "      <td>-0.326</td>\n",
       "      <td>0.005</td>\n",
       "      <td>0.003</td>\n",
       "      <td>3999.0</td>\n",
       "      <td>4192.0</td>\n",
       "      <td>1.0</td>\n",
       "    </tr>\n",
       "    <tr>\n",
       "      <th>beta_pf[pf_3]</th>\n",
       "      <td>-0.724</td>\n",
       "      <td>0.302</td>\n",
       "      <td>-1.299</td>\n",
       "      <td>-0.159</td>\n",
       "      <td>0.005</td>\n",
       "      <td>0.003</td>\n",
       "      <td>3710.0</td>\n",
       "      <td>3996.0</td>\n",
       "      <td>1.0</td>\n",
       "    </tr>\n",
       "    <tr>\n",
       "      <th>beta_pf[pf_4]</th>\n",
       "      <td>-0.932</td>\n",
       "      <td>0.301</td>\n",
       "      <td>-1.534</td>\n",
       "      <td>-0.411</td>\n",
       "      <td>0.006</td>\n",
       "      <td>0.004</td>\n",
       "      <td>2483.0</td>\n",
       "      <td>2930.0</td>\n",
       "      <td>1.0</td>\n",
       "    </tr>\n",
       "  </tbody>\n",
       "</table>\n",
       "</div>"
      ],
      "text/plain": [
       "                mean     sd  hdi_3%  hdi_97%  mcse_mean  mcse_sd  ess_bulk  \\\n",
       "beta_pf[pf_0] -0.957  0.308  -1.549   -0.397      0.006    0.005    2318.0   \n",
       "beta_pf[pf_1] -0.647  0.303  -1.166   -0.025      0.006    0.004    2965.0   \n",
       "beta_pf[pf_2] -0.841  0.291  -1.427   -0.326      0.005    0.003    3999.0   \n",
       "beta_pf[pf_3] -0.724  0.302  -1.299   -0.159      0.005    0.003    3710.0   \n",
       "beta_pf[pf_4] -0.932  0.301  -1.534   -0.411      0.006    0.004    2483.0   \n",
       "\n",
       "               ess_tail  r_hat  \n",
       "beta_pf[pf_0]    2683.0    1.0  \n",
       "beta_pf[pf_1]    3448.0    1.0  \n",
       "beta_pf[pf_2]    4192.0    1.0  \n",
       "beta_pf[pf_3]    3996.0    1.0  \n",
       "beta_pf[pf_4]    2930.0    1.0  "
      ]
     },
     "execution_count": 75,
     "metadata": {},
     "output_type": "execute_result"
    }
   ],
   "source": [
    "# standard errors are too small\n",
    "az.summary(idata_m2p, var_names=[\"beta_pf\"])"
   ]
  },
  {
   "cell_type": "code",
   "execution_count": 76,
   "metadata": {},
   "outputs": [
    {
     "data": {
      "image/png": "[encoded data removed]",
      "text/plain": [
       "<Figure size 640x480 with 6 Axes>"
      ]
     },
     "metadata": {
      "image/png": {
       "height": 464,
       "width": 623
      }
     },
     "output_type": "display_data"
    }
   ],
   "source": [
    "post = az.extract(idata_m2p)\n",
    "fig, axs = plt.subplots(3, 2)\n",
    "\n",
    "for i in range(6):\n",
    "    plt.sca(axs.flatten()[i])\n",
    "    if i >= K:\n",
    "        plt.gca().axis(\"off\")\n",
    "        continue\n",
    "    sns.histplot(\n",
    "        post[\"beta_pf\"][i, :],\n",
    "        bins=30,\n",
    "        ec=\"black\",\n",
    "    )\n",
    "    plt.axvline(df[\"latent_β_prod\"][i], linestyle=\"dashed\", color=\"black\")\n",
    "    plt.title(rf\"$\\beta_{i+1}$\")\n",
    "    plt.ylabel(None)\n",
    "    plt.yticks([])\n",
    "\n",
    "plt.tight_layout()\n",
    "plt.show()"
   ]
  },
  {
   "cell_type": "markdown",
   "metadata": {},
   "source": [
    "## Likert Multinomial Logit (ALL BELOW IS OLD)"
   ]
  },
  {
   "cell_type": "markdown",
   "metadata": {},
   "source": [
    "### Simulate Data"
   ]
  },
  {
   "cell_type": "code",
   "execution_count": 14,
   "metadata": {},
   "outputs": [],
   "source": [
    "def make_data(params):\n",
    "\n",
    "    ## load parameters\n",
    "    W = params[\"W\"]\n",
    "    J = params[\"J\"]\n",
    "    K = params[\"K\"]\n",
    "    N = params[\"N\"]\n",
    "\n",
    "    np.random.seed(42)\n",
    "\n",
    "    ## generate latent parameters\n",
    "    product_features = np.random.normal(-1, 0.2, (J, K))\n",
    "    π = np.random.dirichlet([1] * W, 1).flatten().cumsum()\n",
    "    η = np.random.gumbel(0, 1, (N, J))\n",
    "    # ɛ = np.random.normal(0, 1, (N, J))\n",
    "\n",
    "    β_prod = np.ones((N, 1)) @ np.random.normal(0, 1, (1, K))\n",
    "    ## generate data\n",
    "    # y = np.zeros((N, J))\n",
    "\n",
    "    u = β_prod @ product_features.T + η\n",
    "\n",
    "    t = np.argmax(u, axis=1)\n",
    "    v = u[np.arange(N), t]\n",
    "    w = np.digitize(gumbel_r.cdf(v), π)\n",
    "\n",
    "    d = {\n",
    "        \"product_features\": product_features,\n",
    "        \"t\": t,\n",
    "        \"w\": w,\n",
    "        \"latent_cutpoints\": π,\n",
    "        \"latent_utilities\": u,\n",
    "        \"latent_β_prod\": β_prod,\n",
    "    }\n",
    "    \n",
    "    return d\n",
    "\n",
    "\n",
    "params = {\"N\": 1000, \"J\": 3, \"K\": 5, \"M\": 2, \"W\": 4}\n",
    "\n",
    "df = make_data(params)"
   ]
  },
  {
   "cell_type": "code",
   "execution_count": 15,
   "metadata": {},
   "outputs": [],
   "source": [
    "observed_good = df[\"t\"]\n",
    "observed_bin = df[\"w\"]\n",
    "\n",
    "N = params[\"N\"]\n",
    "J = params[\"J\"]\n",
    "K = params[\"K\"]\n",
    "W = params[\"W\"]\n",
    "\n",
    "\n",
    "coords = {\n",
    "    \"products\": [f\"product_{i}\" for i in range(J)],\n",
    "    \"p_factors\": [f\"pf_{i}\" for i in range(K)],\n",
    "    \"obs\": range(N),\n",
    "    \"bins\": range(W)\n",
    "}"
   ]
  },
  {
   "cell_type": "code",
   "execution_count": null,
   "metadata": {},
   "outputs": [],
   "source": [
    "with pm.Model(coords=coords) as model_1:\n",
    "\n",
    "    mu_β_p = pm.Normal(\"mu_β_p\", 0, 1)\n",
    "    sigma_β_p = pm.Exponential(\"sigma_β_p\", 1)\n",
    "    beta_p = (\n",
    "        pm.math.ones((N, 1))\n",
    "        * pm.Normal(\"beta_pf\", mu_β_p, sigma_β_p, dims=[\"p_factors\"]).T\n",
    "    )  # want there to be N*K beta's\n",
    "\n",
    "    ## Construct Utility matrix\n",
    "\n",
    "    s = beta_p @ df[\"product_features\"].T\n",
    "    u = pm.math.log(pm.math.sum(pm.math.exp(s), axis=1))\n",
    "    # s = pm.math.concatenate([s_good, np.zeros((N, 1))], axis=1)\n",
    "\n",
    "    ## Apply Softmax Transform\n",
    "    p_ = pm.Deterministic(\"p\", pm.math.softmax(s, axis=1), dims=(\"obs\", \"products\"))\n",
    "\n",
    "    π = pm.Dirichlet(\"latent_binwidths\", a=pm.math.ones(W))  # W x 1\n",
    "    π = pm.Deterministic(\n",
    "        \"latent_cutpoints\", pm.math.cumsum(π)\n",
    "    )\n",
    "    cutpoints = -pm.math.log(-pm.math.log(π[:-1]))\n",
    "\n",
    "    ## Likelihood\n",
    "    choice_obs = pm.Categorical(\"preferred_good\", p=p_, observed=observed_good, dims=\"obs\")\n",
    "    bin_obs = pm.OrderedLogistic(\"buy_probability\", eta=u, cutpoints=cutpoints, observed=observed_bin)\n",
    "\n",
    "pm.model_to_graphviz(model_1)"
   ]
  },
  {
   "cell_type": "code",
   "execution_count": null,
   "metadata": {},
   "outputs": [],
   "source": [
    "with model_1:\n",
    "    idata_m1 = (\n",
    "        pm.sample(\n",
    "            5000,\n",
    "            nuts_sampler=\"numpyro\",\n",
    "            idata_kwargs={\"log_likelihood\": True},\n",
    "            random_seed=100,\n",
    "        )\n",
    "    )"
   ]
  },
  {
   "cell_type": "code",
   "execution_count": null,
   "metadata": {},
   "outputs": [],
   "source": [
    "az.summary(idata_m1, var_names=[\"beta_pf\"])"
   ]
  },
  {
   "cell_type": "code",
   "execution_count": null,
   "metadata": {},
   "outputs": [],
   "source": [
    "post = az.extract(idata_m1)\n",
    "fig, axs = plt.subplots(3, 2)\n",
    "\n",
    "for i in range(6):\n",
    "    plt.sca(axs.flatten()[i])\n",
    "    if i >= K:\n",
    "        plt.gca().axis(\"off\")\n",
    "        continue\n",
    "    sns.histplot(\n",
    "        post[\"beta_pf\"][i, :],\n",
    "        bins=30,\n",
    "        ec=\"black\",\n",
    "    )\n",
    "    plt.axvline(df[\"latent_β_prod\"][0, i], linestyle=\"dashed\", color=\"black\")\n",
    "    plt.title(rf\"$\\beta_{i+1}$\")\n",
    "    plt.ylabel(None)\n",
    "    plt.yticks([])\n",
    "\n",
    "plt.tight_layout()\n",
    "plt.show()"
   ]
  },
  {
   "cell_type": "markdown",
   "metadata": {},
   "source": [
    "### Individual-specific $\\beta$ (To Do...)"
   ]
  },
  {
   "cell_type": "code",
   "execution_count": 20,
   "metadata": {},
   "outputs": [],
   "source": [
    "def make_data(params):\n",
    "\n",
    "    ## load parameters\n",
    "    M = params[\"M\"]\n",
    "    W = params[\"W\"]\n",
    "    J = params[\"J\"]\n",
    "    K = params[\"K\"]\n",
    "    N = params[\"N\"]\n",
    "\n",
    "    np.random.seed(42)\n",
    "\n",
    "    ## generate latent parameters\n",
    "\n",
    "    π = np.random.dirichlet([1] * W, 1).flatten().cumsum()\n",
    "    η = np.random.gumbel(0, 1, (N, J))\n",
    "    β_prod = np.ones((N, 1)) @ np.random.normal(0, 1, (1, K))\n",
    "\n",
    "    ## generate observable product features\n",
    "\n",
    "    product_features = np.random.normal(-1, 0.2, (J, K))\n",
    "\n",
    "    ## generate data\n",
    "    u = β_prod @ product_features.T + η\n",
    "\n",
    "    t = np.argmax(u, axis=1)\n",
    "    v = u[np.arange(N), t]\n",
    "    w = np.digitize(gumbel_r.cdf(v), π)\n",
    "\n",
    "    d = {\n",
    "        \"product_features\": product_features,\n",
    "        \"t\": t,\n",
    "        \"w\": w,\n",
    "        \"latent_cutpoints\": π,\n",
    "        \"latent_utilities\": u,\n",
    "        \"latent_β_prod\": β_prod,\n",
    "    }\n",
    "\n",
    "    return d\n",
    "\n",
    "\n",
    "params = {\"N\": 1000, \"J\": 3, \"K\": 5, \"M\": 2, \"W\": 4}\n",
    "\n",
    "df = make_data(params)"
   ]
  },
  {
   "cell_type": "code",
   "execution_count": null,
   "metadata": {},
   "outputs": [],
   "source": [
    "sns.barplot(**dict(zip([\"x\", \"y\"], np.unique(df[\"w\"], return_counts=True))))\n",
    "plt.show()"
   ]
  },
  {
   "cell_type": "code",
   "execution_count": null,
   "metadata": {},
   "outputs": [],
   "source": [
    "fig, axs = plt.subplots(2,2)\n",
    "\n",
    "for i, ax in enumerate(axs.flatten()):\n",
    "    plt.sca(ax)\n",
    "    if i >= J:\n",
    "        plt.gca().axis(\"off\")\n",
    "        continue\n",
    "    # sns.barplot(**dict(zip([\"x\", \"y\"], np.unique(df[\"w\"][df[\"t\"] == i], return_counts=True))))\n",
    "    sns.histplot(df[\"w\"][df[\"t\"] == i], stat=\"density\", discrete=True)\n",
    "    plt.title(rf\"$K={i}$\")\n",
    "    \n",
    "plt.suptitle(r\"$\\mathbb{P}\\left(\\text{Buy}\\,\\middle\\vert\\,K\\right)$\")\n",
    "# plt.suptitle(\"abc\")\n",
    "plt.tight_layout()\n",
    "plt.show()"
   ]
  },
  {
   "cell_type": "code",
   "execution_count": 23,
   "metadata": {},
   "outputs": [],
   "source": [
    "observed_good = df[\"t\"]\n",
    "observed_bin = df[\"w\"]\n",
    "\n",
    "N = params[\"N\"]\n",
    "M = params[\"M\"]\n",
    "J = params[\"J\"]\n",
    "K = params[\"K\"]\n",
    "W = params[\"W\"]\n",
    "# J, K = df[\"product_features\"].shape\n",
    "# W = len(np.unique(observed_bin))\n",
    "\n",
    "\n",
    "coords = {\n",
    "    \"products\": [f\"product_{i}\" for i in range(J)],\n",
    "    \"i_factors\": [f\"if_{i}\" for i in range(N)],\n",
    "    \"p_factors\": [f\"pf_{i}\" for i in range(K)],\n",
    "    \"obs\": range(N),\n",
    "}"
   ]
  },
  {
   "cell_type": "code",
   "execution_count": null,
   "metadata": {},
   "outputs": [],
   "source": [
    "with pm.Model(coords=coords) as model_1:\n",
    "\n",
    "    mu_β_p = pm.Normal(\"mu_β_p\", 0, 1)\n",
    "    sigma_β_p = pm.Exponential(\"sigma_β_p\", 5)\n",
    "\n",
    "    beta_p = (\n",
    "        pm.math.ones((N, 1))\n",
    "        * pm.Normal(\"beta_pf\", mu_β_p, sigma_β_p, dims=[\"p_factors\"]).T\n",
    "    )  # want there to be N*K beta's\n",
    "\n",
    "    π = pm.Dirichlet(\"latent_binwidths\", a=pm.math.ones(W))  # W x 1\n",
    "    α = pm.Deterministic(\n",
    "        \"latent_cutpoints\", pm.math.concatenate([np.ones(1) * 0, pm.math.cumsum(π)])\n",
    "    )  # (W+1) x 1\n",
    "\n",
    "    ## Construct Utility matrix\n",
    "\n",
    "    s_good = beta_p @ df[\"product_features\"].T\n",
    "\n",
    "    # s = pm.math.concatenate([s_good, np.zeros((N, 1))], axis=1)\n",
    "    \n",
    "    s = s_good\n",
    "\n",
    "    ## Calculate good conditional likelihoods\n",
    "    \n",
    "    p_goods = pm.math.softmax(s, axis=1)  # probability that good i is best of J\n",
    "    \n",
    "    ## Apply Softmax Transform\n",
    "    \n",
    "    p_ = pm.Deterministic(\"p\", pm.math.softmax(s, axis=1), dims=(\"obs\", \"products\"))\n",
    "   \n",
    "    ## Apply Gumbel-Max Adjustment\n",
    "    \n",
    "    μbar = pm.math.log(pm.math.sum(pm.math.exp(s), axis=1))  # should be N x 1    \n",
    "\n",
    "    ## Likelihood\n",
    "    \n",
    "    choice_obs = pm.Categorical(\"y_cat\", p=p_, observed=observed_good, dims=\"obs\")\n",
    "    bin_obs = pm.OrderedLogistic(\"bin\", eta=μbar, cutpoints=α, observed=observed_bin, dims=\"obs\")\n",
    " \n",
    "pm.model_to_graphviz(model_1)"
   ]
  },
  {
   "cell_type": "code",
   "execution_count": null,
   "metadata": {},
   "outputs": [],
   "source": [
    "with model_1:\n",
    "    idata_m1 = pm.sample_prior_predictive()\n",
    "    idata_m1.extend(\n",
    "        pm.sample(\n",
    "            5000,\n",
    "            nuts_sampler=\"numpyro\",\n",
    "            idata_kwargs={\"log_likelihood\": True},\n",
    "            random_seed=100,\n",
    "        )\n",
    "    )\n",
    "    idata_m1.extend(pm.sample_posterior_predictive(idata_m1))"
   ]
  },
  {
   "cell_type": "code",
   "execution_count": null,
   "metadata": {},
   "outputs": [],
   "source": [
    "post = az.extract(idata_m1)\n",
    "fig, axs = plt.subplots(3, 2)\n",
    "\n",
    "for i in range(6):\n",
    "    plt.sca(axs.flatten()[i])\n",
    "    if i >= K:\n",
    "        plt.gca().axis(\"off\")\n",
    "        continue\n",
    "    sns.histplot(\n",
    "        post[\"beta_pf\"][i, :],\n",
    "        bins=30,\n",
    "        ec=\"black\",\n",
    "    )\n",
    "    plt.axvline(df[\"latent_β_prod\"][0, i], linestyle=\"dashed\", color=\"black\")\n",
    "    plt.title(rf\"$\\beta_{i+1}$\")\n",
    "    plt.ylabel(None)\n",
    "    plt.yticks([])\n",
    "\n",
    "plt.tight_layout()\n",
    "plt.show()"
   ]
  },
  {
   "cell_type": "markdown",
   "metadata": {},
   "source": [
    "### Archive"
   ]
  },
  {
   "cell_type": "code",
   "execution_count": 27,
   "metadata": {},
   "outputs": [],
   "source": [
    "# def make_data(params):\n",
    "\n",
    "#     ## load parameters\n",
    "#     M = params[\"M\"]\n",
    "#     W = params[\"W\"]\n",
    "#     J = params[\"J\"]\n",
    "#     K = params[\"K\"]\n",
    "#     N = params[\"N\"]\n",
    "\n",
    "#     np.random.seed(42)\n",
    "\n",
    "#     ## generate latent parameters\n",
    "#     # individual_features = np.random.normal(0, 0.1, (N, M))\n",
    "#     # individual_features = np.zeros((N, M))\n",
    "#     individual_features = ...\n",
    "#     product_features = np.random.normal(-1, 0.2, (J, K))\n",
    "#     π = np.random.dirichlet([1] * W, 1).flatten().cumsum()\n",
    "#     β_ind = ...\n",
    "#     # β_ind = np.random.normal(0, 1, M)\n",
    "#     # β_prod = np.random.normal(0, 0.2, (K, N))\n",
    "#     # ν = np.random.normal(0, 1, (N, J))\n",
    "#     η = np.random.gumbel(0, 1, (N, J+1))\n",
    "#     # ɛ = np.random.normal(0, 1, (N, J))\n",
    "\n",
    "#     if heterogeneous:\n",
    "#         β_prod = np.random.normal(0, 1, (K, N))\n",
    "#     else:\n",
    "#         β_prod = np.ones((N, 1)) @ np.random.normal(0, 1, (1, K))\n",
    "#     ## generate data\n",
    "#     # y = np.zeros((N, J))\n",
    "\n",
    "#     # u_individual = np.outer(\n",
    "#     #     individual_features @ β_ind,\n",
    "#     #     np.ones(J),\n",
    "#     # )\n",
    "#     u = β_prod @ product_features.T + η\n",
    "\n",
    "#     if heterogeneous:\n",
    "#         u_individual = ...\n",
    "#         u += u_individual\n",
    "\n",
    "#     t = np.argmax(u, axis=1)\n",
    "#     v = u[:, t]\n",
    "#     w = np.digitize(gumbel_r.cdf(v), π)\n",
    "\n",
    "#     d = {\n",
    "#         \"product_features\": product_features,\n",
    "#         \"t\": t,\n",
    "#         \"w\": w,\n",
    "#         \"latent_cutpoints\": π,\n",
    "#         \"latent_utilities\": u,\n",
    "#         \"latent_β_prod\": β_prod\n",
    "#     }\n",
    "\n",
    "#     if heterogeneous:\n",
    "#         d[\"individual_features\"] = individual_features\n",
    "\n",
    "#     if heterogeneous:\n",
    "#         d[\"individual_features\"] = individual_features\n",
    "#         d[\"latent_β_ind\"] = β_ind\n",
    "\n",
    "#     return d\n",
    "\n",
    "# params = {\"N\": 1000, \"J\": 3, \"K\": 5, \"M\": 2, \"W\": 4}\n",
    "\n",
    "# df = make_data(params)"
   ]
  },
  {
   "cell_type": "code",
   "execution_count": 28,
   "metadata": {},
   "outputs": [],
   "source": [
    "# with pm.Model(coords=coords) as model_1:\n",
    "\n",
    "#     mu_β_p = pm.Normal(\"mu_β_p\", 0, 1)\n",
    "#     sigma_β_p = pm.Exponential(\"sigma_β_p\", 5)\n",
    "#     # beta_p = pm.Normal(\n",
    "#     #     \"beta_pf\", mu_β_p, sigma_β_p, dims=[\"obs\", \"p_factors\"]\n",
    "#     # )  # want there to be N*K beta's\n",
    "\n",
    "#     beta_p = (\n",
    "#         pm.math.ones((N, 1))\n",
    "#         * pm.Normal(\"beta_pf\", mu_β_p, sigma_β_p, dims=[\"p_factors\"]).T\n",
    "#     )  # want there to be N*K beta's\n",
    "\n",
    "#     # beta_p_print = Print(\"beta_p\")(beta_p)\n",
    "\n",
    "#     # π = pm.Dirichlet(\"latent_binwidths\", a=pm.math.ones(W))  # W x 1\n",
    "#     # α = pm.Deterministic(\n",
    "#     #     \"latent_cutpoints\", pt.concatenate([np.ones(1) * 0, pt.extra_ops.cumsum(π)])\n",
    "#     # )  # (W+1) x 1\n",
    "\n",
    "#     ## Construct Utility matrix\n",
    "\n",
    "#     # s_good = pm.math.dot(beta_p, df[\"product_features\"].T)  # N x J\n",
    "\n",
    "#     s_good = beta_p @ df[\"product_features\"].T\n",
    "\n",
    "#     # individual_effects = pm.math.sum(pm.math.dot(beta_i, df[\"individual_features\"]), axis=1)\n",
    "#     # s_person = individual_effects[:, None] * pm.math.ones_like(df[\"individual_features\"])\n",
    "#     # s = s_good + 0\n",
    "\n",
    "#     # s_good_print = Print(\"s_good\")(s_good)\n",
    "\n",
    "#     s = pm.math.concatenate([s_good, np.zeros((N, 1))], axis=1)\n",
    "#     ## Calculate good conditional likelihoods\n",
    "#     # p_goods = pm.math.softmax(s, axis=1)  # probability that good i is best of J\n",
    "\n",
    "#     ## Apply Gumbel-Max Adjustment\n",
    "#     # μbar = pm.math.log(pm.math.sum(pm.math.exp(s), axis=1))  # should be N x 1\n",
    "\n",
    "#     ## Apply Softmax Transform\n",
    "#     p_ = pm.Deterministic(\"p\", pm.math.softmax(s, axis=1), dims=(\"obs\", \"products\"))\n",
    "\n",
    "#     ## Likelihood\n",
    "#     choice_obs = pm.Categorical(\"y_cat\", p=p_, observed=observed_good, dims=\"obs\")\n",
    "\n",
    "#     # sandwich_meat = [\n",
    "#     #     (\n",
    "#     #         pm.math.exp(pm.math.exp(μbar) * pm.math.log(α[w]))\n",
    "#     #         - pm.math.exp(pm.math.exp(μbar) * pm.math.log(α[w - 1]))\n",
    "#     #     )\n",
    "#     #     for w in range(2, W)\n",
    "#     # ]\n",
    "\n",
    "#     # ## Calculate bin conditional likelihoods\n",
    "#     # p_bins = pt.stack(\n",
    "#     #     [\n",
    "#     #         pm.math.exp(pm.math.exp(μbar) * pm.math.log(α[1])),  # should be N x 1\n",
    "#     #         *sandwich_meat,  # should be N x W-2\n",
    "#     #         1 - pm.math.exp(pm.math.exp(μbar) * pm.math.log(α[-1])),  # should be N x 1\n",
    "#     #     ],\n",
    "#     #     axis=0,\n",
    "#     # ).T  # should be N x W\n",
    "\n",
    "#     ## Map to observables\n",
    "#     # good_obs = pm.Categorical(\"product\", p=p_goods, observed=observed_good, dims=\"obs\")\n",
    "#     # outside_obs =\n",
    "#     # prob_obs = pm.Categorical(\"bin\", p=probs, observed=observed_prob, dims=\"obs\")\n",
    "#     # bin_obs = pm.Categorical(\"bin\", p=p_bins, observed=observed_bin, dims=\"obs\")\n",
    "\n",
    "# pm.model_to_graphviz(model_1)"
   ]
  },
  {
   "cell_type": "code",
   "execution_count": 29,
   "metadata": {
    "ExecuteTime": {
     "end_time": "2024-06-26T21:36:42.904161Z",
     "start_time": "2024-06-26T21:36:42.899561Z"
    }
   },
   "outputs": [],
   "source": [
    "# az.summary(idata_m1, var_names=[\"mu_β_p\", \"sigma_β_p\", \"latent_cutpoints\"])"
   ]
  }
 ],
 "metadata": {
  "kernelspec": {
   "display_name": ".venv",
   "language": "python",
   "name": "python3"
  },
  "language_info": {
   "codemirror_mode": {
    "name": "ipython",
    "version": 3
   },
   "file_extension": ".py",
   "mimetype": "text/x-python",
   "name": "python",
   "nbconvert_exporter": "python",
   "pygments_lexer": "ipython3",
   "version": "3.12.6"
  }
 },
 "nbformat": 4,
 "nbformat_minor": 2
}
