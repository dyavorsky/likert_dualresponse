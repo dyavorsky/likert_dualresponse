{
 "cells": [
  {
   "cell_type": "markdown",
   "metadata": {},
   "source": [
    "#"
   ],
   "id": "0853db0c-e6de-4ce6-8fc1-b7b88811ea32"
  }
 ],
 "nbformat": 4,
 "nbformat_minor": 5,
 "metadata": {}
}
