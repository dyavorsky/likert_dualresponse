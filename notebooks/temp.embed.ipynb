{
 "cells": [
  {
   "cell_type": "markdown",
   "metadata": {},
   "source": [
    "#"
   ],
   "id": "78784fa4-1800-43b4-a3eb-6f1fbe495b34"
  }
 ],
 "nbformat": 4,
 "nbformat_minor": 5,
 "metadata": {}
}
