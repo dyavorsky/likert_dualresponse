{
 "cells": [
  {
   "cell_type": "markdown",
   "metadata": {},
   "source": [
    "#"
   ],
   "id": "c889638c-3ad7-462d-a661-ac35cbd4f1fe"
  }
 ],
 "nbformat": 4,
 "nbformat_minor": 5,
 "metadata": {}
}
