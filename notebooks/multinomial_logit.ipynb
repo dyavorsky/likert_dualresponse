{
 "cells": [
  {
   "cell_type": "code",
   "execution_count": 1,
   "metadata": {},
   "outputs": [
    {
     "name": "stderr",
     "output_type": "stream",
     "text": [
      "WARNING (pytensor.tensor.blas): Using NumPy C-API based implementation for BLAS functions.\n"
     ]
    }
   ],
   "source": [
    "import arviz as az\n",
    "import numpy as np  # For vectorized math operations\n",
    "\n",
    "import pandas as pd  # For file input/output\n",
    "import pymc as pm\n",
    "import pytensor.tensor as pt\n",
    "from scipy.stats import gumbel_r\n",
    "import seaborn as sns\n",
    "from matplotlib import pyplot as plt\n",
    "\n",
    "from IPython.display import display"
   ]
  },
  {
   "cell_type": "code",
   "execution_count": 2,
   "metadata": {},
   "outputs": [],
   "source": [
    "%config InlineBackend.figure_format='retina'\n",
    "\n",
    "sns.set_theme(\n",
    "    context=\"notebook\",\n",
    "    style=\"white\",\n",
    "    font=\"Latin Modern Roman\",\n",
    "    rc={\n",
    "        \"axes.spines.right\": False,\n",
    "        \"axes.spines.top\": False,\n",
    "        \"text.usetex\": True,\n",
    "    },\n",
    ")\n",
    "\n",
    "extra_params = {\n",
    "    \"text.latex.preamble\": \" \".join([r\"\\usepackage{mathtools}\", r\"\\usepackage{amssymb}\"])\n",
    "}\n",
    "\n",
    "plt.rcParams.update(extra_params)"
   ]
  },
  {
   "cell_type": "markdown",
   "metadata": {},
   "source": [
    "# Estimation of Discrete Choice Models in PyMC\n",
    "\n",
    "## Introduction\n",
    "\n",
    "I'm encountering unexpected divergences in the estimation of Multinomial Logit Discrete Chocie Models. I first show how a model with only continuous regressors performs well. I then show how a model with a product fixed effect performs poorly. Here, poor performance meeans there are divergences.\n",
    "\n",
    "In general, the data generating process is\n",
    "$$\n",
    "u_{ij} = \\alpha_j + {X_j}'\\beta + \\eta_{ij} - \\eta_0\n",
    "$$\n",
    "where:\n",
    "- $\\alpha_j$ is a consumer preference for brand $j$,\n",
    "- $X_j$ is a matrix of product characteristics,\n",
    "- $\\beta$ is a vector of consumer utility parameters, and\n",
    "- $\\eta_{ij}$ are Gumbel-distributed errors."
   ]
  },
  {
   "cell_type": "code",
   "execution_count": 3,
   "metadata": {},
   "outputs": [],
   "source": [
    "def make_data(params):\n",
    "\n",
    "    ## load parameters\n",
    "    J = params[\"J\"]\n",
    "    K = params[\"K\"]\n",
    "    N = params[\"N\"]\n",
    "\n",
    "    np.random.seed(42)\n",
    "\n",
    "    product_features = np.random.normal(0, 1, (N, J, K))\n",
    "    product_features = np.concatenate(\n",
    "        [product_features, np.zeros((N, 1, K))], axis=1\n",
    "    )  # outside good\n",
    "\n",
    "    η = np.random.gumbel(0, 1, (N, J + 1))\n",
    "    \n",
    "    α_prod = np.random.normal(-1.0, 0.2, J+1)\n",
    "    α_prod[-1] = 0 # outside good\n",
    "\n",
    "    # β_prod = np.ones((N, 1)) @ np.random.normal(0, 1, (1, K))\n",
    "    β_prod = np.random.normal(0, 1, K)\n",
    "    \n",
    "    d = {\n",
    "        \"product_features\": product_features,\n",
    "        \"latent_α\": α_prod,\n",
    "        \"latent_β\": β_prod,\n",
    "    }\n",
    "\n",
    "    ## generate data\n",
    "    for k in [\"model_1\", \"model_2\"]:\n",
    "        u = product_features @ β_prod + η\n",
    "        if k == \"model_2\":\n",
    "            u += np.ones((N, 1)) @ α_prod.reshape((1, -1))\n",
    "\n",
    "        preferred_j = np.argmax(u, axis=1)\n",
    "        inside_j    = np.argmax(u[:, :-1], axis=1)\n",
    "    \n",
    "        d[k] = {\n",
    "            \"u\": u,\n",
    "            \"preferred_j\": preferred_j,\n",
    "            \"inside_j\": inside_j,\n",
    "        }\n",
    "    \n",
    "    return d\n",
    "\n",
    "\n",
    "params = {\"N\": 200, \"J\": 3, \"K\": 5}\n",
    "\n",
    "data = make_data(params)"
   ]
  },
  {
   "cell_type": "markdown",
   "metadata": {},
   "source": [
    "## Model 1: Continuous Charactersitics Only\n",
    "\n",
    "Here, we are imposing that $\\alpha_j = 0\\;\\forall j\\in{}J$"
   ]
  },
  {
   "cell_type": "code",
   "execution_count": 4,
   "metadata": {},
   "outputs": [
    {
     "data": {
      "image/png": "[encoded data removed]",
      "text/plain": [
       "<Figure size 640x480 with 1 Axes>"
      ]
     },
     "metadata": {
      "image/png": {
       "height": 436,
       "width": 564
      }
     },
     "output_type": "display_data"
    }
   ],
   "source": [
    "sns.countplot(\n",
    "    x=pd.Series(data[\"model_1\"][\"preferred_j\"], dtype=\"category\", name=\"Good\")\n",
    ")\n",
    "plt.show()"
   ]
  },
  {
   "cell_type": "code",
   "execution_count": 5,
   "metadata": {},
   "outputs": [
    {
     "data": {
      "image/svg+xml": [
       "<?xml version=\"1.0\" encoding=\"UTF-8\" standalone=\"no\"?>\n",
       "<!DOCTYPE svg PUBLIC \"-//W3C//DTD SVG 1.1//EN\"\n",
       " \"http://www.w3.org/Graphics/SVG/1.1/DTD/svg11.dtd\">\n",
       "<!-- Generated by graphviz version 12.1.2 (20240928.0832)\n",
       " -->\n",
       "<!-- Pages: 1 -->\n",
       "<svg width=\"228pt\" height=\"483pt\"\n",
       " viewBox=\"0.00 0.00 227.59 482.95\" xmlns=\"http://www.w3.org/2000/svg\" xmlns:xlink=\"http://www.w3.org/1999/xlink\">\n",
       "<g id=\"graph0\" class=\"graph\" transform=\"scale(1 1) rotate(0) translate(4 478.95)\">\n",
       "<polygon fill=\"white\" stroke=\"none\" points=\"-4,4 -4,-478.95 223.59,-478.95 223.59,4 -4,4\"/>\n",
       "<g id=\"clust1\" class=\"cluster\">\n",
       "<title>clusterp_factors (5)</title>\n",
       "<path fill=\"none\" stroke=\"black\" d=\"M65.13,-243.82C65.13,-243.82 139.13,-243.82 139.13,-243.82 145.13,-243.82 151.13,-249.82 151.13,-255.82 151.13,-255.82 151.13,-353.63 151.13,-353.63 151.13,-359.63 145.13,-365.63 139.13,-365.63 139.13,-365.63 65.13,-365.63 65.13,-365.63 59.13,-365.63 53.13,-359.63 53.13,-353.63 53.13,-353.63 53.13,-255.82 53.13,-255.82 53.13,-249.82 59.13,-243.82 65.13,-243.82\"/>\n",
       "<text text-anchor=\"middle\" x=\"108.26\" y=\"-251.02\" font-family=\"Times,serif\" font-size=\"14.00\">p_factors (5)</text>\n",
       "</g>\n",
       "<g id=\"clust2\" class=\"cluster\">\n",
       "<title>clusterobs (200) x products (4)</title>\n",
       "<path fill=\"none\" stroke=\"black\" d=\"M56.13,-137.82C56.13,-137.82 180.13,-137.82 180.13,-137.82 186.13,-137.82 192.13,-143.82 192.13,-149.82 192.13,-149.82 192.13,-223.82 192.13,-223.82 192.13,-229.82 186.13,-235.82 180.13,-235.82 180.13,-235.82 56.13,-235.82 56.13,-235.82 50.13,-235.82 44.13,-229.82 44.13,-223.82 44.13,-223.82 44.13,-149.82 44.13,-149.82 44.13,-143.82 50.13,-137.82 56.13,-137.82\"/>\n",
       "<text text-anchor=\"middle\" x=\"118.13\" y=\"-145.02\" font-family=\"Times,serif\" font-size=\"14.00\">obs (200) x products (4)</text>\n",
       "</g>\n",
       "<g id=\"clust3\" class=\"cluster\">\n",
       "<title>clusterobs (200)</title>\n",
       "<path fill=\"none\" stroke=\"black\" d=\"M51.13,-8C51.13,-8 153.13,-8 153.13,-8 159.13,-8 165.13,-14 165.13,-20 165.13,-20 165.13,-117.82 165.13,-117.82 165.13,-123.82 159.13,-129.82 153.13,-129.82 153.13,-129.82 51.13,-129.82 51.13,-129.82 45.13,-129.82 39.13,-123.82 39.13,-117.82 39.13,-117.82 39.13,-20 39.13,-20 39.13,-14 45.13,-8 51.13,-8\"/>\n",
       "<text text-anchor=\"middle\" x=\"131.26\" y=\"-15.2\" font-family=\"Times,serif\" font-size=\"14.00\">obs (200)</text>\n",
       "</g>\n",
       "<!-- mu_β_p -->\n",
       "<g id=\"node1\" class=\"node\">\n",
       "<title>mu_β_p</title>\n",
       "<ellipse fill=\"none\" stroke=\"black\" cx=\"43.13\" cy=\"-434.29\" rx=\"43.13\" ry=\"40.66\"/>\n",
       "<text text-anchor=\"middle\" x=\"43.13\" y=\"-445.74\" font-family=\"Times,serif\" font-size=\"14.00\">mu_β_p</text>\n",
       "<text text-anchor=\"middle\" x=\"43.13\" y=\"-429.24\" font-family=\"Times,serif\" font-size=\"14.00\">~</text>\n",
       "<text text-anchor=\"middle\" x=\"43.13\" y=\"-412.74\" font-family=\"Times,serif\" font-size=\"14.00\">Normal</text>\n",
       "</g>\n",
       "<!-- beta_pf -->\n",
       "<g id=\"node3\" class=\"node\">\n",
       "<title>beta_pf</title>\n",
       "<ellipse fill=\"none\" stroke=\"black\" cx=\"102.13\" cy=\"-316.98\" rx=\"41.01\" ry=\"40.66\"/>\n",
       "<text text-anchor=\"middle\" x=\"102.13\" y=\"-328.43\" font-family=\"Times,serif\" font-size=\"14.00\">beta_pf</text>\n",
       "<text text-anchor=\"middle\" x=\"102.13\" y=\"-311.93\" font-family=\"Times,serif\" font-size=\"14.00\">~</text>\n",
       "<text text-anchor=\"middle\" x=\"102.13\" y=\"-295.43\" font-family=\"Times,serif\" font-size=\"14.00\">Normal</text>\n",
       "</g>\n",
       "<!-- mu_β_p&#45;&gt;beta_pf -->\n",
       "<g id=\"edge1\" class=\"edge\">\n",
       "<title>mu_β_p&#45;&gt;beta_pf</title>\n",
       "<path fill=\"none\" stroke=\"black\" d=\"M61.64,-397.12C67.07,-386.5 73.09,-374.75 78.78,-363.62\"/>\n",
       "<polygon fill=\"black\" stroke=\"black\" points=\"81.77,-365.47 83.21,-354.97 75.54,-362.28 81.77,-365.47\"/>\n",
       "</g>\n",
       "<!-- sigma_β_p -->\n",
       "<g id=\"node2\" class=\"node\">\n",
       "<title>sigma_β_p</title>\n",
       "<ellipse fill=\"none\" stroke=\"black\" cx=\"162.13\" cy=\"-434.29\" rx=\"57.45\" ry=\"40.66\"/>\n",
       "<text text-anchor=\"middle\" x=\"162.13\" y=\"-445.74\" font-family=\"Times,serif\" font-size=\"14.00\">sigma_β_p</text>\n",
       "<text text-anchor=\"middle\" x=\"162.13\" y=\"-429.24\" font-family=\"Times,serif\" font-size=\"14.00\">~</text>\n",
       "<text text-anchor=\"middle\" x=\"162.13\" y=\"-412.74\" font-family=\"Times,serif\" font-size=\"14.00\">HalfCauchy</text>\n",
       "</g>\n",
       "<!-- sigma_β_p&#45;&gt;beta_pf -->\n",
       "<g id=\"edge2\" class=\"edge\">\n",
       "<title>sigma_β_p&#45;&gt;beta_pf</title>\n",
       "<path fill=\"none\" stroke=\"black\" d=\"M142.65,-395.85C137.31,-385.59 131.46,-374.34 125.91,-363.67\"/>\n",
       "<polygon fill=\"black\" stroke=\"black\" points=\"129.12,-362.26 121.4,-355 122.91,-365.49 129.12,-362.26\"/>\n",
       "</g>\n",
       "<!-- p -->\n",
       "<g id=\"node4\" class=\"node\">\n",
       "<title>p</title>\n",
       "<polygon fill=\"none\" stroke=\"black\" points=\"147.26,-227.82 57.01,-227.82 57.01,-170.32 147.26,-170.32 147.26,-227.82\"/>\n",
       "<text text-anchor=\"middle\" x=\"102.13\" y=\"-210.52\" font-family=\"Times,serif\" font-size=\"14.00\">p</text>\n",
       "<text text-anchor=\"middle\" x=\"102.13\" y=\"-194.02\" font-family=\"Times,serif\" font-size=\"14.00\">~</text>\n",
       "<text text-anchor=\"middle\" x=\"102.13\" y=\"-177.52\" font-family=\"Times,serif\" font-size=\"14.00\">Deterministic</text>\n",
       "</g>\n",
       "<!-- beta_pf&#45;&gt;p -->\n",
       "<g id=\"edge3\" class=\"edge\">\n",
       "<title>beta_pf&#45;&gt;p</title>\n",
       "<path fill=\"none\" stroke=\"black\" d=\"M102.13,-276.09C102.13,-264.2 102.13,-251.19 102.13,-239.34\"/>\n",
       "<polygon fill=\"black\" stroke=\"black\" points=\"105.63,-239.48 102.13,-229.48 98.63,-239.48 105.63,-239.48\"/>\n",
       "</g>\n",
       "<!-- y_cat -->\n",
       "<g id=\"node5\" class=\"node\">\n",
       "<title>y_cat</title>\n",
       "<ellipse fill=\"lightgrey\" stroke=\"black\" cx=\"102.13\" cy=\"-81.16\" rx=\"55.33\" ry=\"40.66\"/>\n",
       "<text text-anchor=\"middle\" x=\"102.13\" y=\"-92.61\" font-family=\"Times,serif\" font-size=\"14.00\">y_cat</text>\n",
       "<text text-anchor=\"middle\" x=\"102.13\" y=\"-76.11\" font-family=\"Times,serif\" font-size=\"14.00\">~</text>\n",
       "<text text-anchor=\"middle\" x=\"102.13\" y=\"-59.61\" font-family=\"Times,serif\" font-size=\"14.00\">Categorical</text>\n",
       "</g>\n",
       "<!-- p&#45;&gt;y_cat -->\n",
       "<g id=\"edge4\" class=\"edge\">\n",
       "<title>p&#45;&gt;y_cat</title>\n",
       "<path fill=\"none\" stroke=\"black\" d=\"M102.13,-170.01C102.13,-159.03 102.13,-146.08 102.13,-133.55\"/>\n",
       "<polygon fill=\"black\" stroke=\"black\" points=\"105.63,-133.74 102.13,-123.74 98.63,-133.74 105.63,-133.74\"/>\n",
       "</g>\n",
       "</g>\n",
       "</svg>\n"
      ],
      "text/plain": [
       "<graphviz.graphs.Digraph at 0x16ca3a0c0>"
      ]
     },
     "execution_count": 5,
     "metadata": {},
     "output_type": "execute_result"
    }
   ],
   "source": [
    "observed_good = data[\"model_1\"][\"preferred_j\"]\n",
    "\n",
    "N = params[\"N\"]\n",
    "J = params[\"J\"]\n",
    "K = params[\"K\"]\n",
    "\n",
    "coords_1 = {\n",
    "    \"products\": [f\"product_{i}\" for i in range(J + 1)],\n",
    "    \"p_factors\": [f\"pf_{i}\" for i in range(K)],\n",
    "    \"obs\": range(N),\n",
    "}\n",
    "\n",
    "with pm.Model(coords=coords_1) as model_1:\n",
    "\n",
    "    mu_β_p = pm.Normal(\"mu_β_p\", 0, 1)\n",
    "    sigma_β_p = pm.HalfCauchy(\"sigma_β_p\", 1)\n",
    "\n",
    "    beta_p = pm.Normal(\"beta_pf\", mu_β_p, sigma_β_p, dims=[\"p_factors\"])\n",
    "\n",
    "    ## Construct Utility matrix\n",
    "\n",
    "    # beta_p_print = Print(\"beta_p\")(beta_p)\n",
    "\n",
    "    s = data[\"product_features\"] @ beta_p\n",
    "\n",
    "    ## Apply Softmax Transform\n",
    "    p_ = pm.Deterministic(\"p\", pm.math.softmax(s, axis=1), dims=(\"obs\", \"products\"))\n",
    "\n",
    "    ## Likelihood\n",
    "    choice_obs = pm.Categorical(\"y_cat\", p=p_, observed=observed_good, dims=\"obs\")\n",
    "\n",
    "pm.model_to_graphviz(model_1)"
   ]
  },
  {
   "cell_type": "code",
   "execution_count": 6,
   "metadata": {},
   "outputs": [
    {
     "data": {
      "application/vnd.jupyter.widget-view+json": {
       "model_id": "f4fdc0c3e32047449f48f4598b28be54",
       "version_major": 2,
       "version_minor": 0
      },
      "text/plain": [
       "  0%|          | 0/6000 [00:00<?, ?it/s]"
      ]
     },
     "metadata": {},
     "output_type": "display_data"
    },
    {
     "data": {
      "application/vnd.jupyter.widget-view+json": {
       "model_id": "7ba51c362c184d1caa40049191bd6f05",
       "version_major": 2,
       "version_minor": 0
      },
      "text/plain": [
       "  0%|          | 0/6000 [00:00<?, ?it/s]"
      ]
     },
     "metadata": {},
     "output_type": "display_data"
    },
    {
     "data": {
      "application/vnd.jupyter.widget-view+json": {
       "model_id": "841609f71af94944b95c9126e690b218",
       "version_major": 2,
       "version_minor": 0
      },
      "text/plain": [
       "  0%|          | 0/6000 [00:00<?, ?it/s]"
      ]
     },
     "metadata": {},
     "output_type": "display_data"
    },
    {
     "data": {
      "application/vnd.jupyter.widget-view+json": {
       "model_id": "088e44b5b7b34b8eb8e0dbd787730f14",
       "version_major": 2,
       "version_minor": 0
      },
      "text/plain": [
       "  0%|          | 0/6000 [00:00<?, ?it/s]"
      ]
     },
     "metadata": {},
     "output_type": "display_data"
    }
   ],
   "source": [
    "with model_1:\n",
    "    idata_m1 = pm.sample(\n",
    "        5000,\n",
    "        nuts_sampler=\"numpyro\",\n",
    "        idata_kwargs={\"log_likelihood\": True},\n",
    "        random_seed=100,\n",
    "    )"
   ]
  },
  {
   "cell_type": "code",
   "execution_count": 7,
   "metadata": {},
   "outputs": [
    {
     "data": {
      "text/html": [
       "<div>\n",
       "<style scoped>\n",
       "    .dataframe tbody tr th:only-of-type {\n",
       "        vertical-align: middle;\n",
       "    }\n",
       "\n",
       "    .dataframe tbody tr th {\n",
       "        vertical-align: top;\n",
       "    }\n",
       "\n",
       "    .dataframe thead th {\n",
       "        text-align: right;\n",
       "    }\n",
       "</style>\n",
       "<table border=\"1\" class=\"dataframe\">\n",
       "  <thead>\n",
       "    <tr style=\"text-align: right;\">\n",
       "      <th></th>\n",
       "      <th>mean</th>\n",
       "      <th>sd</th>\n",
       "      <th>hdi_3%</th>\n",
       "      <th>hdi_97%</th>\n",
       "      <th>mcse_mean</th>\n",
       "      <th>mcse_sd</th>\n",
       "      <th>ess_bulk</th>\n",
       "      <th>ess_tail</th>\n",
       "      <th>r_hat</th>\n",
       "    </tr>\n",
       "  </thead>\n",
       "  <tbody>\n",
       "  </tbody>\n",
       "</table>\n",
       "</div>"
      ],
      "text/plain": [
       "Empty DataFrame\n",
       "Columns: [mean, sd, hdi_3%, hdi_97%, mcse_mean, mcse_sd, ess_bulk, ess_tail, r_hat]\n",
       "Index: []"
      ]
     },
     "metadata": {},
     "output_type": "display_data"
    }
   ],
   "source": [
    "with pd.option_context('display.max_rows', 100, 'display.max_columns', 10):\n",
    "    # no issues\n",
    "    display(az.summary(idata_m1).loc[lambda _df: _df['ess_tail'] < 1_000])"
   ]
  },
  {
   "cell_type": "code",
   "execution_count": 8,
   "metadata": {},
   "outputs": [
    {
     "data": {
      "text/html": [
       "<div>\n",
       "<style scoped>\n",
       "    .dataframe tbody tr th:only-of-type {\n",
       "        vertical-align: middle;\n",
       "    }\n",
       "\n",
       "    .dataframe tbody tr th {\n",
       "        vertical-align: top;\n",
       "    }\n",
       "\n",
       "    .dataframe thead th {\n",
       "        text-align: right;\n",
       "    }\n",
       "</style>\n",
       "<table border=\"1\" class=\"dataframe\">\n",
       "  <thead>\n",
       "    <tr style=\"text-align: right;\">\n",
       "      <th></th>\n",
       "      <th>mean</th>\n",
       "      <th>sd</th>\n",
       "      <th>hdi_3%</th>\n",
       "      <th>hdi_97%</th>\n",
       "      <th>mcse_mean</th>\n",
       "      <th>mcse_sd</th>\n",
       "      <th>ess_bulk</th>\n",
       "      <th>ess_tail</th>\n",
       "      <th>r_hat</th>\n",
       "    </tr>\n",
       "  </thead>\n",
       "  <tbody>\n",
       "    <tr>\n",
       "      <th>beta_pf[pf_0]</th>\n",
       "      <td>-0.272</td>\n",
       "      <td>0.105</td>\n",
       "      <td>-0.475</td>\n",
       "      <td>-0.083</td>\n",
       "      <td>0.001</td>\n",
       "      <td>0.001</td>\n",
       "      <td>24408.0</td>\n",
       "      <td>14423.0</td>\n",
       "      <td>1.0</td>\n",
       "    </tr>\n",
       "    <tr>\n",
       "      <th>beta_pf[pf_1]</th>\n",
       "      <td>0.218</td>\n",
       "      <td>0.097</td>\n",
       "      <td>0.039</td>\n",
       "      <td>0.402</td>\n",
       "      <td>0.001</td>\n",
       "      <td>0.000</td>\n",
       "      <td>21805.0</td>\n",
       "      <td>15148.0</td>\n",
       "      <td>1.0</td>\n",
       "    </tr>\n",
       "    <tr>\n",
       "      <th>beta_pf[pf_2]</th>\n",
       "      <td>-0.294</td>\n",
       "      <td>0.105</td>\n",
       "      <td>-0.491</td>\n",
       "      <td>-0.098</td>\n",
       "      <td>0.001</td>\n",
       "      <td>0.001</td>\n",
       "      <td>25149.0</td>\n",
       "      <td>13992.0</td>\n",
       "      <td>1.0</td>\n",
       "    </tr>\n",
       "    <tr>\n",
       "      <th>beta_pf[pf_3]</th>\n",
       "      <td>0.344</td>\n",
       "      <td>0.107</td>\n",
       "      <td>0.138</td>\n",
       "      <td>0.539</td>\n",
       "      <td>0.001</td>\n",
       "      <td>0.001</td>\n",
       "      <td>21723.0</td>\n",
       "      <td>16055.0</td>\n",
       "      <td>1.0</td>\n",
       "    </tr>\n",
       "    <tr>\n",
       "      <th>beta_pf[pf_4]</th>\n",
       "      <td>-0.436</td>\n",
       "      <td>0.106</td>\n",
       "      <td>-0.639</td>\n",
       "      <td>-0.240</td>\n",
       "      <td>0.001</td>\n",
       "      <td>0.001</td>\n",
       "      <td>21968.0</td>\n",
       "      <td>15031.0</td>\n",
       "      <td>1.0</td>\n",
       "    </tr>\n",
       "  </tbody>\n",
       "</table>\n",
       "</div>"
      ],
      "text/plain": [
       "                mean     sd  hdi_3%  hdi_97%  mcse_mean  mcse_sd  ess_bulk  \\\n",
       "beta_pf[pf_0] -0.272  0.105  -0.475   -0.083      0.001    0.001   24408.0   \n",
       "beta_pf[pf_1]  0.218  0.097   0.039    0.402      0.001    0.000   21805.0   \n",
       "beta_pf[pf_2] -0.294  0.105  -0.491   -0.098      0.001    0.001   25149.0   \n",
       "beta_pf[pf_3]  0.344  0.107   0.138    0.539      0.001    0.001   21723.0   \n",
       "beta_pf[pf_4] -0.436  0.106  -0.639   -0.240      0.001    0.001   21968.0   \n",
       "\n",
       "               ess_tail  r_hat  \n",
       "beta_pf[pf_0]   14423.0    1.0  \n",
       "beta_pf[pf_1]   15148.0    1.0  \n",
       "beta_pf[pf_2]   13992.0    1.0  \n",
       "beta_pf[pf_3]   16055.0    1.0  \n",
       "beta_pf[pf_4]   15031.0    1.0  "
      ]
     },
     "execution_count": 8,
     "metadata": {},
     "output_type": "execute_result"
    }
   ],
   "source": [
    "az.summary(idata_m1, var_names=[\"beta_pf\"])"
   ]
  },
  {
   "cell_type": "code",
   "execution_count": 9,
   "metadata": {},
   "outputs": [
    {
     "data": {
      "image/png": "[encoded data removed]",
      "text/plain": [
       "<Figure size 640x480 with 6 Axes>"
      ]
     },
     "metadata": {
      "image/png": {
       "height": 464,
       "width": 630
      }
     },
     "output_type": "display_data"
    }
   ],
   "source": [
    "post = az.extract(idata_m1)\n",
    "\n",
    "fig, axs = plt.subplots(3, 2)\n",
    "\n",
    "for i in range(6):\n",
    "    plt.sca(axs.flatten()[i])\n",
    "    if i >= K:\n",
    "        plt.gca().axis(\"off\")\n",
    "        continue\n",
    "    sns.histplot(\n",
    "        post[\"beta_pf\"][i, :],\n",
    "        bins=30,\n",
    "        ec=\"black\",\n",
    "    )\n",
    "    plt.axvline(data[\"latent_β\"][i], linestyle=\"dashed\", color=\"black\")\n",
    "    plt.title(rf\"$\\beta_{i+1}$\")\n",
    "    plt.ylabel(None)\n",
    "    plt.yticks([])\n",
    "\n",
    "plt.tight_layout()\n",
    "plt.show()"
   ]
  },
  {
   "cell_type": "markdown",
   "metadata": {},
   "source": [
    "## Model 2: With Brand Fixed Effects\n",
    "\n",
    "Here, we no longer impose that $\\alpha_j = 0\\;\\forall j\\in{}J$"
   ]
  },
  {
   "cell_type": "code",
   "execution_count": 10,
   "metadata": {},
   "outputs": [
    {
     "data": {
      "image/png": "[encoded data removed]",
      "text/plain": [
       "<Figure size 640x480 with 1 Axes>"
      ]
     },
     "metadata": {
      "image/png": {
       "height": 436,
       "width": 564
      }
     },
     "output_type": "display_data"
    }
   ],
   "source": [
    "sns.countplot(\n",
    "    x=pd.Series(data[\"model_2\"][\"preferred_j\"], dtype=\"category\", name=\"Good\")\n",
    ")\n",
    "plt.show()"
   ]
  },
  {
   "cell_type": "code",
   "execution_count": 11,
   "metadata": {},
   "outputs": [
    {
     "data": {
      "image/svg+xml": [
       "<?xml version=\"1.0\" encoding=\"UTF-8\" standalone=\"no\"?>\n",
       "<!DOCTYPE svg PUBLIC \"-//W3C//DTD SVG 1.1//EN\"\n",
       " \"http://www.w3.org/Graphics/SVG/1.1/DTD/svg11.dtd\">\n",
       "<!-- Generated by graphviz version 12.1.2 (20240928.0832)\n",
       " -->\n",
       "<!-- Pages: 1 -->\n",
       "<svg width=\"228pt\" height=\"483pt\"\n",
       " viewBox=\"0.00 0.00 227.59 482.95\" xmlns=\"http://www.w3.org/2000/svg\" xmlns:xlink=\"http://www.w3.org/1999/xlink\">\n",
       "<g id=\"graph0\" class=\"graph\" transform=\"scale(1 1) rotate(0) translate(4 478.95)\">\n",
       "<polygon fill=\"white\" stroke=\"none\" points=\"-4,4 -4,-478.95 223.59,-478.95 223.59,4 -4,4\"/>\n",
       "<g id=\"clust1\" class=\"cluster\">\n",
       "<title>clusterp_factors (5)</title>\n",
       "<path fill=\"none\" stroke=\"black\" d=\"M65.13,-243.82C65.13,-243.82 139.13,-243.82 139.13,-243.82 145.13,-243.82 151.13,-249.82 151.13,-255.82 151.13,-255.82 151.13,-353.63 151.13,-353.63 151.13,-359.63 145.13,-365.63 139.13,-365.63 139.13,-365.63 65.13,-365.63 65.13,-365.63 59.13,-365.63 53.13,-359.63 53.13,-353.63 53.13,-353.63 53.13,-255.82 53.13,-255.82 53.13,-249.82 59.13,-243.82 65.13,-243.82\"/>\n",
       "<text text-anchor=\"middle\" x=\"108.26\" y=\"-251.02\" font-family=\"Times,serif\" font-size=\"14.00\">p_factors (5)</text>\n",
       "</g>\n",
       "<g id=\"clust2\" class=\"cluster\">\n",
       "<title>clusterobs (200) x products (4)</title>\n",
       "<path fill=\"none\" stroke=\"black\" d=\"M56.13,-137.82C56.13,-137.82 180.13,-137.82 180.13,-137.82 186.13,-137.82 192.13,-143.82 192.13,-149.82 192.13,-149.82 192.13,-223.82 192.13,-223.82 192.13,-229.82 186.13,-235.82 180.13,-235.82 180.13,-235.82 56.13,-235.82 56.13,-235.82 50.13,-235.82 44.13,-229.82 44.13,-223.82 44.13,-223.82 44.13,-149.82 44.13,-149.82 44.13,-143.82 50.13,-137.82 56.13,-137.82\"/>\n",
       "<text text-anchor=\"middle\" x=\"118.13\" y=\"-145.02\" font-family=\"Times,serif\" font-size=\"14.00\">obs (200) x products (4)</text>\n",
       "</g>\n",
       "<g id=\"clust3\" class=\"cluster\">\n",
       "<title>clusterobs (200)</title>\n",
       "<path fill=\"none\" stroke=\"black\" d=\"M51.13,-8C51.13,-8 153.13,-8 153.13,-8 159.13,-8 165.13,-14 165.13,-20 165.13,-20 165.13,-117.82 165.13,-117.82 165.13,-123.82 159.13,-129.82 153.13,-129.82 153.13,-129.82 51.13,-129.82 51.13,-129.82 45.13,-129.82 39.13,-123.82 39.13,-117.82 39.13,-117.82 39.13,-20 39.13,-20 39.13,-14 45.13,-8 51.13,-8\"/>\n",
       "<text text-anchor=\"middle\" x=\"131.26\" y=\"-15.2\" font-family=\"Times,serif\" font-size=\"14.00\">obs (200)</text>\n",
       "</g>\n",
       "<!-- mu_β_p -->\n",
       "<g id=\"node1\" class=\"node\">\n",
       "<title>mu_β_p</title>\n",
       "<ellipse fill=\"none\" stroke=\"black\" cx=\"43.13\" cy=\"-434.29\" rx=\"43.13\" ry=\"40.66\"/>\n",
       "<text text-anchor=\"middle\" x=\"43.13\" y=\"-445.74\" font-family=\"Times,serif\" font-size=\"14.00\">mu_β_p</text>\n",
       "<text text-anchor=\"middle\" x=\"43.13\" y=\"-429.24\" font-family=\"Times,serif\" font-size=\"14.00\">~</text>\n",
       "<text text-anchor=\"middle\" x=\"43.13\" y=\"-412.74\" font-family=\"Times,serif\" font-size=\"14.00\">Normal</text>\n",
       "</g>\n",
       "<!-- beta_pf -->\n",
       "<g id=\"node3\" class=\"node\">\n",
       "<title>beta_pf</title>\n",
       "<ellipse fill=\"none\" stroke=\"black\" cx=\"102.13\" cy=\"-316.98\" rx=\"41.01\" ry=\"40.66\"/>\n",
       "<text text-anchor=\"middle\" x=\"102.13\" y=\"-328.43\" font-family=\"Times,serif\" font-size=\"14.00\">beta_pf</text>\n",
       "<text text-anchor=\"middle\" x=\"102.13\" y=\"-311.93\" font-family=\"Times,serif\" font-size=\"14.00\">~</text>\n",
       "<text text-anchor=\"middle\" x=\"102.13\" y=\"-295.43\" font-family=\"Times,serif\" font-size=\"14.00\">Normal</text>\n",
       "</g>\n",
       "<!-- mu_β_p&#45;&gt;beta_pf -->\n",
       "<g id=\"edge1\" class=\"edge\">\n",
       "<title>mu_β_p&#45;&gt;beta_pf</title>\n",
       "<path fill=\"none\" stroke=\"black\" d=\"M61.64,-397.12C67.07,-386.5 73.09,-374.75 78.78,-363.62\"/>\n",
       "<polygon fill=\"black\" stroke=\"black\" points=\"81.77,-365.47 83.21,-354.97 75.54,-362.28 81.77,-365.47\"/>\n",
       "</g>\n",
       "<!-- sigma_β_p -->\n",
       "<g id=\"node2\" class=\"node\">\n",
       "<title>sigma_β_p</title>\n",
       "<ellipse fill=\"none\" stroke=\"black\" cx=\"162.13\" cy=\"-434.29\" rx=\"57.45\" ry=\"40.66\"/>\n",
       "<text text-anchor=\"middle\" x=\"162.13\" y=\"-445.74\" font-family=\"Times,serif\" font-size=\"14.00\">sigma_β_p</text>\n",
       "<text text-anchor=\"middle\" x=\"162.13\" y=\"-429.24\" font-family=\"Times,serif\" font-size=\"14.00\">~</text>\n",
       "<text text-anchor=\"middle\" x=\"162.13\" y=\"-412.74\" font-family=\"Times,serif\" font-size=\"14.00\">HalfCauchy</text>\n",
       "</g>\n",
       "<!-- sigma_β_p&#45;&gt;beta_pf -->\n",
       "<g id=\"edge2\" class=\"edge\">\n",
       "<title>sigma_β_p&#45;&gt;beta_pf</title>\n",
       "<path fill=\"none\" stroke=\"black\" d=\"M142.65,-395.85C137.31,-385.59 131.46,-374.34 125.91,-363.67\"/>\n",
       "<polygon fill=\"black\" stroke=\"black\" points=\"129.12,-362.26 121.4,-355 122.91,-365.49 129.12,-362.26\"/>\n",
       "</g>\n",
       "<!-- p -->\n",
       "<g id=\"node4\" class=\"node\">\n",
       "<title>p</title>\n",
       "<polygon fill=\"none\" stroke=\"black\" points=\"147.26,-227.82 57.01,-227.82 57.01,-170.32 147.26,-170.32 147.26,-227.82\"/>\n",
       "<text text-anchor=\"middle\" x=\"102.13\" y=\"-210.52\" font-family=\"Times,serif\" font-size=\"14.00\">p</text>\n",
       "<text text-anchor=\"middle\" x=\"102.13\" y=\"-194.02\" font-family=\"Times,serif\" font-size=\"14.00\">~</text>\n",
       "<text text-anchor=\"middle\" x=\"102.13\" y=\"-177.52\" font-family=\"Times,serif\" font-size=\"14.00\">Deterministic</text>\n",
       "</g>\n",
       "<!-- beta_pf&#45;&gt;p -->\n",
       "<g id=\"edge3\" class=\"edge\">\n",
       "<title>beta_pf&#45;&gt;p</title>\n",
       "<path fill=\"none\" stroke=\"black\" d=\"M102.13,-276.09C102.13,-264.2 102.13,-251.19 102.13,-239.34\"/>\n",
       "<polygon fill=\"black\" stroke=\"black\" points=\"105.63,-239.48 102.13,-229.48 98.63,-239.48 105.63,-239.48\"/>\n",
       "</g>\n",
       "<!-- y_cat -->\n",
       "<g id=\"node5\" class=\"node\">\n",
       "<title>y_cat</title>\n",
       "<ellipse fill=\"lightgrey\" stroke=\"black\" cx=\"102.13\" cy=\"-81.16\" rx=\"55.33\" ry=\"40.66\"/>\n",
       "<text text-anchor=\"middle\" x=\"102.13\" y=\"-92.61\" font-family=\"Times,serif\" font-size=\"14.00\">y_cat</text>\n",
       "<text text-anchor=\"middle\" x=\"102.13\" y=\"-76.11\" font-family=\"Times,serif\" font-size=\"14.00\">~</text>\n",
       "<text text-anchor=\"middle\" x=\"102.13\" y=\"-59.61\" font-family=\"Times,serif\" font-size=\"14.00\">Categorical</text>\n",
       "</g>\n",
       "<!-- p&#45;&gt;y_cat -->\n",
       "<g id=\"edge4\" class=\"edge\">\n",
       "<title>p&#45;&gt;y_cat</title>\n",
       "<path fill=\"none\" stroke=\"black\" d=\"M102.13,-170.01C102.13,-159.03 102.13,-146.08 102.13,-133.55\"/>\n",
       "<polygon fill=\"black\" stroke=\"black\" points=\"105.63,-133.74 102.13,-123.74 98.63,-133.74 105.63,-133.74\"/>\n",
       "</g>\n",
       "</g>\n",
       "</svg>\n"
      ],
      "text/plain": [
       "<graphviz.graphs.Digraph at 0x322885fa0>"
      ]
     },
     "execution_count": 11,
     "metadata": {},
     "output_type": "execute_result"
    }
   ],
   "source": [
    "observed_good = data[\"model_2\"][\"preferred_j\"]\n",
    "\n",
    "N = params[\"N\"]\n",
    "J = params[\"J\"]\n",
    "K = params[\"K\"]\n",
    "\n",
    "coords_1 = {\n",
    "    \"products\": [f\"product_{i}\" for i in range(J + 1)],\n",
    "    \"p_factors\": [f\"pf_{i}\" for i in range(K)],\n",
    "    \"obs\": range(N),\n",
    "}\n",
    "\n",
    "with pm.Model(coords=coords_1) as model_2:\n",
    "\n",
    "    mu_α_p = pm.Normal(\"mu_α_p\", 0, 1)\n",
    "    sigma_α_p = pm.HalfCauchy(\"sigma_α_p\", 1)\n",
    "\n",
    "    mu_β_p = pm.Normal(\"mu_β_p\", 0, 1)\n",
    "    sigma_β_p = pm.HalfCauchy(\"sigma_β_p\", 1)\n",
    "\n",
    "    alpha_p = pm.Normal(\"alpha_j\", 0, 5, dims=[\"products\"])\n",
    "    alpha_p = pt.set_subtensor(alpha_p[-1], 0) #outside good\n",
    "\n",
    "    beta_p = pm.Normal(\"beta_pf\", mu_β_p, sigma_β_p, dims=[\"p_factors\"])\n",
    "\n",
    "    ## Construct Utility matrix\n",
    "\n",
    "    # beta_p_print = Print(\"beta_p\")(beta_p)\n",
    "\n",
    "    s = pm.math.ones((N, 1)) @ alpha_p.reshape((1, -1)) + data[\"product_features\"] @ beta_p\n",
    "\n",
    "    ## Apply Softmax Transform\n",
    "    p_ = pm.Deterministic(\"p\", pm.math.softmax(s, axis=1), dims=(\"obs\", \"products\"))\n",
    "\n",
    "    ## Likelihood\n",
    "    choice_obs = pm.Categorical(\"y_cat\", p=p_, observed=observed_good, dims=\"obs\")\n",
    "\n",
    "pm.model_to_graphviz(model_1)"
   ]
  },
  {
   "cell_type": "code",
   "execution_count": 12,
   "metadata": {},
   "outputs": [
    {
     "data": {
      "application/vnd.jupyter.widget-view+json": {
       "model_id": "e3c0c1588e9546c6abf3526e120ccd2f",
       "version_major": 2,
       "version_minor": 0
      },
      "text/plain": [
       "  0%|          | 0/6000 [00:00<?, ?it/s]"
      ]
     },
     "metadata": {},
     "output_type": "display_data"
    },
    {
     "data": {
      "application/vnd.jupyter.widget-view+json": {
       "model_id": "26182d7fbe6845cea3b0a301ae0b5c7e",
       "version_major": 2,
       "version_minor": 0
      },
      "text/plain": [
       "  0%|          | 0/6000 [00:00<?, ?it/s]"
      ]
     },
     "metadata": {},
     "output_type": "display_data"
    },
    {
     "data": {
      "application/vnd.jupyter.widget-view+json": {
       "model_id": "d6a04b9098d44cb799b64a5aeac1abdc",
       "version_major": 2,
       "version_minor": 0
      },
      "text/plain": [
       "  0%|          | 0/6000 [00:00<?, ?it/s]"
      ]
     },
     "metadata": {},
     "output_type": "display_data"
    },
    {
     "data": {
      "application/vnd.jupyter.widget-view+json": {
       "model_id": "344c22cf4fe44fd6b89879d52871c4db",
       "version_major": 2,
       "version_minor": 0
      },
      "text/plain": [
       "  0%|          | 0/6000 [00:00<?, ?it/s]"
      ]
     },
     "metadata": {},
     "output_type": "display_data"
    }
   ],
   "source": [
    "with model_2:\n",
    "    idata_m2 = pm.sample(\n",
    "        5000,\n",
    "        nuts_sampler=\"numpyro\",\n",
    "        idata_kwargs={\"log_likelihood\": True},\n",
    "        random_seed=100,\n",
    "    )"
   ]
  },
  {
   "cell_type": "code",
   "execution_count": 13,
   "metadata": {},
   "outputs": [
    {
     "data": {
      "text/html": [
       "<div>\n",
       "<style scoped>\n",
       "    .dataframe tbody tr th:only-of-type {\n",
       "        vertical-align: middle;\n",
       "    }\n",
       "\n",
       "    .dataframe tbody tr th {\n",
       "        vertical-align: top;\n",
       "    }\n",
       "\n",
       "    .dataframe thead th {\n",
       "        text-align: right;\n",
       "    }\n",
       "</style>\n",
       "<table border=\"1\" class=\"dataframe\">\n",
       "  <thead>\n",
       "    <tr style=\"text-align: right;\">\n",
       "      <th></th>\n",
       "      <th>mean</th>\n",
       "      <th>sd</th>\n",
       "      <th>hdi_3%</th>\n",
       "      <th>hdi_97%</th>\n",
       "      <th>mcse_mean</th>\n",
       "      <th>mcse_sd</th>\n",
       "      <th>ess_bulk</th>\n",
       "      <th>ess_tail</th>\n",
       "      <th>r_hat</th>\n",
       "    </tr>\n",
       "  </thead>\n",
       "  <tbody>\n",
       "  </tbody>\n",
       "</table>\n",
       "</div>"
      ],
      "text/plain": [
       "Empty DataFrame\n",
       "Columns: [mean, sd, hdi_3%, hdi_97%, mcse_mean, mcse_sd, ess_bulk, ess_tail, r_hat]\n",
       "Index: []"
      ]
     },
     "metadata": {},
     "output_type": "display_data"
    }
   ],
   "source": [
    "with pd.option_context('display.max_rows', 100, 'display.max_columns', 10):\n",
    "    # no issues\n",
    "    display(az.summary(idata_m2, var_names=[\"~p\"]).loc[lambda _df: _df['ess_tail'] < 1_000])"
   ]
  },
  {
   "cell_type": "code",
   "execution_count": 14,
   "metadata": {},
   "outputs": [
    {
     "data": {
      "text/html": [
       "<div>\n",
       "<style scoped>\n",
       "    .dataframe tbody tr th:only-of-type {\n",
       "        vertical-align: middle;\n",
       "    }\n",
       "\n",
       "    .dataframe tbody tr th {\n",
       "        vertical-align: top;\n",
       "    }\n",
       "\n",
       "    .dataframe thead th {\n",
       "        text-align: right;\n",
       "    }\n",
       "</style>\n",
       "<table border=\"1\" class=\"dataframe\">\n",
       "  <thead>\n",
       "    <tr style=\"text-align: right;\">\n",
       "      <th></th>\n",
       "      <th>mean</th>\n",
       "      <th>sd</th>\n",
       "      <th>hdi_3%</th>\n",
       "      <th>hdi_97%</th>\n",
       "      <th>mcse_mean</th>\n",
       "      <th>mcse_sd</th>\n",
       "      <th>ess_bulk</th>\n",
       "      <th>ess_tail</th>\n",
       "      <th>r_hat</th>\n",
       "    </tr>\n",
       "  </thead>\n",
       "  <tbody>\n",
       "    <tr>\n",
       "      <th>beta_pf[pf_0]</th>\n",
       "      <td>-0.289</td>\n",
       "      <td>0.112</td>\n",
       "      <td>-0.504</td>\n",
       "      <td>-0.082</td>\n",
       "      <td>0.001</td>\n",
       "      <td>0.001</td>\n",
       "      <td>21799.0</td>\n",
       "      <td>16128.0</td>\n",
       "      <td>1.0</td>\n",
       "    </tr>\n",
       "    <tr>\n",
       "      <th>beta_pf[pf_1]</th>\n",
       "      <td>0.169</td>\n",
       "      <td>0.106</td>\n",
       "      <td>-0.033</td>\n",
       "      <td>0.366</td>\n",
       "      <td>0.001</td>\n",
       "      <td>0.001</td>\n",
       "      <td>22389.0</td>\n",
       "      <td>15222.0</td>\n",
       "      <td>1.0</td>\n",
       "    </tr>\n",
       "    <tr>\n",
       "      <th>beta_pf[pf_2]</th>\n",
       "      <td>-0.244</td>\n",
       "      <td>0.115</td>\n",
       "      <td>-0.467</td>\n",
       "      <td>-0.036</td>\n",
       "      <td>0.001</td>\n",
       "      <td>0.001</td>\n",
       "      <td>20954.0</td>\n",
       "      <td>14672.0</td>\n",
       "      <td>1.0</td>\n",
       "    </tr>\n",
       "    <tr>\n",
       "      <th>beta_pf[pf_3]</th>\n",
       "      <td>0.361</td>\n",
       "      <td>0.120</td>\n",
       "      <td>0.144</td>\n",
       "      <td>0.591</td>\n",
       "      <td>0.001</td>\n",
       "      <td>0.001</td>\n",
       "      <td>17443.0</td>\n",
       "      <td>16062.0</td>\n",
       "      <td>1.0</td>\n",
       "    </tr>\n",
       "    <tr>\n",
       "      <th>beta_pf[pf_4]</th>\n",
       "      <td>-0.416</td>\n",
       "      <td>0.114</td>\n",
       "      <td>-0.640</td>\n",
       "      <td>-0.212</td>\n",
       "      <td>0.001</td>\n",
       "      <td>0.001</td>\n",
       "      <td>20927.0</td>\n",
       "      <td>15671.0</td>\n",
       "      <td>1.0</td>\n",
       "    </tr>\n",
       "  </tbody>\n",
       "</table>\n",
       "</div>"
      ],
      "text/plain": [
       "                mean     sd  hdi_3%  hdi_97%  mcse_mean  mcse_sd  ess_bulk  \\\n",
       "beta_pf[pf_0] -0.289  0.112  -0.504   -0.082      0.001    0.001   21799.0   \n",
       "beta_pf[pf_1]  0.169  0.106  -0.033    0.366      0.001    0.001   22389.0   \n",
       "beta_pf[pf_2] -0.244  0.115  -0.467   -0.036      0.001    0.001   20954.0   \n",
       "beta_pf[pf_3]  0.361  0.120   0.144    0.591      0.001    0.001   17443.0   \n",
       "beta_pf[pf_4] -0.416  0.114  -0.640   -0.212      0.001    0.001   20927.0   \n",
       "\n",
       "               ess_tail  r_hat  \n",
       "beta_pf[pf_0]   16128.0    1.0  \n",
       "beta_pf[pf_1]   15222.0    1.0  \n",
       "beta_pf[pf_2]   14672.0    1.0  \n",
       "beta_pf[pf_3]   16062.0    1.0  \n",
       "beta_pf[pf_4]   15671.0    1.0  "
      ]
     },
     "execution_count": 14,
     "metadata": {},
     "output_type": "execute_result"
    }
   ],
   "source": [
    "az.summary(idata_m2, var_names=[\"beta_pf\"])"
   ]
  },
  {
   "cell_type": "code",
   "execution_count": 15,
   "metadata": {},
   "outputs": [
    {
     "data": {
      "image/png": "[encoded data removed]",
      "text/plain": [
       "<Figure size 640x480 with 6 Axes>"
      ]
     },
     "metadata": {
      "image/png": {
       "height": 464,
       "width": 623
      }
     },
     "output_type": "display_data"
    }
   ],
   "source": [
    "post = az.extract(idata_m2)\n",
    "\n",
    "fig, axs = plt.subplots(3, 2)\n",
    "\n",
    "for i in range(6):\n",
    "    plt.sca(axs.flatten()[i])\n",
    "    if i >= K:\n",
    "        plt.gca().axis(\"off\")\n",
    "        continue\n",
    "    sns.histplot(\n",
    "        post[\"beta_pf\"][i, :],\n",
    "        bins=30,\n",
    "        ec=\"black\",\n",
    "    )\n",
    "    plt.axvline(data[\"latent_β\"][i], linestyle=\"dashed\", color=\"black\")\n",
    "    plt.title(rf\"$\\beta_{i+1}$\")\n",
    "    plt.ylabel(None)\n",
    "    plt.yticks([])\n",
    "\n",
    "plt.tight_layout()\n",
    "plt.show()"
   ]
  }
 ],
 "metadata": {
  "kernelspec": {
   "display_name": "env",
   "language": "python",
   "name": "python3"
  },
  "language_info": {
   "codemirror_mode": {
    "name": "ipython",
    "version": 3
   },
   "file_extension": ".py",
   "mimetype": "text/x-python",
   "name": "python",
   "nbconvert_exporter": "python",
   "pygments_lexer": "ipython3",
   "version": "3.12.6"
  }
 },
 "nbformat": 4,
 "nbformat_minor": 2
}
