{
 "cells": [
  {
   "cell_type": "code",
   "execution_count": 29,
   "metadata": {},
   "outputs": [],
   "source": [
    "import arviz as az\n",
    "import numpy as np  # For vectorized math operations\n",
    "\n",
    "# import pandas as pd  # For file input/output\n",
    "import pymc as pm\n",
    "import pytensor.tensor as pt\n",
    "from scipy.stats import gumbel_r\n",
    "\n",
    "from matplotlib import pyplot as plt\n",
    "import seaborn as sns"
   ]
  },
  {
   "cell_type": "code",
   "execution_count": 30,
   "metadata": {},
   "outputs": [],
   "source": [
    "from pytensor.printing import Print"
   ]
  },
  {
   "cell_type": "code",
   "execution_count": 47,
   "metadata": {},
   "outputs": [],
   "source": [
    "def make_data():\n",
    "    np.random.seed(42)\n",
    "    beta = np.random.normal(0, 1, (5, 1))\n",
    "    x = np.random.normal(0, 1, (20, 5))\n",
    "    y = x @ beta + np.random.normal(0, 0.1, (20, 1))\n",
    "    return {\n",
    "        \"x\": x,\n",
    "        \"y\": y,\n",
    "        \"beta\": beta\n",
    "    }"
   ]
  },
  {
   "cell_type": "code",
   "execution_count": 48,
   "metadata": {},
   "outputs": [],
   "source": [
    "D = make_data()"
   ]
  },
  {
   "cell_type": "code",
   "execution_count": 55,
   "metadata": {},
   "outputs": [],
   "source": [
    "observed_outcome = D[\"y\"].flatten()\n",
    "observed_indep = D[\"x\"]\n",
    "\n",
    "N = 20\n",
    "K = 5\n",
    "\n",
    "\n",
    "coords = {\n",
    "    \"p_factors\": [f\"pf_{i}\" for i in range(K)],\n",
    "    \"obs\": range(N),\n",
    "}"
   ]
  },
  {
   "cell_type": "code",
   "execution_count": 59,
   "metadata": {},
   "outputs": [],
   "source": [
    "with pm.Model(coords=coords) as model_1:\n",
    "\n",
    "    mu_β_p = pm.Normal(\"mu_β_p\", 0, 1)\n",
    "    sigma_β_p = pm.Exponential(\"sigma_β_p\", 1)\n",
    "    beta_p = (\n",
    "        pm.math.ones((N, 1))\n",
    "        * pm.Normal(\"beta_pf\", mu_β_p, sigma_β_p, dims=[\"p_factors\"]).T\n",
    "    )  # want there to be N*K beta's\n",
    "\n",
    "    sigma_y = pm.Exponential(\"sigma_y\", 1)\n",
    "\n",
    "    yhat = pm.math.sum(beta_p * observed_indep, axis=1)\n",
    "    # beta_p_print = Print(\"beta_p\")(beta_p)\n",
    "    # yhat_print = Print(\"yhat\")(yhat)\n",
    "    y = pm.Normal(\"y_obs\", yhat, sigma_y, observed=observed_outcome, dims=\"obs\")"
   ]
  },
  {
   "cell_type": "code",
   "execution_count": 60,
   "metadata": {},
   "outputs": [
    {
     "name": "stderr",
     "output_type": "stream",
     "text": [
      "Sampling: [beta_pf, mu_β_p, sigma_y, sigma_β_p, y_obs]\n"
     ]
    },
    {
     "data": {
      "application/vnd.jupyter.widget-view+json": {
       "model_id": "0229caf8c0764647b263ca303c4a535e",
       "version_major": 2,
       "version_minor": 0
      },
      "text/plain": [
       "  0%|          | 0/2000 [00:00<?, ?it/s]"
      ]
     },
     "metadata": {},
     "output_type": "display_data"
    },
    {
     "data": {
      "application/vnd.jupyter.widget-view+json": {
       "model_id": "83826a3716134486b491644f85f063e8",
       "version_major": 2,
       "version_minor": 0
      },
      "text/plain": [
       "  0%|          | 0/2000 [00:00<?, ?it/s]"
      ]
     },
     "metadata": {},
     "output_type": "display_data"
    },
    {
     "data": {
      "application/vnd.jupyter.widget-view+json": {
       "model_id": "88436436599d4284914cddecc40c238a",
       "version_major": 2,
       "version_minor": 0
      },
      "text/plain": [
       "  0%|          | 0/2000 [00:00<?, ?it/s]"
      ]
     },
     "metadata": {},
     "output_type": "display_data"
    },
    {
     "data": {
      "application/vnd.jupyter.widget-view+json": {
       "model_id": "e0df0aa2d5a841058f23d35a917eed60",
       "version_major": 2,
       "version_minor": 0
      },
      "text/plain": [
       "  0%|          | 0/2000 [00:00<?, ?it/s]"
      ]
     },
     "metadata": {},
     "output_type": "display_data"
    },
    {
     "name": "stderr",
     "output_type": "stream",
     "text": [
      "Sampling: [y_obs]\n"
     ]
    },
    {
     "data": {
      "application/vnd.jupyter.widget-view+json": {
       "model_id": "26af5af8fe494b9ca2107b9e298a0d8c",
       "version_major": 2,
       "version_minor": 0
      },
      "text/plain": [
       "Output()"
      ]
     },
     "metadata": {},
     "output_type": "display_data"
    },
    {
     "data": {
      "text/html": [
       "<pre style=\"white-space:pre;overflow-x:auto;line-height:normal;font-family:Menlo,'DejaVu Sans Mono',consolas,'Courier New',monospace\"></pre>\n"
      ],
      "text/plain": []
     },
     "metadata": {},
     "output_type": "display_data"
    },
    {
     "data": {
      "text/html": [
       "<pre style=\"white-space:pre;overflow-x:auto;line-height:normal;font-family:Menlo,'DejaVu Sans Mono',consolas,'Courier New',monospace\">\n",
       "</pre>\n"
      ],
      "text/plain": [
       "\n"
      ]
     },
     "metadata": {},
     "output_type": "display_data"
    }
   ],
   "source": [
    "with model_1:\n",
    "    \n",
    "    idata_m1 = pm.sample_prior_predictive()\n",
    "    idata_m1.extend(\n",
    "        pm.sample(\n",
    "            nuts_sampler=\"numpyro\",\n",
    "            idata_kwargs={\"log_likelihood\": True},\n",
    "            random_seed=100,\n",
    "        )\n",
    "    )\n",
    "    idata_m1.extend(pm.sample_posterior_predictive(idata_m1))"
   ]
  },
  {
   "cell_type": "code",
   "execution_count": 61,
   "metadata": {},
   "outputs": [
    {
     "data": {
      "image/svg+xml": [
       "<?xml version=\"1.0\" encoding=\"UTF-8\" standalone=\"no\"?>\n",
       "<!DOCTYPE svg PUBLIC \"-//W3C//DTD SVG 1.1//EN\"\n",
       " \"http://www.w3.org/Graphics/SVG/1.1/DTD/svg11.dtd\">\n",
       "<!-- Generated by graphviz version 12.1.0 (20240811.2233)\n",
       " -->\n",
       "<!-- Pages: 1 -->\n",
       "<svg width=\"298pt\" height=\"377pt\"\n",
       " viewBox=\"0.00 0.00 297.90 376.95\" xmlns=\"http://www.w3.org/2000/svg\" xmlns:xlink=\"http://www.w3.org/1999/xlink\">\n",
       "<g id=\"graph0\" class=\"graph\" transform=\"scale(1 1) rotate(0) translate(4 372.95)\">\n",
       "<polygon fill=\"white\" stroke=\"none\" points=\"-4,4 -4,-372.95 293.9,-372.95 293.9,4 -4,4\"/>\n",
       "<g id=\"clust1\" class=\"cluster\">\n",
       "<title>clusterp_factors (5)</title>\n",
       "<path fill=\"none\" stroke=\"black\" d=\"M136.45,-137.82C136.45,-137.82 210.45,-137.82 210.45,-137.82 216.45,-137.82 222.45,-143.82 222.45,-149.82 222.45,-149.82 222.45,-247.63 222.45,-247.63 222.45,-253.63 216.45,-259.63 210.45,-259.63 210.45,-259.63 136.45,-259.63 136.45,-259.63 130.45,-259.63 124.45,-253.63 124.45,-247.63 124.45,-247.63 124.45,-149.82 124.45,-149.82 124.45,-143.82 130.45,-137.82 136.45,-137.82\"/>\n",
       "<text text-anchor=\"middle\" x=\"179.58\" y=\"-145.02\" font-family=\"Times,serif\" font-size=\"14.00\">p_factors (5)</text>\n",
       "</g>\n",
       "<g id=\"clust2\" class=\"cluster\">\n",
       "<title>clusterobs (20)</title>\n",
       "<path fill=\"none\" stroke=\"black\" d=\"M78.45,-8C78.45,-8 152.45,-8 152.45,-8 158.45,-8 164.45,-14 164.45,-20 164.45,-20 164.45,-117.82 164.45,-117.82 164.45,-123.82 158.45,-129.82 152.45,-129.82 152.45,-129.82 78.45,-129.82 78.45,-129.82 72.45,-129.82 66.45,-123.82 66.45,-117.82 66.45,-117.82 66.45,-20 66.45,-20 66.45,-14 72.45,-8 78.45,-8\"/>\n",
       "<text text-anchor=\"middle\" x=\"133.95\" y=\"-15.2\" font-family=\"Times,serif\" font-size=\"14.00\">obs (20)</text>\n",
       "</g>\n",
       "<!-- sigma_y -->\n",
       "<g id=\"node1\" class=\"node\">\n",
       "<title>sigma_y</title>\n",
       "<ellipse fill=\"none\" stroke=\"black\" cx=\"57.45\" cy=\"-210.98\" rx=\"57.45\" ry=\"40.66\"/>\n",
       "<text text-anchor=\"middle\" x=\"57.45\" y=\"-222.43\" font-family=\"Times,serif\" font-size=\"14.00\">sigma_y</text>\n",
       "<text text-anchor=\"middle\" x=\"57.45\" y=\"-205.93\" font-family=\"Times,serif\" font-size=\"14.00\">~</text>\n",
       "<text text-anchor=\"middle\" x=\"57.45\" y=\"-189.43\" font-family=\"Times,serif\" font-size=\"14.00\">Exponential</text>\n",
       "</g>\n",
       "<!-- y_obs -->\n",
       "<g id=\"node5\" class=\"node\">\n",
       "<title>y_obs</title>\n",
       "<ellipse fill=\"lightgrey\" stroke=\"black\" cx=\"115.45\" cy=\"-81.16\" rx=\"41.01\" ry=\"40.66\"/>\n",
       "<text text-anchor=\"middle\" x=\"115.45\" y=\"-92.61\" font-family=\"Times,serif\" font-size=\"14.00\">y_obs</text>\n",
       "<text text-anchor=\"middle\" x=\"115.45\" y=\"-76.11\" font-family=\"Times,serif\" font-size=\"14.00\">~</text>\n",
       "<text text-anchor=\"middle\" x=\"115.45\" y=\"-59.61\" font-family=\"Times,serif\" font-size=\"14.00\">Normal</text>\n",
       "</g>\n",
       "<!-- sigma_y&#45;&gt;y_obs -->\n",
       "<g id=\"edge3\" class=\"edge\">\n",
       "<title>sigma_y&#45;&gt;y_obs</title>\n",
       "<path fill=\"none\" stroke=\"black\" d=\"M74.7,-171.97C80.88,-158.35 87.92,-142.84 94.38,-128.59\"/>\n",
       "<polygon fill=\"black\" stroke=\"black\" points=\"97.4,-130.41 98.35,-119.86 91.03,-127.52 97.4,-130.41\"/>\n",
       "</g>\n",
       "<!-- mu_β_p -->\n",
       "<g id=\"node2\" class=\"node\">\n",
       "<title>mu_β_p</title>\n",
       "<ellipse fill=\"none\" stroke=\"black\" cx=\"113.45\" cy=\"-328.29\" rx=\"43.13\" ry=\"40.66\"/>\n",
       "<text text-anchor=\"middle\" x=\"113.45\" y=\"-339.74\" font-family=\"Times,serif\" font-size=\"14.00\">mu_β_p</text>\n",
       "<text text-anchor=\"middle\" x=\"113.45\" y=\"-323.24\" font-family=\"Times,serif\" font-size=\"14.00\">~</text>\n",
       "<text text-anchor=\"middle\" x=\"113.45\" y=\"-306.74\" font-family=\"Times,serif\" font-size=\"14.00\">Normal</text>\n",
       "</g>\n",
       "<!-- beta_pf -->\n",
       "<g id=\"node4\" class=\"node\">\n",
       "<title>beta_pf</title>\n",
       "<ellipse fill=\"none\" stroke=\"black\" cx=\"173.45\" cy=\"-210.98\" rx=\"41.01\" ry=\"40.66\"/>\n",
       "<text text-anchor=\"middle\" x=\"173.45\" y=\"-222.43\" font-family=\"Times,serif\" font-size=\"14.00\">beta_pf</text>\n",
       "<text text-anchor=\"middle\" x=\"173.45\" y=\"-205.93\" font-family=\"Times,serif\" font-size=\"14.00\">~</text>\n",
       "<text text-anchor=\"middle\" x=\"173.45\" y=\"-189.43\" font-family=\"Times,serif\" font-size=\"14.00\">Normal</text>\n",
       "</g>\n",
       "<!-- mu_β_p&#45;&gt;beta_pf -->\n",
       "<g id=\"edge1\" class=\"edge\">\n",
       "<title>mu_β_p&#45;&gt;beta_pf</title>\n",
       "<path fill=\"none\" stroke=\"black\" d=\"M132.11,-291.44C137.69,-280.71 143.89,-268.79 149.75,-257.53\"/>\n",
       "<polygon fill=\"black\" stroke=\"black\" points=\"152.81,-259.24 154.32,-248.76 146.6,-256.01 152.81,-259.24\"/>\n",
       "</g>\n",
       "<!-- sigma_β_p -->\n",
       "<g id=\"node3\" class=\"node\">\n",
       "<title>sigma_β_p</title>\n",
       "<ellipse fill=\"none\" stroke=\"black\" cx=\"232.45\" cy=\"-328.29\" rx=\"57.45\" ry=\"40.66\"/>\n",
       "<text text-anchor=\"middle\" x=\"232.45\" y=\"-339.74\" font-family=\"Times,serif\" font-size=\"14.00\">sigma_β_p</text>\n",
       "<text text-anchor=\"middle\" x=\"232.45\" y=\"-323.24\" font-family=\"Times,serif\" font-size=\"14.00\">~</text>\n",
       "<text text-anchor=\"middle\" x=\"232.45\" y=\"-306.74\" font-family=\"Times,serif\" font-size=\"14.00\">Exponential</text>\n",
       "</g>\n",
       "<!-- sigma_β_p&#45;&gt;beta_pf -->\n",
       "<g id=\"edge2\" class=\"edge\">\n",
       "<title>sigma_β_p&#45;&gt;beta_pf</title>\n",
       "<path fill=\"none\" stroke=\"black\" d=\"M213.13,-289.53C207.99,-279.48 202.38,-268.51 197.04,-258.07\"/>\n",
       "<polygon fill=\"black\" stroke=\"black\" points=\"200.17,-256.52 192.5,-249.21 193.94,-259.7 200.17,-256.52\"/>\n",
       "</g>\n",
       "<!-- beta_pf&#45;&gt;y_obs -->\n",
       "<g id=\"edge4\" class=\"edge\">\n",
       "<title>beta_pf&#45;&gt;y_obs</title>\n",
       "<path fill=\"none\" stroke=\"black\" d=\"M156.83,-173.35C150.58,-159.58 143.39,-143.72 136.77,-129.14\"/>\n",
       "<polygon fill=\"black\" stroke=\"black\" points=\"140.02,-127.83 132.7,-120.17 133.65,-130.72 140.02,-127.83\"/>\n",
       "</g>\n",
       "</g>\n",
       "</svg>\n"
      ],
      "text/plain": [
       "<graphviz.graphs.Digraph at 0x385a658d0>"
      ]
     },
     "execution_count": 61,
     "metadata": {},
     "output_type": "execute_result"
    }
   ],
   "source": [
    "pm.model_to_graphviz(model_1)"
   ]
  },
  {
   "cell_type": "code",
   "execution_count": 62,
   "metadata": {},
   "outputs": [
    {
     "data": {
      "text/html": [
       "<div>\n",
       "<style scoped>\n",
       "    .dataframe tbody tr th:only-of-type {\n",
       "        vertical-align: middle;\n",
       "    }\n",
       "\n",
       "    .dataframe tbody tr th {\n",
       "        vertical-align: top;\n",
       "    }\n",
       "\n",
       "    .dataframe thead th {\n",
       "        text-align: right;\n",
       "    }\n",
       "</style>\n",
       "<table border=\"1\" class=\"dataframe\">\n",
       "  <thead>\n",
       "    <tr style=\"text-align: right;\">\n",
       "      <th></th>\n",
       "      <th>mean</th>\n",
       "      <th>sd</th>\n",
       "      <th>hdi_3%</th>\n",
       "      <th>hdi_97%</th>\n",
       "      <th>mcse_mean</th>\n",
       "      <th>mcse_sd</th>\n",
       "      <th>ess_bulk</th>\n",
       "      <th>ess_tail</th>\n",
       "      <th>r_hat</th>\n",
       "    </tr>\n",
       "  </thead>\n",
       "  <tbody>\n",
       "    <tr>\n",
       "      <th>beta_pf[pf_0]</th>\n",
       "      <td>0.489</td>\n",
       "      <td>0.031</td>\n",
       "      <td>0.429</td>\n",
       "      <td>0.547</td>\n",
       "      <td>0.001</td>\n",
       "      <td>0.000</td>\n",
       "      <td>3638.0</td>\n",
       "      <td>2238.0</td>\n",
       "      <td>1.0</td>\n",
       "    </tr>\n",
       "    <tr>\n",
       "      <th>beta_pf[pf_1]</th>\n",
       "      <td>-0.160</td>\n",
       "      <td>0.028</td>\n",
       "      <td>-0.213</td>\n",
       "      <td>-0.107</td>\n",
       "      <td>0.000</td>\n",
       "      <td>0.000</td>\n",
       "      <td>4162.0</td>\n",
       "      <td>2868.0</td>\n",
       "      <td>1.0</td>\n",
       "    </tr>\n",
       "    <tr>\n",
       "      <th>beta_pf[pf_2]</th>\n",
       "      <td>0.637</td>\n",
       "      <td>0.032</td>\n",
       "      <td>0.574</td>\n",
       "      <td>0.696</td>\n",
       "      <td>0.000</td>\n",
       "      <td>0.000</td>\n",
       "      <td>4413.0</td>\n",
       "      <td>2871.0</td>\n",
       "      <td>1.0</td>\n",
       "    </tr>\n",
       "    <tr>\n",
       "      <th>beta_pf[pf_3]</th>\n",
       "      <td>1.521</td>\n",
       "      <td>0.029</td>\n",
       "      <td>1.468</td>\n",
       "      <td>1.575</td>\n",
       "      <td>0.000</td>\n",
       "      <td>0.000</td>\n",
       "      <td>3474.0</td>\n",
       "      <td>2442.0</td>\n",
       "      <td>1.0</td>\n",
       "    </tr>\n",
       "    <tr>\n",
       "      <th>beta_pf[pf_4]</th>\n",
       "      <td>-0.290</td>\n",
       "      <td>0.021</td>\n",
       "      <td>-0.330</td>\n",
       "      <td>-0.250</td>\n",
       "      <td>0.000</td>\n",
       "      <td>0.000</td>\n",
       "      <td>4359.0</td>\n",
       "      <td>3013.0</td>\n",
       "      <td>1.0</td>\n",
       "    </tr>\n",
       "    <tr>\n",
       "      <th>mu_β_p</th>\n",
       "      <td>0.384</td>\n",
       "      <td>0.373</td>\n",
       "      <td>-0.359</td>\n",
       "      <td>1.053</td>\n",
       "      <td>0.007</td>\n",
       "      <td>0.005</td>\n",
       "      <td>3258.0</td>\n",
       "      <td>2641.0</td>\n",
       "      <td>1.0</td>\n",
       "    </tr>\n",
       "    <tr>\n",
       "      <th>sigma_y</th>\n",
       "      <td>0.104</td>\n",
       "      <td>0.020</td>\n",
       "      <td>0.069</td>\n",
       "      <td>0.141</td>\n",
       "      <td>0.000</td>\n",
       "      <td>0.000</td>\n",
       "      <td>2799.0</td>\n",
       "      <td>2382.0</td>\n",
       "      <td>1.0</td>\n",
       "    </tr>\n",
       "    <tr>\n",
       "      <th>sigma_β_p</th>\n",
       "      <td>0.875</td>\n",
       "      <td>0.344</td>\n",
       "      <td>0.395</td>\n",
       "      <td>1.481</td>\n",
       "      <td>0.007</td>\n",
       "      <td>0.005</td>\n",
       "      <td>3316.0</td>\n",
       "      <td>2702.0</td>\n",
       "      <td>1.0</td>\n",
       "    </tr>\n",
       "  </tbody>\n",
       "</table>\n",
       "</div>"
      ],
      "text/plain": [
       "                mean     sd  hdi_3%  hdi_97%  mcse_mean  mcse_sd  ess_bulk  \\\n",
       "beta_pf[pf_0]  0.489  0.031   0.429    0.547      0.001    0.000    3638.0   \n",
       "beta_pf[pf_1] -0.160  0.028  -0.213   -0.107      0.000    0.000    4162.0   \n",
       "beta_pf[pf_2]  0.637  0.032   0.574    0.696      0.000    0.000    4413.0   \n",
       "beta_pf[pf_3]  1.521  0.029   1.468    1.575      0.000    0.000    3474.0   \n",
       "beta_pf[pf_4] -0.290  0.021  -0.330   -0.250      0.000    0.000    4359.0   \n",
       "mu_β_p         0.384  0.373  -0.359    1.053      0.007    0.005    3258.0   \n",
       "sigma_y        0.104  0.020   0.069    0.141      0.000    0.000    2799.0   \n",
       "sigma_β_p      0.875  0.344   0.395    1.481      0.007    0.005    3316.0   \n",
       "\n",
       "               ess_tail  r_hat  \n",
       "beta_pf[pf_0]    2238.0    1.0  \n",
       "beta_pf[pf_1]    2868.0    1.0  \n",
       "beta_pf[pf_2]    2871.0    1.0  \n",
       "beta_pf[pf_3]    2442.0    1.0  \n",
       "beta_pf[pf_4]    3013.0    1.0  \n",
       "mu_β_p           2641.0    1.0  \n",
       "sigma_y          2382.0    1.0  \n",
       "sigma_β_p        2702.0    1.0  "
      ]
     },
     "execution_count": 62,
     "metadata": {},
     "output_type": "execute_result"
    }
   ],
   "source": [
    "az.summary(idata_m1)"
   ]
  },
  {
   "cell_type": "code",
   "execution_count": 63,
   "metadata": {},
   "outputs": [
    {
     "data": {
      "text/plain": [
       "array([[ 0.49671415],\n",
       "       [-0.1382643 ],\n",
       "       [ 0.64768854],\n",
       "       [ 1.52302986],\n",
       "       [-0.23415337]])"
      ]
     },
     "execution_count": 63,
     "metadata": {},
     "output_type": "execute_result"
    }
   ],
   "source": [
    "D[\"beta\"]"
   ]
  }
 ],
 "metadata": {
  "kernelspec": {
   "display_name": ".venv",
   "language": "python",
   "name": "python3"
  },
  "language_info": {
   "codemirror_mode": {
    "name": "ipython",
    "version": 3
   },
   "file_extension": ".py",
   "mimetype": "text/x-python",
   "name": "python",
   "nbconvert_exporter": "python",
   "pygments_lexer": "ipython3",
   "version": "3.11.6"
  }
 },
 "nbformat": 4,
 "nbformat_minor": 2
}
