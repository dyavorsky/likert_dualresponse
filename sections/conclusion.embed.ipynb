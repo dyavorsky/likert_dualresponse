{
 "cells": [
  {
   "cell_type": "markdown",
   "metadata": {},
   "source": [
    "# \n",
    "\n",
    "## Conclusion\n",
    "\n",
    "add"
   ],
   "id": "8040237c-65ef-41bb-96ba-74141eaa46ce"
  }
 ],
 "nbformat": 4,
 "nbformat_minor": 5,
 "metadata": {}
}
