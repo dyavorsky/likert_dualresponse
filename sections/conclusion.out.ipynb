{
 "cells": [
  {
   "cell_type": "markdown",
   "metadata": {},
   "source": [
    "# \n",
    "\n",
    "## Conclusion\n",
    "\n",
    "add"
   ],
   "id": "a905543e-5d8a-42b4-a6a6-a73e1c9e322f"
  }
 ],
 "nbformat": 4,
 "nbformat_minor": 5,
 "metadata": {}
}
