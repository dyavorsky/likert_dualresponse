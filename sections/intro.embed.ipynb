{
 "cells": [
  {
   "cell_type": "markdown",
   "metadata": {},
   "source": [
    "# \n",
    "\n",
    "## Introduction\n",
    "\n",
    "Lorem ipsum"
   ],
   "id": "039968a5-9cf7-47a8-bbce-eb5d82b297ad"
  }
 ],
 "nbformat": 4,
 "nbformat_minor": 5,
 "metadata": {}
}
