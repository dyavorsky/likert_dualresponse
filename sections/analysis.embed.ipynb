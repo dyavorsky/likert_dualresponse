{
 "cells": [
  {
   "cell_type": "markdown",
   "metadata": {},
   "source": [
    "# \n",
    "\n",
    "## Empirical Analysis\n",
    "\n",
    "add"
   ],
   "id": "bda6f923-52fb-4fa1-a144-fcdddd618797"
  }
 ],
 "nbformat": 4,
 "nbformat_minor": 5,
 "metadata": {}
}
