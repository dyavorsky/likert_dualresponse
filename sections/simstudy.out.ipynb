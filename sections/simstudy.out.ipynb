{
 "cells": [
  {
   "cell_type": "markdown",
   "metadata": {},
   "source": [
    "# \n",
    "\n",
    "## Simulation Study\n",
    "\n",
    "add"
   ],
   "id": "9055082f-8187-4f92-a6c7-cd7300aa317e"
  }
 ],
 "nbformat": 4,
 "nbformat_minor": 5,
 "metadata": {}
}
