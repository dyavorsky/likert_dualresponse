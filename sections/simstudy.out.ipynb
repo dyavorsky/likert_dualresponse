{
 "cells": [
  {
   "cell_type": "markdown",
   "metadata": {},
   "source": [
    "# \n",
    "\n",
    "## Simulation Study\n",
    "\n",
    "add"
   ],
   "id": "b66cb7bb-3ec3-46b9-bc08-c4e472d31567"
  }
 ],
 "nbformat": 4,
 "nbformat_minor": 5,
 "metadata": {}
}
