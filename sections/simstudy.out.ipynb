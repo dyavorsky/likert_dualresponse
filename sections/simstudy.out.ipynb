{
 "cells": [
  {
   "cell_type": "markdown",
   "metadata": {},
   "source": [
    "# \n",
    "\n",
    "## Simulation Study\n",
    "\n",
    "add"
   ],
   "id": "6fb9e809-7e56-4144-bee8-6ebc7a8b51e2"
  }
 ],
 "nbformat": 4,
 "nbformat_minor": 5,
 "metadata": {}
}
