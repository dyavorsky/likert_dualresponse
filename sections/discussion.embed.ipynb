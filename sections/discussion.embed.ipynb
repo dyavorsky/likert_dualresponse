{
 "cells": [
  {
   "cell_type": "markdown",
   "metadata": {},
   "source": [
    "# \n",
    "\n",
    "## Discussion\n",
    "\n",
    "Differs from \\[@Brazell_2006\\]"
   ],
   "id": "eed9ac11-7531-4f5f-80b5-ed8b9ac6d71a"
  }
 ],
 "nbformat": 4,
 "nbformat_minor": 5,
 "metadata": {}
}
