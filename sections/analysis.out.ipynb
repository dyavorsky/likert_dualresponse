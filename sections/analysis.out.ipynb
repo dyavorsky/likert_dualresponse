{
 "cells": [
  {
   "cell_type": "markdown",
   "metadata": {},
   "source": [
    "# \n",
    "\n",
    "## Empirical Analysis\n",
    "\n",
    "add"
   ],
   "id": "459761e5-1c01-4299-a239-fda2aa128e1b"
  }
 ],
 "nbformat": 4,
 "nbformat_minor": 5,
 "metadata": {}
}
