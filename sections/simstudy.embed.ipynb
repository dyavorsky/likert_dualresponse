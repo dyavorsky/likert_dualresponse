{
 "cells": [
  {
   "cell_type": "markdown",
   "metadata": {},
   "source": [
    "# \n",
    "\n",
    "## Simulation Study\n",
    "\n",
    "add"
   ],
   "id": "fc982cb2-d1ca-4d58-a8ee-4d4a85ceef9b"
  }
 ],
 "nbformat": 4,
 "nbformat_minor": 5,
 "metadata": {}
}
