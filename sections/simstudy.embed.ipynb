{
 "cells": [
  {
   "cell_type": "markdown",
   "metadata": {},
   "source": [
    "# \n",
    "\n",
    "## Simulation Study\n",
    "\n",
    "add"
   ],
   "id": "bbd189be-2673-4a45-b9e1-8b0c14e0f7f9"
  }
 ],
 "nbformat": 4,
 "nbformat_minor": 5,
 "metadata": {}
}
