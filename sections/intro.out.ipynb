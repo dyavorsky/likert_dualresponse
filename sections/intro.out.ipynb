{
 "cells": [
  {
   "cell_type": "markdown",
   "metadata": {},
   "source": [
    "# \n",
    "\n",
    "## Introduction\n",
    "\n",
    "Lorem ipsum"
   ],
   "id": "dd748591-6b22-414a-b1f8-c8e2b484d6a0"
  }
 ],
 "nbformat": 4,
 "nbformat_minor": 5,
 "metadata": {}
}
