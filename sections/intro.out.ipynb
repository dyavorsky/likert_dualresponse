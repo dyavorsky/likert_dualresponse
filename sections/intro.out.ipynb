{
 "cells": [
  {
   "cell_type": "markdown",
   "metadata": {},
   "source": [
    "# \n",
    "\n",
    "## Introduction\n",
    "\n",
    "Lorem ipsum"
   ],
   "id": "eef3d77c-de61-44c8-810d-5f58c6aae14f"
  }
 ],
 "nbformat": 4,
 "nbformat_minor": 5,
 "metadata": {}
}
